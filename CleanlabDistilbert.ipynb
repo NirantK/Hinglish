{
 "cells": [
  {
   "cell_type": "markdown",
   "metadata": {
    "colab_type": "text",
    "id": "view-in-github"
   },
   "source": [
    "<a href=\"https://colab.research.google.com/github/NirantK/Hinglish/blob/cleanlab/CleanlabDistilbert.ipynb\" target=\"_parent\"><img src=\"https://colab.research.google.com/assets/colab-badge.svg\" alt=\"Open In Colab\"/></a>"
   ]
  },
  {
   "cell_type": "code",
   "execution_count": 1,
   "metadata": {
    "colab": {},
    "colab_type": "code",
    "id": "gWL5lmetvwbJ"
   },
   "outputs": [
    {
     "name": "stdout",
     "output_type": "stream",
     "text": [
      "Requirement already satisfied: cleanlab in /Users/meghanabhange/.pyenv/versions/3.7.3/lib/python3.7/site-packages (0.1.1)\r\n",
      "Requirement already satisfied: scikit-learn>=0.18 in /Users/meghanabhange/.pyenv/versions/3.7.3/lib/python3.7/site-packages (from cleanlab) (0.22.1)\r\n",
      "Requirement already satisfied: numpy>=1.11.3 in /Users/meghanabhange/.pyenv/versions/3.7.3/lib/python3.7/site-packages (from cleanlab) (1.16.2)\r\n",
      "Requirement already satisfied: scipy>=1.1.0 in /Users/meghanabhange/.pyenv/versions/3.7.3/lib/python3.7/site-packages (from cleanlab) (1.4.1)\r\n",
      "Requirement already satisfied: joblib>=0.11 in /Users/meghanabhange/.pyenv/versions/3.7.3/lib/python3.7/site-packages (from scikit-learn>=0.18->cleanlab) (0.14.1)\r\n"
     ]
    }
   ],
   "source": [
    "!pip install cleanlab"
   ]
  },
  {
   "cell_type": "code",
   "execution_count": 2,
   "metadata": {
    "colab": {
     "base_uri": "https://localhost:8080/",
     "height": 419
    },
    "colab_type": "code",
    "id": "WX1NF8XZ7dRo",
    "outputId": "ccecceaa-d0e7-4c8d-985e-6a2ee3132e69"
   },
   "outputs": [
    {
     "name": "stderr",
     "output_type": "stream",
     "text": [
      "Downloading...\n",
      "From: https://drive.google.com/uc?id=1T6N_ba6-w2xLM6t4_EINGR7SGVQpCXd_\n",
      "To: /Users/meghanabhange/Documents/repos/Hinglish/data/raw/distilBertOutput.csv\n",
      "100%|██████████| 399k/399k [00:00<00:00, 937kB/s]\n"
     ]
    },
    {
     "data": {
      "text/html": [
       "<div>\n",
       "<style scoped>\n",
       "    .dataframe tbody tr th:only-of-type {\n",
       "        vertical-align: middle;\n",
       "    }\n",
       "\n",
       "    .dataframe tbody tr th {\n",
       "        vertical-align: top;\n",
       "    }\n",
       "\n",
       "    .dataframe thead th {\n",
       "        text-align: right;\n",
       "    }\n",
       "</style>\n",
       "<table border=\"1\" class=\"dataframe\">\n",
       "  <thead>\n",
       "    <tr style=\"text-align: right;\">\n",
       "      <th></th>\n",
       "      <th>Uid</th>\n",
       "      <th>Sentiment</th>\n",
       "      <th>clean_text</th>\n",
       "    </tr>\n",
       "  </thead>\n",
       "  <tbody>\n",
       "    <tr>\n",
       "      <th>0</th>\n",
       "      <td>20803</td>\n",
       "      <td>neutral</td>\n",
       "      <td>_ Agr kse ko itni importantce chaeay ni tou ...</td>\n",
       "    </tr>\n",
       "    <tr>\n",
       "      <th>1</th>\n",
       "      <td>20187</td>\n",
       "      <td>neutral</td>\n",
       "      <td>logon ko alloo pyaz tomator me toh allah pak k...</td>\n",
       "    </tr>\n",
       "    <tr>\n",
       "      <th>2</th>\n",
       "      <td>20953</td>\n",
       "      <td>neutral</td>\n",
       "      <td>Wafadaar bane rahane ka nayab tarika hai lamb...</td>\n",
       "    </tr>\n",
       "    <tr>\n",
       "      <th>3</th>\n",
       "      <td>13777</td>\n",
       "      <td>negative</td>\n",
       "      <td>Chup bhosdike . He has been exonerated of al...</td>\n",
       "    </tr>\n",
       "    <tr>\n",
       "      <th>4</th>\n",
       "      <td>20990</td>\n",
       "      <td>positive</td>\n",
       "      <td>à¨¦à¨¾à¨¤à¨¾ à¨¸à:copyright:‹ à¨¸à¨¾à¨²à¨¾à¨...</td>\n",
       "    </tr>\n",
       "    <tr>\n",
       "      <th>...</th>\n",
       "      <td>...</td>\n",
       "      <td>...</td>\n",
       "      <td>...</td>\n",
       "    </tr>\n",
       "    <tr>\n",
       "      <th>2994</th>\n",
       "      <td>7026</td>\n",
       "      <td>positive</td>\n",
       "      <td>Pradhanmantri ji aap ko dusri Baar Bharat ke ...</td>\n",
       "    </tr>\n",
       "    <tr>\n",
       "      <th>2995</th>\n",
       "      <td>10425</td>\n",
       "      <td>positive</td>\n",
       "      <td>_ yogesh22  Haha  Jai Ho Bhul Gye Haha Ham Fa...</td>\n",
       "    </tr>\n",
       "    <tr>\n",
       "      <th>2996</th>\n",
       "      <td>14162</td>\n",
       "      <td>positive</td>\n",
       "      <td>ðŸ:trade_mark:ðŸ:trade_mark:ðŸ:trade_mark: ...</td>\n",
       "    </tr>\n",
       "    <tr>\n",
       "      <th>2997</th>\n",
       "      <td>15860</td>\n",
       "      <td>neutral</td>\n",
       "      <td>_ Khan241 Fahad Bhaiiiii give us Bilal Abbas...</td>\n",
       "    </tr>\n",
       "    <tr>\n",
       "      <th>2998</th>\n",
       "      <td>25435</td>\n",
       "      <td>neutral</td>\n",
       "      <td>tbh i have bad sides too . when i say bad it...</td>\n",
       "    </tr>\n",
       "  </tbody>\n",
       "</table>\n",
       "<p>2999 rows × 3 columns</p>\n",
       "</div>"
      ],
      "text/plain": [
       "        Uid Sentiment                                         clean_text\n",
       "0     20803   neutral    _ Agr kse ko itni importantce chaeay ni tou ...\n",
       "1     20187   neutral  logon ko alloo pyaz tomator me toh allah pak k...\n",
       "2     20953   neutral   Wafadaar bane rahane ka nayab tarika hai lamb...\n",
       "3     13777  negative    Chup bhosdike . He has been exonerated of al...\n",
       "4     20990  positive    à¨¦à¨¾à¨¤à¨¾ à¨¸à:copyright:‹ à¨¸à¨¾à¨²à¨¾à¨...\n",
       "...     ...       ...                                                ...\n",
       "2994   7026  positive   Pradhanmantri ji aap ko dusri Baar Bharat ke ...\n",
       "2995  10425  positive   _ yogesh22  Haha  Jai Ho Bhul Gye Haha Ham Fa...\n",
       "2996  14162  positive  ðŸ:trade_mark:ðŸ:trade_mark:ðŸ:trade_mark: ...\n",
       "2997  15860   neutral    _ Khan241 Fahad Bhaiiiii give us Bilal Abbas...\n",
       "2998  25435   neutral    tbh i have bad sides too . when i say bad it...\n",
       "\n",
       "[2999 rows x 3 columns]"
      ]
     },
     "execution_count": 2,
     "metadata": {},
     "output_type": "execute_result"
    }
   ],
   "source": [
    "import pandas as pd\n",
    "from utils import get_files_from_gdrive\n",
    "url = \"https://drive.google.com/file/d/1T6N_ba6-w2xLM6t4_EINGR7SGVQpCXd_/view?usp=sharing\"\n",
    "\n",
    "get_files_from_gdrive(url, \"data/raw/distilBertOutput.csv\")\n",
    "DistilBert = pd.read_csv('data/raw/distilBertOutput.csv')\n",
    "DistilBert"
   ]
  },
  {
   "cell_type": "code",
   "execution_count": 3,
   "metadata": {
    "colab": {},
    "colab_type": "code",
    "id": "xdbdEwMzDVY_"
   },
   "outputs": [],
   "source": [
    "vals = {'neutral':0, \n",
    "        'negative':1,\n",
    "        'positive':2}\n",
    "DistilBert['labels'] = DistilBert.Sentiment.map(vals)"
   ]
  },
  {
   "cell_type": "code",
   "execution_count": 4,
   "metadata": {
    "colab": {},
    "colab_type": "code",
    "id": "aEg0GtqdEHwx"
   },
   "outputs": [],
   "source": [
    "from sklearn.feature_extraction.text import CountVectorizer\n",
    "from sklearn.feature_extraction.text import TfidfTransformer\n",
    "\n",
    "count_vect = CountVectorizer()\n",
    "X_train_counts = count_vect.fit_transform(DistilBert['clean_text'])\n",
    "tf_transformer = TfidfTransformer(use_idf=False).fit(X_train_counts)\n",
    "X_train_tf = tf_transformer.transform(X_train_counts)\n",
    "\n",
    "tfidf_transformer = TfidfTransformer()\n",
    "sents = tfidf_transformer.fit_transform(X_train_counts)"
   ]
  },
  {
   "cell_type": "code",
   "execution_count": 5,
   "metadata": {
    "colab": {
     "base_uri": "https://localhost:8080/",
     "height": 419
    },
    "colab_type": "code",
    "id": "2f59h3f7EznF",
    "outputId": "b72dd705-ca24-4141-f983-f19ba4df633d"
   },
   "outputs": [
    {
     "data": {
      "text/html": [
       "<div>\n",
       "<style scoped>\n",
       "    .dataframe tbody tr th:only-of-type {\n",
       "        vertical-align: middle;\n",
       "    }\n",
       "\n",
       "    .dataframe tbody tr th {\n",
       "        vertical-align: top;\n",
       "    }\n",
       "\n",
       "    .dataframe thead th {\n",
       "        text-align: right;\n",
       "    }\n",
       "</style>\n",
       "<table border=\"1\" class=\"dataframe\">\n",
       "  <thead>\n",
       "    <tr style=\"text-align: right;\">\n",
       "      <th></th>\n",
       "      <th>Uid</th>\n",
       "      <th>Sentiment</th>\n",
       "      <th>clean_text</th>\n",
       "      <th>labels</th>\n",
       "    </tr>\n",
       "  </thead>\n",
       "  <tbody>\n",
       "    <tr>\n",
       "      <th>0</th>\n",
       "      <td>20803</td>\n",
       "      <td>neutral</td>\n",
       "      <td>_ Agr kse ko itni importantce chaeay ni tou ...</td>\n",
       "      <td>0</td>\n",
       "    </tr>\n",
       "    <tr>\n",
       "      <th>1</th>\n",
       "      <td>20187</td>\n",
       "      <td>neutral</td>\n",
       "      <td>logon ko alloo pyaz tomator me toh allah pak k...</td>\n",
       "      <td>0</td>\n",
       "    </tr>\n",
       "    <tr>\n",
       "      <th>2</th>\n",
       "      <td>20953</td>\n",
       "      <td>neutral</td>\n",
       "      <td>Wafadaar bane rahane ka nayab tarika hai lamb...</td>\n",
       "      <td>0</td>\n",
       "    </tr>\n",
       "    <tr>\n",
       "      <th>3</th>\n",
       "      <td>13777</td>\n",
       "      <td>negative</td>\n",
       "      <td>Chup bhosdike . He has been exonerated of al...</td>\n",
       "      <td>1</td>\n",
       "    </tr>\n",
       "    <tr>\n",
       "      <th>4</th>\n",
       "      <td>20990</td>\n",
       "      <td>positive</td>\n",
       "      <td>à¨¦à¨¾à¨¤à¨¾ à¨¸à:copyright:‹ à¨¸à¨¾à¨²à¨¾à¨...</td>\n",
       "      <td>2</td>\n",
       "    </tr>\n",
       "    <tr>\n",
       "      <th>...</th>\n",
       "      <td>...</td>\n",
       "      <td>...</td>\n",
       "      <td>...</td>\n",
       "      <td>...</td>\n",
       "    </tr>\n",
       "    <tr>\n",
       "      <th>2994</th>\n",
       "      <td>7026</td>\n",
       "      <td>positive</td>\n",
       "      <td>Pradhanmantri ji aap ko dusri Baar Bharat ke ...</td>\n",
       "      <td>2</td>\n",
       "    </tr>\n",
       "    <tr>\n",
       "      <th>2995</th>\n",
       "      <td>10425</td>\n",
       "      <td>positive</td>\n",
       "      <td>_ yogesh22  Haha  Jai Ho Bhul Gye Haha Ham Fa...</td>\n",
       "      <td>2</td>\n",
       "    </tr>\n",
       "    <tr>\n",
       "      <th>2996</th>\n",
       "      <td>14162</td>\n",
       "      <td>positive</td>\n",
       "      <td>ðŸ:trade_mark:ðŸ:trade_mark:ðŸ:trade_mark: ...</td>\n",
       "      <td>2</td>\n",
       "    </tr>\n",
       "    <tr>\n",
       "      <th>2997</th>\n",
       "      <td>15860</td>\n",
       "      <td>neutral</td>\n",
       "      <td>_ Khan241 Fahad Bhaiiiii give us Bilal Abbas...</td>\n",
       "      <td>0</td>\n",
       "    </tr>\n",
       "    <tr>\n",
       "      <th>2998</th>\n",
       "      <td>25435</td>\n",
       "      <td>neutral</td>\n",
       "      <td>tbh i have bad sides too . when i say bad it...</td>\n",
       "      <td>0</td>\n",
       "    </tr>\n",
       "  </tbody>\n",
       "</table>\n",
       "<p>2999 rows × 4 columns</p>\n",
       "</div>"
      ],
      "text/plain": [
       "        Uid Sentiment                                         clean_text  \\\n",
       "0     20803   neutral    _ Agr kse ko itni importantce chaeay ni tou ...   \n",
       "1     20187   neutral  logon ko alloo pyaz tomator me toh allah pak k...   \n",
       "2     20953   neutral   Wafadaar bane rahane ka nayab tarika hai lamb...   \n",
       "3     13777  negative    Chup bhosdike . He has been exonerated of al...   \n",
       "4     20990  positive    à¨¦à¨¾à¨¤à¨¾ à¨¸à:copyright:‹ à¨¸à¨¾à¨²à¨¾à¨...   \n",
       "...     ...       ...                                                ...   \n",
       "2994   7026  positive   Pradhanmantri ji aap ko dusri Baar Bharat ke ...   \n",
       "2995  10425  positive   _ yogesh22  Haha  Jai Ho Bhul Gye Haha Ham Fa...   \n",
       "2996  14162  positive  ðŸ:trade_mark:ðŸ:trade_mark:ðŸ:trade_mark: ...   \n",
       "2997  15860   neutral    _ Khan241 Fahad Bhaiiiii give us Bilal Abbas...   \n",
       "2998  25435   neutral    tbh i have bad sides too . when i say bad it...   \n",
       "\n",
       "      labels  \n",
       "0          0  \n",
       "1          0  \n",
       "2          0  \n",
       "3          1  \n",
       "4          2  \n",
       "...      ...  \n",
       "2994       2  \n",
       "2995       2  \n",
       "2996       2  \n",
       "2997       0  \n",
       "2998       0  \n",
       "\n",
       "[2999 rows x 4 columns]"
      ]
     },
     "execution_count": 5,
     "metadata": {},
     "output_type": "execute_result"
    }
   ],
   "source": [
    "DistilBert"
   ]
  },
  {
   "cell_type": "code",
   "execution_count": 6,
   "metadata": {
    "colab": {},
    "colab_type": "code",
    "id": "RT6QW05e7uNn"
   },
   "outputs": [],
   "source": [
    "import cleanlab"
   ]
  },
  {
   "cell_type": "code",
   "execution_count": 7,
   "metadata": {
    "colab": {
     "base_uri": "https://localhost:8080/",
     "height": 85
    },
    "colab_type": "code",
    "id": "LN6AWUPe7VQq",
    "outputId": "263aa6b7-1c0e-4260-a745-b4bc3674a838"
   },
   "outputs": [
    {
     "data": {
      "text/plain": [
       "0    0.379126\n",
       "2    0.316439\n",
       "1    0.304435\n",
       "Name: labels, dtype: float64"
      ]
     },
     "execution_count": 7,
     "metadata": {},
     "output_type": "execute_result"
    }
   ],
   "source": [
    "py_train = cleanlab.util.value_counts(DistilBert['labels']) / float(len(DistilBert['labels']))\n",
    "py_train"
   ]
  },
  {
   "cell_type": "code",
   "execution_count": 8,
   "metadata": {
    "colab": {},
    "colab_type": "code",
    "id": "uTubORqj7sYe"
   },
   "outputs": [],
   "source": [
    "prune_method = 'prune_by_noise_rate'"
   ]
  },
  {
   "cell_type": "code",
   "execution_count": 9,
   "metadata": {
    "colab": {
     "base_uri": "https://localhost:8080/",
     "height": 34
    },
    "colab_type": "code",
    "id": "oVr0pag5F2ME",
    "outputId": "e504243a-d5b3-4aa9-c758-bbba95639a96"
   },
   "outputs": [
    {
     "data": {
      "text/plain": [
       "array([0, 0, 0, ..., 2, 0, 0])"
      ]
     },
     "execution_count": 9,
     "metadata": {},
     "output_type": "execute_result"
    }
   ],
   "source": [
    "import numpy as np\n",
    "np.array(list(DistilBert['labels']))"
   ]
  },
  {
   "cell_type": "code",
   "execution_count": 10,
   "metadata": {
    "colab": {
     "base_uri": "https://localhost:8080/",
     "height": 187
    },
    "colab_type": "code",
    "id": "hfGbO32p8rGN",
    "outputId": "84df6d15-a3e4-4ebf-e829-9436c52659e4"
   },
   "outputs": [
    {
     "name": "stderr",
     "output_type": "stream",
     "text": [
      "[Parallel(n_jobs=1)]: Using backend SequentialBackend with 1 concurrent workers.\n",
      "[Parallel(n_jobs=1)]: Done   1 out of   1 | elapsed:    0.6s finished\n",
      "[Parallel(n_jobs=1)]: Using backend SequentialBackend with 1 concurrent workers.\n",
      "[Parallel(n_jobs=1)]: Done   1 out of   1 | elapsed:    0.8s finished\n",
      "[Parallel(n_jobs=1)]: Using backend SequentialBackend with 1 concurrent workers.\n",
      "[Parallel(n_jobs=1)]: Done   1 out of   1 | elapsed:    0.7s finished\n",
      "[Parallel(n_jobs=1)]: Using backend SequentialBackend with 1 concurrent workers.\n",
      "[Parallel(n_jobs=1)]: Done   1 out of   1 | elapsed:    0.6s finished\n",
      "[Parallel(n_jobs=1)]: Using backend SequentialBackend with 1 concurrent workers.\n",
      "[Parallel(n_jobs=1)]: Done   1 out of   1 | elapsed:    0.5s finished\n"
     ]
    }
   ],
   "source": [
    "from sklearn.linear_model import LogisticRegression as LogReg\n",
    "\n",
    "(jc, psx) = cleanlab.latent_estimation.estimate_confident_joint_and_cv_pred_proba(\n",
    "    sents,\n",
    "    np.array(list(DistilBert[\"labels\"])),\n",
    "    clf=LogReg(multi_class=\"auto\", solver=\"lbfgs\", max_iter=10000, verbose=True),\n",
    ")"
   ]
  },
  {
   "cell_type": "code",
   "execution_count": 11,
   "metadata": {
    "colab": {},
    "colab_type": "code",
    "id": "74ci6k7J8pva"
   },
   "outputs": [],
   "source": [
    "est_py, est_nm, est_inv = cleanlab.latent_estimation.estimate_latent(\n",
    "    jc, np.array(list(DistilBert[\"labels\"]))\n",
    ")"
   ]
  },
  {
   "cell_type": "code",
   "execution_count": 12,
   "metadata": {
    "colab": {
     "base_uri": "https://localhost:8080/",
     "height": 34
    },
    "colab_type": "code",
    "id": "ubXhI4m2Hoo-",
    "outputId": "f9f4d7dc-359c-4404-c7cc-075f0a77e75c"
   },
   "outputs": [
    {
     "name": "stdout",
     "output_type": "stream",
     "text": [
      "Number of estimated errors in test set: 263\n"
     ]
    }
   ],
   "source": [
    "ordered = cleanlab.pruning.get_noise_indices(\n",
    "    np.array(list(DistilBert[\"labels\"])),\n",
    "    psx,\n",
    "    #    est_inv,\n",
    "    prune_method=prune_method,\n",
    "    frac_noise=0.37,\n",
    "    sorted_index_method=\"normalized_margin\",\n",
    ")\n",
    "print(\"Number of estimated errors in test set:\", len(ordered))"
   ]
  },
  {
   "cell_type": "code",
   "execution_count": 13,
   "metadata": {
    "colab": {
     "base_uri": "https://localhost:8080/",
     "height": 34
    },
    "colab_type": "code",
    "id": "l8Ruc0XKHtrz",
    "outputId": "a03da9e0-36bf-4b0c-9acd-e6d3001d1a0a"
   },
   "outputs": [
    {
     "data": {
      "text/plain": [
       "263"
      ]
     },
     "execution_count": 13,
     "metadata": {},
     "output_type": "execute_result"
    }
   ],
   "source": [
    "len(ordered)"
   ]
  },
  {
   "cell_type": "code",
   "execution_count": 14,
   "metadata": {
    "colab": {},
    "colab_type": "code",
    "id": "2m7W3pe29SpE"
   },
   "outputs": [],
   "source": [
    "vals = {0: \"negative\", 1: \"neutral\", 2: \"positive\"}\n",
    "errors = []\n",
    "for idx in ordered[:100]:\n",
    "    errors.append(\n",
    "        f\"Estimated Error in {idx}\\npredicted {DistilBert['Sentiment'][idx]}\\n sentence {DistilBert['clean_text'][idx]}\\n -----\"\n",
    "    )"
   ]
  },
  {
   "cell_type": "code",
   "execution_count": 15,
   "metadata": {
    "colab": {},
    "colab_type": "code",
    "id": "m8PMAICH94yE"
   },
   "outputs": [],
   "source": [
    "with open('data/cleanlab/errorsDistilBert.txt', 'w') as f: \n",
    "    for item in errors:\n",
    "        f.write(\"%s\\n\" % item)"
   ]
  }
 ],
 "metadata": {
  "accelerator": "GPU",
  "colab": {
   "authorship_tag": "ABX9TyNurX/kcewy0cjqbnpUdHYl",
   "collapsed_sections": [],
   "include_colab_link": true,
   "mount_file_id": "1D1DUBe0OhSEpK5_VyMiJBwZ8QZQu1VZ-",
   "name": "CleanlabDistilbert.ipynb",
   "provenance": []
  },
  "kernelspec": {
   "display_name": "Python 3",
   "language": "python",
   "name": "python3"
  },
  "language_info": {
   "codemirror_mode": {
    "name": "ipython",
    "version": 3
   },
   "file_extension": ".py",
   "mimetype": "text/x-python",
   "name": "python",
   "nbconvert_exporter": "python",
   "pygments_lexer": "ipython3",
   "version": "3.7.3"
  }
 },
 "nbformat": 4,
 "nbformat_minor": 1
}
