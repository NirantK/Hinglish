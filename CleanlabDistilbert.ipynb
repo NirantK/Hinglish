{
  "nbformat": 4,
  "nbformat_minor": 0,
  "metadata": {
    "colab": {
      "name": "CleanlabDistilbert.ipynb",
      "provenance": [],
      "collapsed_sections": [],
      "mount_file_id": "1D1DUBe0OhSEpK5_VyMiJBwZ8QZQu1VZ-",
      "authorship_tag": "ABX9TyNurX/kcewy0cjqbnpUdHYl",
      "include_colab_link": true
    },
    "kernelspec": {
      "name": "python3",
      "display_name": "Python 3"
    },
    "accelerator": "GPU"
  },
  "cells": [
    {
      "cell_type": "markdown",
      "metadata": {
        "id": "view-in-github",
        "colab_type": "text"
      },
      "source": [
        "<a href=\"https://colab.research.google.com/github/NirantK/Hinglish/blob/cleanlab/CleanlabDistilbert.ipynb\" target=\"_parent\"><img src=\"https://colab.research.google.com/assets/colab-badge.svg\" alt=\"Open In Colab\"/></a>"
      ]
    },
    {
      "cell_type": "code",
      "metadata": {
        "id": "gWL5lmetvwbJ",
        "colab_type": "code",
        "colab": {}
      },
      "source": [
        "!pip install cleanlab"
      ],
      "execution_count": 0,
      "outputs": []
    },
    {
      "cell_type": "code",
      "metadata": {
        "id": "WX1NF8XZ7dRo",
        "colab_type": "code",
        "outputId": "ccecceaa-d0e7-4c8d-985e-6a2ee3132e69",
        "colab": {
          "base_uri": "https://localhost:8080/",
          "height": 419
        }
      },
      "source": [
        "import pandas as pd\n",
        "DistilBert = pd.read_csv('drive/My Drive/distilBert6/distilBertOutput.csv')\n",
        "DistilBert"
      ],
      "execution_count": 0,
      "outputs": [
        {
          "output_type": "execute_result",
          "data": {
            "text/html": [
              "<div>\n",
              "<style scoped>\n",
              "    .dataframe tbody tr th:only-of-type {\n",
              "        vertical-align: middle;\n",
              "    }\n",
              "\n",
              "    .dataframe tbody tr th {\n",
              "        vertical-align: top;\n",
              "    }\n",
              "\n",
              "    .dataframe thead th {\n",
              "        text-align: right;\n",
              "    }\n",
              "</style>\n",
              "<table border=\"1\" class=\"dataframe\">\n",
              "  <thead>\n",
              "    <tr style=\"text-align: right;\">\n",
              "      <th></th>\n",
              "      <th>Uid</th>\n",
              "      <th>Sentiment</th>\n",
              "      <th>clean_text</th>\n",
              "    </tr>\n",
              "  </thead>\n",
              "  <tbody>\n",
              "    <tr>\n",
              "      <th>0</th>\n",
              "      <td>20803</td>\n",
              "      <td>neutral</td>\n",
              "      <td>_ Agr kse ko itni importantce chaeay ni tou ...</td>\n",
              "    </tr>\n",
              "    <tr>\n",
              "      <th>1</th>\n",
              "      <td>20187</td>\n",
              "      <td>neutral</td>\n",
              "      <td>logon ko alloo pyaz tomator me toh allah pak k...</td>\n",
              "    </tr>\n",
              "    <tr>\n",
              "      <th>2</th>\n",
              "      <td>20953</td>\n",
              "      <td>neutral</td>\n",
              "      <td>Wafadaar bane rahane ka nayab tarika hai lamb...</td>\n",
              "    </tr>\n",
              "    <tr>\n",
              "      <th>3</th>\n",
              "      <td>13777</td>\n",
              "      <td>negative</td>\n",
              "      <td>Chup bhosdike . He has been exonerated of al...</td>\n",
              "    </tr>\n",
              "    <tr>\n",
              "      <th>4</th>\n",
              "      <td>20990</td>\n",
              "      <td>positive</td>\n",
              "      <td>à¨¦à¨¾à¨¤à¨¾ à¨¸à:copyright:‹ à¨¸à¨¾à¨²à¨¾à¨...</td>\n",
              "    </tr>\n",
              "    <tr>\n",
              "      <th>...</th>\n",
              "      <td>...</td>\n",
              "      <td>...</td>\n",
              "      <td>...</td>\n",
              "    </tr>\n",
              "    <tr>\n",
              "      <th>2994</th>\n",
              "      <td>7026</td>\n",
              "      <td>positive</td>\n",
              "      <td>Pradhanmantri ji aap ko dusri Baar Bharat ke ...</td>\n",
              "    </tr>\n",
              "    <tr>\n",
              "      <th>2995</th>\n",
              "      <td>10425</td>\n",
              "      <td>positive</td>\n",
              "      <td>_ yogesh22  Haha  Jai Ho Bhul Gye Haha Ham Fa...</td>\n",
              "    </tr>\n",
              "    <tr>\n",
              "      <th>2996</th>\n",
              "      <td>14162</td>\n",
              "      <td>positive</td>\n",
              "      <td>ðŸ:trade_mark:ðŸ:trade_mark:ðŸ:trade_mark: ...</td>\n",
              "    </tr>\n",
              "    <tr>\n",
              "      <th>2997</th>\n",
              "      <td>15860</td>\n",
              "      <td>neutral</td>\n",
              "      <td>_ Khan241 Fahad Bhaiiiii give us Bilal Abbas...</td>\n",
              "    </tr>\n",
              "    <tr>\n",
              "      <th>2998</th>\n",
              "      <td>25435</td>\n",
              "      <td>neutral</td>\n",
              "      <td>tbh i have bad sides too . when i say bad it...</td>\n",
              "    </tr>\n",
              "  </tbody>\n",
              "</table>\n",
              "<p>2999 rows × 3 columns</p>\n",
              "</div>"
            ],
            "text/plain": [
              "        Uid Sentiment                                         clean_text\n",
              "0     20803   neutral    _ Agr kse ko itni importantce chaeay ni tou ...\n",
              "1     20187   neutral  logon ko alloo pyaz tomator me toh allah pak k...\n",
              "2     20953   neutral   Wafadaar bane rahane ka nayab tarika hai lamb...\n",
              "3     13777  negative    Chup bhosdike . He has been exonerated of al...\n",
              "4     20990  positive    à¨¦à¨¾à¨¤à¨¾ à¨¸à:copyright:‹ à¨¸à¨¾à¨²à¨¾à¨...\n",
              "...     ...       ...                                                ...\n",
              "2994   7026  positive   Pradhanmantri ji aap ko dusri Baar Bharat ke ...\n",
              "2995  10425  positive   _ yogesh22  Haha  Jai Ho Bhul Gye Haha Ham Fa...\n",
              "2996  14162  positive  ðŸ:trade_mark:ðŸ:trade_mark:ðŸ:trade_mark: ...\n",
              "2997  15860   neutral    _ Khan241 Fahad Bhaiiiii give us Bilal Abbas...\n",
              "2998  25435   neutral    tbh i have bad sides too . when i say bad it...\n",
              "\n",
              "[2999 rows x 3 columns]"
            ]
          },
          "metadata": {
            "tags": []
          },
          "execution_count": 2
        }
      ]
    },
    {
      "cell_type": "code",
      "metadata": {
        "id": "xdbdEwMzDVY_",
        "colab_type": "code",
        "colab": {}
      },
      "source": [
        "vals = {'neutral':0, \n",
        "        'negative':1,\n",
        "        'positive':2}\n",
        "DistilBert['labels'] = DistilBert.Sentiment.map(vals)"
      ],
      "execution_count": 0,
      "outputs": []
    },
    {
      "cell_type": "code",
      "metadata": {
        "id": "aEg0GtqdEHwx",
        "colab_type": "code",
        "colab": {}
      },
      "source": [
        "from sklearn.feature_extraction.text import CountVectorizer\n",
        "from sklearn.feature_extraction.text import TfidfTransformer\n",
        "\n",
        "count_vect = CountVectorizer()\n",
        "X_train_counts = count_vect.fit_transform(DistilBert['clean_text'])\n",
        "tf_transformer = TfidfTransformer(use_idf=False).fit(X_train_counts)\n",
        "X_train_tf = tf_transformer.transform(X_train_counts)\n",
        "\n",
        "tfidf_transformer = TfidfTransformer()\n",
        "sents = tfidf_transformer.fit_transform(X_train_counts)"
      ],
      "execution_count": 0,
      "outputs": []
    },
    {
      "cell_type": "code",
      "metadata": {
        "id": "2f59h3f7EznF",
        "colab_type": "code",
        "outputId": "b72dd705-ca24-4141-f983-f19ba4df633d",
        "colab": {
          "base_uri": "https://localhost:8080/",
          "height": 419
        }
      },
      "source": [
        "DistilBert"
      ],
      "execution_count": 0,
      "outputs": [
        {
          "output_type": "execute_result",
          "data": {
            "text/html": [
              "<div>\n",
              "<style scoped>\n",
              "    .dataframe tbody tr th:only-of-type {\n",
              "        vertical-align: middle;\n",
              "    }\n",
              "\n",
              "    .dataframe tbody tr th {\n",
              "        vertical-align: top;\n",
              "    }\n",
              "\n",
              "    .dataframe thead th {\n",
              "        text-align: right;\n",
              "    }\n",
              "</style>\n",
              "<table border=\"1\" class=\"dataframe\">\n",
              "  <thead>\n",
              "    <tr style=\"text-align: right;\">\n",
              "      <th></th>\n",
              "      <th>Uid</th>\n",
              "      <th>Sentiment</th>\n",
              "      <th>clean_text</th>\n",
              "      <th>labels</th>\n",
              "    </tr>\n",
              "  </thead>\n",
              "  <tbody>\n",
              "    <tr>\n",
              "      <th>0</th>\n",
              "      <td>20803</td>\n",
              "      <td>neutral</td>\n",
              "      <td>_ Agr kse ko itni importantce chaeay ni tou ...</td>\n",
              "      <td>0</td>\n",
              "    </tr>\n",
              "    <tr>\n",
              "      <th>1</th>\n",
              "      <td>20187</td>\n",
              "      <td>neutral</td>\n",
              "      <td>logon ko alloo pyaz tomator me toh allah pak k...</td>\n",
              "      <td>0</td>\n",
              "    </tr>\n",
              "    <tr>\n",
              "      <th>2</th>\n",
              "      <td>20953</td>\n",
              "      <td>neutral</td>\n",
              "      <td>Wafadaar bane rahane ka nayab tarika hai lamb...</td>\n",
              "      <td>0</td>\n",
              "    </tr>\n",
              "    <tr>\n",
              "      <th>3</th>\n",
              "      <td>13777</td>\n",
              "      <td>negative</td>\n",
              "      <td>Chup bhosdike . He has been exonerated of al...</td>\n",
              "      <td>1</td>\n",
              "    </tr>\n",
              "    <tr>\n",
              "      <th>4</th>\n",
              "      <td>20990</td>\n",
              "      <td>positive</td>\n",
              "      <td>à¨¦à¨¾à¨¤à¨¾ à¨¸à:copyright:‹ à¨¸à¨¾à¨²à¨¾à¨...</td>\n",
              "      <td>2</td>\n",
              "    </tr>\n",
              "    <tr>\n",
              "      <th>...</th>\n",
              "      <td>...</td>\n",
              "      <td>...</td>\n",
              "      <td>...</td>\n",
              "      <td>...</td>\n",
              "    </tr>\n",
              "    <tr>\n",
              "      <th>2994</th>\n",
              "      <td>7026</td>\n",
              "      <td>positive</td>\n",
              "      <td>Pradhanmantri ji aap ko dusri Baar Bharat ke ...</td>\n",
              "      <td>2</td>\n",
              "    </tr>\n",
              "    <tr>\n",
              "      <th>2995</th>\n",
              "      <td>10425</td>\n",
              "      <td>positive</td>\n",
              "      <td>_ yogesh22  Haha  Jai Ho Bhul Gye Haha Ham Fa...</td>\n",
              "      <td>2</td>\n",
              "    </tr>\n",
              "    <tr>\n",
              "      <th>2996</th>\n",
              "      <td>14162</td>\n",
              "      <td>positive</td>\n",
              "      <td>ðŸ:trade_mark:ðŸ:trade_mark:ðŸ:trade_mark: ...</td>\n",
              "      <td>2</td>\n",
              "    </tr>\n",
              "    <tr>\n",
              "      <th>2997</th>\n",
              "      <td>15860</td>\n",
              "      <td>neutral</td>\n",
              "      <td>_ Khan241 Fahad Bhaiiiii give us Bilal Abbas...</td>\n",
              "      <td>0</td>\n",
              "    </tr>\n",
              "    <tr>\n",
              "      <th>2998</th>\n",
              "      <td>25435</td>\n",
              "      <td>neutral</td>\n",
              "      <td>tbh i have bad sides too . when i say bad it...</td>\n",
              "      <td>0</td>\n",
              "    </tr>\n",
              "  </tbody>\n",
              "</table>\n",
              "<p>2999 rows × 4 columns</p>\n",
              "</div>"
            ],
            "text/plain": [
              "        Uid  ... labels\n",
              "0     20803  ...      0\n",
              "1     20187  ...      0\n",
              "2     20953  ...      0\n",
              "3     13777  ...      1\n",
              "4     20990  ...      2\n",
              "...     ...  ...    ...\n",
              "2994   7026  ...      2\n",
              "2995  10425  ...      2\n",
              "2996  14162  ...      2\n",
              "2997  15860  ...      0\n",
              "2998  25435  ...      0\n",
              "\n",
              "[2999 rows x 4 columns]"
            ]
          },
          "metadata": {
            "tags": []
          },
          "execution_count": 5
        }
      ]
    },
    {
      "cell_type": "code",
      "metadata": {
        "id": "RT6QW05e7uNn",
        "colab_type": "code",
        "colab": {}
      },
      "source": [
        "import cleanlab"
      ],
      "execution_count": 0,
      "outputs": []
    },
    {
      "cell_type": "code",
      "metadata": {
        "id": "LN6AWUPe7VQq",
        "colab_type": "code",
        "outputId": "263aa6b7-1c0e-4260-a745-b4bc3674a838",
        "colab": {
          "base_uri": "https://localhost:8080/",
          "height": 85
        }
      },
      "source": [
        "py_train = cleanlab.util.value_counts(DistilBert['labels']) / float(len(DistilBert['labels']))\n",
        "py_train"
      ],
      "execution_count": 0,
      "outputs": [
        {
          "output_type": "execute_result",
          "data": {
            "text/plain": [
              "0    0.379126\n",
              "2    0.316439\n",
              "1    0.304435\n",
              "Name: labels, dtype: float64"
            ]
          },
          "metadata": {
            "tags": []
          },
          "execution_count": 7
        }
      ]
    },
    {
      "cell_type": "code",
      "metadata": {
        "id": "uTubORqj7sYe",
        "colab_type": "code",
        "colab": {}
      },
      "source": [
        "prune_method = 'prune_by_noise_rate'"
      ],
      "execution_count": 0,
      "outputs": []
    },
    {
      "cell_type": "code",
      "metadata": {
        "id": "oVr0pag5F2ME",
        "colab_type": "code",
        "outputId": "e504243a-d5b3-4aa9-c758-bbba95639a96",
        "colab": {
          "base_uri": "https://localhost:8080/",
          "height": 34
        }
      },
      "source": [
        "import numpy as np\n",
        "np.array(list(DistilBert['labels']))"
      ],
      "execution_count": 0,
      "outputs": [
        {
          "output_type": "execute_result",
          "data": {
            "text/plain": [
              "array([0, 0, 0, ..., 2, 0, 0])"
            ]
          },
          "metadata": {
            "tags": []
          },
          "execution_count": 9
        }
      ]
    },
    {
      "cell_type": "code",
      "metadata": {
        "id": "hfGbO32p8rGN",
        "colab_type": "code",
        "outputId": "84df6d15-a3e4-4ebf-e829-9436c52659e4",
        "colab": {
          "base_uri": "https://localhost:8080/",
          "height": 187
        }
      },
      "source": [
        "from sklearn.linear_model import LogisticRegression as LogReg\n",
        "(jc, \n",
        " psx )= cleanlab.latent_estimation.estimate_confident_joint_and_cv_pred_proba(sents, \n",
        "                                                                                np.array(list(DistilBert['labels'])), \n",
        "                                                                                clf=LogReg(multi_class='auto', \n",
        "                                                                                           solver='lbfgs', \n",
        "                                                                                           max_iter=10000, \n",
        "                                                                                           verbose=True))"
      ],
      "execution_count": 0,
      "outputs": [
        {
          "output_type": "stream",
          "text": [
            "[Parallel(n_jobs=1)]: Using backend SequentialBackend with 1 concurrent workers.\n",
            "[Parallel(n_jobs=1)]: Done   1 out of   1 | elapsed:    0.4s finished\n",
            "[Parallel(n_jobs=1)]: Using backend SequentialBackend with 1 concurrent workers.\n",
            "[Parallel(n_jobs=1)]: Done   1 out of   1 | elapsed:    0.4s finished\n",
            "[Parallel(n_jobs=1)]: Using backend SequentialBackend with 1 concurrent workers.\n",
            "[Parallel(n_jobs=1)]: Done   1 out of   1 | elapsed:    0.4s finished\n",
            "[Parallel(n_jobs=1)]: Using backend SequentialBackend with 1 concurrent workers.\n",
            "[Parallel(n_jobs=1)]: Done   1 out of   1 | elapsed:    0.5s finished\n",
            "[Parallel(n_jobs=1)]: Using backend SequentialBackend with 1 concurrent workers.\n",
            "[Parallel(n_jobs=1)]: Done   1 out of   1 | elapsed:    0.4s finished\n"
          ],
          "name": "stderr"
        }
      ]
    },
    {
      "cell_type": "code",
      "metadata": {
        "id": "74ci6k7J8pva",
        "colab_type": "code",
        "colab": {}
      },
      "source": [
        "est_py, est_nm, est_inv = cleanlab.latent_estimation.estimate_latent(jc,np.array(list(DistilBert['labels'])) )"
      ],
      "execution_count": 0,
      "outputs": []
    },
    {
      "cell_type": "code",
      "metadata": {
        "id": "ubXhI4m2Hoo-",
        "colab_type": "code",
        "outputId": "f9f4d7dc-359c-4404-c7cc-075f0a77e75c",
        "colab": {
          "base_uri": "https://localhost:8080/",
          "height": 34
        }
      },
      "source": [
        "ordered = cleanlab.pruning.get_noise_indices(np.array(list(DistilBert['labels'])), \n",
        "                                               psx, \n",
        "                                            #    est_inv, \n",
        "                                               prune_method=prune_method, \n",
        "                                               frac_noise=0.37, \n",
        "                                               sorted_index_method='normalized_margin') \n",
        "print('Number of estimated errors in test set:', len(ordered))"
      ],
      "execution_count": 0,
      "outputs": [
        {
          "output_type": "stream",
          "text": [
            "Number of estimated errors in test set: 266\n"
          ],
          "name": "stdout"
        }
      ]
    },
    {
      "cell_type": "code",
      "metadata": {
        "id": "l8Ruc0XKHtrz",
        "colab_type": "code",
        "outputId": "a03da9e0-36bf-4b0c-9acd-e6d3001d1a0a",
        "colab": {
          "base_uri": "https://localhost:8080/",
          "height": 34
        }
      },
      "source": [
        "len(ordered)"
      ],
      "execution_count": 0,
      "outputs": [
        {
          "output_type": "execute_result",
          "data": {
            "text/plain": [
              "266"
            ]
          },
          "metadata": {
            "tags": []
          },
          "execution_count": 13
        }
      ]
    },
    {
      "cell_type": "code",
      "metadata": {
        "id": "2m7W3pe29SpE",
        "colab_type": "code",
        "colab": {}
      },
      "source": [
        "vals = {0:'negative', 1:'neutral', 2:'positive'}\n",
        "errors = []\n",
        "for idx in ordered[:100]:\n",
        "    errors.append(f\"Estimated Error in {idx}\\npredicted {DistilBert['Sentiment'][idx]}\\n sentence {DistilBert['clean_text'][idx]}\\n -----\")"
      ],
      "execution_count": 0,
      "outputs": []
    },
    {
      "cell_type": "code",
      "metadata": {
        "id": "m8PMAICH94yE",
        "colab_type": "code",
        "colab": {}
      },
      "source": [
        "with open('errorsDistilBert.txt', 'w') as f:\n",
        "    for item in errors:\n",
        "        f.write(\"%s\\n\" % item)"
      ],
      "execution_count": 0,
      "outputs": []
    },
    {
      "cell_type": "code",
      "metadata": {
        "id": "5yIR4KJDJDx8",
        "colab_type": "code",
        "colab": {}
      },
      "source": [
        ""
      ],
      "execution_count": 0,
      "outputs": []
    },
    {
      "cell_type": "markdown",
      "metadata": {
        "id": "8K0DFDSWLIs4",
        "colab_type": "text"
      },
      "source": [
        ""
      ]
    }
  ]
}