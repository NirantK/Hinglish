{
 "cells": [
  {
   "cell_type": "code",
   "execution_count": 1,
   "metadata": {},
   "outputs": [],
   "source": [
    "import json\n",
    "import random\n",
    "from pathlib import Path\n",
    "\n",
    "import pandas as pd\n",
    "\n",
    "%load_ext autoreload\n",
    "%autoreload 2\n",
    "Path.ls = lambda x: list(x.iterdir())"
   ]
  },
  {
   "cell_type": "code",
   "execution_count": 2,
   "metadata": {},
   "outputs": [],
   "source": [
    "pd.set_option(\"max_colwidth\", 180)"
   ]
  },
  {
   "cell_type": "code",
   "execution_count": 3,
   "metadata": {},
   "outputs": [],
   "source": [
    "df = pd.read_json(\"data/interim/train-large.json\")"
   ]
  },
  {
   "cell_type": "code",
   "execution_count": 4,
   "metadata": {},
   "outputs": [],
   "source": [
    "# !pip install langdetect"
   ]
  },
  {
   "cell_type": "code",
   "execution_count": 5,
   "metadata": {},
   "outputs": [
    {
     "data": {
      "text/html": [
       "<div>\n",
       "<style scoped>\n",
       "    .dataframe tbody tr th:only-of-type {\n",
       "        vertical-align: middle;\n",
       "    }\n",
       "\n",
       "    .dataframe tbody tr th {\n",
       "        vertical-align: top;\n",
       "    }\n",
       "\n",
       "    .dataframe thead th {\n",
       "        text-align: right;\n",
       "    }\n",
       "</style>\n",
       "<table border=\"1\" class=\"dataframe\">\n",
       "  <thead>\n",
       "    <tr style=\"text-align: right;\">\n",
       "      <th></th>\n",
       "      <th>uid</th>\n",
       "      <th>sentiment</th>\n",
       "      <th>text</th>\n",
       "    </tr>\n",
       "  </thead>\n",
       "  <tbody>\n",
       "    <tr>\n",
       "      <th>0</th>\n",
       "      <td>8</td>\n",
       "      <td>neutral</td>\n",
       "      <td>RT @ UAAPconfessions Love looks good on Maddie !!! Ako lang ba yung sobrang masaya kasi may zolo sya ? Before with the past Z medyo lowkey s …</td>\n",
       "    </tr>\n",
       "    <tr>\n",
       "      <th>1</th>\n",
       "      <td>12</td>\n",
       "      <td>neutral</td>\n",
       "      <td>Ye Ye ..... ye ??????? We gonna start another June on a sour note ? Uhhhh yes no yes ...... no ( yes )</td>\n",
       "    </tr>\n",
       "    <tr>\n",
       "      <th>2</th>\n",
       "      <td>14</td>\n",
       "      <td>neutral</td>\n",
       "      <td>@ zWffFY9JGklElA1 @ Min _ Of _ Lyching @ thakurdadu089 @ manakgupta @ OfficeOfKNath Mein kahna nae chahta qki mere Yaha btay … https // tco / JWSdvvomt8</td>\n",
       "    </tr>\n",
       "    <tr>\n",
       "      <th>3</th>\n",
       "      <td>23</td>\n",
       "      <td>negative</td>\n",
       "      <td>~ Caring . ~ Bohot Jyada Caring . ~ Courier wale bsdk ke sign bhi khud hi krlete h mera .</td>\n",
       "    </tr>\n",
       "    <tr>\n",
       "      <th>4</th>\n",
       "      <td>24</td>\n",
       "      <td>positive</td>\n",
       "      <td>@ AliHZaidiPTI @ SarfarazA _ 54 What nonesense ... Kabhi baymani per bani team kamiyab nahi ho sakti ... Jo log apnay liy … https // t . co / al1WFCUTYy</td>\n",
       "    </tr>\n",
       "  </tbody>\n",
       "</table>\n",
       "</div>"
      ],
      "text/plain": [
       "   uid sentiment  \\\n",
       "0    8   neutral   \n",
       "1   12   neutral   \n",
       "2   14   neutral   \n",
       "3   23  negative   \n",
       "4   24  positive   \n",
       "\n",
       "                                                                                                                                                         text  \n",
       "0            RT @ UAAPconfessions Love looks good on Maddie !!! Ako lang ba yung sobrang masaya kasi may zolo sya ? Before with the past Z medyo lowkey s …    \n",
       "1                                                    Ye Ye ..... ye ??????? We gonna start another June on a sour note ? Uhhhh yes no yes ...... no ( yes )    \n",
       "2  @ zWffFY9JGklElA1 @ Min _ Of _ Lyching @ thakurdadu089 @ manakgupta @ OfficeOfKNath Mein kahna nae chahta qki mere Yaha btay … https // tco / JWSdvvomt8    \n",
       "3                                                                 ~ Caring . ~ Bohot Jyada Caring . ~ Courier wale bsdk ke sign bhi khud hi krlete h mera .    \n",
       "4  @ AliHZaidiPTI @ SarfarazA _ 54 What nonesense ... Kabhi baymani per bani team kamiyab nahi ho sakti ... Jo log apnay liy … https // t . co / al1WFCUTYy    "
      ]
     },
     "execution_count": 5,
     "metadata": {},
     "output_type": "execute_result"
    }
   ],
   "source": [
    "df.head()"
   ]
  },
  {
   "cell_type": "code",
   "execution_count": 6,
   "metadata": {},
   "outputs": [],
   "source": [
    "from langdetect import detect"
   ]
  },
  {
   "cell_type": "code",
   "execution_count": 7,
   "metadata": {},
   "outputs": [
    {
     "data": {
      "text/plain": [
       "('en', 'en', 'en')"
      ]
     },
     "execution_count": 7,
     "metadata": {},
     "output_type": "execute_result"
    }
   ],
   "source": [
    "detect(\"Hello, I am John\"), detect(\"RT @nirant Hello, I am John\"), detect(\"Hello Roshan!\")"
   ]
  },
  {
   "cell_type": "code",
   "execution_count": 8,
   "metadata": {},
   "outputs": [
    {
     "name": "stdout",
     "output_type": "stream",
     "text": [
      "CPU times: user 3min 29s, sys: 5.68 s, total: 3min 35s\n",
      "Wall time: 3min 36s\n"
     ]
    }
   ],
   "source": [
    "# compute expensive\n",
    "%time df[\"lang\"] = df[\"text\"].apply(detect)"
   ]
  },
  {
   "cell_type": "code",
   "execution_count": 9,
   "metadata": {},
   "outputs": [],
   "source": [
    "from collections import Counter\n",
    "freq_count = Counter(df[\"lang\"]).most_common()"
   ]
  },
  {
   "cell_type": "code",
   "execution_count": 10,
   "metadata": {},
   "outputs": [
    {
     "data": {
      "text/plain": [
       "[('en', 8029),\n",
       " ('id', 4930),\n",
       " ('so', 1196),\n",
       " ('sw', 756),\n",
       " ('et', 635),\n",
       " ('tl', 483),\n",
       " ('sq', 175),\n",
       " ('sl', 142),\n",
       " ('nl', 122),\n",
       " ('hr', 107),\n",
       " ('fi', 84),\n",
       " ('af', 61),\n",
       " ('sv', 50),\n",
       " ('no', 24),\n",
       " ('it', 23),\n",
       " ('tr', 21),\n",
       " ('pt', 20),\n",
       " ('de', 20),\n",
       " ('es', 18),\n",
       " ('cy', 17),\n",
       " ('ca', 17),\n",
       " ('sk', 11),\n",
       " ('pl', 11),\n",
       " ('fr', 9),\n",
       " ('da', 8),\n",
       " ('vi', 7),\n",
       " ('ro', 5),\n",
       " ('cs', 4),\n",
       " ('th', 3),\n",
       " ('hu', 3),\n",
       " ('lv', 3),\n",
       " ('hi', 2),\n",
       " ('ne', 1),\n",
       " ('te', 1),\n",
       " ('lt', 1),\n",
       " ('ja', 1)]"
      ]
     },
     "execution_count": 10,
     "metadata": {},
     "output_type": "execute_result"
    }
   ],
   "source": [
    "freq_count"
   ]
  },
  {
   "cell_type": "code",
   "execution_count": 17,
   "metadata": {},
   "outputs": [
    {
     "data": {
      "text/plain": [
       "['hr',\n",
       " 'fi',\n",
       " 'af',\n",
       " 'sv',\n",
       " 'no',\n",
       " 'it',\n",
       " 'tr',\n",
       " 'pt',\n",
       " 'de',\n",
       " 'es',\n",
       " 'cy',\n",
       " 'ca',\n",
       " 'sk',\n",
       " 'pl',\n",
       " 'fr',\n",
       " 'da',\n",
       " 'vi',\n",
       " 'ro',\n",
       " 'cs',\n",
       " 'th',\n",
       " 'hu',\n",
       " 'lv',\n",
       " 'hi',\n",
       " 'ne',\n",
       " 'te',\n",
       " 'lt',\n",
       " 'ja']"
      ]
     },
     "execution_count": 17,
     "metadata": {},
     "output_type": "execute_result"
    }
   ],
   "source": [
    "rare_langs = [x[0] for x in freq_count][-27:]; rare_langs"
   ]
  },
  {
   "cell_type": "code",
   "execution_count": 18,
   "metadata": {},
   "outputs": [
    {
     "data": {
      "text/html": [
       "<div>\n",
       "<style scoped>\n",
       "    .dataframe tbody tr th:only-of-type {\n",
       "        vertical-align: middle;\n",
       "    }\n",
       "\n",
       "    .dataframe tbody tr th {\n",
       "        vertical-align: top;\n",
       "    }\n",
       "\n",
       "    .dataframe thead th {\n",
       "        text-align: right;\n",
       "    }\n",
       "</style>\n",
       "<table border=\"1\" class=\"dataframe\">\n",
       "  <thead>\n",
       "    <tr style=\"text-align: right;\">\n",
       "      <th></th>\n",
       "      <th>uid</th>\n",
       "      <th>sentiment</th>\n",
       "      <th>text</th>\n",
       "      <th>lang</th>\n",
       "    </tr>\n",
       "  </thead>\n",
       "  <tbody>\n",
       "    <tr>\n",
       "      <th>5</th>\n",
       "      <td>26</td>\n",
       "      <td>positive</td>\n",
       "      <td>@ imVkohli Best of luck @ imVkohli sir World Cup ke liye bhot bhot subhkamnaye</td>\n",
       "      <td>tr</td>\n",
       "    </tr>\n",
       "    <tr>\n",
       "      <th>49</th>\n",
       "      <td>289</td>\n",
       "      <td>neutral</td>\n",
       "      <td>@ RTforINC @ yadavdimples Mp chunav me evm ne jitaya janta to Congress ko vote Kiya tha</td>\n",
       "      <td>hr</td>\n",
       "    </tr>\n",
       "    <tr>\n",
       "      <th>68</th>\n",
       "      <td>364</td>\n",
       "      <td>neutral</td>\n",
       "      <td>@ DEVENDRACHATUR1 hope soo sir .. aapka gyan is marvelous 👌</td>\n",
       "      <td>af</td>\n",
       "    </tr>\n",
       "    <tr>\n",
       "      <th>91</th>\n",
       "      <td>529</td>\n",
       "      <td>neutral</td>\n",
       "      <td>RT @ sharmaprachi61 Hai Sabse Super Modi Hai Sabse Uper Modi # DeshKaGauravModi # ModiAaGaya # Namo _ Again # ModiReturns https // t . co / 8mDjLfD …</td>\n",
       "      <td>it</td>\n",
       "    </tr>\n",
       "    <tr>\n",
       "      <th>108</th>\n",
       "      <td>624</td>\n",
       "      <td>positive</td>\n",
       "      <td>@ SaipallaviFC @ Sai _ Pallavi92 Nice pallavi i am big fan marri 2 hindi kab aaega</td>\n",
       "      <td>it</td>\n",
       "    </tr>\n",
       "    <tr>\n",
       "      <th>...</th>\n",
       "      <td>...</td>\n",
       "      <td>...</td>\n",
       "      <td>...</td>\n",
       "      <td>...</td>\n",
       "    </tr>\n",
       "    <tr>\n",
       "      <th>16891</th>\n",
       "      <td>30278</td>\n",
       "      <td>negative</td>\n",
       "      <td>CM yogi ki kanun vyavstha bhrast ho gyi hai Bjp ke sare neta bhrast hai choro ki shasn hai https // t . co / W6qMNFkyvp</td>\n",
       "      <td>fi</td>\n",
       "    </tr>\n",
       "    <tr>\n",
       "      <th>16903</th>\n",
       "      <td>31297</td>\n",
       "      <td>negative</td>\n",
       "      <td>@ luckymishr @ upen90 Toh tu kya Hai Saale ? Hum jisko cahte hai usko vote dete hai tera problem kya hai ? Saale Haan … https // t . co / LrTyfvsLcq</td>\n",
       "      <td>fi</td>\n",
       "    </tr>\n",
       "    <tr>\n",
       "      <th>16935</th>\n",
       "      <td>35982</td>\n",
       "      <td>negative</td>\n",
       "      <td>I'm poor poor-ever happy kase God is with me 😇</td>\n",
       "      <td>af</td>\n",
       "    </tr>\n",
       "    <tr>\n",
       "      <th>16936</th>\n",
       "      <td>36009</td>\n",
       "      <td>negative</td>\n",
       "      <td>@ ReallySwara Oye ho baby ko dard ho rha h kvi tm v public place m kr k dekhna</td>\n",
       "      <td>cs</td>\n",
       "    </tr>\n",
       "    <tr>\n",
       "      <th>16940</th>\n",
       "      <td>36846</td>\n",
       "      <td>negative</td>\n",
       "      <td>@ Nehr _ who @ MajorPoonia Chup kar sale porkies thuuuu to you</td>\n",
       "      <td>fi</td>\n",
       "    </tr>\n",
       "  </tbody>\n",
       "</table>\n",
       "<p>532 rows × 4 columns</p>\n",
       "</div>"
      ],
      "text/plain": [
       "         uid sentiment  \\\n",
       "5         26  positive   \n",
       "49       289   neutral   \n",
       "68       364   neutral   \n",
       "91       529   neutral   \n",
       "108      624  positive   \n",
       "...      ...       ...   \n",
       "16891  30278  negative   \n",
       "16903  31297  negative   \n",
       "16935  35982  negative   \n",
       "16936  36009  negative   \n",
       "16940  36846  negative   \n",
       "\n",
       "                                                                                                                                                          text  \\\n",
       "5                                                                             @ imVkohli Best of luck @ imVkohli sir World Cup ke liye bhot bhot subhkamnaye     \n",
       "49                                                                   @ RTforINC @ yadavdimples Mp chunav me evm ne jitaya janta to Congress ko vote Kiya tha     \n",
       "68                                                                                               @ DEVENDRACHATUR1 hope soo sir .. aapka gyan is marvelous 👌     \n",
       "91     RT @ sharmaprachi61 Hai Sabse Super Modi Hai Sabse Uper Modi # DeshKaGauravModi # ModiAaGaya # Namo _ Again # ModiReturns https // t . co / 8mDjLfD …     \n",
       "108                                                                       @ SaipallaviFC @ Sai _ Pallavi92 Nice pallavi i am big fan marri 2 hindi kab aaega     \n",
       "...                                                                                                                                                        ...   \n",
       "16891                                CM yogi ki kanun vyavstha bhrast ho gyi hai Bjp ke sare neta bhrast hai choro ki shasn hai https // t . co / W6qMNFkyvp     \n",
       "16903   @ luckymishr @ upen90 Toh tu kya Hai Saale ? Hum jisko cahte hai usko vote dete hai tera problem kya hai ? Saale Haan … https // t . co / LrTyfvsLcq     \n",
       "16935                                                                                                         I'm poor poor-ever happy kase God is with me 😇     \n",
       "16936                                                                         @ ReallySwara Oye ho baby ko dard ho rha h kvi tm v public place m kr k dekhna     \n",
       "16940                                                                                         @ Nehr _ who @ MajorPoonia Chup kar sale porkies thuuuu to you     \n",
       "\n",
       "      lang  \n",
       "5       tr  \n",
       "49      hr  \n",
       "68      af  \n",
       "91      it  \n",
       "108     it  \n",
       "...    ...  \n",
       "16891   fi  \n",
       "16903   fi  \n",
       "16935   af  \n",
       "16936   cs  \n",
       "16940   fi  \n",
       "\n",
       "[532 rows x 4 columns]"
      ]
     },
     "execution_count": 18,
     "metadata": {},
     "output_type": "execute_result"
    }
   ],
   "source": [
    "slice_df = df[df[\"lang\"].isin(rare_langs)]\n",
    "slice_df"
   ]
  },
  {
   "cell_type": "code",
   "execution_count": 19,
   "metadata": {},
   "outputs": [
    {
     "data": {
      "text/plain": [
       "0.031294117647058826"
      ]
     },
     "execution_count": 19,
     "metadata": {},
     "output_type": "execute_result"
    }
   ],
   "source": [
    "len(slice_df)/len(df)"
   ]
  }
 ],
 "metadata": {
  "kernelspec": {
   "display_name": "Python 3",
   "language": "python",
   "name": "python3"
  },
  "language_info": {
   "codemirror_mode": {
    "name": "ipython",
    "version": 3
   },
   "file_extension": ".py",
   "mimetype": "text/x-python",
   "name": "python",
   "nbconvert_exporter": "python",
   "pygments_lexer": "ipython3",
   "version": "3.7.5"
  }
 },
 "nbformat": 4,
 "nbformat_minor": 2
}
