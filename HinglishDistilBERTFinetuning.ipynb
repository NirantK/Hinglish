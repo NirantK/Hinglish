{
  "nbformat": 4,
  "nbformat_minor": 0,
  "metadata": {
    "colab": {
      "name": "HinglishDistilBERTFinetuning.ipynb",
      "provenance": [],
      "toc_visible": true,
      "machine_shape": "hm",
      "mount_file_id": "https://github.com/NirantK/Hinglish/blob/all_berts/HinglishDistilBERTFinetuning.ipynb",
      "authorship_tag": "ABX9TyNxhDqcXJfcwD9UlK0mALU/",
      "include_colab_link": true
    },
    "kernelspec": {
      "name": "python3",
      "display_name": "Python 3"
    },
    "accelerator": "GPU"
  },
  "cells": [
    {
      "cell_type": "markdown",
      "metadata": {
        "id": "view-in-github",
        "colab_type": "text"
      },
      "source": [
        "<a href=\"https://colab.research.google.com/github/NirantK/Hinglish/blob/transformers/HinglishDistilBERTFinetuning.ipynb\" target=\"_parent\"><img src=\"https://colab.research.google.com/assets/colab-badge.svg\" alt=\"Open In Colab\"/></a>"
      ]
    },
    {
      "cell_type": "code",
      "metadata": {
        "id": "zcqflV4yBoMt",
        "colab_type": "code",
        "outputId": "2125263b-48fb-446c-87b9-3b454392b44b",
        "colab": {
          "base_uri": "https://localhost:8080/",
          "height": 35
        }
      },
      "source": [
        "!pip install transformers\n",
        "!git clone https://github.com/NirantK/Hinglish.git\n",
        "%cd Hinglish"
      ],
      "execution_count": 1,
      "outputs": [
        {
          "output_type": "stream",
          "text": [
            "/content/Hinglish\n"
          ],
          "name": "stdout"
        }
      ]
    },
    {
      "cell_type": "code",
      "metadata": {
        "id": "Fogk70LsDVPc",
        "colab_type": "code",
        "colab": {}
      },
      "source": [
        "from utils import get_files_from_gdrive\n",
        "import random\n",
        "import numpy as np\n",
        "import torch\n",
        "seed_val = 42\n",
        "random.seed(seed_val)\n",
        "np.random.seed(seed_val)\n",
        "torch.manual_seed(seed_val)\n",
        "torch.cuda.manual_seed_all(seed_val)\n",
        "epochs = 2"
      ],
      "execution_count": 0,
      "outputs": []
    },
    {
      "cell_type": "markdown",
      "metadata": {
        "id": "RtY9LaoQDQ0D",
        "colab_type": "text"
      },
      "source": [
        "# Getting Training, Testing and Dev files for LM"
      ]
    },
    {
      "cell_type": "code",
      "metadata": {
        "id": "LSiNICmDEHXn",
        "colab_type": "code",
        "outputId": "51712d05-7dd5-437e-b857-fe8a30b9aee6",
        "colab": {
          "base_uri": "https://localhost:8080/",
          "height": 88
        }
      },
      "source": [
        "get_files_from_gdrive(\"https://drive.google.com/file/d/1-Ki6v1a1jF79qx22gM6JlX1NVD4txTdn/view?usp=sharing\", \n",
        "                      \"train_lm.txt\")"
      ],
      "execution_count": 3,
      "outputs": [
        {
          "output_type": "stream",
          "text": [
            "Downloading...\n",
            "From: https://drive.google.com/uc?id=1-Ki6v1a1jF79qx22gM6JlX1NVD4txTdn\n",
            "To: /content/Hinglish/train_lm.txt\n",
            "41.2MB [00:00, 170MB/s] \n"
          ],
          "name": "stderr"
        }
      ]
    },
    {
      "cell_type": "code",
      "metadata": {
        "id": "y7vQL-22EX2_",
        "colab_type": "code",
        "outputId": "b44bf5eb-d839-43a2-be4f-713751f00b21",
        "colab": {
          "base_uri": "https://localhost:8080/",
          "height": 88
        }
      },
      "source": [
        "get_files_from_gdrive(\"https://drive.google.com/file/d/1-MRU7w2_la36qopO8Ob4BoCynOAZc0sZ/view?usp=sharing\", \n",
        "                      \"dev_lm.txt\")"
      ],
      "execution_count": 4,
      "outputs": [
        {
          "output_type": "stream",
          "text": [
            "Downloading...\n",
            "From: https://drive.google.com/uc?id=1-MRU7w2_la36qopO8Ob4BoCynOAZc0sZ\n",
            "To: /content/Hinglish/dev_lm.txt\n",
            "4.59MB [00:00, 76.9MB/s]\n"
          ],
          "name": "stderr"
        }
      ]
    },
    {
      "cell_type": "code",
      "metadata": {
        "id": "1jnjsvAFEwyx",
        "colab_type": "code",
        "outputId": "cfbc7f4d-37d2-4ffa-97f9-51684730f27f",
        "colab": {
          "base_uri": "https://localhost:8080/",
          "height": 88
        }
      },
      "source": [
        "get_files_from_gdrive(\"https://drive.google.com/file/d/1-NqiU-tL5hW59MFtUXh1exivRokZKfs7/view?usp=sharing\", \n",
        "                      \"test_lm.txt\")"
      ],
      "execution_count": 5,
      "outputs": [
        {
          "output_type": "stream",
          "text": [
            "Downloading...\n",
            "From: https://drive.google.com/uc?id=1-NqiU-tL5hW59MFtUXh1exivRokZKfs7\n",
            "To: /content/Hinglish/test_lm.txt\n",
            "5.09MB [00:00, 57.3MB/s]\n"
          ],
          "name": "stderr"
        }
      ]
    },
    {
      "cell_type": "markdown",
      "metadata": {
        "id": "dmIUa2wnBjyA",
        "colab_type": "text"
      },
      "source": [
        "# Pre-Training for BERT"
      ]
    },
    {
      "cell_type": "code",
      "metadata": {
        "id": "2plS8XnOBl2-",
        "colab_type": "code",
        "colab": {}
      },
      "source": [
        "# !python run_language_modeling.py --output_dir=data/output --model_type=distilbert --model_name_or_path=distilbert-base-multilingual-cased --do_train --train_data_file=train_lm.txt --do_eval --eval_data_file=dev_lm.txt --mlm  --num_train_epochs 10 --save_total_limit 2 --overwrite_output_dir"
      ],
      "execution_count": 0,
      "outputs": []
    },
    {
      "cell_type": "code",
      "metadata": {
        "id": "pPfgsCLWJGeN",
        "colab_type": "code",
        "colab": {}
      },
      "source": [
        "# !cp -r data/output . \n",
        "# !tar cvf hinglishDistilBertMultilingual.tar output/\n",
        "# !cp hinglishDistilBertMultilingual.tar ../drive/My\\ Drive/HinglishNLP/Models/LM/"
      ],
      "execution_count": 0,
      "outputs": []
    },
    {
      "cell_type": "code",
      "metadata": {
        "id": "JXyb8EpFMpkn",
        "colab_type": "code",
        "colab": {}
      },
      "source": [
        "# !rm -r output/checkpoint*/* \n",
        "# !rm -r output/checkpoint* \n",
        "# !tar cvf hinglishDistilBertMultilingualC.tar output/\n",
        "# !cp hinglishDistilBertMultilingualC.tar ../drive/My\\ Drive/HinglishNLP/Models/LM/"
      ],
      "execution_count": 0,
      "outputs": []
    },
    {
      "cell_type": "markdown",
      "metadata": {
        "id": "02sGbqqzH-Gp",
        "colab_type": "text"
      },
      "source": [
        "# Fintuning Classifier "
      ]
    },
    {
      "cell_type": "code",
      "metadata": {
        "id": "yIgG2tOSUBsm",
        "colab_type": "code",
        "outputId": "4f0847c6-cbc3-48fe-bbb8-8a2a7591ca70",
        "colab": {
          "base_uri": "https://localhost:8080/",
          "height": 88
        }
      },
      "source": [
        "get_files_from_gdrive(\"https://drive.google.com/file/d/1k4N0JlVOP-crIcCtC6ZI5Va8X3s2-r_D/view?usp=sharing\", \n",
        "                      \"test_labels_hinglish.txt\")"
      ],
      "execution_count": 9,
      "outputs": [
        {
          "output_type": "stream",
          "text": [
            "Downloading...\n",
            "From: https://drive.google.com/uc?id=1k4N0JlVOP-crIcCtC6ZI5Va8X3s2-r_D\n",
            "To: /content/Hinglish/test_labels_hinglish.txt\n",
            "100%|██████████| 46.2k/46.2k [00:00<00:00, 18.8MB/s]\n"
          ],
          "name": "stderr"
        }
      ]
    },
    {
      "cell_type": "code",
      "metadata": {
        "id": "0o2Ykzo9ISVw",
        "colab_type": "code",
        "outputId": "fc2fa466-f59d-458b-890a-842a8d1bb68e",
        "colab": {
          "base_uri": "https://localhost:8080/",
          "height": 88
        }
      },
      "source": [
        "get_files_from_gdrive(\"https://drive.google.com/file/d/1-FykBMdD7erRhr9370thtySNm6QvnQAA/view?usp=sharing\", \n",
        "                      \"train.json\")"
      ],
      "execution_count": 14,
      "outputs": [
        {
          "output_type": "stream",
          "text": [
            "Downloading...\n",
            "From: https://drive.google.com/uc?id=1-FykBMdD7erRhr9370thtySNm6QvnQAA\n",
            "To: /content/Hinglish/train.json\n",
            "4.45MB [00:00, 219MB/s]\n"
          ],
          "name": "stderr"
        }
      ]
    },
    {
      "cell_type": "code",
      "metadata": {
        "id": "VtabPjJEITIQ",
        "colab_type": "code",
        "outputId": "e1323102-d664-4754-b097-13aead877914",
        "colab": {
          "base_uri": "https://localhost:8080/",
          "height": 88
        }
      },
      "source": [
        "get_files_from_gdrive(\"https://drive.google.com/file/d/1-F6o4lSub2D-_iCoNPvxxnCiPQ82VJjG/view?usp=sharing\", \n",
        "                      \"test.json\")"
      ],
      "execution_count": 15,
      "outputs": [
        {
          "output_type": "stream",
          "text": [
            "Downloading...\n",
            "From: https://drive.google.com/uc?id=1-F6o4lSub2D-_iCoNPvxxnCiPQ82VJjG\n",
            "To: /content/Hinglish/test.json\n",
            "100%|██████████| 1.11M/1.11M [00:00<00:00, 94.9MB/s]\n"
          ],
          "name": "stderr"
        }
      ]
    },
    {
      "cell_type": "code",
      "metadata": {
        "id": "EZPmKw11IybO",
        "colab_type": "code",
        "outputId": "53310a01-09de-4e97-e935-8516d5d2f26c",
        "colab": {
          "base_uri": "https://localhost:8080/",
          "height": 88
        }
      },
      "source": [
        "get_files_from_gdrive(\"https://drive.google.com/file/d/1-Esp4UtIZwX44eI8qndngweKZ6p9GLKT/view?usp=sharing\", \n",
        "                      \"valid.json\")"
      ],
      "execution_count": 16,
      "outputs": [
        {
          "output_type": "stream",
          "text": [
            "Downloading...\n",
            "From: https://drive.google.com/uc?id=1-Esp4UtIZwX44eI8qndngweKZ6p9GLKT\n",
            "To: /content/Hinglish/valid.json\n",
            "100%|██████████| 985k/985k [00:00<00:00, 116MB/s]\n"
          ],
          "name": "stderr"
        }
      ]
    },
    {
      "cell_type": "code",
      "metadata": {
        "id": "FElRHLbsIzK9",
        "colab_type": "code",
        "outputId": "bb559e03-ef5e-4d22-db84-46e5a5c9f487",
        "colab": {
          "base_uri": "https://localhost:8080/",
          "height": 88
        }
      },
      "source": [
        "get_files_from_gdrive(\"https://drive.google.com/file/d/1-8Ml-lDyEE-UbbMw8tALTJ_kkwaetor-/view?usp=sharing\", \n",
        "                      \"final_test.json\")"
      ],
      "execution_count": 17,
      "outputs": [
        {
          "output_type": "stream",
          "text": [
            "Downloading...\n",
            "From: https://drive.google.com/uc?id=1-8Ml-lDyEE-UbbMw8tALTJ_kkwaetor-\n",
            "To: /content/Hinglish/final_test.json\n",
            "100%|██████████| 989k/989k [00:00<00:00, 118MB/s]\n"
          ],
          "name": "stderr"
        }
      ]
    },
    {
      "cell_type": "code",
      "metadata": {
        "id": "4SnkISAgjypo",
        "colab_type": "code",
        "outputId": "b502c91d-f244-4351-ea93-54425716d2c4",
        "colab": {
          "base_uri": "https://localhost:8080/",
          "height": 88
        }
      },
      "source": [
        "get_files_from_gdrive(\"https://drive.google.com/file/d/1I1JXDg8ZzuuzXMN1X986oCeOjSxqZj7C/view?usp=sharing\", \n",
        "                      \"hinglishDistilBert.tar\")"
      ],
      "execution_count": 18,
      "outputs": [
        {
          "output_type": "stream",
          "text": [
            "Downloading...\n",
            "From: https://drive.google.com/uc?id=1I1JXDg8ZzuuzXMN1X986oCeOjSxqZj7C\n",
            "To: /content/Hinglish/hinglishDistilBert.tar\n",
            "264MB [00:01, 193MB/s]\n"
          ],
          "name": "stderr"
        }
      ]
    },
    {
      "cell_type": "code",
      "metadata": {
        "id": "E3FisV9XkRvz",
        "colab_type": "code",
        "outputId": "5773c114-1262-4914-80f6-7fa931b4957c",
        "colab": {
          "base_uri": "https://localhost:8080/",
          "height": 177
        }
      },
      "source": [
        "!tar xvf hinglishDistilBert.tar"
      ],
      "execution_count": 19,
      "outputs": [
        {
          "output_type": "stream",
          "text": [
            "distilBert6/\n",
            "distilBert6/vocab.txt\n",
            "distilBert6/special_tokens_map.json\n",
            "distilBert6/distilBertOutput.csv\n",
            "distilBert6/config.json\n",
            "distilBert6/eval_results.txt\n",
            "distilBert6/training_args.bin\n",
            "distilBert6/tokenizer_config.json\n",
            "distilBert6/pytorch_model.bin\n"
          ],
          "name": "stdout"
        }
      ]
    },
    {
      "cell_type": "code",
      "metadata": {
        "id": "LNftsBnKIBcZ",
        "colab_type": "code",
        "colab": {}
      },
      "source": [
        "import pandas as pd\n",
        "from sklearn import preprocessing\n",
        "\n",
        "train_df = pd.read_json(\"train.json\")\n",
        "test_df = pd.read_json(\"test.json\")\n",
        "sentences = train_df['clean_text']\n",
        "labels = train_df['sentiment']\n",
        "le = preprocessing.LabelEncoder()\n",
        "le.fit(labels)\n",
        "labels = le.transform(labels)"
      ],
      "execution_count": 0,
      "outputs": []
    },
    {
      "cell_type": "code",
      "metadata": {
        "id": "HqOnbmV4Je3J",
        "colab_type": "code",
        "outputId": "9b43dd11-7cae-48be-a5ce-8aa28549cf6b",
        "colab": {
          "base_uri": "https://localhost:8080/",
          "height": 35
        }
      },
      "source": [
        "import tensorflow as tf\n",
        "\n",
        "# Get the GPU device name.\n",
        "device_name = tf.test.gpu_device_name()\n",
        "\n",
        "# The device name should look like the following:\n",
        "if device_name == '/device:GPU:0':\n",
        "    print('Found GPU at: {}'.format(device_name))\n",
        "    device = torch.device(\"cuda\")\n",
        "else:\n",
        "    raise SystemError('GPU device not found')"
      ],
      "execution_count": 11,
      "outputs": [
        {
          "output_type": "stream",
          "text": [
            "Found GPU at: /device:GPU:0\n"
          ],
          "name": "stdout"
        }
      ]
    },
    {
      "cell_type": "code",
      "metadata": {
        "id": "ZCes8eyoJhlC",
        "colab_type": "code",
        "outputId": "a1b276c7-4122-4338-a0ff-0eb4076221ab",
        "colab": {
          "base_uri": "https://localhost:8080/",
          "height": 90
        }
      },
      "source": [
        "from transformers import DistilBertTokenizer\n",
        "\n",
        "# Load the DistilBERT tokenizer.\n",
        "print('Loading DistilBERT tokenizer...')\n",
        "tokenizer= DistilBertTokenizer.from_pretrained(\"distilBert6\")\n",
        "tokenized_texts = [tokenizer.tokenize(sent) for sent in sentences]\n",
        "print (\"Tokenize the first sentence:\")\n",
        "\n",
        "print (tokenized_texts[0])"
      ],
      "execution_count": 12,
      "outputs": [
        {
          "output_type": "stream",
          "text": [
            "Loading DistilBERT tokenizer...\n",
            "Tokenize the first sentence:\n",
            "['I', 'CA', '##N', '’', 'T', 'E', '##VE', '##N', 'B', '##EL', '##IE', '##VE', 'T', '##HA', '##T', 'I', '’', 'V', '##E', 'GO', '##T', 'P', '##IC', '##TU', '##RE', '##S', 'W', '##IT', '##H', 'MI', '##LE', '##Y', 'F', '##UC', '##K', '##ING', 'C', '##Y', '##R', '##US', 'T', '##H', '##IS', 'IS', 'A', 'F', '##UC', '##K', '##ING', 'DR', '##EA', '##M', 'CO', '##ME', 'T', '##R', '##UE', ':', 'loudly', '_', 'crying', '_', 'face', ':', 'I', 'L', '##O', '##VE', 'YOU', 'M', '##OR', '##E', 'T', '##H', '…']\n"
          ],
          "name": "stdout"
        }
      ]
    },
    {
      "cell_type": "code",
      "metadata": {
        "id": "L12WrPW9J6fM",
        "colab_type": "code",
        "outputId": "5ddec7b9-2758-4918-c91a-1802bac165e4",
        "colab": {
          "base_uri": "https://localhost:8080/",
          "height": 73
        }
      },
      "source": [
        "# Tokenize all of the sentences and map the tokens to thier word IDs.\n",
        "input_ids = []\n",
        "\n",
        "# For every sentence...\n",
        "for sent in sentences:\n",
        "    # `encode` will:\n",
        "    #   (1) Tokenize the sentence.\n",
        "    #   (2) Prepend the `[CLS]` token to the start.\n",
        "    #   (3) Append the `[SEP]` token to the end.\n",
        "    #   (4) Map tokens to their IDs.\n",
        "    encoded_sent = tokenizer.encode(\n",
        "                        sent,                      # Sentence to encode.\n",
        "                        add_special_tokens = True, # Add '[CLS]' and '[SEP]'\n",
        "\n",
        "                        # This function also supports truncation and conversion\n",
        "                        # to pytorch tensors, but we need to do padding, so we\n",
        "                        # can't use these features :( .\n",
        "                        # max_length = 128,          # Truncate all sentences.\n",
        "                        #return_tensors = 'pt',     # Return pytorch tensors.\n",
        "                   )\n",
        "    \n",
        "    # Add the encoded sentence to the list.\n",
        "    input_ids.append(encoded_sent)\n",
        "\n",
        "# Print sentence 0, now as a list of IDs.\n",
        "print('Original: ', sentences[0])\n",
        "print('Token IDs:', input_ids[0])"
      ],
      "execution_count": 13,
      "outputs": [
        {
          "output_type": "stream",
          "text": [
            "Original:    I CAN ’ T EVEN BELIEVE THAT I ’ VE GOT PICTURES WITH MILEY FUCKING CYRUS THIS IS A FUCKING DREAM COME TRUE :loudly_crying_face: I LOVE YOU MORE TH …  \n",
            "Token IDs: [101, 146, 8784, 2249, 787, 157, 142, 17145, 2249, 139, 21678, 17444, 17145, 157, 11612, 1942, 146, 787, 159, 2036, 27157, 1942, 153, 9741, 27074, 16941, 1708, 160, 12150, 3048, 26574, 17516, 3663, 143, 21986, 2428, 15740, 140, 3663, 2069, 13329, 157, 3048, 6258, 19432, 138, 143, 21986, 2428, 15740, 22219, 12420, 2107, 18732, 14424, 157, 2069, 24846, 131, 9733, 168, 6675, 168, 1339, 131, 146, 149, 2346, 17145, 19141, 150, 9565, 2036, 157, 3048, 795, 102]\n"
          ],
          "name": "stdout"
        }
      ]
    },
    {
      "cell_type": "code",
      "metadata": {
        "id": "phL-2gKLKDBg",
        "colab_type": "code",
        "outputId": "08485630-b7d4-48ee-ac36-79705819b2e0",
        "colab": {
          "base_uri": "https://localhost:8080/",
          "height": 35
        }
      },
      "source": [
        "print('Max sentence length: ', max([len(sen) for sen in input_ids]))"
      ],
      "execution_count": 14,
      "outputs": [
        {
          "output_type": "stream",
          "text": [
            "Max sentence length:  258\n"
          ],
          "name": "stdout"
        }
      ]
    },
    {
      "cell_type": "code",
      "metadata": {
        "id": "e9jHAr9nKFXf",
        "colab_type": "code",
        "outputId": "aca71381-8acc-4131-e175-e340a16b3f87",
        "colab": {
          "base_uri": "https://localhost:8080/",
          "height": 141
        }
      },
      "source": [
        "# We'll borrow the `pad_sequences` utility function to do this.\n",
        "from keras.preprocessing.sequence import pad_sequences\n",
        "\n",
        "# Set the maximum sequence length.\n",
        "# I've chosen 64 somewhat arbitrarily. It's slightly larger than the\n",
        "# maximum training sentence length of 47...\n",
        "MAX_LEN = 300\n",
        "\n",
        "print('\\nPadding/truncating all sentences to %d values...' % MAX_LEN)\n",
        "\n",
        "print('\\nPadding token: \"{:}\", ID: {:}'.format(tokenizer.pad_token, tokenizer.pad_token_id))\n",
        "\n",
        "# Pad our input tokens with value 0.\n",
        "# \"post\" indicates that we want to pad and truncate at the end of the sequence,\n",
        "# as opposed to the beginning.\n",
        "input_ids = pad_sequences(input_ids, maxlen=MAX_LEN, dtype=\"long\", \n",
        "                          value=0, truncating=\"post\", padding=\"post\")\n",
        "\n",
        "print('\\nDone.')"
      ],
      "execution_count": 15,
      "outputs": [
        {
          "output_type": "stream",
          "text": [
            "\n",
            "Padding/truncating all sentences to 300 values...\n",
            "\n",
            "Padding token: \"[PAD]\", ID: 0\n",
            "\n",
            "Done.\n"
          ],
          "name": "stdout"
        },
        {
          "output_type": "stream",
          "text": [
            "Using TensorFlow backend.\n"
          ],
          "name": "stderr"
        }
      ]
    },
    {
      "cell_type": "code",
      "metadata": {
        "id": "c3ox2O6KKHPx",
        "colab_type": "code",
        "colab": {}
      },
      "source": [
        "# Create attention masks\n",
        "attention_masks = []\n",
        "\n",
        "# For each sentence...\n",
        "for sent in input_ids:\n",
        "    \n",
        "    # Create the attention mask.\n",
        "    #   - If a token ID is 0, then it's padding, set the mask to 0.\n",
        "    #   - If a token ID is > 0, then it's a real token, set the mask to 1.\n",
        "    att_mask = [int(token_id > 0) for token_id in sent]\n",
        "    \n",
        "    # Store the attention mask for this sentence.\n",
        "    attention_masks.append(att_mask)"
      ],
      "execution_count": 0,
      "outputs": []
    },
    {
      "cell_type": "code",
      "metadata": {
        "id": "jSHyqfDcKJ17",
        "colab_type": "code",
        "colab": {}
      },
      "source": [
        "# Use train_test_split to split our data into train and validation sets for\n",
        "# training\n",
        "from sklearn.model_selection import train_test_split\n",
        "\n",
        "# Use 90% for training and 10% for validation.\n",
        "train_inputs, validation_inputs, train_labels, validation_labels = train_test_split(input_ids, labels, \n",
        "                                                            random_state=2018, test_size=0.1)\n",
        "# Do the same for the masks.\n",
        "train_masks, validation_masks, _, _ = train_test_split(attention_masks, labels,\n",
        "                                             random_state=2018, test_size=0.1)"
      ],
      "execution_count": 0,
      "outputs": []
    },
    {
      "cell_type": "code",
      "metadata": {
        "id": "dRctHdH8KMnH",
        "colab_type": "code",
        "colab": {}
      },
      "source": [
        "# Convert all inputs and labels into torch tensors, the required datatype \n",
        "# for our model.\n",
        "train_inputs = torch.tensor(train_inputs)\n",
        "validation_inputs = torch.tensor(validation_inputs)\n",
        "\n",
        "train_labels = torch.tensor(train_labels)\n",
        "validation_labels = torch.tensor(validation_labels)\n",
        "\n",
        "train_masks = torch.tensor(train_masks)\n",
        "validation_masks = torch.tensor(validation_masks)"
      ],
      "execution_count": 0,
      "outputs": []
    },
    {
      "cell_type": "code",
      "metadata": {
        "id": "F7poQWa9KOnS",
        "colab_type": "code",
        "colab": {}
      },
      "source": [
        "from torch.utils.data import TensorDataset, DataLoader, RandomSampler, SequentialSampler\n",
        "\n",
        "# The DataLoader needs to know our batch size for training, so we specify it \n",
        "# here.\n",
        "# For fine-tuning BERT on a specific task, the authors recommend a batch size of\n",
        "# 16 or 32.\n",
        "\n",
        "batch_size = 32\n",
        "\n",
        "# Create the DataLoader for our training set.\n",
        "train_data = TensorDataset(train_inputs, train_masks, train_labels)\n",
        "train_sampler = RandomSampler(train_data)\n",
        "train_dataloader = DataLoader(train_data, sampler=train_sampler, batch_size=batch_size)\n",
        "\n",
        "# Create the DataLoader for our validation set.\n",
        "validation_data = TensorDataset(validation_inputs, validation_masks, validation_labels)\n",
        "validation_sampler = SequentialSampler(validation_data)\n",
        "validation_dataloader = DataLoader(validation_data, sampler=validation_sampler, batch_size=batch_size)\n"
      ],
      "execution_count": 0,
      "outputs": []
    },
    {
      "cell_type": "code",
      "metadata": {
        "id": "VLw2hIhdKakl",
        "colab_type": "code",
        "outputId": "60096f7c-831d-4f38-9614-ca85c1f9d3f1",
        "colab": {
          "base_uri": "https://localhost:8080/",
          "height": 675
        }
      },
      "source": [
        "from transformers import DistilBertConfig\n",
        "config = DistilBertConfig.from_json_file('distilBert6/config.json')\n",
        "config.attention_probs_dropout_prob=0.6\n",
        "config.do_sample=True\n",
        "config.hidden_dropout_prob=0.6\n",
        "config.num_labels=3\n",
        "config.dropout=0.5\n",
        "config"
      ],
      "execution_count": 20,
      "outputs": [
        {
          "output_type": "execute_result",
          "data": {
            "text/plain": [
              "DistilBertConfig {\n",
              "  \"activation\": \"gelu\",\n",
              "  \"architectures\": [\n",
              "    \"DistilBertForMaskedLM\"\n",
              "  ],\n",
              "  \"attention_dropout\": 0.1,\n",
              "  \"attention_probs_dropout_prob\": 0.6,\n",
              "  \"bos_token_id\": 0,\n",
              "  \"dim\": 768,\n",
              "  \"do_sample\": true,\n",
              "  \"dropout\": 0.5,\n",
              "  \"eos_token_ids\": 0,\n",
              "  \"hidden_dim\": 3072,\n",
              "  \"hidden_dropout_prob\": 0.6,\n",
              "  \"id2label\": {\n",
              "    \"0\": \"LABEL_0\",\n",
              "    \"1\": \"LABEL_1\",\n",
              "    \"2\": \"LABEL_2\"\n",
              "  },\n",
              "  \"initializer_range\": 0.02,\n",
              "  \"label2id\": {\n",
              "    \"LABEL_0\": 0,\n",
              "    \"LABEL_1\": 1,\n",
              "    \"LABEL_2\": 2\n",
              "  },\n",
              "  \"max_position_embeddings\": 512,\n",
              "  \"model_type\": \"distilbert\",\n",
              "  \"n_heads\": 12,\n",
              "  \"n_layers\": 6,\n",
              "  \"output_past\": true,\n",
              "  \"pad_token_id\": 0,\n",
              "  \"qa_dropout\": 0.1,\n",
              "  \"seq_classif_dropout\": 0.2,\n",
              "  \"sinusoidal_pos_embds\": false,\n",
              "  \"tie_weights_\": true,\n",
              "  \"vocab_size\": 28996\n",
              "}"
            ]
          },
          "metadata": {
            "tags": []
          },
          "execution_count": 20
        }
      ]
    },
    {
      "cell_type": "code",
      "metadata": {
        "id": "iGSX6SDxKQ6z",
        "colab_type": "code",
        "outputId": "17553dea-a06d-443e-c8c7-148b4534f059",
        "colab": {
          "base_uri": "https://localhost:8080/",
          "height": 1000
        }
      },
      "source": [
        "from transformers import DistilBertForSequenceClassification, AdamW, DistilBertConfig\n",
        "\n",
        "# Load DistilBertForSequenceClassification, the pretrained DistilBert model with a single \n",
        "# linear classification layer on top. \n",
        "model = DistilBertForSequenceClassification.from_pretrained(\n",
        "    \"distilBert6\", # Use the 12-layer DistilBert model, with an uncased vocab.\n",
        "    # num_labels = 3, # The number of output labels--2 for binary classification. \n",
        "    # output_attentions = False, # Whether the model returns attentions weights.\n",
        "    # output_hidden_states = False, # Whether the model returns all hidden-states.\n",
        "    config=config\n",
        ")\n",
        "\n",
        "# Tell pytorch to run this model on the GPU.\n",
        "model.cuda()"
      ],
      "execution_count": 21,
      "outputs": [
        {
          "output_type": "execute_result",
          "data": {
            "text/plain": [
              "DistilBertForSequenceClassification(\n",
              "  (distilbert): DistilBertModel(\n",
              "    (embeddings): Embeddings(\n",
              "      (word_embeddings): Embedding(28996, 768, padding_idx=0)\n",
              "      (position_embeddings): Embedding(512, 768)\n",
              "      (LayerNorm): LayerNorm((768,), eps=1e-12, elementwise_affine=True)\n",
              "      (dropout): Dropout(p=0.5, inplace=False)\n",
              "    )\n",
              "    (transformer): Transformer(\n",
              "      (layer): ModuleList(\n",
              "        (0): TransformerBlock(\n",
              "          (attention): MultiHeadSelfAttention(\n",
              "            (dropout): Dropout(p=0.1, inplace=False)\n",
              "            (q_lin): Linear(in_features=768, out_features=768, bias=True)\n",
              "            (k_lin): Linear(in_features=768, out_features=768, bias=True)\n",
              "            (v_lin): Linear(in_features=768, out_features=768, bias=True)\n",
              "            (out_lin): Linear(in_features=768, out_features=768, bias=True)\n",
              "          )\n",
              "          (sa_layer_norm): LayerNorm((768,), eps=1e-12, elementwise_affine=True)\n",
              "          (ffn): FFN(\n",
              "            (dropout): Dropout(p=0.5, inplace=False)\n",
              "            (lin1): Linear(in_features=768, out_features=3072, bias=True)\n",
              "            (lin2): Linear(in_features=3072, out_features=768, bias=True)\n",
              "          )\n",
              "          (output_layer_norm): LayerNorm((768,), eps=1e-12, elementwise_affine=True)\n",
              "        )\n",
              "        (1): TransformerBlock(\n",
              "          (attention): MultiHeadSelfAttention(\n",
              "            (dropout): Dropout(p=0.1, inplace=False)\n",
              "            (q_lin): Linear(in_features=768, out_features=768, bias=True)\n",
              "            (k_lin): Linear(in_features=768, out_features=768, bias=True)\n",
              "            (v_lin): Linear(in_features=768, out_features=768, bias=True)\n",
              "            (out_lin): Linear(in_features=768, out_features=768, bias=True)\n",
              "          )\n",
              "          (sa_layer_norm): LayerNorm((768,), eps=1e-12, elementwise_affine=True)\n",
              "          (ffn): FFN(\n",
              "            (dropout): Dropout(p=0.5, inplace=False)\n",
              "            (lin1): Linear(in_features=768, out_features=3072, bias=True)\n",
              "            (lin2): Linear(in_features=3072, out_features=768, bias=True)\n",
              "          )\n",
              "          (output_layer_norm): LayerNorm((768,), eps=1e-12, elementwise_affine=True)\n",
              "        )\n",
              "        (2): TransformerBlock(\n",
              "          (attention): MultiHeadSelfAttention(\n",
              "            (dropout): Dropout(p=0.1, inplace=False)\n",
              "            (q_lin): Linear(in_features=768, out_features=768, bias=True)\n",
              "            (k_lin): Linear(in_features=768, out_features=768, bias=True)\n",
              "            (v_lin): Linear(in_features=768, out_features=768, bias=True)\n",
              "            (out_lin): Linear(in_features=768, out_features=768, bias=True)\n",
              "          )\n",
              "          (sa_layer_norm): LayerNorm((768,), eps=1e-12, elementwise_affine=True)\n",
              "          (ffn): FFN(\n",
              "            (dropout): Dropout(p=0.5, inplace=False)\n",
              "            (lin1): Linear(in_features=768, out_features=3072, bias=True)\n",
              "            (lin2): Linear(in_features=3072, out_features=768, bias=True)\n",
              "          )\n",
              "          (output_layer_norm): LayerNorm((768,), eps=1e-12, elementwise_affine=True)\n",
              "        )\n",
              "        (3): TransformerBlock(\n",
              "          (attention): MultiHeadSelfAttention(\n",
              "            (dropout): Dropout(p=0.1, inplace=False)\n",
              "            (q_lin): Linear(in_features=768, out_features=768, bias=True)\n",
              "            (k_lin): Linear(in_features=768, out_features=768, bias=True)\n",
              "            (v_lin): Linear(in_features=768, out_features=768, bias=True)\n",
              "            (out_lin): Linear(in_features=768, out_features=768, bias=True)\n",
              "          )\n",
              "          (sa_layer_norm): LayerNorm((768,), eps=1e-12, elementwise_affine=True)\n",
              "          (ffn): FFN(\n",
              "            (dropout): Dropout(p=0.5, inplace=False)\n",
              "            (lin1): Linear(in_features=768, out_features=3072, bias=True)\n",
              "            (lin2): Linear(in_features=3072, out_features=768, bias=True)\n",
              "          )\n",
              "          (output_layer_norm): LayerNorm((768,), eps=1e-12, elementwise_affine=True)\n",
              "        )\n",
              "        (4): TransformerBlock(\n",
              "          (attention): MultiHeadSelfAttention(\n",
              "            (dropout): Dropout(p=0.1, inplace=False)\n",
              "            (q_lin): Linear(in_features=768, out_features=768, bias=True)\n",
              "            (k_lin): Linear(in_features=768, out_features=768, bias=True)\n",
              "            (v_lin): Linear(in_features=768, out_features=768, bias=True)\n",
              "            (out_lin): Linear(in_features=768, out_features=768, bias=True)\n",
              "          )\n",
              "          (sa_layer_norm): LayerNorm((768,), eps=1e-12, elementwise_affine=True)\n",
              "          (ffn): FFN(\n",
              "            (dropout): Dropout(p=0.5, inplace=False)\n",
              "            (lin1): Linear(in_features=768, out_features=3072, bias=True)\n",
              "            (lin2): Linear(in_features=3072, out_features=768, bias=True)\n",
              "          )\n",
              "          (output_layer_norm): LayerNorm((768,), eps=1e-12, elementwise_affine=True)\n",
              "        )\n",
              "        (5): TransformerBlock(\n",
              "          (attention): MultiHeadSelfAttention(\n",
              "            (dropout): Dropout(p=0.1, inplace=False)\n",
              "            (q_lin): Linear(in_features=768, out_features=768, bias=True)\n",
              "            (k_lin): Linear(in_features=768, out_features=768, bias=True)\n",
              "            (v_lin): Linear(in_features=768, out_features=768, bias=True)\n",
              "            (out_lin): Linear(in_features=768, out_features=768, bias=True)\n",
              "          )\n",
              "          (sa_layer_norm): LayerNorm((768,), eps=1e-12, elementwise_affine=True)\n",
              "          (ffn): FFN(\n",
              "            (dropout): Dropout(p=0.5, inplace=False)\n",
              "            (lin1): Linear(in_features=768, out_features=3072, bias=True)\n",
              "            (lin2): Linear(in_features=3072, out_features=768, bias=True)\n",
              "          )\n",
              "          (output_layer_norm): LayerNorm((768,), eps=1e-12, elementwise_affine=True)\n",
              "        )\n",
              "      )\n",
              "    )\n",
              "  )\n",
              "  (pre_classifier): Linear(in_features=768, out_features=768, bias=True)\n",
              "  (classifier): Linear(in_features=768, out_features=3, bias=True)\n",
              "  (dropout): Dropout(p=0.2, inplace=False)\n",
              ")"
            ]
          },
          "metadata": {
            "tags": []
          },
          "execution_count": 21
        }
      ]
    },
    {
      "cell_type": "code",
      "metadata": {
        "id": "Ki07diGQKjdk",
        "colab_type": "code",
        "outputId": "299e0099-2b01-423b-d5fb-2a7111db6088",
        "colab": {
          "base_uri": "https://localhost:8080/",
          "height": 639
        }
      },
      "source": [
        "# Get all of the model's parameters as a list of tuples.\n",
        "params = list(model.named_parameters())\n",
        "\n",
        "print('The DistilBERT model has {:} different named parameters.\\n'.format(len(params)))\n",
        "\n",
        "print('==== Embedding Layer ====\\n')\n",
        "\n",
        "for p in params[0:5]:\n",
        "    print(\"{:<55} {:>12}\".format(p[0], str(tuple(p[1].size()))))\n",
        "\n",
        "print('\\n==== First Transformer ====\\n')\n",
        "\n",
        "for p in params[5:21]:\n",
        "    print(\"{:<55} {:>12}\".format(p[0], str(tuple(p[1].size()))))\n",
        "\n",
        "print('\\n==== Output Layer ====\\n')\n",
        "\n",
        "for p in params[-4:]:\n",
        "    print(\"{:<55} {:>12}\".format(p[0], str(tuple(p[1].size()))))"
      ],
      "execution_count": 22,
      "outputs": [
        {
          "output_type": "stream",
          "text": [
            "The DistilBERT model has 104 different named parameters.\n",
            "\n",
            "==== Embedding Layer ====\n",
            "\n",
            "distilbert.embeddings.word_embeddings.weight            (28996, 768)\n",
            "distilbert.embeddings.position_embeddings.weight          (512, 768)\n",
            "distilbert.embeddings.LayerNorm.weight                        (768,)\n",
            "distilbert.embeddings.LayerNorm.bias                          (768,)\n",
            "distilbert.transformer.layer.0.attention.q_lin.weight     (768, 768)\n",
            "\n",
            "==== First Transformer ====\n",
            "\n",
            "distilbert.transformer.layer.0.attention.q_lin.bias           (768,)\n",
            "distilbert.transformer.layer.0.attention.k_lin.weight     (768, 768)\n",
            "distilbert.transformer.layer.0.attention.k_lin.bias           (768,)\n",
            "distilbert.transformer.layer.0.attention.v_lin.weight     (768, 768)\n",
            "distilbert.transformer.layer.0.attention.v_lin.bias           (768,)\n",
            "distilbert.transformer.layer.0.attention.out_lin.weight   (768, 768)\n",
            "distilbert.transformer.layer.0.attention.out_lin.bias         (768,)\n",
            "distilbert.transformer.layer.0.sa_layer_norm.weight           (768,)\n",
            "distilbert.transformer.layer.0.sa_layer_norm.bias             (768,)\n",
            "distilbert.transformer.layer.0.ffn.lin1.weight           (3072, 768)\n",
            "distilbert.transformer.layer.0.ffn.lin1.bias                 (3072,)\n",
            "distilbert.transformer.layer.0.ffn.lin2.weight           (768, 3072)\n",
            "distilbert.transformer.layer.0.ffn.lin2.bias                  (768,)\n",
            "distilbert.transformer.layer.0.output_layer_norm.weight       (768,)\n",
            "distilbert.transformer.layer.0.output_layer_norm.bias         (768,)\n",
            "distilbert.transformer.layer.1.attention.q_lin.weight     (768, 768)\n",
            "\n",
            "==== Output Layer ====\n",
            "\n",
            "pre_classifier.weight                                     (768, 768)\n",
            "pre_classifier.bias                                           (768,)\n",
            "classifier.weight                                           (3, 768)\n",
            "classifier.bias                                                 (3,)\n"
          ],
          "name": "stdout"
        }
      ]
    },
    {
      "cell_type": "code",
      "metadata": {
        "id": "dvRI9_c5KkOy",
        "colab_type": "code",
        "colab": {}
      },
      "source": [
        "# Note: AdamW is a class from the huggingface library (as opposed to pytorch) \n",
        "# I believe the 'W' stands for 'Weight Decay fix\"\n",
        "optimizer = AdamW(model.parameters(),\n",
        "                  lr = 3e-5, # args.learning_rate - default is 5e-5, our notebook had 2e-5\n",
        "                  eps = 5e-8 # args.adam_epsilon  - default is 1e-8.\n",
        "                )\n"
      ],
      "execution_count": 0,
      "outputs": []
    },
    {
      "cell_type": "code",
      "metadata": {
        "id": "g2aMW8F6KmkO",
        "colab_type": "code",
        "colab": {}
      },
      "source": [
        "from transformers import get_linear_schedule_with_warmup, get_cosine_with_hard_restarts_schedule_with_warmup\n",
        "\n",
        "# Number of training epochs (authors recommend between 2 and 4)\n",
        "# epochs = 3\n",
        "\n",
        "# Total number of training steps is number of batches * number of epochs.\n",
        "total_steps = len(train_dataloader) * epochs\n",
        "\n",
        "# Create the learning rate scheduler.\n",
        "scheduler = get_linear_schedule_with_warmup(optimizer, \n",
        "                                            num_warmup_steps = 100, # Default value in run_glue.py\n",
        "                                            num_training_steps = total_steps)"
      ],
      "execution_count": 0,
      "outputs": []
    },
    {
      "cell_type": "code",
      "metadata": {
        "id": "cxRRIcKQKolN",
        "colab_type": "code",
        "colab": {}
      },
      "source": [
        "from sklearn.metrics import f1_score\n",
        "from sklearn.metrics import precision_recall_fscore_support\n",
        "\n",
        "# Function to calculate the accuracy of our predictions vs labels\n",
        "def flat_accuracy(preds, labels):\n",
        "    pred_flat = np.argmax(preds, axis=1).flatten()\n",
        "    labels_flat = labels.flatten()\n",
        "    return np.sum(pred_flat == labels_flat) / len(labels_flat)"
      ],
      "execution_count": 0,
      "outputs": []
    },
    {
      "cell_type": "code",
      "metadata": {
        "id": "keMTeIiIKqYX",
        "colab_type": "code",
        "colab": {}
      },
      "source": [
        "def flat_prf(preds, labels):\n",
        "    pred_flat = np.argmax(preds, axis=1).flatten()\n",
        "    labels_flat = labels.flatten()\n",
        "    return precision_recall_fscore_support(labels_flat, pred_flat, labels =[0,1,2],average='macro')"
      ],
      "execution_count": 0,
      "outputs": []
    },
    {
      "cell_type": "code",
      "metadata": {
        "id": "w0-WVMMbKsUE",
        "colab_type": "code",
        "colab": {}
      },
      "source": [
        "import time\n",
        "import datetime\n",
        "\n",
        "def format_time(elapsed):\n",
        "    '''\n",
        "    Takes a time in seconds and returns a string hh:mm:ss\n",
        "    '''\n",
        "    # Round to the nearest second.\n",
        "    elapsed_rounded = int(round((elapsed)))\n",
        "    \n",
        "    # Format as hh:mm:ss\n",
        "    return str(datetime.timedelta(seconds=elapsed_rounded))\n"
      ],
      "execution_count": 0,
      "outputs": []
    },
    {
      "cell_type": "code",
      "metadata": {
        "id": "iZ7ppVODK0U7",
        "colab_type": "code",
        "colab": {}
      },
      "source": [
        "def run_valid():\n",
        "  # ========================================\n",
        "  #               Validation\n",
        "  # ========================================\n",
        "  # After the completion of each training epoch, measure our performance on\n",
        "  # our validation set.\n",
        "\n",
        "  print(\"\")\n",
        "  print(\"Running Validation...\")\n",
        "\n",
        "  t0 = time.time()\n",
        "\n",
        "  # Put the model in evaluation mode--the dropout layers behave differently\n",
        "  # during evaluation.\n",
        "  model.eval()\n",
        "\n",
        "  # Tracking variables \n",
        "  eval_loss, eval_accuracy = 0, 0\n",
        "  nb_eval_steps, nb_eval_examples = 0, 0\n",
        "  eval_p =0\n",
        "  eval_r =0\n",
        "  eval_f1 =0\n",
        "\n",
        "  # Evaluate data for one epoch\n",
        "  for batch in validation_dataloader:\n",
        "      \n",
        "      # Add batch to GPU\n",
        "      batch = tuple(t.to(device) for t in batch)\n",
        "      \n",
        "      # Unpack the inputs from our dataloader\n",
        "      b_input_ids, b_input_mask, b_labels = batch\n",
        "      \n",
        "      # Telling the model not to compute or store gradients, saving memory and\n",
        "      # speeding up validation\n",
        "      with torch.no_grad():        \n",
        "\n",
        "          # Forward pass, calculate logit predictions.\n",
        "          # This will return the logits rather than the loss because we have\n",
        "          # not provided labels.\n",
        "          # token_type_ids is the same as the \"segment ids\", which \n",
        "          # differentiates sentence 1 and 2 in 2-sentence tasks.\n",
        "          # The documentation for this `model` function is here: \n",
        "          # https://huggingface.co/transformers/v2.2.0/model_doc/bert.html#transformers.BertForSequenceClassification\n",
        "          outputs = model(b_input_ids, \n",
        "                        #   token_type_ids=None, \n",
        "                          attention_mask=b_input_mask)\n",
        "      \n",
        "      # Get the \"logits\" output by the model. The \"logits\" are the output\n",
        "      # values prior to applying an activation function like the softmax.\n",
        "      logits = outputs[0]\n",
        "\n",
        "      # Move logits and labels to CPU\n",
        "      logits = logits.detach().cpu().numpy()\n",
        "      label_ids = b_labels.to('cpu').numpy()\n",
        "      \n",
        "      # Calculate the accuracy for this batch of test sentences.\n",
        "      tmp_eval_accuracy = flat_accuracy(logits,label_ids)\n",
        "      temp_eval_f1 = flat_prf(logits, label_ids)\n",
        "\n",
        "      # Accumulate the total accuracy.\n",
        "      eval_accuracy += tmp_eval_accuracy\n",
        "      eval_p += temp_eval_f1[0]\n",
        "      eval_r += temp_eval_f1[1]\n",
        "      eval_f1 += temp_eval_f1[2]\n",
        "\n",
        "      # Track the number of batches\n",
        "      nb_eval_steps += 1\n",
        "\n",
        "  # Report the final accuracy for this validation run.\n",
        "  print(\"  Accuracy: {0:.2f}\".format(eval_accuracy/nb_eval_steps))\n",
        "  print(f\"  Precision, Recall F1: {eval_p/nb_eval_steps}, {eval_r/nb_eval_steps}, {eval_f1/nb_eval_steps}\")\n",
        "  print(\"  Validation took: {:}\".format(format_time(time.time() - t0)))\n",
        "  # Report progress.\n",
        "  "
      ],
      "execution_count": 0,
      "outputs": []
    },
    {
      "cell_type": "code",
      "metadata": {
        "id": "15CDa4lPK1Ck",
        "colab_type": "code",
        "outputId": "ee3fec38-2279-4985-85c0-4cfb91b669de",
        "colab": {
          "base_uri": "https://localhost:8080/",
          "height": 195
        }
      },
      "source": [
        "from IPython.display import clear_output\n",
        "\n",
        "# This training code is based on the `run_glue.py` script here:\n",
        "# https://github.com/huggingface/transformers/blob/5bfcd0485ece086ebcbed2d008813037968a9e58/examples/run_glue.py#L128\n",
        "\n",
        "\n",
        "# Set the seed value all over the place to make this reproducible.\n",
        "\n",
        "# Store the average loss after each epoch so we can plot them.\n",
        "loss_values = []\n",
        "\n",
        "# For each epoch...\n",
        "for epoch_i in range(0, epochs):\n",
        "    \n",
        "    # ========================================\n",
        "    #               Training\n",
        "    # ========================================\n",
        "    \n",
        "    # Perform one full pass over the training set.\n",
        "\n",
        "    print(\"\")\n",
        "    # print('======== Epoch {:} / {:} ========'.format(epoch_i + 1, epochs))\n",
        "    print('Training...')\n",
        "\n",
        "    # Measure how long the training epoch takes.\n",
        "    t0 = time.time()\n",
        "\n",
        "    # Reset the total loss for this epoch.\n",
        "    total_loss = 0\n",
        "\n",
        "    # Put the model into training mode. Don't be mislead--the call to \n",
        "    # `train` just changes the *mode*, it doesn't *perform* the training.\n",
        "    # `dropout` and `batchnorm` layers behave differently during training\n",
        "    # vs. test (source: https://stackoverflow.com/questions/51433378/what-does-model-train-do-in-pytorch)\n",
        "    model.train()\n",
        "\n",
        "    # For each batch of training data...\n",
        "    for step, batch in enumerate(train_dataloader):\n",
        "        clear_output(wait=True)\n",
        "        # Progress update every 40 batches.\n",
        "        if step % 40 == 0 and not step == 0:\n",
        "            print('======== Epoch {:} / {:} ========'.format(epoch_i + 1, epochs))\n",
        "            # Calculate elapsed time in minutes.\n",
        "            elapsed = format_time(time.time() - t0)\n",
        "            \n",
        "            # Report progress.\n",
        "            print('  Batch {:>5,}  of  {:>5,}.    Elapsed: {:}.'.format(step, len(train_dataloader), elapsed))\n",
        "\n",
        "        # Unpack this training batch from our dataloader. \n",
        "        #\n",
        "        # As we unpack the batch, we'll also copy each tensor to the GPU using the \n",
        "        # `to` method.\n",
        "        #\n",
        "        # `batch` contains three pytorch tensors:\n",
        "        #   [0]: input ids \n",
        "        #   [1]: attention masks\n",
        "        #   [2]: labels \n",
        "        b_input_ids = batch[0].to(device)\n",
        "        b_input_mask = batch[1].to(device)\n",
        "        b_labels = batch[2].to(device)\n",
        "\n",
        "        # Always clear any previously calculated gradients before performing a\n",
        "        # backward pass. PyTorch doesn't do this automatically because \n",
        "        # accumulating the gradients is \"convenient while training RNNs\". \n",
        "        # (source: https://stackoverflow.com/questions/48001598/why-do-we-need-to-call-zero-grad-in-pytorch)\n",
        "        model.zero_grad()        \n",
        "\n",
        "        # Perform a forward pass (evaluate the model on this training batch).\n",
        "        # This will return the loss (rather than the model output) because we\n",
        "        # have provided the `labels`.\n",
        "        # The documentation for this `model` function is here: \n",
        "        # https://huggingface.co/transformers/v2.2.0/model_doc/bert.html#transformers.BertForSequenceClassification\n",
        "        outputs = model(b_input_ids, \n",
        "                    # token_type_ids=None, \n",
        "                    attention_mask=b_input_mask, \n",
        "                    labels=b_labels)\n",
        "        \n",
        "        # The call to `model` always returns a tuple, so we need to pull the \n",
        "        # loss value out of the tuple.\n",
        "        loss = outputs[0]\n",
        "\n",
        "        # Accumulate the training loss over all of the batches so that we can\n",
        "        # calculate the average loss at the end. `loss` is a Tensor containing a\n",
        "        # single value; the `.item()` function just returns the Python value \n",
        "        # from the tensor.\n",
        "        total_loss += loss.item()\n",
        "\n",
        "        # Perform a backward pass to calculate the gradients.\n",
        "        loss.backward()\n",
        "\n",
        "        # Clip the norm of the gradients to 1.0.\n",
        "        # This is to help prevent the \"exploding gradients\" problem.\n",
        "        torch.nn.utils.clip_grad_norm_(model.parameters(), 1.0)\n",
        "\n",
        "        # Update parameters and take a step using the computed gradient.\n",
        "        # The optimizer dictates the \"update rule\"--how the parameters are\n",
        "        # modified based on their gradients, the learning rate, etc.\n",
        "        optimizer.step()\n",
        "\n",
        "        # Update the learning rate.\n",
        "        scheduler.step()\n",
        "        # if step % 40 == 0 and not step == 0:\n",
        "        #     # Calculate elapsed time in minutes.\n",
        "        #     elapsed = format_time(time.time() - t0)\n",
        "        #     run_valid()\n",
        "    elapsed = format_time(time.time() - t0)\n",
        "    run_valid()\n",
        "    # Calculate the average loss over the training data.\n",
        "    avg_train_loss = total_loss / len(train_dataloader)            \n",
        "    \n",
        "    # Store the loss value for plotting the learning curve.\n",
        "    loss_values.append(avg_train_loss)\n",
        "\n",
        "    print(\"\")\n",
        "    print(\"  Average training loss: {0:.2f}\".format(avg_train_loss))\n",
        "    print(\"  Training epcoh took: {:}\".format(format_time(time.time() - t0)))\n",
        "        \n",
        "    \n",
        "\n",
        "print(\"\")\n",
        "print(\"Training complete!\")"
      ],
      "execution_count": 29,
      "outputs": [
        {
          "output_type": "stream",
          "text": [
            "\n",
            "Running Validation...\n",
            "  Accuracy: 0.61\n",
            "  Precision, Recall F1: 0.6173881730824277, 0.6215368395600954, 0.602446046850981\n",
            "  Validation took: 0:00:06\n",
            "\n",
            "  Average training loss: 0.84\n",
            "  Training epcoh took: 0:03:09\n",
            "\n",
            "Training complete!\n"
          ],
          "name": "stdout"
        }
      ]
    },
    {
      "cell_type": "code",
      "metadata": {
        "id": "TMLLes-jK3ab",
        "colab_type": "code",
        "colab": {
          "base_uri": "https://localhost:8080/",
          "height": 53
        },
        "outputId": "eed4aa4e-60f2-4c94-9dd9-53acbf5e24e0"
      },
      "source": [
        "final_test_df = pd.read_json(\"final_test.json\")\n",
        "sentences = final_test_df['clean_text']\n",
        "# Report the number of sentences.\n",
        "\n",
        "# Create sentence and label lists\n",
        "# sentences = df.sentence.values\n",
        "# labels = df.label.values\n",
        "\n",
        "# Tokenize all of the sentences and map the tokens to thier word IDs.\n",
        "input_ids = []\n",
        "\n",
        "# For every sentence...\n",
        "for sent in sentences:\n",
        "    # `encode` will:\n",
        "    #   (1) Tokenize the sentence.\n",
        "    #   (2) Prepend the `[CLS]` token to the start.\n",
        "    #   (3) Append the `[SEP]` token to the end.\n",
        "    #   (4) Map tokens to their IDs.\n",
        "    encoded_sent = tokenizer.encode(\n",
        "                        sent,                      # Sentence to encode.\n",
        "                        add_special_tokens = True, # Add '[CLS]' and '[SEP]'\n",
        "                   )\n",
        "    \n",
        "    input_ids.append(encoded_sent)\n",
        "\n",
        "# Pad our input tokens\n",
        "input_ids = pad_sequences(input_ids, maxlen=MAX_LEN, \n",
        "                          dtype=\"long\", truncating=\"post\", padding=\"post\")\n",
        "\n",
        "# Create attention masks\n",
        "attention_masks = []\n",
        "\n",
        "# Create a mask of 1s for each token followed by 0s for padding\n",
        "for seq in input_ids:\n",
        "  seq_mask = [float(i>0) for i in seq]\n",
        "  attention_masks.append(seq_mask) \n",
        "\n",
        "# Convert to tensors.\n",
        "prediction_inputs = torch.tensor(input_ids)\n",
        "prediction_masks = torch.tensor(attention_masks)\n",
        "\n",
        "# Set the batch size.  \n",
        "batch_size = 32  \n",
        "\n",
        "# Create the DataLoader.\n",
        "prediction_data = TensorDataset(prediction_inputs, prediction_masks)\n",
        "prediction_sampler = SequentialSampler(prediction_data)\n",
        "prediction_dataloader = DataLoader(prediction_data, sampler=prediction_sampler, batch_size=batch_size)\n",
        "\n",
        "# Prediction on valid set\n",
        "\n",
        "print('Predicting labels for {:,} valid sentences...'.format(len(prediction_inputs)))\n",
        "\n",
        "# Put model in evaluation mode\n",
        "model.eval()\n",
        "\n",
        "# Tracking variables \n",
        "predictions = []\n",
        "\n",
        "# Predict \n",
        "for batch in prediction_dataloader:\n",
        "  # Add batch to GPU\n",
        "  batch = tuple(t.to(device) for t in batch)\n",
        "  \n",
        "  # Unpack the inputs from our dataloader\n",
        "  b_input_ids, b_input_mask = batch\n",
        "  \n",
        "  # Telling the model not to compute or store gradients, saving memory and \n",
        "  # speeding up prediction\n",
        "  with torch.no_grad():\n",
        "      # Forward pass, calculate logit predictions\n",
        "      outputs = model(b_input_ids,\n",
        "                      attention_mask=b_input_mask)\n",
        "\n",
        "  logits = outputs[0]\n",
        "\n",
        "  # Move logits and labels to CPU\n",
        "  logits = logits.detach().cpu().numpy()\n",
        "  \n",
        "  # Store predictions and true labels\n",
        "  predictions.append(logits)\n",
        "\n",
        "print('    DONE.')\n",
        "\n",
        "\n",
        "# Combine the predictions for each batch into a single list of 0s and 1s.\n",
        "flat_predictions = [item for sublist in predictions for item in sublist]\n",
        "flat_predictions = np.argmax(flat_predictions, axis=1).flatten()\n",
        "proba = [item for sublist in predictions for item in sublist]\n",
        "preds = np.argmax(proba, axis=1).flatten()\n",
        "\n",
        "output = le.inverse_transform(flat_predictions.tolist())\n",
        "output_df = pd.DataFrame({\n",
        "    'Uid':list(final_test_df['uid']),\n",
        "    'Sentiment':output,\n",
        "    'clean_text':list(final_test_df['clean_text'])\n",
        "})\n",
        "\n",
        "\n",
        "proba = [item for sublist in predictions for item in sublist]\n",
        "preds = np.argmax(proba, axis=1).flatten()\n",
        "full_output = output_df\n",
        "full_output['proba_negative'] = pd.DataFrame(proba)[0]\n",
        "full_output['proba_neutral'] = pd.DataFrame(proba)[1]\n",
        "full_output['proba_positive'] = pd.DataFrame(proba)[2]\n",
        "# full_output['actual'] = final_test_df['sentiment']"
      ],
      "execution_count": 30,
      "outputs": [
        {
          "output_type": "stream",
          "text": [
            "Predicting labels for 2,999 valid sentences...\n",
            "    DONE.\n"
          ],
          "name": "stdout"
        }
      ]
    },
    {
      "cell_type": "code",
      "metadata": {
        "id": "fMHXJrqbTy1f",
        "colab_type": "code",
        "colab": {
          "base_uri": "https://localhost:8080/",
          "height": 583
        },
        "outputId": "fa3abc0d-3512-403d-e020-d62e77381b9f"
      },
      "source": [
        "full_output"
      ],
      "execution_count": 31,
      "outputs": [
        {
          "output_type": "execute_result",
          "data": {
            "text/html": [
              "<div>\n",
              "<style scoped>\n",
              "    .dataframe tbody tr th:only-of-type {\n",
              "        vertical-align: middle;\n",
              "    }\n",
              "\n",
              "    .dataframe tbody tr th {\n",
              "        vertical-align: top;\n",
              "    }\n",
              "\n",
              "    .dataframe thead th {\n",
              "        text-align: right;\n",
              "    }\n",
              "</style>\n",
              "<table border=\"1\" class=\"dataframe\">\n",
              "  <thead>\n",
              "    <tr style=\"text-align: right;\">\n",
              "      <th></th>\n",
              "      <th>Uid</th>\n",
              "      <th>Sentiment</th>\n",
              "      <th>clean_text</th>\n",
              "      <th>proba_negative</th>\n",
              "      <th>proba_neutral</th>\n",
              "      <th>proba_positive</th>\n",
              "    </tr>\n",
              "  </thead>\n",
              "  <tbody>\n",
              "    <tr>\n",
              "      <th>0</th>\n",
              "      <td>20803</td>\n",
              "      <td>neutral</td>\n",
              "      <td>_ Agr kse ko itni importantce chaeay ni tou ...</td>\n",
              "      <td>-0.310471</td>\n",
              "      <td>0.675750</td>\n",
              "      <td>-0.821972</td>\n",
              "    </tr>\n",
              "    <tr>\n",
              "      <th>1</th>\n",
              "      <td>20187</td>\n",
              "      <td>negative</td>\n",
              "      <td>logon ko alloo pyaz tomator me toh allah pak k...</td>\n",
              "      <td>0.072334</td>\n",
              "      <td>0.070064</td>\n",
              "      <td>-0.674027</td>\n",
              "    </tr>\n",
              "    <tr>\n",
              "      <th>2</th>\n",
              "      <td>20953</td>\n",
              "      <td>positive</td>\n",
              "      <td>Wafadaar bane rahane ka nayab tarika hai lamb...</td>\n",
              "      <td>-0.827750</td>\n",
              "      <td>0.178130</td>\n",
              "      <td>0.355472</td>\n",
              "    </tr>\n",
              "    <tr>\n",
              "      <th>3</th>\n",
              "      <td>13777</td>\n",
              "      <td>negative</td>\n",
              "      <td>Chup bhosdike . He has been exonerated of al...</td>\n",
              "      <td>0.986565</td>\n",
              "      <td>-0.012123</td>\n",
              "      <td>-1.299705</td>\n",
              "    </tr>\n",
              "    <tr>\n",
              "      <th>4</th>\n",
              "      <td>20990</td>\n",
              "      <td>positive</td>\n",
              "      <td>à¨¦à¨¾à¨¤à¨¾ à¨¸à:copyright:‹ à¨¸à¨¾à¨²à¨¾à¨...</td>\n",
              "      <td>-2.129600</td>\n",
              "      <td>0.323789</td>\n",
              "      <td>1.312055</td>\n",
              "    </tr>\n",
              "    <tr>\n",
              "      <th>...</th>\n",
              "      <td>...</td>\n",
              "      <td>...</td>\n",
              "      <td>...</td>\n",
              "      <td>...</td>\n",
              "      <td>...</td>\n",
              "      <td>...</td>\n",
              "    </tr>\n",
              "    <tr>\n",
              "      <th>2994</th>\n",
              "      <td>7026</td>\n",
              "      <td>positive</td>\n",
              "      <td>Pradhanmantri ji aap ko dusri Baar Bharat ke ...</td>\n",
              "      <td>-2.377794</td>\n",
              "      <td>-0.237336</td>\n",
              "      <td>1.990887</td>\n",
              "    </tr>\n",
              "    <tr>\n",
              "      <th>2995</th>\n",
              "      <td>10425</td>\n",
              "      <td>positive</td>\n",
              "      <td>_ yogesh22  Haha  Jai Ho Bhul Gye Haha Ham Fa...</td>\n",
              "      <td>-0.896139</td>\n",
              "      <td>0.145663</td>\n",
              "      <td>0.380924</td>\n",
              "    </tr>\n",
              "    <tr>\n",
              "      <th>2996</th>\n",
              "      <td>14162</td>\n",
              "      <td>positive</td>\n",
              "      <td>ðŸ:trade_mark:ðŸ:trade_mark:ðŸ:trade_mark: ...</td>\n",
              "      <td>-2.563833</td>\n",
              "      <td>0.185661</td>\n",
              "      <td>1.848649</td>\n",
              "    </tr>\n",
              "    <tr>\n",
              "      <th>2997</th>\n",
              "      <td>15860</td>\n",
              "      <td>positive</td>\n",
              "      <td>_ Khan241 Fahad Bhaiiiii give us Bilal Abbas...</td>\n",
              "      <td>-1.602106</td>\n",
              "      <td>0.368827</td>\n",
              "      <td>0.911122</td>\n",
              "    </tr>\n",
              "    <tr>\n",
              "      <th>2998</th>\n",
              "      <td>25435</td>\n",
              "      <td>neutral</td>\n",
              "      <td>tbh i have bad sides too . when i say bad it...</td>\n",
              "      <td>-0.467937</td>\n",
              "      <td>0.281854</td>\n",
              "      <td>-0.171243</td>\n",
              "    </tr>\n",
              "  </tbody>\n",
              "</table>\n",
              "<p>2999 rows × 6 columns</p>\n",
              "</div>"
            ],
            "text/plain": [
              "        Uid Sentiment  ... proba_neutral  proba_positive\n",
              "0     20803   neutral  ...      0.675750       -0.821972\n",
              "1     20187  negative  ...      0.070064       -0.674027\n",
              "2     20953  positive  ...      0.178130        0.355472\n",
              "3     13777  negative  ...     -0.012123       -1.299705\n",
              "4     20990  positive  ...      0.323789        1.312055\n",
              "...     ...       ...  ...           ...             ...\n",
              "2994   7026  positive  ...     -0.237336        1.990887\n",
              "2995  10425  positive  ...      0.145663        0.380924\n",
              "2996  14162  positive  ...      0.185661        1.848649\n",
              "2997  15860  positive  ...      0.368827        0.911122\n",
              "2998  25435   neutral  ...      0.281854       -0.171243\n",
              "\n",
              "[2999 rows x 6 columns]"
            ]
          },
          "metadata": {
            "tags": []
          },
          "execution_count": 31
        }
      ]
    },
    {
      "cell_type": "code",
      "metadata": {
        "id": "5So6q1SlcoQt",
        "colab_type": "code",
        "colab": {
          "base_uri": "https://localhost:8080/",
          "height": 424
        },
        "outputId": "8bd61a4c-5ebb-4c81-ca40-863123da2bcf"
      },
      "source": [
        "l = pd.read_csv(\"test_labels_hinglish.txt\")\n",
        "l"
      ],
      "execution_count": 32,
      "outputs": [
        {
          "output_type": "execute_result",
          "data": {
            "text/html": [
              "<div>\n",
              "<style scoped>\n",
              "    .dataframe tbody tr th:only-of-type {\n",
              "        vertical-align: middle;\n",
              "    }\n",
              "\n",
              "    .dataframe tbody tr th {\n",
              "        vertical-align: top;\n",
              "    }\n",
              "\n",
              "    .dataframe thead th {\n",
              "        text-align: right;\n",
              "    }\n",
              "</style>\n",
              "<table border=\"1\" class=\"dataframe\">\n",
              "  <thead>\n",
              "    <tr style=\"text-align: right;\">\n",
              "      <th></th>\n",
              "      <th>Uid</th>\n",
              "      <th>Sentiment</th>\n",
              "    </tr>\n",
              "  </thead>\n",
              "  <tbody>\n",
              "    <tr>\n",
              "      <th>0</th>\n",
              "      <td>20803</td>\n",
              "      <td>neutral</td>\n",
              "    </tr>\n",
              "    <tr>\n",
              "      <th>1</th>\n",
              "      <td>20187</td>\n",
              "      <td>neutral</td>\n",
              "    </tr>\n",
              "    <tr>\n",
              "      <th>2</th>\n",
              "      <td>20953</td>\n",
              "      <td>neutral</td>\n",
              "    </tr>\n",
              "    <tr>\n",
              "      <th>3</th>\n",
              "      <td>13777</td>\n",
              "      <td>negative</td>\n",
              "    </tr>\n",
              "    <tr>\n",
              "      <th>4</th>\n",
              "      <td>20990</td>\n",
              "      <td>positive</td>\n",
              "    </tr>\n",
              "    <tr>\n",
              "      <th>...</th>\n",
              "      <td>...</td>\n",
              "      <td>...</td>\n",
              "    </tr>\n",
              "    <tr>\n",
              "      <th>2995</th>\n",
              "      <td>10425</td>\n",
              "      <td>neutral</td>\n",
              "    </tr>\n",
              "    <tr>\n",
              "      <th>2996</th>\n",
              "      <td>14162</td>\n",
              "      <td>neutral</td>\n",
              "    </tr>\n",
              "    <tr>\n",
              "      <th>2997</th>\n",
              "      <td>15860</td>\n",
              "      <td>neutral</td>\n",
              "    </tr>\n",
              "    <tr>\n",
              "      <th>2998</th>\n",
              "      <td>25435</td>\n",
              "      <td>neutral</td>\n",
              "    </tr>\n",
              "    <tr>\n",
              "      <th>2999</th>\n",
              "      <td>25183</td>\n",
              "      <td>negative</td>\n",
              "    </tr>\n",
              "  </tbody>\n",
              "</table>\n",
              "<p>3000 rows × 2 columns</p>\n",
              "</div>"
            ],
            "text/plain": [
              "        Uid Sentiment\n",
              "0     20803   neutral\n",
              "1     20187   neutral\n",
              "2     20953   neutral\n",
              "3     13777  negative\n",
              "4     20990  positive\n",
              "...     ...       ...\n",
              "2995  10425   neutral\n",
              "2996  14162   neutral\n",
              "2997  15860   neutral\n",
              "2998  25435   neutral\n",
              "2999  25183  negative\n",
              "\n",
              "[3000 rows x 2 columns]"
            ]
          },
          "metadata": {
            "tags": []
          },
          "execution_count": 32
        }
      ]
    },
    {
      "cell_type": "code",
      "metadata": {
        "id": "3fo9-pvJdGUA",
        "colab_type": "code",
        "colab": {
          "base_uri": "https://localhost:8080/",
          "height": 35
        },
        "outputId": "259f8bdb-01e9-4b21-bee7-6307a76fcef6"
      },
      "source": [
        "precision_recall_fscore_support(full_output[\"Sentiment\"], l[\"Sentiment\"][:-1], average=\"macro\")"
      ],
      "execution_count": 33,
      "outputs": [
        {
          "output_type": "execute_result",
          "data": {
            "text/plain": [
              "(0.6901188863046482, 0.6851928070160325, 0.6872121890440516, None)"
            ]
          },
          "metadata": {
            "tags": []
          },
          "execution_count": 33
        }
      ]
    },
    {
      "cell_type": "code",
      "metadata": {
        "id": "ARkVmM5kwEzg",
        "colab_type": "code",
        "colab": {}
      },
      "source": [
        "from sklearn.metrics import accuracy_score"
      ],
      "execution_count": 0,
      "outputs": []
    },
    {
      "cell_type": "code",
      "metadata": {
        "id": "6RhPZ8IDczI4",
        "colab_type": "code",
        "colab": {
          "base_uri": "https://localhost:8080/",
          "height": 35
        },
        "outputId": "bac43d21-3667-4676-e2ad-85f1b43f10bd"
      },
      "source": [
        "accuracy_score(full_output[\"Sentiment\"], l[\"Sentiment\"][:-1])"
      ],
      "execution_count": 35,
      "outputs": [
        {
          "output_type": "execute_result",
          "data": {
            "text/plain": [
              "0.6855618539513171"
            ]
          },
          "metadata": {
            "tags": []
          },
          "execution_count": 35
        }
      ]
    },
    {
      "cell_type": "markdown",
      "metadata": {
        "id": "e8fm2RHf3Fq9",
        "colab_type": "text"
      },
      "source": [
        "# Saving Model Files"
      ]
    },
    {
      "cell_type": "code",
      "metadata": {
        "id": "DO1eRDBcwXdR",
        "colab_type": "code",
        "colab": {}
      },
      "source": [
        "full_output.to_csv(\"DistilBertpredsv2.csv\")"
      ],
      "execution_count": 0,
      "outputs": []
    },
    {
      "cell_type": "code",
      "metadata": {
        "id": "9OwfVDjU2SpG",
        "colab_type": "code",
        "colab": {
          "base_uri": "https://localhost:8080/",
          "height": 88
        },
        "outputId": "ec10ac76-e7f2-4d31-b9ff-fc15ee57cd31"
      },
      "source": [
        "import os\n",
        "output_dir = './hinglishDistilBertClassv2/'\n",
        "\n",
        "# Create output directory if needed\n",
        "if not os.path.exists(output_dir):\n",
        "    os.makedirs(output_dir)\n",
        "\n",
        "print(\"Saving model to %s\" % output_dir)\n",
        "\n",
        "# Save a trained model, configuration and tokenizer using `save_pretrained()`.\n",
        "# They can then be reloaded using `from_pretrained()`\n",
        "model_to_save = model.module if hasattr(model, 'module') else model  # Take care of distributed/parallel training\n",
        "model_to_save.save_pretrained(output_dir)\n",
        "tokenizer.save_pretrained(output_dir)"
      ],
      "execution_count": 37,
      "outputs": [
        {
          "output_type": "stream",
          "text": [
            "Saving model to ./hinglishDistilBertClassv2/\n"
          ],
          "name": "stdout"
        },
        {
          "output_type": "execute_result",
          "data": {
            "text/plain": [
              "('./hinglishDistilBertClassv2/vocab.txt',\n",
              " './hinglishDistilBertClassv2/special_tokens_map.json',\n",
              " './hinglishDistilBertClassv2/added_tokens.json')"
            ]
          },
          "metadata": {
            "tags": []
          },
          "execution_count": 37
        }
      ]
    },
    {
      "cell_type": "code",
      "metadata": {
        "id": "fJ9N4Pxq2X4X",
        "colab_type": "code",
        "colab": {
          "base_uri": "https://localhost:8080/",
          "height": 124
        },
        "outputId": "1fa70a9e-39b6-46b3-d545-0da290561028"
      },
      "source": [
        "!tar cvf hinglishDistilBertClassv2.tar hinglishDistilBertClassv2/"
      ],
      "execution_count": 38,
      "outputs": [
        {
          "output_type": "stream",
          "text": [
            "hinglishDistilBertClassv2/\n",
            "hinglishDistilBertClassv2/special_tokens_map.json\n",
            "hinglishDistilBertClassv2/tokenizer_config.json\n",
            "hinglishDistilBertClassv2/vocab.txt\n",
            "hinglishDistilBertClassv2/pytorch_model.bin\n",
            "hinglishDistilBertClassv2/config.json\n"
          ],
          "name": "stdout"
        }
      ]
    },
    {
      "cell_type": "code",
      "metadata": {
        "id": "Z8IsDryf2g6k",
        "colab_type": "code",
        "colab": {}
      },
      "source": [
        "!cp hinglishDistilBertClassv2.tar ../drive/My\\ Drive/HinglishNLP/Models/Class\n",
        "!cp DistilBertpredsv2.csv ../drive/My\\ Drive/HinglishNLP/PredOutput/"
      ],
      "execution_count": 0,
      "outputs": []
    },
    {
      "cell_type": "code",
      "metadata": {
        "id": "68FMOkft26UF",
        "colab_type": "code",
        "colab": {}
      },
      "source": [
        ""
      ],
      "execution_count": 0,
      "outputs": []
    }
  ]
}