{
  "nbformat": 4,
  "nbformat_minor": 0,
  "metadata": {
    "colab": {
      "name": "HinglishULMFiT-AWD-QRNN.ipynb",
      "provenance": [],
      "private_outputs": true,
      "machine_shape": "hm",
      "mount_file_id": "1iCBdpsQd-BEHAU6ngl_A07tShB0GRc5T",
      "authorship_tag": "ABX9TyPa+hclgT5JXV8Bl4UGIloE",
      "include_colab_link": true
    },
    "kernelspec": {
      "name": "python3",
      "display_name": "Python 3"
    },
    "accelerator": "GPU"
  },
  "cells": [
    {
      "cell_type": "markdown",
      "metadata": {
        "id": "view-in-github",
        "colab_type": "text"
      },
      "source": [
        "<a href=\"https://colab.research.google.com/github/NirantK/Hinglish/blob/qrnn/HinglishULMFiT_AWD_QRNN.ipynb\" target=\"_parent\"><img src=\"https://colab.research.google.com/assets/colab-badge.svg\" alt=\"Open In Colab\"/></a>"
      ]
    },
    {
      "cell_type": "code",
      "metadata": {
        "id": "JWPlmOwi_UDn",
        "colab_type": "code",
        "colab": {}
      },
      "source": [
        "# !pip install gdown\n",
        "# !pip install ninja\n",
        "# !pip install sentencepiece\n",
        "# !pip install tqdm --upgrade --force"
      ],
      "execution_count": 0,
      "outputs": []
    },
    {
      "cell_type": "code",
      "metadata": {
        "id": "houlUMva_71L",
        "colab_type": "code",
        "colab": {}
      },
      "source": [
        "from fastai.text import *\n",
        "from datetime import datetime\n",
        "import sentencepiece as spm\n",
        "from pathlib import Path\n",
        "from tqdm import tqdm\n",
        "import pandas as pd\n",
        "import gdown\n",
        "\n",
        "tqdm.pandas()\n",
        "data_folder = Path(\"drive/My Drive/Hinglish/big\")"
      ],
      "execution_count": 0,
      "outputs": []
    },
    {
      "cell_type": "code",
      "metadata": {
        "id": "dwVjLKft_9ht",
        "colab_type": "code",
        "colab": {}
      },
      "source": [
        "sp = spm.SentencePieceProcessor()\n",
        "sp.Load(str(data_folder / \"hinglish_sp.model\"))\n",
        "\n",
        "\n",
        "class SpTokenizer(BaseTokenizer):\n",
        "    def __init__(self, lang: str, vocab_size: int = 8000):\n",
        "        self.lang = lang\n",
        "        self.vocab_size = vocab_size\n",
        "        self.sp = spm.SentencePieceProcessor()\n",
        "        self.sp.Load(str(data_folder / \"hinglish_sp.model\"))\n",
        "        self.vocab = Vocab([self.sp.IdToPiece(int(i)) for i in range(self.vocab_size)])\n",
        "\n",
        "    def tokenizer(self, t: str) -> List[str]:\n",
        "        return self.sp.EncodeAsPieces(t)\n",
        "\n",
        "    def detokenizer(self, t: List[str]) -> str:\n",
        "        return self.sp.DecodePieces(t)"
      ],
      "execution_count": 0,
      "outputs": []
    },
    {
      "cell_type": "code",
      "metadata": {
        "id": "8gTzXuhKABi9",
        "colab_type": "code",
        "colab": {}
      },
      "source": [
        "def train(\n",
        "    learn,\n",
        "    model_name: str,\n",
        "    lr=2e-03,\n",
        "    loops=5,\n",
        "    num_epocs_per_loop=2,\n",
        "    encoder=False,\n",
        "    test=False,\n",
        "):\n",
        "    learn.fit_one_cycle(1, slice(lr))\n",
        "    learn.unfreeze()\n",
        "    if test:\n",
        "        learn.save(f\"{model_name}_test\")\n",
        "        return\n",
        "    for i in range(loops):\n",
        "        learn.fit_one_cycle(num_epocs_per_loop, slice(lr))\n",
        "        learn.save(f\"{model_name}_{i}\")\n",
        "        if encoder:\n",
        "            learn.save_encoder(f\"{model_name}_enc_{i}\")\n",
        "        print(f\"saved {model_name}_{i}\")\n",
        "        learn.recorder.plot_losses()\n",
        "        learn.recorder.plot_metrics()"
      ],
      "execution_count": 0,
      "outputs": []
    },
    {
      "cell_type": "code",
      "metadata": {
        "id": "Me-IaSoZAHjJ",
        "colab_type": "code",
        "colab": {}
      },
      "source": [
        "data_lm = load_data(path=data_folder, file=\"clean_lm.pkl\")\n",
        "data_cls_lm = load_data(path=data_folder, file=\"clean_cls_lm.pkl\")\n",
        "data_cls = load_data(path=data_folder, file=\"clean_cls.pkl\")"
      ],
      "execution_count": 0,
      "outputs": []
    },
    {
      "cell_type": "code",
      "metadata": {
        "id": "0ljJqOojAJvN",
        "colab_type": "code",
        "colab": {}
      },
      "source": [
        "awd_lstm_lm_config = dict(\n",
        "    emb_sz=400,\n",
        "    n_hid=1150,\n",
        "    n_layers=3,\n",
        "    pad_token=1,\n",
        "    qrnn=True,\n",
        "    output_p=0.25,\n",
        "    hidden_p=0.1,\n",
        "    input_p=0.2,\n",
        "    embed_p=0.02,\n",
        "    weight_p=0.15,\n",
        "    tie_weights=True,\n",
        "    out_bias=True,\n",
        ")\n",
        "learn = language_model_learner(\n",
        "    data_lm,\n",
        "    arch=AWD_LSTM,\n",
        "    config=awd_lstm_lm_config,\n",
        "    drop_mult=0.5,\n",
        "    metrics=[accuracy, Perplexity()],\n",
        "    pretrained=False,\n",
        ")"
      ],
      "execution_count": 0,
      "outputs": []
    },
    {
      "cell_type": "code",
      "metadata": {
        "id": "0quY4DvIANTN",
        "colab_type": "code",
        "colab": {}
      },
      "source": [
        "learn.lr_find()\n",
        "learn.recorder.plot(suggestion=True)"
      ],
      "execution_count": 0,
      "outputs": []
    },
    {
      "cell_type": "code",
      "metadata": {
        "id": "zPqx8GnlAg0g",
        "colab_type": "code",
        "colab": {}
      },
      "source": [
        "train(\n",
        "    learn=learn,\n",
        "    model_name=\"language_model\",\n",
        "    lr=2e-03,\n",
        "    loops=5,\n",
        "    num_epocs_per_loop=2,\n",
        "    encoder=False,\n",
        "    test=False,\n",
        ")"
      ],
      "execution_count": 0,
      "outputs": []
    },
    {
      "cell_type": "code",
      "metadata": {
        "id": "T0tzAtxSArBx",
        "colab_type": "code",
        "colab": {}
      },
      "source": [
        "awd_lstm_lm_config = dict(\n",
        "    emb_sz=400,\n",
        "    n_hid=1150,\n",
        "    n_layers=3,\n",
        "    pad_token=1,\n",
        "    qrnn=True,\n",
        "    output_p=0.25,\n",
        "    hidden_p=0.1,\n",
        "    input_p=0.2,\n",
        "    embed_p=0.02,\n",
        "    weight_p=0.15,\n",
        "    tie_weights=True,\n",
        "    out_bias=True,\n",
        ")\n",
        "learn = language_model_learner(\n",
        "    data_cls_lm, arch=AWD_LSTM, config=awd_lstm_lm_config, pretrained=False\n",
        ")"
      ],
      "execution_count": 0,
      "outputs": []
    },
    {
      "cell_type": "code",
      "metadata": {
        "id": "5PwPM6siAv60",
        "colab_type": "code",
        "colab": {}
      },
      "source": [
        "i = 4\n",
        "learn.load(f\"language_model_{i}\")"
      ],
      "execution_count": 0,
      "outputs": []
    },
    {
      "cell_type": "code",
      "metadata": {
        "id": "l6B_KAVmAyDH",
        "colab_type": "code",
        "colab": {}
      },
      "source": [
        "learn.lr_find()\n",
        "learn.recorder.plot(suggestion=True)"
      ],
      "execution_count": 0,
      "outputs": []
    },
    {
      "cell_type": "code",
      "metadata": {
        "id": "yuvTqzNTA01g",
        "colab_type": "code",
        "colab": {}
      },
      "source": [
        "train(\n",
        "    learn=learn,\n",
        "    model_name=\"language_model_class\",\n",
        "    lr=2e-03,\n",
        "    loops=10,\n",
        "    num_epocs_per_loop=2,\n",
        "    encoder=True,\n",
        "    test=False,\n",
        ")"
      ],
      "execution_count": 0,
      "outputs": []
    },
    {
      "cell_type": "code",
      "metadata": {
        "id": "e5QPl-XkA43Z",
        "colab_type": "code",
        "colab": {}
      },
      "source": [
        "awd_lstm_clas_config = dict(\n",
        "    emb_sz=400,\n",
        "    n_hid=1150,\n",
        "    n_layers=3,\n",
        "    pad_token=1,\n",
        "    qrnn=True,\n",
        "    output_p=0.4,\n",
        "    hidden_p=0.2,\n",
        "    input_p=0.6,\n",
        "    embed_p=0.1,\n",
        "    weight_p=0.5,\n",
        ")\n",
        "learn = text_classifier_learner(\n",
        "    data_cls,\n",
        "    AWD_LSTM,\n",
        "    config=awd_lstm_clas_config,\n",
        "    drop_mult=0.5,\n",
        "    metrics=[accuracy],\n",
        "    pretrained=False,\n",
        ").to_fp16()"
      ],
      "execution_count": 0,
      "outputs": []
    },
    {
      "cell_type": "code",
      "metadata": {
        "id": "NXcfPsoqA8-_",
        "colab_type": "code",
        "colab": {}
      },
      "source": [
        "i = 9\n",
        "learn.load_encoder(f\"language_model_class_enc_{i}\")\n",
        "learn.lr_find()\n",
        "learn.recorder.plot(suggestion=True)"
      ],
      "execution_count": 0,
      "outputs": []
    },
    {
      "cell_type": "code",
      "metadata": {
        "id": "_8hvo_cFA9v3",
        "colab_type": "code",
        "colab": {}
      },
      "source": [
        "train(\n",
        "    learn=learn,\n",
        "    model_name=\"class_model\",\n",
        "    lr=2e-03,\n",
        "    loops=10,\n",
        "    num_epocs_per_loop=10,\n",
        "    encoder=False,\n",
        "    test=False,\n",
        ")"
      ],
      "execution_count": 0,
      "outputs": []
    }
  ]
}