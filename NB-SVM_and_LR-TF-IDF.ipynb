{
 "cells": [
  {
   "cell_type": "code",
   "execution_count": 1,
   "metadata": {},
   "outputs": [],
   "source": [
    "import json\n",
    "import pandas as pd\n",
    "import numpy as np\n",
    "import re"
   ]
  },
  {
   "cell_type": "code",
   "execution_count": 2,
   "metadata": {},
   "outputs": [],
   "source": [
    "from sklearn.metrics import accuracy_score,f1_score\n",
    "# from utils import TextCleaner, CleanTwitter\n",
    "import string\n",
    "from sklearn.base import BaseEstimator, ClassifierMixin\n",
    "from sklearn.utils.validation import check_X_y, check_is_fitted\n",
    "from sklearn.linear_model import LogisticRegression\n",
    "from scipy import sparse\n",
    "from sklearn.preprocessing import LabelEncoder\n",
    "from sklearn.feature_extraction.text import TfidfVectorizer\n",
    "from sklearn.model_selection import cross_val_score, train_test_split\n",
    "import warnings\n",
    "\n",
    "warnings.filterwarnings(\"ignore\")"
   ]
  },
  {
   "cell_type": "code",
   "execution_count": 3,
   "metadata": {},
   "outputs": [
    {
     "data": {
      "text/html": [
       "<div>\n",
       "<style scoped>\n",
       "    .dataframe tbody tr th:only-of-type {\n",
       "        vertical-align: middle;\n",
       "    }\n",
       "\n",
       "    .dataframe tbody tr th {\n",
       "        vertical-align: top;\n",
       "    }\n",
       "\n",
       "    .dataframe thead th {\n",
       "        text-align: right;\n",
       "    }\n",
       "</style>\n",
       "<table border=\"1\" class=\"dataframe\">\n",
       "  <thead>\n",
       "    <tr style=\"text-align: right;\">\n",
       "      <th></th>\n",
       "      <th>uid</th>\n",
       "      <th>sentiment</th>\n",
       "      <th>text</th>\n",
       "    </tr>\n",
       "  </thead>\n",
       "  <tbody>\n",
       "    <tr>\n",
       "      <th>0</th>\n",
       "      <td>8</td>\n",
       "      <td>neutral</td>\n",
       "      <td>RT @ UAAPconfessions Love looks good on Maddie...</td>\n",
       "    </tr>\n",
       "    <tr>\n",
       "      <th>1</th>\n",
       "      <td>12</td>\n",
       "      <td>neutral</td>\n",
       "      <td>Ye Ye ..... ye ??????? We gonna start another ...</td>\n",
       "    </tr>\n",
       "    <tr>\n",
       "      <th>2</th>\n",
       "      <td>14</td>\n",
       "      <td>neutral</td>\n",
       "      <td>@ zWffFY9JGklElA1 @ Min _ Of _ Lyching @ thaku...</td>\n",
       "    </tr>\n",
       "    <tr>\n",
       "      <th>3</th>\n",
       "      <td>23</td>\n",
       "      <td>negative</td>\n",
       "      <td>~ Caring . ~ Bohot Jyada Caring . ~ Courier wa...</td>\n",
       "    </tr>\n",
       "    <tr>\n",
       "      <th>4</th>\n",
       "      <td>24</td>\n",
       "      <td>positive</td>\n",
       "      <td>@ AliHZaidiPTI @ SarfarazA _ 54 What nonesense...</td>\n",
       "    </tr>\n",
       "  </tbody>\n",
       "</table>\n",
       "</div>"
      ],
      "text/plain": [
       "   uid sentiment                                               text\n",
       "0    8   neutral  RT @ UAAPconfessions Love looks good on Maddie...\n",
       "1   12   neutral  Ye Ye ..... ye ??????? We gonna start another ...\n",
       "2   14   neutral  @ zWffFY9JGklElA1 @ Min _ Of _ Lyching @ thaku...\n",
       "3   23  negative  ~ Caring . ~ Bohot Jyada Caring . ~ Courier wa...\n",
       "4   24  positive  @ AliHZaidiPTI @ SarfarazA _ 54 What nonesense..."
      ]
     },
     "execution_count": 3,
     "metadata": {},
     "output_type": "execute_result"
    }
   ],
   "source": [
    "train = pd.read_json('data/interim/train-large.json')\n",
    "train.head()"
   ]
  },
  {
   "cell_type": "code",
   "execution_count": 4,
   "metadata": {},
   "outputs": [
    {
     "data": {
      "text/plain": [
       "3"
      ]
     },
     "execution_count": 4,
     "metadata": {},
     "output_type": "execute_result"
    }
   ],
   "source": [
    "num_classes = len(set(list(train['sentiment']))); num_classes"
   ]
  },
  {
   "cell_type": "code",
   "execution_count": 5,
   "metadata": {},
   "outputs": [],
   "source": [
    "def cleaner(train):\n",
    "    train[\"clean_text\"] = train[\"text\"]\n",
    "    train[\"clean_text\"] = (\n",
    "        (train[\"clean_text\"])\n",
    "        .apply(lambda text: re.sub(r\"RT\\s@\\s\\w+\", \"\", text))\n",
    "        .apply(lambda text: re.sub(r\"@\", \"mention\", text))\n",
    "        .apply(lambda text: re.sub(r\"#\", \"hashtag\", text))\n",
    "        .apply(lambda text: re.sub(r\"http\\S+\", \"\", text))\n",
    "    )\n",
    "\n",
    "    le = LabelEncoder()\n",
    "    train[\"target\"] = le.fit_transform(train[\"sentiment\"])\n",
    "    X_train, X_test, y_train, y_test = train_test_split(\n",
    "        train[\"clean_text\"].values,\n",
    "        train[\"target\"].values,\n",
    "        test_size=0.25,\n",
    "        random_state=0,\n",
    "    )\n",
    "\n",
    "    vect = TfidfVectorizer(\n",
    "        strip_accents=\"unicode\",\n",
    "        ngram_range=(1, 2),\n",
    "        max_df=0.75,\n",
    "        min_df=3,\n",
    "        sublinear_tf=True,\n",
    "    )\n",
    "\n",
    "    tfidf_train = vect.fit_transform(X_train)\n",
    "    tfidf_test = vect.transform(X_test)\n",
    "\n",
    "    return X_train, X_test, y_train, y_test, tfidf_train, tfidf_test"
   ]
  },
  {
   "cell_type": "code",
   "execution_count": 6,
   "metadata": {},
   "outputs": [
    {
     "name": "stdout",
     "output_type": "stream",
     "text": [
      "CPU times: user 2.29 s, sys: 85.4 ms, total: 2.37 s\n",
      "Wall time: 2.45 s\n"
     ]
    }
   ],
   "source": [
    "%time X_train, X_test, y_train, y_test, tfidf_train, tfidf_test = cleaner(train)"
   ]
  },
  {
   "cell_type": "markdown",
   "metadata": {},
   "source": [
    "# Naive Bayes"
   ]
  },
  {
   "cell_type": "code",
   "execution_count": 7,
   "metadata": {},
   "outputs": [],
   "source": [
    "class NbSvmClassifier(BaseEstimator, ClassifierMixin):\n",
    "    def __init__(self, C=1.0, dual=False, n_jobs=1):\n",
    "        self.C = C\n",
    "        self.dual = dual\n",
    "        self.n_jobs = n_jobs\n",
    "\n",
    "    def predict(self, x):\n",
    "        # Verify that model has been fit\n",
    "        check_is_fitted(self, ['_r', '_clf'])\n",
    "        return self._clf.predict(x.multiply(self._r))\n",
    "\n",
    "    def predict_proba(self, x):\n",
    "        # Verify that model has been fit\n",
    "        check_is_fitted(self, ['_r', '_clf'])\n",
    "        return self._clf.predict_proba(x.multiply(self._r))\n",
    "\n",
    "    def fit(self, x, y):\n",
    "        # Check that X and y have correct shape\n",
    "        x, y = check_X_y(x, y, accept_sparse=True)\n",
    "\n",
    "        def pr(x, y_i, y):\n",
    "            p = x[y==y_i].sum(0)\n",
    "            return (p+1) / ((y==y_i).sum()+1)\n",
    "\n",
    "        self._r = sparse.csr_matrix(np.log(pr(x,1,y) / pr(x,0,y)))\n",
    "        x_nb = x.multiply(self._r)\n",
    "        self._clf = LogisticRegression(C=self.C, dual=self.dual, n_jobs=self.n_jobs).fit(x_nb, y)\n",
    "        return self"
   ]
  },
  {
   "cell_type": "code",
   "execution_count": 8,
   "metadata": {},
   "outputs": [],
   "source": [
    "NBSVM = NbSvmClassifier(C=4, dual=False, n_jobs=-1).fit(tfidf_train, list(y_train))"
   ]
  },
  {
   "cell_type": "code",
   "execution_count": 9,
   "metadata": {},
   "outputs": [
    {
     "name": "stdout",
     "output_type": "stream",
     "text": [
      "test accuracy: 0.60188\n",
      "test f1_score: 0.60658\n"
     ]
    }
   ],
   "source": [
    "pred = NBSVM.predict(tfidf_test)\n",
    "print(\"test accuracy:\", round(accuracy_score(pred, y_test), 5))\n",
    "print(\"test f1_score:\", round(f1_score(pred, y_test, average='macro'), 5))"
   ]
  },
  {
   "cell_type": "markdown",
   "metadata": {},
   "source": [
    "# Logistic Regression with TF-IDF"
   ]
  },
  {
   "cell_type": "code",
   "execution_count": 10,
   "metadata": {},
   "outputs": [],
   "source": [
    "LR = LogisticRegression(C=4, dual=False, solver=\"lbfgs\", max_iter=1000)"
   ]
  },
  {
   "cell_type": "code",
   "execution_count": 11,
   "metadata": {},
   "outputs": [
    {
     "name": "stdout",
     "output_type": "stream",
     "text": [
      "test accuracy: 0.59529\n",
      "test f1_score: 0.60031\n"
     ]
    }
   ],
   "source": [
    "_ = LR.fit(tfidf_train, y_train)\n",
    "pred = LR.predict(tfidf_test)\n",
    "print(\"test accuracy:\", round(accuracy_score(pred, y_test), 5))\n",
    "print(\"test f1_score:\", round(f1_score(pred, y_test, average='macro'), 5))"
   ]
  },
  {
   "cell_type": "markdown",
   "metadata": {},
   "source": [
    "# With Cleanlab?"
   ]
  },
  {
   "cell_type": "code",
   "execution_count": 12,
   "metadata": {},
   "outputs": [],
   "source": [
    "from cleanlab.classification import LearningWithNoisyLabels\n",
    "from cleanlab.noise_generation import generate_noise_matrix_from_trace\n",
    "from cleanlab.noise_generation import generate_noisy_labels\n",
    "from cleanlab.util import value_counts\n",
    "from cleanlab.latent_algebra import compute_inv_noise_matrix\n",
    "import cleanlab"
   ]
  },
  {
   "cell_type": "code",
   "execution_count": 13,
   "metadata": {},
   "outputs": [],
   "source": [
    "# Set the sparsity of the noise matrix.\n",
    "FRAC_ZERO_NOISE_RATES = 0.5\n",
    "# A proxy for the fraction of labels that are correct.\n",
    "avg_trace = 0.95 # ~5% wrong labels. Increasing makes the problem easier.\n",
    "\n",
    "p_y = value_counts(y_train) # probability of y estimates\n",
    "noise_matrix = generate_noise_matrix_from_trace(\n",
    "        K = num_classes,\n",
    "        trace = num_classes * avg_trace, \n",
    "        py = p_y,\n",
    "        frac_zero_noise_rates = FRAC_ZERO_NOISE_RATES,\n",
    "    )\n",
    "\n",
    "# Create noisy labels\n",
    "s = generate_noisy_labels(y_train, noise_matrix)"
   ]
  },
  {
   "cell_type": "markdown",
   "metadata": {},
   "source": [
    "## NB-SVM Regular Train Labels "
   ]
  },
  {
   "cell_type": "code",
   "execution_count": 14,
   "metadata": {},
   "outputs": [
    {
     "name": "stdout",
     "output_type": "stream",
     "text": [
      "NB-SVM Regular Train Labels confident learning (noise matrix given), test accuracy: 0.58588\n",
      "test f1_score: 0.58884\n"
     ]
    }
   ],
   "source": [
    "print('NB-SVM Regular Train Labels confident learning (noise matrix given),', end=\" \")\n",
    "NBSVM_Confident = NbSvmClassifier(C=4, dual=False, n_jobs=-1)\n",
    "rp = LearningWithNoisyLabels(clf = NBSVM_Confident)\n",
    "_ = rp.fit(tfidf_train, y_train, noise_matrix=noise_matrix)\n",
    "pred = rp.predict(tfidf_test)\n",
    "print(\"test accuracy:\", round(accuracy_score(pred, y_test),5))\n",
    "print(\"test f1_score:\", round(f1_score(pred, y_test, average='macro'), 5))"
   ]
  },
  {
   "cell_type": "markdown",
   "metadata": {},
   "source": [
    "## LR Regular Train Labels "
   ]
  },
  {
   "cell_type": "code",
   "execution_count": null,
   "metadata": {},
   "outputs": [
    {
     "name": "stdout",
     "output_type": "stream",
     "text": [
      "LR Regular Train Labels confident learning (noise matrix given), "
     ]
    }
   ],
   "source": [
    "print('LR Regular Train Labels confident learning (noise matrix given),', end=\" \")\n",
    "LR = LogisticRegression(C=4, dual=False, solver=\"lbfgs\", max_iter=1000)\n",
    "rp = LearningWithNoisyLabels(clf = LR)\n",
    "_ = rp.fit(tfidf_train, y_train, noise_matrix=noise_matrix)\n",
    "pred = rp.predict(tfidf_test)\n",
    "print(\"test accuracy:\", round(accuracy_score(pred, y_test),5))\n",
    "print(\"test f1_score:\", round(f1_score(pred, y_test, average='macro'), 5))"
   ]
  },
  {
   "cell_type": "markdown",
   "metadata": {},
   "source": [
    "## NB-SVM Noisy Train Labels "
   ]
  },
  {
   "cell_type": "code",
   "execution_count": null,
   "metadata": {},
   "outputs": [],
   "source": [
    "print('NB-SVM Noisy Train Labels confident learning (noise matrix given),', end=\" \")\n",
    "NBSVM_Confident = NbSvmClassifier(C=4, dual=False, n_jobs=-1)\n",
    "rp = LearningWithNoisyLabels(clf = NBSVM_Confident)\n",
    "_ = rp.fit(tfidf_train, s, noise_matrix=noise_matrix)\n",
    "pred = rp.predict(tfidf_test)\n",
    "print(\"test accuracy:\", round(accuracy_score(pred, y_test),5))\n",
    "print(\"test f1_score:\", round(f1_score(pred, y_test, average='macro'), 5))"
   ]
  },
  {
   "cell_type": "markdown",
   "metadata": {},
   "source": [
    "## LR Noisy Train Labels "
   ]
  },
  {
   "cell_type": "code",
   "execution_count": null,
   "metadata": {},
   "outputs": [],
   "source": [
    "print('LR Noisy Train Labels confident learning (noise matrix given),', end=\" \")\n",
    "LR = LogisticRegression(C=4, dual=False, solver=\"lbfgs\", max_iter=1000)\n",
    "rp = LearningWithNoisyLabels(clf = LR)\n",
    "_ = rp.fit(tfidf_train, s, noise_matrix=noise_matrix)\n",
    "pred = rp.predict(tfidf_test)\n",
    "print(\"test accuracy:\", round(accuracy_score(pred, y_test),5))\n",
    "print(\"test f1_score:\", round(f1_score(pred, y_test, average='macro'), 5))"
   ]
  },
  {
   "cell_type": "code",
   "execution_count": null,
   "metadata": {},
   "outputs": [],
   "source": []
  }
 ],
 "metadata": {
  "kernelspec": {
   "display_name": "Python 3",
   "language": "python",
   "name": "python3"
  },
  "language_info": {
   "codemirror_mode": {
    "name": "ipython",
    "version": 3
   },
   "file_extension": ".py",
   "mimetype": "text/x-python",
   "name": "python",
   "nbconvert_exporter": "python",
   "pygments_lexer": "ipython3",
   "version": "3.7.5"
  }
 },
 "nbformat": 4,
 "nbformat_minor": 2
}
