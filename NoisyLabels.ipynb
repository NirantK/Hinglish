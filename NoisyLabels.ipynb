{
 "cells": [
  {
   "cell_type": "markdown",
   "metadata": {},
   "source": [
    "# Cleanlab\n",
    "## Treating the Labels as Noisy\n",
    "### Learning from Noisy Labels\n",
    "Link: https://github.com/cgnorthcutt/cleanlab/"
   ]
  },
  {
   "cell_type": "code",
   "execution_count": 1,
   "metadata": {},
   "outputs": [],
   "source": [
    "import json\n",
    "import pandas as pd\n",
    "import numpy as np"
   ]
  },
  {
   "cell_type": "code",
   "execution_count": 2,
   "metadata": {},
   "outputs": [
    {
     "data": {
      "text/html": [
       "<div>\n",
       "<style scoped>\n",
       "    .dataframe tbody tr th:only-of-type {\n",
       "        vertical-align: middle;\n",
       "    }\n",
       "\n",
       "    .dataframe tbody tr th {\n",
       "        vertical-align: top;\n",
       "    }\n",
       "\n",
       "    .dataframe thead th {\n",
       "        text-align: right;\n",
       "    }\n",
       "</style>\n",
       "<table border=\"1\" class=\"dataframe\">\n",
       "  <thead>\n",
       "    <tr style=\"text-align: right;\">\n",
       "      <th></th>\n",
       "      <th>sentiment</th>\n",
       "      <th>text</th>\n",
       "      <th>uid</th>\n",
       "    </tr>\n",
       "  </thead>\n",
       "  <tbody>\n",
       "    <tr>\n",
       "      <th>0</th>\n",
       "      <td>negative</td>\n",
       "      <td>@ AdilNisarButt pakistan ka ghra tauq he Pakis...</td>\n",
       "      <td>3</td>\n",
       "    </tr>\n",
       "    <tr>\n",
       "      <th>1</th>\n",
       "      <td>negative</td>\n",
       "      <td>Madarchod mulle ye mathura me Nahi dikha tha j...</td>\n",
       "      <td>41</td>\n",
       "    </tr>\n",
       "    <tr>\n",
       "      <th>2</th>\n",
       "      <td>positive</td>\n",
       "      <td>@ narendramodi Manya Pradhan Mantri mahoday Sh...</td>\n",
       "      <td>48</td>\n",
       "    </tr>\n",
       "    <tr>\n",
       "      <th>3</th>\n",
       "      <td>positive</td>\n",
       "      <td>@ Atheist _ Krishna Jcb full trend me chal rah...</td>\n",
       "      <td>64</td>\n",
       "    </tr>\n",
       "    <tr>\n",
       "      <th>4</th>\n",
       "      <td>positive</td>\n",
       "      <td>@ AbhisharSharma _ @ RavishKumarBlog Loksabha ...</td>\n",
       "      <td>66</td>\n",
       "    </tr>\n",
       "  </tbody>\n",
       "</table>\n",
       "</div>"
      ],
      "text/plain": [
       "  sentiment                                               text  uid\n",
       "0  negative  @ AdilNisarButt pakistan ka ghra tauq he Pakis...    3\n",
       "1  negative  Madarchod mulle ye mathura me Nahi dikha tha j...   41\n",
       "2  positive  @ narendramodi Manya Pradhan Mantri mahoday Sh...   48\n",
       "3  positive  @ Atheist _ Krishna Jcb full trend me chal rah...   64\n",
       "4  positive  @ AbhisharSharma _ @ RavishKumarBlog Loksabha ...   66"
      ]
     },
     "execution_count": 2,
     "metadata": {},
     "output_type": "execute_result"
    }
   ],
   "source": [
    "train = pd.read_json('train.json')\n",
    "train.head()"
   ]
  },
  {
   "cell_type": "code",
   "execution_count": 3,
   "metadata": {},
   "outputs": [],
   "source": [
    "num_classes = len(set(list(train['sentiment'])))"
   ]
  },
  {
   "cell_type": "markdown",
   "metadata": {},
   "source": [
    "# Refering to : [Twitter-Airlines](https://github.com/martinpella/twitter-airlines/blob/master/shallow_learning.ipynb) for cleaning data. "
   ]
  },
  {
   "cell_type": "code",
   "execution_count": 4,
   "metadata": {},
   "outputs": [],
   "source": [
    "from utils import TextCleaner, CleanTwitter"
   ]
  },
  {
   "cell_type": "code",
   "execution_count": null,
   "metadata": {},
   "outputs": [],
   "source": [
    "X_train, X_test, y_train, y_test, tfidf_train, tfidf_test = CleanTwitter(train)"
   ]
  },
  {
   "cell_type": "markdown",
   "metadata": {},
   "source": [
    "# LearningWithNoisyLabels : [IrisSimple](https://github.com/cgnorthcutt/cleanlab/blob/master/examples/iris_simple_example.ipynb)?"
   ]
  },
  {
   "cell_type": "code",
   "execution_count": null,
   "metadata": {},
   "outputs": [],
   "source": [
    "from cleanlab.classification import LearningWithNoisyLabels\n",
    "from cleanlab.noise_generation import generate_noise_matrix_from_trace\n",
    "from cleanlab.noise_generation import generate_noisy_labels\n",
    "from cleanlab.util import value_counts\n",
    "from cleanlab.latent_algebra import compute_inv_noise_matrix\n",
    "\n",
    "from sklearn.linear_model import LogisticRegression\n",
    "from sklearn.metrics import accuracy_score"
   ]
  },
  {
   "cell_type": "code",
   "execution_count": null,
   "metadata": {},
   "outputs": [],
   "source": [
    "m = LogisticRegression(C=4, dual=True)\n",
    "rp = LearningWithNoisyLabels(clf = m)"
   ]
  },
  {
   "cell_type": "code",
   "execution_count": null,
   "metadata": {},
   "outputs": [],
   "source": [
    "# Not sure if this is how you do it? HOW TO CHANGE THESE VALUES?\n",
    "\n",
    "# Set the sparsity of the noise matrix.\n",
    "FRAC_ZERO_NOISE_RATES = 0.5\n",
    "# A proxy for the fraction of labels that are correct.\n",
    "avg_trace = 0.85 # ~15% wrong labels. Increasing makes the problem easier.\n",
    "py = value_counts(y_train)\n",
    "noise_matrix = generate_noise_matrix_from_trace(\n",
    "        K = num_classes,\n",
    "        trace = num_classes * avg_trace, \n",
    "        py = py,\n",
    "        frac_zero_noise_rates = FRAC_ZERO_NOISE_RATES,\n",
    "    )\n",
    "\n",
    "# Create noisy labels\n",
    "#s = generate_noisy_labels(y_train, noise_matrix)"
   ]
  },
  {
   "cell_type": "code",
   "execution_count": null,
   "metadata": {},
   "outputs": [
    {
     "name": "stdout",
     "output_type": "stream",
     "text": [
      "WITHOUT confident learning, test accuracy: 0.62\n"
     ]
    }
   ],
   "source": [
    "print('WITHOUT confident learning,', end=\" \")\n",
    "m = LogisticRegression(solver='lbfgs', multi_class='auto', max_iter=1000)\n",
    "_ = m.fit(tfidf_train, y_train)\n",
    "pred = m.predict(tfidf_test)\n",
    "print(\"test accuracy:\", round(accuracy_score(pred, y_test), 2))"
   ]
  },
  {
   "cell_type": "code",
   "execution_count": null,
   "metadata": {},
   "outputs": [
    {
     "name": "stdout",
     "output_type": "stream",
     "text": [
      "WITH confident learning (without noise matrix given), "
     ]
    },
    {
     "name": "stderr",
     "output_type": "stream",
     "text": [
      "/Users/meghanabhange/anaconda3/lib/python3.7/site-packages/sklearn/linear_model/logistic.py:432: FutureWarning: Default solver will be changed to 'lbfgs' in 0.22. Specify a solver to silence this warning.\n",
      "  FutureWarning)\n",
      "/Users/meghanabhange/anaconda3/lib/python3.7/site-packages/sklearn/linear_model/logistic.py:469: FutureWarning: Default multi_class will be changed to 'auto' in 0.22. Specify the multi_class option to silence this warning.\n",
      "  \"this warning.\", FutureWarning)\n"
     ]
    },
    {
     "name": "stdout",
     "output_type": "stream",
     "text": [
      "test accuracy: 0.61\n"
     ]
    }
   ],
   "source": [
    "print('WITH confident learning (without noise matrix given),', end=\" \")\n",
    "_ = rp.fit(tfidf_train, y_train)\n",
    "pred = rp.predict(tfidf_test)\n",
    "print(\"test accuracy:\", round(accuracy_score(pred, y_test),2))"
   ]
  },
  {
   "cell_type": "code",
   "execution_count": null,
   "metadata": {},
   "outputs": [
    {
     "name": "stdout",
     "output_type": "stream",
     "text": [
      "WITH confident learning (noise matrix given), "
     ]
    },
    {
     "name": "stderr",
     "output_type": "stream",
     "text": [
      "/Users/meghanabhange/anaconda3/lib/python3.7/site-packages/sklearn/linear_model/logistic.py:432: FutureWarning: Default solver will be changed to 'lbfgs' in 0.22. Specify a solver to silence this warning.\n",
      "  FutureWarning)\n",
      "/Users/meghanabhange/anaconda3/lib/python3.7/site-packages/sklearn/linear_model/logistic.py:469: FutureWarning: Default multi_class will be changed to 'auto' in 0.22. Specify the multi_class option to silence this warning.\n",
      "  \"this warning.\", FutureWarning)\n"
     ]
    },
    {
     "name": "stdout",
     "output_type": "stream",
     "text": [
      "test accuracy: 0.62\n"
     ]
    }
   ],
   "source": [
    "print('WITH confident learning (noise matrix given),', end=\" \")\n",
    "_ = rp.fit(tfidf_train, y_train, noise_matrix=noise_matrix)\n",
    "pred = rp.predict(tfidf_test)\n",
    "print(\"test accuracy:\", round(accuracy_score(pred, y_test),2))\n"
   ]
  },
  {
   "cell_type": "code",
   "execution_count": null,
   "metadata": {},
   "outputs": [
    {
     "name": "stdout",
     "output_type": "stream",
     "text": [
      "WITH confident learning (noise / inverse noise matrix given), "
     ]
    },
    {
     "name": "stderr",
     "output_type": "stream",
     "text": [
      "/Users/meghanabhange/anaconda3/lib/python3.7/site-packages/sklearn/linear_model/logistic.py:432: FutureWarning: Default solver will be changed to 'lbfgs' in 0.22. Specify a solver to silence this warning.\n",
      "  FutureWarning)\n",
      "/Users/meghanabhange/anaconda3/lib/python3.7/site-packages/sklearn/linear_model/logistic.py:469: FutureWarning: Default multi_class will be changed to 'auto' in 0.22. Specify the multi_class option to silence this warning.\n",
      "  \"this warning.\", FutureWarning)\n"
     ]
    },
    {
     "name": "stdout",
     "output_type": "stream",
     "text": [
      "test accuracy: 0.61\n"
     ]
    }
   ],
   "source": [
    "print('WITH confident learning (noise / inverse noise matrix given),', end=\" \")\n",
    "_ = rp.fit(tfidf_train, y_train, noise_matrix = noise_matrix, inverse_noise_matrix=compute_inv_noise_matrix(py, noise_matrix))\n",
    "pred = rp.predict(tfidf_test)\n",
    "print(\"test accuracy:\", round(accuracy_score(pred, y_test),2))"
   ]
  },
  {
   "cell_type": "code",
   "execution_count": null,
   "metadata": {},
   "outputs": [],
   "source": [
    "print('WITH confident learning (using latent noise matrix estimation),', end=\" \")\n",
    "m = LogisticRegression(solver='lbfgs', multi_class='auto', max_iter=1000)\n",
    "rp = LearningWithNoisyLabels(clf = m)\n",
    "_ = rp.fit(tfidf_train, y_train)\n",
    "pred = rp.predict(tfidf_test)\n",
    "print(\"test accuracy:\", round(accuracy_score(pred, y_test),2))"
   ]
  },
  {
   "cell_type": "code",
   "execution_count": null,
   "metadata": {},
   "outputs": [],
   "source": [
    "print('WITH confident learning (using calibrated confident joint),', end=\" \")\n",
    "m = LogisticRegression(solver='lbfgs', multi_class='auto', max_iter=1000)\n",
    "rp = LearningWithNoisyLabels(clf=m)\n",
    "_ = rp.fit(tfidf_train, y_train)\n",
    "pred = rp.predict(tfidf_test)\n",
    "print(\"test accuracy:\", round(accuracy_score(pred, y_test),2))"
   ]
  },
  {
   "cell_type": "code",
   "execution_count": null,
   "metadata": {},
   "outputs": [],
   "source": []
  }
 ],
 "metadata": {
  "kernelspec": {
   "display_name": "Python 3",
   "language": "python",
   "name": "python3"
  },
  "language_info": {
   "codemirror_mode": {
    "name": "ipython",
    "version": 3
   },
   "file_extension": ".py",
   "mimetype": "text/x-python",
   "name": "python",
   "nbconvert_exporter": "python",
   "pygments_lexer": "ipython3",
   "version": "3.7.3"
  }
 },
 "nbformat": 4,
 "nbformat_minor": 2
}
