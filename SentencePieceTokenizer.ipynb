{
 "cells": [
  {
   "cell_type": "code",
   "execution_count": 6,
   "metadata": {
    "scrolled": true
   },
   "outputs": [],
   "source": [
    "# %pip install sentencepiece"
   ]
  },
  {
   "cell_type": "code",
   "execution_count": 9,
   "metadata": {},
   "outputs": [],
   "source": [
    "import sentencepiece as spm\n",
    "import pandas as pd\n",
    "from pathlib import Path"
   ]
  },
  {
   "cell_type": "code",
   "execution_count": 32,
   "metadata": {},
   "outputs": [
    {
     "data": {
      "text/html": [
       "<div>\n",
       "<style scoped>\n",
       "    .dataframe tbody tr th:only-of-type {\n",
       "        vertical-align: middle;\n",
       "    }\n",
       "\n",
       "    .dataframe tbody tr th {\n",
       "        vertical-align: top;\n",
       "    }\n",
       "\n",
       "    .dataframe thead th {\n",
       "        text-align: right;\n",
       "    }\n",
       "</style>\n",
       "<table border=\"1\" class=\"dataframe\">\n",
       "  <thead>\n",
       "    <tr style=\"text-align: right;\">\n",
       "      <th></th>\n",
       "      <th>0</th>\n",
       "      <th>clean_text</th>\n",
       "    </tr>\n",
       "  </thead>\n",
       "  <tbody>\n",
       "    <tr>\n",
       "      <th>0</th>\n",
       "      <td>RT @SayyedMubashsh1: Ye 85 Saal Ki Umer K admi...</td>\n",
       "      <td>Retweet Ye 85 Saal Ki Umer K admi hain jo akel...</td>\n",
       "    </tr>\n",
       "    <tr>\n",
       "      <th>1</th>\n",
       "      <td>@mahima123123 utpat nai lagni ke yo bela yesta...</td>\n",
       "      <td>mention mahima123123 utpat nai lagni ke yo bel...</td>\n",
       "    </tr>\n",
       "    <tr>\n",
       "      <th>2</th>\n",
       "      <td>@xxxyunis_ SAMA NAA</td>\n",
       "      <td>mention xxxyunis_ SAMA NAA</td>\n",
       "    </tr>\n",
       "    <tr>\n",
       "      <th>3</th>\n",
       "      <td>peepee poopoo</td>\n",
       "      <td>peepee poopoo</td>\n",
       "    </tr>\n",
       "    <tr>\n",
       "      <th>4</th>\n",
       "      <td>@AvaGG AvaJaiJai 👌🏾</td>\n",
       "      <td>mention AvaGG AvaJaiJai 👌🏾</td>\n",
       "    </tr>\n",
       "    <tr>\n",
       "      <th>...</th>\n",
       "      <td>...</td>\n",
       "      <td>...</td>\n",
       "    </tr>\n",
       "    <tr>\n",
       "      <th>162848</th>\n",
       "      <td>@maegotpeace salamat tol!!</td>\n",
       "      <td>mention maegotpeace salamat tol!!</td>\n",
       "    </tr>\n",
       "    <tr>\n",
       "      <th>162849</th>\n",
       "      <td>@doinyashawn bole sj</td>\n",
       "      <td>mention doinyashawn bole sj</td>\n",
       "    </tr>\n",
       "    <tr>\n",
       "      <th>162850</th>\n",
       "      <td>RT @RUBYALI85915964: @naseemhaidersy1 Phir b i...</td>\n",
       "      <td>Retweet mention naseemhaidersy1 Phir b iqtadar...</td>\n",
       "    </tr>\n",
       "    <tr>\n",
       "      <th>162851</th>\n",
       "      <td>Mini me vs  Me 👶⁦\\n https://t.co/JfixX6bUJY ht...</td>\n",
       "      <td>Mini me vs  Me 👶⁦\\n</td>\n",
       "    </tr>\n",
       "    <tr>\n",
       "      <th>162852</th>\n",
       "      <td>@SabaGul2222 ati ho ni dm ma real mlo gi chosw...</td>\n",
       "      <td>mention SabaGul2222 ati ho ni dm ma real mlo g...</td>\n",
       "    </tr>\n",
       "  </tbody>\n",
       "</table>\n",
       "<p>162853 rows × 2 columns</p>\n",
       "</div>"
      ],
      "text/plain": [
       "                                                        0  \\\n",
       "0       RT @SayyedMubashsh1: Ye 85 Saal Ki Umer K admi...   \n",
       "1       @mahima123123 utpat nai lagni ke yo bela yesta...   \n",
       "2                                     @xxxyunis_ SAMA NAA   \n",
       "3                                           peepee poopoo   \n",
       "4                                     @AvaGG AvaJaiJai 👌🏾   \n",
       "...                                                   ...   \n",
       "162848                         @maegotpeace salamat tol!!   \n",
       "162849                               @doinyashawn bole sj   \n",
       "162850  RT @RUBYALI85915964: @naseemhaidersy1 Phir b i...   \n",
       "162851  Mini me vs  Me 👶⁦\\n https://t.co/JfixX6bUJY ht...   \n",
       "162852  @SabaGul2222 ati ho ni dm ma real mlo gi chosw...   \n",
       "\n",
       "                                               clean_text  \n",
       "0       Retweet Ye 85 Saal Ki Umer K admi hain jo akel...  \n",
       "1       mention mahima123123 utpat nai lagni ke yo bel...  \n",
       "2                              mention xxxyunis_ SAMA NAA  \n",
       "3                                           peepee poopoo  \n",
       "4                              mention AvaGG AvaJaiJai 👌🏾  \n",
       "...                                                   ...  \n",
       "162848                  mention maegotpeace salamat tol!!  \n",
       "162849                        mention doinyashawn bole sj  \n",
       "162850  Retweet mention naseemhaidersy1 Phir b iqtadar...  \n",
       "162851                              Mini me vs  Me 👶⁦\\n    \n",
       "162852  mention SabaGul2222 ati ho ni dm ma real mlo g...  \n",
       "\n",
       "[162853 rows x 2 columns]"
      ]
     },
     "execution_count": 32,
     "metadata": {},
     "output_type": "execute_result"
    }
   ],
   "source": [
    "from utils import clean\n",
    "\n",
    "clean(pd.read_json(\"data/interim/hinglish_unsup_high_confidence.json\"), 0)"
   ]
  },
  {
   "cell_type": "code",
   "execution_count": 33,
   "metadata": {},
   "outputs": [],
   "source": [
    "data_paths = [\n",
    "    \"data/interim/hinglish_unsup_high_confidence.json\",\n",
    "    \"data/interim/hinglish_unsup_less_confidence.json\",\n",
    "]\n",
    "\n",
    "\n",
    "text = []\n",
    "for path in data_paths:\n",
    "    df = pd.read_json(Path(path))\n",
    "    df = clean(df, 0)\n",
    "    text = text + list(df['clean_text'])\n",
    "text = text+list(clean(pd.read_json(\"data/interim/train-large.json\"),'text')['clean_text'])\n",
    "\n",
    "with open('data/interim/all_hinglish_data.txt', 'w') as f:\n",
    "    for item in text:\n",
    "        if item:\n",
    "            f.write(f\"{item}\\n\")"
   ]
  },
  {
   "cell_type": "code",
   "execution_count": 34,
   "metadata": {},
   "outputs": [
    {
     "data": {
      "text/plain": [
       "True"
      ]
     },
     "execution_count": 34,
     "metadata": {},
     "output_type": "execute_result"
    }
   ],
   "source": [
    "spm.SentencePieceTrainer.Train('--input=data/interim/all_hinglish_data.txt --model_prefix=data/interim/hinglish_sp --vocab_size=8000 --character_coverage=1.0 --model_type=bpe')"
   ]
  },
  {
   "cell_type": "code",
   "execution_count": null,
   "metadata": {},
   "outputs": [],
   "source": []
  }
 ],
 "metadata": {
  "kernelspec": {
   "display_name": "Python 3",
   "language": "python",
   "name": "python3"
  },
  "language_info": {
   "codemirror_mode": {
    "name": "ipython",
    "version": 3
   },
   "file_extension": ".py",
   "mimetype": "text/x-python",
   "name": "python",
   "nbconvert_exporter": "python",
   "pygments_lexer": "ipython3",
   "version": "3.7.3"
  }
 },
 "nbformat": 4,
 "nbformat_minor": 4
}
