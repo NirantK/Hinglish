{
  "nbformat": 4,
  "nbformat_minor": 0,
  "metadata": {
    "colab": {
      "name": "SentenceTransformers.ipynb",
      "provenance": [],
      "collapsed_sections": [],
      "include_colab_link": true
    },
    "kernelspec": {
      "name": "python3",
      "display_name": "Python 3"
    },
    "accelerator": "GPU"
  },
  "cells": [
    {
      "cell_type": "markdown",
      "metadata": {
        "id": "view-in-github",
        "colab_type": "text"
      },
      "source": [
        "<a href=\"https://colab.research.google.com/github/NirantK/Hinglish/blob/sentence-transformer/SentenceTransformers.ipynb\" target=\"_parent\"><img src=\"https://colab.research.google.com/assets/colab-badge.svg\" alt=\"Open In Colab\"/></a>"
      ]
    },
    {
      "cell_type": "code",
      "metadata": {
        "id": "yJ8hTdgh7f92",
        "colab_type": "code",
        "colab": {}
      },
      "source": [
        "# !pip install sentence-transformers\n",
        "# !pip install nlpaug"
      ],
      "execution_count": 0,
      "outputs": []
    },
    {
      "cell_type": "code",
      "metadata": {
        "id": "aA-k2LKK7mR0",
        "colab_type": "code",
        "outputId": "9370d049-5717-447f-b1ef-3bc2f3952d25",
        "colab": {
          "resources": {
            "http://localhost:8080/nbextensions/google.colab/files.js": {
              "data": "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",
              "ok": true,
              "headers": [
                [
                  "content-type",
                  "application/javascript"
                ]
              ],
              "status": 200,
              "status_text": ""
            }
          },
          "base_uri": "https://localhost:8080/",
          "height": 72
        }
      },
      "source": [
        "# from google.colab import files\n",
        "# uploaded = files.upload()"
      ],
      "execution_count": 0,
      "outputs": [
        {
          "output_type": "display_data",
          "data": {
            "text/html": [
              "\n",
              "     <input type=\"file\" id=\"files-3c7288a5-5cdd-43f0-890e-66d412c416a2\" name=\"files[]\" multiple disabled />\n",
              "     <output id=\"result-3c7288a5-5cdd-43f0-890e-66d412c416a2\">\n",
              "      Upload widget is only available when the cell has been executed in the\n",
              "      current browser session. Please rerun this cell to enable.\n",
              "      </output>\n",
              "      <script src=\"/nbextensions/google.colab/files.js\"></script> "
            ],
            "text/plain": [
              "<IPython.core.display.HTML object>"
            ]
          },
          "metadata": {
            "tags": []
          }
        },
        {
          "output_type": "stream",
          "text": [
            "Saving train.json to train.json\n"
          ],
          "name": "stdout"
        }
      ]
    },
    {
      "cell_type": "code",
      "metadata": {
        "id": "AvKs4D5kCu5L",
        "colab_type": "code",
        "colab": {}
      },
      "source": [
        "# import nltk\n",
        "# nltk.download('wordnet')\n",
        "# nltk.download('averaged_perceptron_tagger')"
      ],
      "execution_count": 0,
      "outputs": []
    },
    {
      "cell_type": "code",
      "metadata": {
        "id": "PECKdrTiKbxm",
        "colab_type": "code",
        "colab": {}
      },
      "source": [
        "# from sklearn.model_selection import train_test_split\n",
        "# df = pd.read_json('train.json')\n",
        "# df = df.sample(frac=1)\n",
        "# train, dev = train_test_split(df, test_size=0.10, random_state=1)\n",
        "# train.to_json(\"train.json\")\n",
        "# dev.to_json(\"dev.json\")"
      ],
      "execution_count": 0,
      "outputs": []
    },
    {
      "cell_type": "markdown",
      "metadata": {
        "id": "lSYulR_273mM",
        "colab_type": "text"
      },
      "source": [
        "# Hinglish Data Reader"
      ]
    },
    {
      "cell_type": "code",
      "metadata": {
        "id": "B8Rs15F97uY2",
        "colab_type": "code",
        "colab": {}
      },
      "source": [
        "from sentence_transformers.readers import InputExample\n",
        "import pandas as pd\n",
        "from pathlib import Path\n",
        "import nlpaug.augmenter.word as naw\n",
        "from nlpaug.util import Action\n",
        "\n",
        "class HinglishReader(object):\n",
        "    \"\"\"\n",
        "    Datareader for Hinglish Twitter dataset. \n",
        "    \"\"\"\n",
        "    def __init__(self, dataset_folder):\n",
        "        self.dataset_folder=Path(dataset_folder)\n",
        "        self.aug = naw.SynonymAug(aug_src='wordnet')\n",
        "        \n",
        "\n",
        "    def get_examples(self, filename, max_examples=0):\n",
        "        \"\"\"\n",
        "        Converts the data into InputExamples. \n",
        "        \"\"\"\n",
        "        df=pd.read_json(self.dataset_folder/filename)\n",
        "        df['sentiment'] = df['sentiment'].map({ 'neutral': 0,'negative' :1, 'positive':2})\n",
        "        input_examples =df.apply(lambda x : InputExample(guid= x['uid'], texts= [x['text'],self.aug.augment(x['text'])], label=x['sentiment']), axis=1)\n",
        "        return list(input_examples)\n"
      ],
      "execution_count": 0,
      "outputs": []
    },
    {
      "cell_type": "markdown",
      "metadata": {
        "id": "jbAl1ZaU8GER",
        "colab_type": "text"
      },
      "source": [
        "# Sentence Transformer"
      ]
    },
    {
      "cell_type": "code",
      "metadata": {
        "id": "Ml47wEqO8Fhc",
        "colab_type": "code",
        "colab": {}
      },
      "source": [
        "\"\"\"\n",
        "The system trains BERT on the SNLI + MultiNLI (AllNLI) dataset\n",
        "with softmax loss function. At every 1000 training steps, the model is evaluated on the\n",
        "STS benchmark dataset\n",
        "\"\"\"\n",
        "from torch.utils.data import DataLoader\n",
        "import math\n",
        "from sentence_transformers import models, losses\n",
        "from sentence_transformers import SentencesDataset, LoggingHandler, SentenceTransformer\n",
        "from sentence_transformers.evaluation import EmbeddingSimilarityEvaluator,LabelAccuracyEvaluator\n",
        "from sentence_transformers.readers import *\n",
        "import logging\n",
        "from datetime import datetime"
      ],
      "execution_count": 0,
      "outputs": []
    },
    {
      "cell_type": "code",
      "metadata": {
        "id": "IB02xtl_8KXC",
        "colab_type": "code",
        "colab": {}
      },
      "source": [
        "#### Just some code to print debug information to stdout\n",
        "logging.basicConfig(format='%(asctime)s - %(message)s',\n",
        "                    datefmt='%Y-%m-%d %H:%M:%S',\n",
        "                    level=logging.INFO,\n",
        "                    handlers=[LoggingHandler()])"
      ],
      "execution_count": 0,
      "outputs": []
    },
    {
      "cell_type": "code",
      "metadata": {
        "id": "nKhxxlKQ8MWl",
        "colab_type": "code",
        "colab": {}
      },
      "source": [
        "# Read the dataset\n",
        "model_name = 'bert-base-uncased'\n",
        "batch_size = 16\n",
        "model_save_path = 'output/training_nli_'+model_name+'-'+datetime.now().strftime(\"%Y-%m-%d_%H-%M-%S\")"
      ],
      "execution_count": 0,
      "outputs": []
    },
    {
      "cell_type": "code",
      "metadata": {
        "id": "8sLpg65M8TlC",
        "colab_type": "code",
        "colab": {}
      },
      "source": [
        "hinglish_reader = HinglishReader('./')"
      ],
      "execution_count": 0,
      "outputs": []
    },
    {
      "cell_type": "code",
      "metadata": {
        "id": "AO-H-iJr8bcA",
        "colab_type": "code",
        "outputId": "467354ac-fa28-4415-e416-4c911388d993",
        "colab": {
          "base_uri": "https://localhost:8080/",
          "height": 516
        }
      },
      "source": [
        "# Use BERT for mapping tokens to embeddings\n",
        "word_embedding_model = models.BERT(model_name)"
      ],
      "execution_count": 0,
      "outputs": [
        {
          "output_type": "stream",
          "text": [
            "2020-01-07 18:02:02 - loading configuration file https://s3.amazonaws.com/models.huggingface.co/bert/bert-base-uncased-config.json from cache at /root/.cache/torch/transformers/4dad0251492946e18ac39290fcfe91b89d370fee250efe9521476438fe8ca185.bf3b9ea126d8c0001ee8a1e8b92229871d06d36d8808208cc2449280da87785c\n",
            "2020-01-07 18:02:02 - Model config {\n",
            "  \"attention_probs_dropout_prob\": 0.1,\n",
            "  \"finetuning_task\": null,\n",
            "  \"hidden_act\": \"gelu\",\n",
            "  \"hidden_dropout_prob\": 0.1,\n",
            "  \"hidden_size\": 768,\n",
            "  \"initializer_range\": 0.02,\n",
            "  \"intermediate_size\": 3072,\n",
            "  \"is_decoder\": false,\n",
            "  \"layer_norm_eps\": 1e-12,\n",
            "  \"max_position_embeddings\": 512,\n",
            "  \"num_attention_heads\": 12,\n",
            "  \"num_hidden_layers\": 12,\n",
            "  \"num_labels\": 2,\n",
            "  \"output_attentions\": false,\n",
            "  \"output_hidden_states\": false,\n",
            "  \"output_past\": true,\n",
            "  \"pruned_heads\": {},\n",
            "  \"torchscript\": false,\n",
            "  \"type_vocab_size\": 2,\n",
            "  \"use_bfloat16\": false,\n",
            "  \"vocab_size\": 30522\n",
            "}\n",
            "\n",
            "2020-01-07 18:02:02 - loading weights file https://s3.amazonaws.com/models.huggingface.co/bert/bert-base-uncased-pytorch_model.bin from cache at /root/.cache/torch/transformers/aa1ef1aede4482d0dbcd4d52baad8ae300e60902e88fcb0bebdec09afd232066.36ca03ab34a1a5d5fa7bc3d03d55c4fa650fed07220e2eeebc06ce58d0e9a157\n",
            "2020-01-07 18:02:04 - loading file https://s3.amazonaws.com/models.huggingface.co/bert/bert-base-uncased-vocab.txt from cache at /root/.cache/torch/transformers/26bc1ad6c0ac742e9b52263248f6d0f00068293b33709fae12320c0e35ccfbbb.542ce4285a40d23a559526243235df47c5f75c197f04f37d1a0c124c32c9a084\n"
          ],
          "name": "stdout"
        }
      ]
    },
    {
      "cell_type": "code",
      "metadata": {
        "id": "_phdF33_8eoN",
        "colab_type": "code",
        "colab": {}
      },
      "source": [
        "# Apply mean pooling to get one fixed sized sentence vector\n",
        "pooling_model = models.Pooling(word_embedding_model.get_word_embedding_dimension(),\n",
        "                               pooling_mode_mean_tokens=True,\n",
        "                               pooling_mode_cls_token=False,\n",
        "                               pooling_mode_max_tokens=False)"
      ],
      "execution_count": 0,
      "outputs": []
    },
    {
      "cell_type": "code",
      "metadata": {
        "id": "_KkOMLTp8m7F",
        "colab_type": "code",
        "outputId": "2fe0096e-a38d-44bd-d7df-8531aff41712",
        "colab": {
          "base_uri": "https://localhost:8080/",
          "height": 34
        }
      },
      "source": [
        "model = SentenceTransformer(modules=[word_embedding_model, pooling_model])"
      ],
      "execution_count": 0,
      "outputs": [
        {
          "output_type": "stream",
          "text": [
            "2020-01-07 18:02:04 - Use pytorch device: cuda\n"
          ],
          "name": "stdout"
        }
      ]
    },
    {
      "cell_type": "code",
      "metadata": {
        "id": "44CNGBq78qEy",
        "colab_type": "code",
        "outputId": "75d3edb2-5e2b-424a-fd99-ff37d502207f",
        "colab": {
          "base_uri": "https://localhost:8080/",
          "height": 87
        }
      },
      "source": [
        "train_data = SentencesDataset(hinglish_reader.get_examples('train.json'), model=model)"
      ],
      "execution_count": 0,
      "outputs": [
        {
          "output_type": "stream",
          "text": [
            "Convert dataset: 100%|██████████| 11860/11860 [00:11<00:00, 1023.95it/s]"
          ],
          "name": "stderr"
        },
        {
          "output_type": "stream",
          "text": [
            "2020-01-07 18:02:34 - Num sentences: 11860\n",
            "2020-01-07 18:02:34 - Sentences 0 longer than max_seqence_length: 0\n",
            "2020-01-07 18:02:34 - Sentences 1 longer than max_seqence_length: 0\n"
          ],
          "name": "stdout"
        },
        {
          "output_type": "stream",
          "text": [
            "\n"
          ],
          "name": "stderr"
        }
      ]
    },
    {
      "cell_type": "code",
      "metadata": {
        "id": "_FyYzoOP8y6_",
        "colab_type": "code",
        "outputId": "86db10cb-b6a4-4d5e-91cb-2386c5786c12",
        "colab": {
          "base_uri": "https://localhost:8080/",
          "height": 34
        }
      },
      "source": [
        "train_dataloader = DataLoader(train_data, shuffle=True, batch_size=batch_size)\n",
        "train_loss = losses.SoftmaxLoss(model=model, sentence_embedding_dimension=model.get_sentence_embedding_dimension(), num_labels=3)"
      ],
      "execution_count": 0,
      "outputs": [
        {
          "output_type": "stream",
          "text": [
            "2020-01-07 18:02:34 - Softmax loss: #Vectors concatenated: 3\n"
          ],
          "name": "stdout"
        }
      ]
    },
    {
      "cell_type": "code",
      "metadata": {
        "id": "VsZrm7EC9RZf",
        "colab_type": "code",
        "outputId": "e4fac02e-0500-4059-c489-bada6d9be0b9",
        "colab": {
          "base_uri": "https://localhost:8080/",
          "height": 34
        }
      },
      "source": [
        "# Configure the training\n",
        "num_epochs = 1\n",
        "\n",
        "warmup_steps = math.ceil(len(train_dataloader) * num_epochs * 0.1) #10% of train data for warm-up\n",
        "logging.info(\"Warmup-steps: {}\".format(warmup_steps))"
      ],
      "execution_count": 0,
      "outputs": [
        {
          "output_type": "stream",
          "text": [
            "2020-01-07 18:02:34 - Warmup-steps: 75\n"
          ],
          "name": "stdout"
        }
      ]
    },
    {
      "cell_type": "code",
      "metadata": {
        "id": "Yz4_6-Bg9VFk",
        "colab_type": "code",
        "outputId": "c02505dd-a331-4641-d4ad-4be0c6937443",
        "colab": {
          "base_uri": "https://localhost:8080/",
          "height": 87
        }
      },
      "source": [
        "# Train the model\n",
        "dev_data = SentencesDataset(examples=hinglish_reader.get_examples('dev.json'), model=model)\n",
        "dev_dataloader = DataLoader(dev_data, shuffle=False, batch_size=batch_size)\n",
        "evaluator = EmbeddingSimilarityEvaluator(dev_dataloader)\n",
        "\n"
      ],
      "execution_count": 0,
      "outputs": [
        {
          "output_type": "stream",
          "text": [
            "Convert dataset: 100%|██████████| 1318/1318 [00:01<00:00, 1011.08it/s]\n"
          ],
          "name": "stderr"
        },
        {
          "output_type": "stream",
          "text": [
            "2020-01-07 18:02:37 - Num sentences: 1318\n",
            "2020-01-07 18:02:37 - Sentences 0 longer than max_seqence_length: 0\n",
            "2020-01-07 18:02:37 - Sentences 1 longer than max_seqence_length: 0\n"
          ],
          "name": "stdout"
        }
      ]
    },
    {
      "cell_type": "code",
      "metadata": {
        "id": "dlwFSu4sAwov",
        "colab_type": "code",
        "outputId": "39ed17fb-6232-49e7-955c-23d772c42062",
        "colab": {
          "base_uri": "https://localhost:8080/",
          "height": 1000
        }
      },
      "source": [
        "model.fit(train_objectives=[(train_dataloader, train_loss)],\n",
        "          evaluator=evaluator,\n",
        "          epochs=num_epochs,\n",
        "          evaluation_steps=1000,\n",
        "          warmup_steps=warmup_steps,\n",
        "          output_path=model_save_path\n",
        "          )"
      ],
      "execution_count": 0,
      "outputs": [
        {
          "output_type": "stream",
          "text": [
            "Epoch:   0%|          | 0/1 [00:00<?, ?it/s]\n",
            "Iteration:   0%|          | 0/742 [00:00<?, ?it/s]\u001b[A\n",
            "Iteration:   0%|          | 1/742 [00:00<03:45,  3.29it/s]\u001b[A\n",
            "Iteration:   0%|          | 2/742 [00:00<03:34,  3.44it/s]\u001b[A\n",
            "Iteration:   0%|          | 3/742 [00:00<03:26,  3.59it/s]\u001b[A\n",
            "Iteration:   1%|          | 4/742 [00:01<03:21,  3.65it/s]\u001b[A\n",
            "Iteration:   1%|          | 5/742 [00:01<03:23,  3.62it/s]\u001b[A\n",
            "Iteration:   1%|          | 6/742 [00:01<03:19,  3.68it/s]\u001b[A\n",
            "Iteration:   1%|          | 7/742 [00:01<03:17,  3.72it/s]\u001b[A\n",
            "Iteration:   1%|          | 8/742 [00:02<03:13,  3.79it/s]\u001b[A\n",
            "Iteration:   1%|          | 9/742 [00:02<03:16,  3.72it/s]\u001b[A\n",
            "Iteration:   1%|▏         | 10/742 [00:02<03:15,  3.75it/s]\u001b[A\n",
            "Iteration:   1%|▏         | 11/742 [00:02<03:17,  3.71it/s]\u001b[A\n",
            "Iteration:   2%|▏         | 12/742 [00:03<03:13,  3.78it/s]\u001b[A\n",
            "Iteration:   2%|▏         | 13/742 [00:03<03:09,  3.84it/s]\u001b[A\n",
            "Iteration:   2%|▏         | 14/742 [00:03<03:11,  3.80it/s]\u001b[A\n",
            "Iteration:   2%|▏         | 15/742 [00:03<03:10,  3.81it/s]\u001b[A\n",
            "Iteration:   2%|▏         | 16/742 [00:04<03:09,  3.83it/s]\u001b[A\n",
            "Iteration:   2%|▏         | 17/742 [00:04<03:09,  3.82it/s]\u001b[A\n",
            "Iteration:   2%|▏         | 18/742 [00:04<03:10,  3.80it/s]\u001b[A\n",
            "Iteration:   3%|▎         | 19/742 [00:05<03:13,  3.73it/s]\u001b[A\n",
            "Iteration:   3%|▎         | 20/742 [00:05<03:09,  3.81it/s]\u001b[A\n",
            "Iteration:   3%|▎         | 21/742 [00:05<03:12,  3.75it/s]\u001b[A\n",
            "Iteration:   3%|▎         | 22/742 [00:05<03:10,  3.77it/s]\u001b[A\n",
            "Iteration:   3%|▎         | 23/742 [00:06<03:11,  3.76it/s]\u001b[A\n",
            "Iteration:   3%|▎         | 24/742 [00:06<03:12,  3.74it/s]\u001b[A\n",
            "Iteration:   3%|▎         | 25/742 [00:06<03:10,  3.76it/s]\u001b[A\n",
            "Iteration:   4%|▎         | 26/742 [00:06<03:11,  3.74it/s]\u001b[A\n",
            "Iteration:   4%|▎         | 27/742 [00:07<03:09,  3.78it/s]\u001b[A\n",
            "Iteration:   4%|▍         | 28/742 [00:07<03:15,  3.66it/s]\u001b[A\n",
            "Iteration:   4%|▍         | 29/742 [00:07<03:14,  3.67it/s]\u001b[A\n",
            "Iteration:   4%|▍         | 30/742 [00:08<03:13,  3.68it/s]\u001b[A\n",
            "Iteration:   4%|▍         | 31/742 [00:08<03:14,  3.66it/s]\u001b[A\n",
            "Iteration:   4%|▍         | 32/742 [00:08<03:15,  3.63it/s]\u001b[A\n",
            "Iteration:   4%|▍         | 33/742 [00:08<03:16,  3.62it/s]\u001b[A\n",
            "Iteration:   5%|▍         | 34/742 [00:09<03:18,  3.57it/s]\u001b[A\n",
            "Iteration:   5%|▍         | 35/742 [00:09<03:13,  3.66it/s]\u001b[A\n",
            "Iteration:   5%|▍         | 36/742 [00:09<03:14,  3.62it/s]\u001b[A\n",
            "Iteration:   5%|▍         | 37/742 [00:09<03:09,  3.72it/s]\u001b[A\n",
            "Iteration:   5%|▌         | 38/742 [00:10<03:09,  3.72it/s]\u001b[A\n",
            "Iteration:   5%|▌         | 39/742 [00:10<03:07,  3.75it/s]\u001b[A\n",
            "Iteration:   5%|▌         | 40/742 [00:10<03:05,  3.79it/s]\u001b[A\n",
            "Iteration:   6%|▌         | 41/742 [00:10<03:06,  3.76it/s]\u001b[A\n",
            "Iteration:   6%|▌         | 42/742 [00:11<03:05,  3.77it/s]\u001b[A\n",
            "Iteration:   6%|▌         | 43/742 [00:11<03:07,  3.73it/s]\u001b[A\n",
            "Iteration:   6%|▌         | 44/742 [00:11<03:05,  3.75it/s]\u001b[A\n",
            "Iteration:   6%|▌         | 45/742 [00:12<03:05,  3.76it/s]\u001b[A\n",
            "Iteration:   6%|▌         | 46/742 [00:12<03:03,  3.78it/s]\u001b[A\n",
            "Iteration:   6%|▋         | 47/742 [00:12<03:02,  3.81it/s]\u001b[A\n",
            "Iteration:   6%|▋         | 48/742 [00:12<03:03,  3.78it/s]\u001b[A\n",
            "Iteration:   7%|▋         | 49/742 [00:13<03:02,  3.80it/s]\u001b[A\n",
            "Iteration:   7%|▋         | 50/742 [00:13<03:07,  3.69it/s]\u001b[A\n",
            "Iteration:   7%|▋         | 51/742 [00:13<03:07,  3.68it/s]\u001b[A\n",
            "Iteration:   7%|▋         | 52/742 [00:13<03:05,  3.72it/s]\u001b[A\n",
            "Iteration:   7%|▋         | 53/742 [00:14<03:09,  3.64it/s]\u001b[A\n",
            "Iteration:   7%|▋         | 54/742 [00:14<03:06,  3.70it/s]\u001b[A\n",
            "Iteration:   7%|▋         | 55/742 [00:14<03:05,  3.70it/s]\u001b[A\n",
            "Iteration:   8%|▊         | 56/742 [00:15<03:08,  3.64it/s]\u001b[A\n",
            "Iteration:   8%|▊         | 57/742 [00:15<03:05,  3.70it/s]\u001b[A\n",
            "Iteration:   8%|▊         | 58/742 [00:15<03:05,  3.69it/s]\u001b[A\n",
            "Iteration:   8%|▊         | 59/742 [00:15<03:04,  3.71it/s]\u001b[A\n",
            "Iteration:   8%|▊         | 60/742 [00:16<03:03,  3.71it/s]\u001b[A\n",
            "Iteration:   8%|▊         | 61/742 [00:16<03:04,  3.70it/s]\u001b[A\n",
            "Iteration:   8%|▊         | 62/742 [00:16<02:59,  3.79it/s]\u001b[A\n",
            "Iteration:   8%|▊         | 63/742 [00:16<03:00,  3.77it/s]\u001b[A\n",
            "Iteration:   9%|▊         | 64/742 [00:17<03:03,  3.69it/s]\u001b[A\n",
            "Iteration:   9%|▉         | 65/742 [00:17<03:03,  3.68it/s]\u001b[A\n",
            "Iteration:   9%|▉         | 66/742 [00:17<03:04,  3.66it/s]\u001b[A\n",
            "Iteration:   9%|▉         | 67/742 [00:17<03:04,  3.65it/s]\u001b[A\n",
            "Iteration:   9%|▉         | 68/742 [00:18<03:04,  3.65it/s]\u001b[A\n",
            "Iteration:   9%|▉         | 69/742 [00:18<03:05,  3.63it/s]\u001b[A\n",
            "Iteration:   9%|▉         | 70/742 [00:18<03:07,  3.59it/s]\u001b[A\n",
            "Iteration:  10%|▉         | 71/742 [00:19<03:04,  3.63it/s]\u001b[A\n",
            "Iteration:  10%|▉         | 72/742 [00:19<03:02,  3.67it/s]\u001b[A\n",
            "Iteration:  10%|▉         | 73/742 [00:19<03:02,  3.66it/s]\u001b[A\n",
            "Iteration:  10%|▉         | 74/742 [00:19<03:00,  3.71it/s]\u001b[A\n",
            "Iteration:  10%|█         | 75/742 [00:20<02:58,  3.73it/s]\u001b[A\n",
            "Iteration:  10%|█         | 76/742 [00:20<02:57,  3.75it/s]\u001b[A\n",
            "Iteration:  10%|█         | 77/742 [00:20<02:58,  3.73it/s]\u001b[A\n",
            "Iteration:  11%|█         | 78/742 [00:20<03:00,  3.69it/s]\u001b[A\n",
            "Iteration:  11%|█         | 79/742 [00:21<03:05,  3.58it/s]\u001b[A\n",
            "Iteration:  11%|█         | 80/742 [00:21<03:03,  3.61it/s]\u001b[A\n",
            "Iteration:  11%|█         | 81/742 [00:21<03:01,  3.64it/s]\u001b[A\n",
            "Iteration:  11%|█         | 82/742 [00:22<03:02,  3.62it/s]\u001b[A\n",
            "Iteration:  11%|█         | 83/742 [00:22<02:59,  3.67it/s]\u001b[A\n",
            "Iteration:  11%|█▏        | 84/742 [00:22<03:01,  3.62it/s]\u001b[A\n",
            "Iteration:  11%|█▏        | 85/742 [00:22<03:00,  3.65it/s]\u001b[A\n",
            "Iteration:  12%|█▏        | 86/742 [00:23<02:58,  3.68it/s]\u001b[A\n",
            "Iteration:  12%|█▏        | 87/742 [00:23<03:09,  3.45it/s]\u001b[A\n",
            "Iteration:  12%|█▏        | 88/742 [00:23<03:06,  3.50it/s]\u001b[A\n",
            "Iteration:  12%|█▏        | 89/742 [00:24<03:02,  3.58it/s]\u001b[A\n",
            "Iteration:  12%|█▏        | 90/742 [00:24<02:58,  3.66it/s]\u001b[A\n",
            "Iteration:  12%|█▏        | 91/742 [00:24<02:54,  3.73it/s]\u001b[A\n",
            "Iteration:  12%|█▏        | 92/742 [00:24<02:58,  3.64it/s]\u001b[A\n",
            "Iteration:  13%|█▎        | 93/742 [00:25<02:59,  3.61it/s]\u001b[A\n",
            "Iteration:  13%|█▎        | 94/742 [00:25<02:58,  3.63it/s]\u001b[A\n",
            "Iteration:  13%|█▎        | 95/742 [00:25<02:56,  3.66it/s]\u001b[A\n",
            "Iteration:  13%|█▎        | 96/742 [00:25<02:58,  3.61it/s]\u001b[A\n",
            "Iteration:  13%|█▎        | 97/742 [00:26<02:55,  3.68it/s]\u001b[A\n",
            "Iteration:  13%|█▎        | 98/742 [00:26<02:56,  3.65it/s]\u001b[A\n",
            "Iteration:  13%|█▎        | 99/742 [00:26<02:55,  3.67it/s]\u001b[A\n",
            "Iteration:  13%|█▎        | 100/742 [00:27<02:58,  3.59it/s]\u001b[A\n",
            "Iteration:  14%|█▎        | 101/742 [00:27<03:01,  3.54it/s]\u001b[A\n",
            "Iteration:  14%|█▎        | 102/742 [00:27<03:00,  3.55it/s]\u001b[A\n",
            "Iteration:  14%|█▍        | 103/742 [00:27<02:54,  3.67it/s]\u001b[A\n",
            "Iteration:  14%|█▍        | 104/742 [00:28<02:51,  3.71it/s]\u001b[A\n",
            "Iteration:  14%|█▍        | 105/742 [00:28<02:49,  3.76it/s]\u001b[A\n",
            "Iteration:  14%|█▍        | 106/742 [00:28<02:48,  3.77it/s]\u001b[A\n",
            "Iteration:  14%|█▍        | 107/742 [00:28<02:47,  3.79it/s]\u001b[A\n",
            "Iteration:  15%|█▍        | 108/742 [00:29<02:52,  3.68it/s]\u001b[A\n",
            "Iteration:  15%|█▍        | 109/742 [00:29<02:54,  3.63it/s]\u001b[A\n",
            "Iteration:  15%|█▍        | 110/742 [00:29<02:55,  3.61it/s]\u001b[A\n",
            "Iteration:  15%|█▍        | 111/742 [00:30<02:55,  3.59it/s]\u001b[A\n",
            "Iteration:  15%|█▌        | 112/742 [00:30<02:55,  3.58it/s]\u001b[A\n",
            "Iteration:  15%|█▌        | 113/742 [00:30<02:51,  3.67it/s]\u001b[A\n",
            "Iteration:  15%|█▌        | 114/742 [00:30<02:50,  3.68it/s]\u001b[A\n",
            "Iteration:  15%|█▌        | 115/742 [00:31<02:52,  3.63it/s]\u001b[A\n",
            "Iteration:  16%|█▌        | 116/742 [00:31<02:49,  3.68it/s]\u001b[A\n",
            "Iteration:  16%|█▌        | 117/742 [00:31<02:51,  3.64it/s]\u001b[A\n",
            "Iteration:  16%|█▌        | 118/742 [00:31<02:51,  3.65it/s]\u001b[A\n",
            "Iteration:  16%|█▌        | 119/742 [00:32<02:47,  3.72it/s]\u001b[A\n",
            "Iteration:  16%|█▌        | 120/742 [00:32<02:45,  3.76it/s]\u001b[A\n",
            "Iteration:  16%|█▋        | 121/742 [00:32<02:45,  3.75it/s]\u001b[A\n",
            "Iteration:  16%|█▋        | 122/742 [00:33<02:46,  3.72it/s]\u001b[A\n",
            "Iteration:  17%|█▋        | 123/742 [00:33<02:45,  3.73it/s]\u001b[A\n",
            "Iteration:  17%|█▋        | 124/742 [00:33<02:46,  3.71it/s]\u001b[A\n",
            "Iteration:  17%|█▋        | 125/742 [00:33<02:45,  3.72it/s]\u001b[A\n",
            "Iteration:  17%|█▋        | 126/742 [00:34<02:46,  3.69it/s]\u001b[A\n",
            "Iteration:  17%|█▋        | 127/742 [00:34<02:46,  3.69it/s]\u001b[A\n",
            "Iteration:  17%|█▋        | 128/742 [00:34<02:43,  3.75it/s]\u001b[A\n",
            "Iteration:  17%|█▋        | 129/742 [00:34<02:43,  3.75it/s]\u001b[A\n",
            "Iteration:  18%|█▊        | 130/742 [00:35<02:40,  3.82it/s]\u001b[A\n",
            "Iteration:  18%|█▊        | 131/742 [00:35<02:37,  3.88it/s]\u001b[A\n",
            "Iteration:  18%|█▊        | 132/742 [00:35<02:39,  3.83it/s]\u001b[A\n",
            "Iteration:  18%|█▊        | 133/742 [00:35<02:42,  3.74it/s]\u001b[A\n",
            "Iteration:  18%|█▊        | 134/742 [00:36<02:48,  3.60it/s]\u001b[A\n",
            "Iteration:  18%|█▊        | 135/742 [00:36<02:46,  3.65it/s]\u001b[A\n",
            "Iteration:  18%|█▊        | 136/742 [00:36<02:45,  3.67it/s]\u001b[A\n",
            "Iteration:  18%|█▊        | 137/742 [00:37<02:47,  3.61it/s]\u001b[A\n",
            "Iteration:  19%|█▊        | 138/742 [00:37<02:45,  3.66it/s]\u001b[A\n",
            "Iteration:  19%|█▊        | 139/742 [00:37<02:42,  3.71it/s]\u001b[A\n",
            "Iteration:  19%|█▉        | 140/742 [00:37<02:39,  3.76it/s]\u001b[A\n",
            "Iteration:  19%|█▉        | 141/742 [00:38<02:40,  3.75it/s]\u001b[A\n",
            "Iteration:  19%|█▉        | 142/742 [00:38<02:39,  3.76it/s]\u001b[A\n",
            "Iteration:  19%|█▉        | 143/742 [00:38<02:40,  3.72it/s]\u001b[A\n",
            "Iteration:  19%|█▉        | 144/742 [00:38<02:41,  3.71it/s]\u001b[A\n",
            "Iteration:  20%|█▉        | 145/742 [00:39<02:39,  3.75it/s]\u001b[A\n",
            "Iteration:  20%|█▉        | 146/742 [00:39<02:39,  3.75it/s]\u001b[A\n",
            "Iteration:  20%|█▉        | 147/742 [00:39<02:41,  3.69it/s]\u001b[A\n",
            "Iteration:  20%|█▉        | 148/742 [00:40<02:39,  3.73it/s]\u001b[A\n",
            "Iteration:  20%|██        | 149/742 [00:40<02:35,  3.80it/s]\u001b[A\n",
            "Iteration:  20%|██        | 150/742 [00:40<02:39,  3.70it/s]\u001b[A\n",
            "Iteration:  20%|██        | 151/742 [00:40<02:44,  3.60it/s]\u001b[A\n",
            "Iteration:  20%|██        | 152/742 [00:41<02:44,  3.58it/s]\u001b[A\n",
            "Iteration:  21%|██        | 153/742 [00:41<02:42,  3.62it/s]\u001b[A\n",
            "Iteration:  21%|██        | 154/742 [00:41<02:40,  3.67it/s]\u001b[A\n",
            "Iteration:  21%|██        | 155/742 [00:41<02:43,  3.59it/s]\u001b[A\n",
            "Iteration:  21%|██        | 156/742 [00:42<02:41,  3.63it/s]\u001b[A\n",
            "Iteration:  21%|██        | 157/742 [00:42<02:41,  3.63it/s]\u001b[A\n",
            "Iteration:  21%|██▏       | 158/742 [00:42<02:38,  3.69it/s]\u001b[A\n",
            "Iteration:  21%|██▏       | 159/742 [00:43<02:36,  3.72it/s]\u001b[A\n",
            "Iteration:  22%|██▏       | 160/742 [00:43<02:33,  3.79it/s]\u001b[A\n",
            "Iteration:  22%|██▏       | 161/742 [00:43<02:31,  3.84it/s]\u001b[A\n",
            "Iteration:  22%|██▏       | 162/742 [00:43<02:34,  3.76it/s]\u001b[A\n",
            "Iteration:  22%|██▏       | 163/742 [00:44<02:34,  3.76it/s]\u001b[A\n",
            "Iteration:  22%|██▏       | 164/742 [00:44<02:32,  3.79it/s]\u001b[A\n",
            "Iteration:  22%|██▏       | 165/742 [00:44<02:33,  3.75it/s]\u001b[A\n",
            "Iteration:  22%|██▏       | 166/742 [00:44<02:33,  3.76it/s]\u001b[A\n",
            "Iteration:  23%|██▎       | 167/742 [00:45<02:31,  3.80it/s]\u001b[A\n",
            "Iteration:  23%|██▎       | 168/742 [00:45<02:32,  3.77it/s]\u001b[A\n",
            "Iteration:  23%|██▎       | 169/742 [00:45<02:30,  3.80it/s]\u001b[A\n",
            "Iteration:  23%|██▎       | 170/742 [00:45<02:29,  3.84it/s]\u001b[A\n",
            "Iteration:  23%|██▎       | 171/742 [00:46<02:29,  3.82it/s]\u001b[A\n",
            "Iteration:  23%|██▎       | 172/742 [00:46<02:29,  3.82it/s]\u001b[A\n",
            "Iteration:  23%|██▎       | 173/742 [00:46<02:29,  3.81it/s]\u001b[A\n",
            "Iteration:  23%|██▎       | 174/742 [00:46<02:28,  3.83it/s]\u001b[A\n",
            "Iteration:  24%|██▎       | 175/742 [00:47<02:32,  3.71it/s]\u001b[A\n",
            "Iteration:  24%|██▎       | 176/742 [00:47<02:32,  3.71it/s]\u001b[A\n",
            "Iteration:  24%|██▍       | 177/742 [00:47<02:32,  3.72it/s]\u001b[A\n",
            "Iteration:  24%|██▍       | 178/742 [00:48<02:30,  3.74it/s]\u001b[A\n",
            "Iteration:  24%|██▍       | 179/742 [00:48<02:29,  3.78it/s]\u001b[A\n",
            "Iteration:  24%|██▍       | 180/742 [00:48<02:28,  3.79it/s]\u001b[A\n",
            "Iteration:  24%|██▍       | 181/742 [00:48<02:28,  3.78it/s]\u001b[A\n",
            "Iteration:  25%|██▍       | 182/742 [00:49<02:26,  3.81it/s]\u001b[A\n",
            "Iteration:  25%|██▍       | 183/742 [00:49<02:25,  3.83it/s]\u001b[A\n",
            "Iteration:  25%|██▍       | 184/742 [00:49<02:24,  3.85it/s]\u001b[A\n",
            "Iteration:  25%|██▍       | 185/742 [00:49<02:27,  3.78it/s]\u001b[A\n",
            "Iteration:  25%|██▌       | 186/742 [00:50<02:26,  3.79it/s]\u001b[A\n",
            "Iteration:  25%|██▌       | 187/742 [00:50<02:25,  3.81it/s]\u001b[A\n",
            "Iteration:  25%|██▌       | 188/742 [00:50<02:24,  3.82it/s]\u001b[A\n",
            "Iteration:  25%|██▌       | 189/742 [00:50<02:26,  3.77it/s]\u001b[A\n",
            "Iteration:  26%|██▌       | 190/742 [00:51<02:25,  3.80it/s]\u001b[A\n",
            "Iteration:  26%|██▌       | 191/742 [00:51<02:24,  3.81it/s]\u001b[A\n",
            "Iteration:  26%|██▌       | 192/742 [00:51<02:31,  3.63it/s]\u001b[A\n",
            "Iteration:  26%|██▌       | 193/742 [00:52<02:29,  3.68it/s]\u001b[A\n",
            "Iteration:  26%|██▌       | 194/742 [00:52<02:30,  3.65it/s]\u001b[A\n",
            "Iteration:  26%|██▋       | 195/742 [00:52<02:27,  3.70it/s]\u001b[A\n",
            "Iteration:  26%|██▋       | 196/742 [00:52<02:24,  3.78it/s]\u001b[A\n",
            "Iteration:  27%|██▋       | 197/742 [00:53<02:26,  3.73it/s]\u001b[A\n",
            "Iteration:  27%|██▋       | 198/742 [00:53<02:27,  3.68it/s]\u001b[A\n",
            "Iteration:  27%|██▋       | 199/742 [00:53<02:25,  3.72it/s]\u001b[A\n",
            "Iteration:  27%|██▋       | 200/742 [00:53<02:24,  3.74it/s]\u001b[A\n",
            "Iteration:  27%|██▋       | 201/742 [00:54<02:23,  3.76it/s]\u001b[A\n",
            "Iteration:  27%|██▋       | 202/742 [00:54<02:25,  3.70it/s]\u001b[A\n",
            "Iteration:  27%|██▋       | 203/742 [00:54<02:26,  3.67it/s]\u001b[A\n",
            "Iteration:  27%|██▋       | 204/742 [00:55<02:26,  3.66it/s]\u001b[A\n",
            "Iteration:  28%|██▊       | 205/742 [00:55<02:24,  3.71it/s]\u001b[A\n",
            "Iteration:  28%|██▊       | 206/742 [00:55<02:21,  3.79it/s]\u001b[A\n",
            "Iteration:  28%|██▊       | 207/742 [00:55<02:20,  3.81it/s]\u001b[A\n",
            "Iteration:  28%|██▊       | 208/742 [00:56<02:22,  3.75it/s]\u001b[A\n",
            "Iteration:  28%|██▊       | 209/742 [00:56<02:28,  3.60it/s]\u001b[A\n",
            "Iteration:  28%|██▊       | 210/742 [00:56<02:27,  3.62it/s]\u001b[A\n",
            "Iteration:  28%|██▊       | 211/742 [00:56<02:28,  3.57it/s]\u001b[A\n",
            "Iteration:  29%|██▊       | 212/742 [00:57<02:29,  3.55it/s]\u001b[A\n",
            "Iteration:  29%|██▊       | 213/742 [00:57<02:25,  3.63it/s]\u001b[A\n",
            "Iteration:  29%|██▉       | 214/742 [00:57<02:26,  3.60it/s]\u001b[A\n",
            "Iteration:  29%|██▉       | 215/742 [00:58<02:23,  3.68it/s]\u001b[A\n",
            "Iteration:  29%|██▉       | 216/742 [00:58<02:25,  3.61it/s]\u001b[A\n",
            "Iteration:  29%|██▉       | 217/742 [00:58<02:24,  3.64it/s]\u001b[A\n",
            "Iteration:  29%|██▉       | 218/742 [00:58<02:26,  3.58it/s]\u001b[A\n",
            "Iteration:  30%|██▉       | 219/742 [00:59<02:27,  3.55it/s]\u001b[A\n",
            "Iteration:  30%|██▉       | 220/742 [00:59<02:25,  3.58it/s]\u001b[A\n",
            "Iteration:  30%|██▉       | 221/742 [00:59<02:23,  3.64it/s]\u001b[A\n",
            "Iteration:  30%|██▉       | 222/742 [00:59<02:23,  3.62it/s]\u001b[A\n",
            "Iteration:  30%|███       | 223/742 [01:00<02:21,  3.68it/s]\u001b[A\n",
            "Iteration:  30%|███       | 224/742 [01:00<02:20,  3.68it/s]\u001b[A\n",
            "Iteration:  30%|███       | 225/742 [01:00<02:19,  3.70it/s]\u001b[A\n",
            "Iteration:  30%|███       | 226/742 [01:01<02:18,  3.72it/s]\u001b[A\n",
            "Iteration:  31%|███       | 227/742 [01:01<02:17,  3.74it/s]\u001b[A\n",
            "Iteration:  31%|███       | 228/742 [01:01<02:18,  3.72it/s]\u001b[A\n",
            "Iteration:  31%|███       | 229/742 [01:01<02:17,  3.72it/s]\u001b[A\n",
            "Iteration:  31%|███       | 230/742 [01:02<02:22,  3.59it/s]\u001b[A\n",
            "Iteration:  31%|███       | 231/742 [01:02<02:22,  3.58it/s]\u001b[A\n",
            "Iteration:  31%|███▏      | 232/742 [01:02<02:19,  3.64it/s]\u001b[A\n",
            "Iteration:  31%|███▏      | 233/742 [01:02<02:20,  3.62it/s]\u001b[A\n",
            "Iteration:  32%|███▏      | 234/742 [01:03<02:19,  3.65it/s]\u001b[A\n",
            "Iteration:  32%|███▏      | 235/742 [01:03<02:17,  3.68it/s]\u001b[A\n",
            "Iteration:  32%|███▏      | 236/742 [01:03<02:15,  3.73it/s]\u001b[A\n",
            "Iteration:  32%|███▏      | 237/742 [01:04<02:13,  3.79it/s]\u001b[A\n",
            "Iteration:  32%|███▏      | 238/742 [01:04<02:13,  3.78it/s]\u001b[A\n",
            "Iteration:  32%|███▏      | 239/742 [01:04<02:15,  3.71it/s]\u001b[A\n",
            "Iteration:  32%|███▏      | 240/742 [01:04<02:18,  3.63it/s]\u001b[A\n",
            "Iteration:  32%|███▏      | 241/742 [01:05<02:14,  3.72it/s]\u001b[A\n",
            "Iteration:  33%|███▎      | 242/742 [01:05<02:14,  3.72it/s]\u001b[A\n",
            "Iteration:  33%|███▎      | 243/742 [01:05<02:15,  3.70it/s]\u001b[A\n",
            "Iteration:  33%|███▎      | 244/742 [01:05<02:11,  3.78it/s]\u001b[A\n",
            "Iteration:  33%|███▎      | 245/742 [01:06<02:08,  3.86it/s]\u001b[A\n",
            "Iteration:  33%|███▎      | 246/742 [01:06<02:11,  3.76it/s]\u001b[A\n",
            "Iteration:  33%|███▎      | 247/742 [01:06<02:11,  3.77it/s]\u001b[A\n",
            "Iteration:  33%|███▎      | 248/742 [01:06<02:11,  3.75it/s]\u001b[A\n",
            "Iteration:  34%|███▎      | 249/742 [01:07<02:14,  3.68it/s]\u001b[A\n",
            "Iteration:  34%|███▎      | 250/742 [01:07<02:13,  3.68it/s]\u001b[A\n",
            "Iteration:  34%|███▍      | 251/742 [01:07<02:12,  3.70it/s]\u001b[A\n",
            "Iteration:  34%|███▍      | 252/742 [01:08<02:11,  3.72it/s]\u001b[A\n",
            "Iteration:  34%|███▍      | 253/742 [01:08<02:11,  3.71it/s]\u001b[A\n",
            "Iteration:  34%|███▍      | 254/742 [01:08<02:14,  3.64it/s]\u001b[A\n",
            "Iteration:  34%|███▍      | 255/742 [01:08<02:12,  3.69it/s]\u001b[A\n",
            "Iteration:  35%|███▍      | 256/742 [01:09<02:12,  3.68it/s]\u001b[A\n",
            "Iteration:  35%|███▍      | 257/742 [01:09<02:11,  3.70it/s]\u001b[A\n",
            "Iteration:  35%|███▍      | 258/742 [01:09<02:09,  3.73it/s]\u001b[A\n",
            "Iteration:  35%|███▍      | 259/742 [01:09<02:09,  3.74it/s]\u001b[A\n",
            "Iteration:  35%|███▌      | 260/742 [01:10<02:07,  3.77it/s]\u001b[A\n",
            "Iteration:  35%|███▌      | 261/742 [01:10<02:08,  3.76it/s]\u001b[A\n",
            "Iteration:  35%|███▌      | 262/742 [01:10<02:07,  3.77it/s]\u001b[A\n",
            "Iteration:  35%|███▌      | 263/742 [01:10<02:06,  3.79it/s]\u001b[A\n",
            "Iteration:  36%|███▌      | 264/742 [01:11<02:05,  3.82it/s]\u001b[A\n",
            "Iteration:  36%|███▌      | 265/742 [01:11<02:07,  3.75it/s]\u001b[A\n",
            "Iteration:  36%|███▌      | 266/742 [01:11<02:04,  3.81it/s]\u001b[A\n",
            "Iteration:  36%|███▌      | 267/742 [01:12<02:04,  3.83it/s]\u001b[A\n",
            "Iteration:  36%|███▌      | 268/742 [01:12<02:01,  3.89it/s]\u001b[A\n",
            "Iteration:  36%|███▋      | 269/742 [01:12<02:02,  3.87it/s]\u001b[A\n",
            "Iteration:  36%|███▋      | 270/742 [01:12<02:03,  3.82it/s]\u001b[A\n",
            "Iteration:  37%|███▋      | 271/742 [01:13<02:04,  3.79it/s]\u001b[A\n",
            "Iteration:  37%|███▋      | 272/742 [01:13<02:02,  3.84it/s]\u001b[A\n",
            "Iteration:  37%|███▋      | 273/742 [01:13<02:04,  3.77it/s]\u001b[A\n",
            "Iteration:  37%|███▋      | 274/742 [01:13<02:04,  3.77it/s]\u001b[A\n",
            "Iteration:  37%|███▋      | 275/742 [01:14<02:04,  3.75it/s]\u001b[A\n",
            "Iteration:  37%|███▋      | 276/742 [01:14<02:04,  3.75it/s]\u001b[A\n",
            "Iteration:  37%|███▋      | 277/742 [01:14<02:04,  3.74it/s]\u001b[A\n",
            "Iteration:  37%|███▋      | 278/742 [01:14<02:03,  3.75it/s]\u001b[A\n",
            "Iteration:  38%|███▊      | 279/742 [01:15<02:03,  3.74it/s]\u001b[A\n",
            "Iteration:  38%|███▊      | 280/742 [01:15<02:03,  3.74it/s]\u001b[A\n",
            "Iteration:  38%|███▊      | 281/742 [01:15<02:01,  3.79it/s]\u001b[A\n",
            "Iteration:  38%|███▊      | 282/742 [01:15<01:59,  3.85it/s]\u001b[A\n",
            "Iteration:  38%|███▊      | 283/742 [01:16<01:59,  3.83it/s]\u001b[A\n",
            "Iteration:  38%|███▊      | 284/742 [01:16<02:00,  3.82it/s]\u001b[A\n",
            "Iteration:  38%|███▊      | 285/742 [01:16<02:01,  3.76it/s]\u001b[A\n",
            "Iteration:  39%|███▊      | 286/742 [01:17<02:05,  3.65it/s]\u001b[A\n",
            "Iteration:  39%|███▊      | 287/742 [01:17<02:04,  3.65it/s]\u001b[A\n",
            "Iteration:  39%|███▉      | 288/742 [01:17<02:03,  3.69it/s]\u001b[A\n",
            "Iteration:  39%|███▉      | 289/742 [01:17<02:02,  3.71it/s]\u001b[A\n",
            "Iteration:  39%|███▉      | 290/742 [01:18<02:01,  3.71it/s]\u001b[A\n",
            "Iteration:  39%|███▉      | 291/742 [01:18<01:59,  3.78it/s]\u001b[A\n",
            "Iteration:  39%|███▉      | 292/742 [01:18<01:57,  3.82it/s]\u001b[A\n",
            "Iteration:  39%|███▉      | 293/742 [01:18<01:58,  3.80it/s]\u001b[A\n",
            "Iteration:  40%|███▉      | 294/742 [01:19<01:57,  3.82it/s]\u001b[A\n",
            "Iteration:  40%|███▉      | 295/742 [01:19<01:58,  3.79it/s]\u001b[A\n",
            "Iteration:  40%|███▉      | 296/742 [01:19<01:58,  3.76it/s]\u001b[A\n",
            "Iteration:  40%|████      | 297/742 [01:19<01:58,  3.77it/s]\u001b[A\n",
            "Iteration:  40%|████      | 298/742 [01:20<01:57,  3.77it/s]\u001b[A\n",
            "Iteration:  40%|████      | 299/742 [01:20<01:57,  3.76it/s]\u001b[A\n",
            "Iteration:  40%|████      | 300/742 [01:20<01:57,  3.75it/s]\u001b[A\n",
            "Iteration:  41%|████      | 301/742 [01:21<01:59,  3.68it/s]\u001b[A\n",
            "Iteration:  41%|████      | 302/742 [01:21<01:59,  3.69it/s]\u001b[A\n",
            "Iteration:  41%|████      | 303/742 [01:21<02:01,  3.62it/s]\u001b[A\n",
            "Iteration:  41%|████      | 304/742 [01:21<01:59,  3.66it/s]\u001b[A\n",
            "Iteration:  41%|████      | 305/742 [01:22<01:59,  3.64it/s]\u001b[A\n",
            "Iteration:  41%|████      | 306/742 [01:22<01:58,  3.69it/s]\u001b[A\n",
            "Iteration:  41%|████▏     | 307/742 [01:22<01:57,  3.72it/s]\u001b[A\n",
            "Iteration:  42%|████▏     | 308/742 [01:22<01:58,  3.67it/s]\u001b[A\n",
            "Iteration:  42%|████▏     | 309/742 [01:23<01:58,  3.67it/s]\u001b[A\n",
            "Iteration:  42%|████▏     | 310/742 [01:23<01:56,  3.70it/s]\u001b[A\n",
            "Iteration:  42%|████▏     | 311/742 [01:23<01:56,  3.69it/s]\u001b[A\n",
            "Iteration:  42%|████▏     | 312/742 [01:24<01:56,  3.70it/s]\u001b[A\n",
            "Iteration:  42%|████▏     | 313/742 [01:24<01:56,  3.68it/s]\u001b[A\n",
            "Iteration:  42%|████▏     | 314/742 [01:24<01:55,  3.70it/s]\u001b[A\n",
            "Iteration:  42%|████▏     | 315/742 [01:24<01:54,  3.72it/s]\u001b[A\n",
            "Iteration:  43%|████▎     | 316/742 [01:25<01:54,  3.72it/s]\u001b[A\n",
            "Iteration:  43%|████▎     | 317/742 [01:25<01:52,  3.78it/s]\u001b[A\n",
            "Iteration:  43%|████▎     | 318/742 [01:25<01:52,  3.78it/s]\u001b[A\n",
            "Iteration:  43%|████▎     | 319/742 [01:25<01:52,  3.75it/s]\u001b[A\n",
            "Iteration:  43%|████▎     | 320/742 [01:26<01:52,  3.74it/s]\u001b[A\n",
            "Iteration:  43%|████▎     | 321/742 [01:26<01:50,  3.81it/s]\u001b[A\n",
            "Iteration:  43%|████▎     | 322/742 [01:26<01:50,  3.82it/s]\u001b[A\n",
            "Iteration:  44%|████▎     | 323/742 [01:26<01:50,  3.79it/s]\u001b[A\n",
            "Iteration:  44%|████▎     | 324/742 [01:27<01:49,  3.81it/s]\u001b[A\n",
            "Iteration:  44%|████▍     | 325/742 [01:27<01:52,  3.71it/s]\u001b[A\n",
            "Iteration:  44%|████▍     | 326/742 [01:27<01:49,  3.81it/s]\u001b[A\n",
            "Iteration:  44%|████▍     | 327/742 [01:28<01:51,  3.73it/s]\u001b[A\n",
            "Iteration:  44%|████▍     | 328/742 [01:28<01:50,  3.74it/s]\u001b[A\n",
            "Iteration:  44%|████▍     | 329/742 [01:28<01:51,  3.69it/s]\u001b[A\n",
            "Iteration:  44%|████▍     | 330/742 [01:28<01:51,  3.71it/s]\u001b[A\n",
            "Iteration:  45%|████▍     | 331/742 [01:29<01:50,  3.71it/s]\u001b[A\n",
            "Iteration:  45%|████▍     | 332/742 [01:29<01:49,  3.75it/s]\u001b[A\n",
            "Iteration:  45%|████▍     | 333/742 [01:29<01:48,  3.77it/s]\u001b[A\n",
            "Iteration:  45%|████▌     | 334/742 [01:29<01:48,  3.75it/s]\u001b[A\n",
            "Iteration:  45%|████▌     | 335/742 [01:30<01:49,  3.72it/s]\u001b[A\n",
            "Iteration:  45%|████▌     | 336/742 [01:30<01:47,  3.79it/s]\u001b[A\n",
            "Iteration:  45%|████▌     | 337/742 [01:30<01:47,  3.77it/s]\u001b[A\n",
            "Iteration:  46%|████▌     | 338/742 [01:30<01:49,  3.70it/s]\u001b[A\n",
            "Iteration:  46%|████▌     | 339/742 [01:31<01:49,  3.69it/s]\u001b[A\n",
            "Iteration:  46%|████▌     | 340/742 [01:31<01:47,  3.73it/s]\u001b[A\n",
            "Iteration:  46%|████▌     | 341/742 [01:31<01:47,  3.74it/s]\u001b[A\n",
            "Iteration:  46%|████▌     | 342/742 [01:32<01:48,  3.70it/s]\u001b[A\n",
            "Iteration:  46%|████▌     | 343/742 [01:32<01:50,  3.62it/s]\u001b[A\n",
            "Iteration:  46%|████▋     | 344/742 [01:32<01:50,  3.60it/s]\u001b[A\n",
            "Iteration:  46%|████▋     | 345/742 [01:32<01:49,  3.61it/s]\u001b[A\n",
            "Iteration:  47%|████▋     | 346/742 [01:33<01:49,  3.63it/s]\u001b[A\n",
            "Iteration:  47%|████▋     | 347/742 [01:33<01:48,  3.64it/s]\u001b[A\n",
            "Iteration:  47%|████▋     | 348/742 [01:33<01:46,  3.71it/s]\u001b[A\n",
            "Iteration:  47%|████▋     | 349/742 [01:33<01:45,  3.74it/s]\u001b[A\n",
            "Iteration:  47%|████▋     | 350/742 [01:34<01:44,  3.77it/s]\u001b[A\n",
            "Iteration:  47%|████▋     | 351/742 [01:34<01:45,  3.69it/s]\u001b[A\n",
            "Iteration:  47%|████▋     | 352/742 [01:34<01:45,  3.68it/s]\u001b[A\n",
            "Iteration:  48%|████▊     | 353/742 [01:35<01:44,  3.73it/s]\u001b[A\n",
            "Iteration:  48%|████▊     | 354/742 [01:35<01:44,  3.70it/s]\u001b[A\n",
            "Iteration:  48%|████▊     | 355/742 [01:35<01:44,  3.70it/s]\u001b[A\n",
            "Iteration:  48%|████▊     | 356/742 [01:35<01:44,  3.69it/s]\u001b[A\n",
            "Iteration:  48%|████▊     | 357/742 [01:36<01:44,  3.69it/s]\u001b[A\n",
            "Iteration:  48%|████▊     | 358/742 [01:36<01:43,  3.71it/s]\u001b[A\n",
            "Iteration:  48%|████▊     | 359/742 [01:36<01:42,  3.74it/s]\u001b[A\n",
            "Iteration:  49%|████▊     | 360/742 [01:36<01:41,  3.75it/s]\u001b[A\n",
            "Iteration:  49%|████▊     | 361/742 [01:37<01:42,  3.71it/s]\u001b[A\n",
            "Iteration:  49%|████▉     | 362/742 [01:37<01:44,  3.63it/s]\u001b[A\n",
            "Iteration:  49%|████▉     | 363/742 [01:37<01:43,  3.66it/s]\u001b[A\n",
            "Iteration:  49%|████▉     | 364/742 [01:38<01:47,  3.53it/s]\u001b[A\n",
            "Iteration:  49%|████▉     | 365/742 [01:38<01:48,  3.47it/s]\u001b[A\n",
            "Iteration:  49%|████▉     | 366/742 [01:38<01:45,  3.57it/s]\u001b[A\n",
            "Iteration:  49%|████▉     | 367/742 [01:38<01:43,  3.62it/s]\u001b[A\n",
            "Iteration:  50%|████▉     | 368/742 [01:39<01:42,  3.64it/s]\u001b[A\n",
            "Iteration:  50%|████▉     | 369/742 [01:39<01:41,  3.66it/s]\u001b[A\n",
            "Iteration:  50%|████▉     | 370/742 [01:39<01:40,  3.71it/s]\u001b[A\n",
            "Iteration:  50%|█████     | 371/742 [01:39<01:37,  3.79it/s]\u001b[A\n",
            "Iteration:  50%|█████     | 372/742 [01:40<01:39,  3.70it/s]\u001b[A\n",
            "Iteration:  50%|█████     | 373/742 [01:40<01:42,  3.61it/s]\u001b[A\n",
            "Iteration:  50%|█████     | 374/742 [01:40<01:45,  3.48it/s]\u001b[A\n",
            "Iteration:  51%|█████     | 375/742 [01:41<01:44,  3.50it/s]\u001b[A\n",
            "Iteration:  51%|█████     | 376/742 [01:41<01:44,  3.49it/s]\u001b[A\n",
            "Iteration:  51%|█████     | 377/742 [01:41<01:44,  3.49it/s]\u001b[A\n",
            "Iteration:  51%|█████     | 378/742 [01:41<01:43,  3.51it/s]\u001b[A\n",
            "Iteration:  51%|█████     | 379/742 [01:42<01:41,  3.56it/s]\u001b[A\n",
            "Iteration:  51%|█████     | 380/742 [01:42<01:40,  3.62it/s]\u001b[A\n",
            "Iteration:  51%|█████▏    | 381/742 [01:42<01:40,  3.59it/s]\u001b[A\n",
            "Iteration:  51%|█████▏    | 382/742 [01:43<01:38,  3.66it/s]\u001b[A\n",
            "Iteration:  52%|█████▏    | 383/742 [01:43<01:37,  3.67it/s]\u001b[A\n",
            "Iteration:  52%|█████▏    | 384/742 [01:43<01:35,  3.74it/s]\u001b[A\n",
            "Iteration:  52%|█████▏    | 385/742 [01:43<01:35,  3.73it/s]\u001b[A\n",
            "Iteration:  52%|█████▏    | 386/742 [01:44<01:36,  3.70it/s]\u001b[A\n",
            "Iteration:  52%|█████▏    | 387/742 [01:44<01:36,  3.69it/s]\u001b[A\n",
            "Iteration:  52%|█████▏    | 388/742 [01:44<01:36,  3.65it/s]\u001b[A\n",
            "Iteration:  52%|█████▏    | 389/742 [01:44<01:36,  3.64it/s]\u001b[A\n",
            "Iteration:  53%|█████▎    | 390/742 [01:45<01:35,  3.67it/s]\u001b[A\n",
            "Iteration:  53%|█████▎    | 391/742 [01:45<01:36,  3.64it/s]\u001b[A\n",
            "Iteration:  53%|█████▎    | 392/742 [01:45<01:36,  3.61it/s]\u001b[A\n",
            "Iteration:  53%|█████▎    | 393/742 [01:46<01:34,  3.68it/s]\u001b[A\n",
            "Iteration:  53%|█████▎    | 394/742 [01:46<01:33,  3.74it/s]\u001b[A\n",
            "Iteration:  53%|█████▎    | 395/742 [01:46<01:32,  3.73it/s]\u001b[A\n",
            "Iteration:  53%|█████▎    | 396/742 [01:46<01:35,  3.63it/s]\u001b[A\n",
            "Iteration:  54%|█████▎    | 397/742 [01:47<01:34,  3.66it/s]\u001b[A\n",
            "Iteration:  54%|█████▎    | 398/742 [01:47<01:35,  3.59it/s]\u001b[A\n",
            "Iteration:  54%|█████▍    | 399/742 [01:47<01:34,  3.64it/s]\u001b[A\n",
            "Iteration:  54%|█████▍    | 400/742 [01:47<01:32,  3.71it/s]\u001b[A\n",
            "Iteration:  54%|█████▍    | 401/742 [01:48<01:31,  3.71it/s]\u001b[A\n",
            "Iteration:  54%|█████▍    | 402/742 [01:48<01:31,  3.72it/s]\u001b[A\n",
            "Iteration:  54%|█████▍    | 403/742 [01:48<01:29,  3.77it/s]\u001b[A\n",
            "Iteration:  54%|█████▍    | 404/742 [01:49<01:30,  3.73it/s]\u001b[A\n",
            "Iteration:  55%|█████▍    | 405/742 [01:49<01:30,  3.74it/s]\u001b[A\n",
            "Iteration:  55%|█████▍    | 406/742 [01:49<01:29,  3.74it/s]\u001b[A\n",
            "Iteration:  55%|█████▍    | 407/742 [01:49<01:29,  3.76it/s]\u001b[A\n",
            "Iteration:  55%|█████▍    | 408/742 [01:50<01:30,  3.68it/s]\u001b[A\n",
            "Iteration:  55%|█████▌    | 409/742 [01:50<01:30,  3.66it/s]\u001b[A\n",
            "Iteration:  55%|█████▌    | 410/742 [01:50<01:32,  3.60it/s]\u001b[A\n",
            "Iteration:  55%|█████▌    | 411/742 [01:50<01:31,  3.63it/s]\u001b[A\n",
            "Iteration:  56%|█████▌    | 412/742 [01:51<01:29,  3.69it/s]\u001b[A\n",
            "Iteration:  56%|█████▌    | 413/742 [01:51<01:32,  3.57it/s]\u001b[A\n",
            "Iteration:  56%|█████▌    | 414/742 [01:51<01:30,  3.62it/s]\u001b[A\n",
            "Iteration:  56%|█████▌    | 415/742 [01:52<01:28,  3.71it/s]\u001b[A\n",
            "Iteration:  56%|█████▌    | 416/742 [01:52<01:28,  3.69it/s]\u001b[A\n",
            "Iteration:  56%|█████▌    | 417/742 [01:52<01:29,  3.62it/s]\u001b[A\n",
            "Iteration:  56%|█████▋    | 418/742 [01:52<01:27,  3.68it/s]\u001b[A\n",
            "Iteration:  56%|█████▋    | 419/742 [01:53<01:29,  3.59it/s]\u001b[A\n",
            "Iteration:  57%|█████▋    | 420/742 [01:53<01:29,  3.59it/s]\u001b[A\n",
            "Iteration:  57%|█████▋    | 421/742 [01:53<01:29,  3.61it/s]\u001b[A\n",
            "Iteration:  57%|█████▋    | 422/742 [01:53<01:27,  3.65it/s]\u001b[A\n",
            "Iteration:  57%|█████▋    | 423/742 [01:54<01:26,  3.70it/s]\u001b[A\n",
            "Iteration:  57%|█████▋    | 424/742 [01:54<01:27,  3.64it/s]\u001b[A\n",
            "Iteration:  57%|█████▋    | 425/742 [01:54<01:27,  3.62it/s]\u001b[A\n",
            "Iteration:  57%|█████▋    | 426/742 [01:55<01:26,  3.67it/s]\u001b[A\n",
            "Iteration:  58%|█████▊    | 427/742 [01:55<01:26,  3.66it/s]\u001b[A\n",
            "Iteration:  58%|█████▊    | 428/742 [01:55<01:25,  3.68it/s]\u001b[A\n",
            "Iteration:  58%|█████▊    | 429/742 [01:55<01:23,  3.75it/s]\u001b[A\n",
            "Iteration:  58%|█████▊    | 430/742 [01:56<01:24,  3.69it/s]\u001b[A\n",
            "Iteration:  58%|█████▊    | 431/742 [01:56<01:26,  3.60it/s]\u001b[A\n",
            "Iteration:  58%|█████▊    | 432/742 [01:56<01:25,  3.62it/s]\u001b[A\n",
            "Iteration:  58%|█████▊    | 433/742 [01:56<01:24,  3.68it/s]\u001b[A\n",
            "Iteration:  58%|█████▊    | 434/742 [01:57<01:22,  3.73it/s]\u001b[A\n",
            "Iteration:  59%|█████▊    | 435/742 [01:57<01:21,  3.78it/s]\u001b[A\n",
            "Iteration:  59%|█████▉    | 436/742 [01:57<01:20,  3.79it/s]\u001b[A\n",
            "Iteration:  59%|█████▉    | 437/742 [01:58<01:19,  3.82it/s]\u001b[A\n",
            "Iteration:  59%|█████▉    | 438/742 [01:58<01:20,  3.78it/s]\u001b[A\n",
            "Iteration:  59%|█████▉    | 439/742 [01:58<01:22,  3.69it/s]\u001b[A\n",
            "Iteration:  59%|█████▉    | 440/742 [01:58<01:22,  3.67it/s]\u001b[A\n",
            "Iteration:  59%|█████▉    | 441/742 [01:59<01:22,  3.65it/s]\u001b[A\n",
            "Iteration:  60%|█████▉    | 442/742 [01:59<01:21,  3.67it/s]\u001b[A\n",
            "Iteration:  60%|█████▉    | 443/742 [01:59<01:20,  3.71it/s]\u001b[A\n",
            "Iteration:  60%|█████▉    | 444/742 [01:59<01:20,  3.71it/s]\u001b[A\n",
            "Iteration:  60%|█████▉    | 445/742 [02:00<01:21,  3.62it/s]\u001b[A\n",
            "Iteration:  60%|██████    | 446/742 [02:00<01:21,  3.62it/s]\u001b[A\n",
            "Iteration:  60%|██████    | 447/742 [02:00<01:19,  3.71it/s]\u001b[A\n",
            "Iteration:  60%|██████    | 448/742 [02:01<01:18,  3.73it/s]\u001b[A\n",
            "Iteration:  61%|██████    | 449/742 [02:01<01:17,  3.76it/s]\u001b[A\n",
            "Iteration:  61%|██████    | 450/742 [02:01<01:19,  3.66it/s]\u001b[A\n",
            "Iteration:  61%|██████    | 451/742 [02:01<01:18,  3.71it/s]\u001b[A\n",
            "Iteration:  61%|██████    | 452/742 [02:02<01:18,  3.67it/s]\u001b[A\n",
            "Iteration:  61%|██████    | 453/742 [02:02<01:17,  3.73it/s]\u001b[A\n",
            "Iteration:  61%|██████    | 454/742 [02:02<01:17,  3.71it/s]\u001b[A\n",
            "Iteration:  61%|██████▏   | 455/742 [02:02<01:15,  3.78it/s]\u001b[A\n",
            "Iteration:  61%|██████▏   | 456/742 [02:03<01:14,  3.82it/s]\u001b[A\n",
            "Iteration:  62%|██████▏   | 457/742 [02:03<01:15,  3.77it/s]\u001b[A\n",
            "Iteration:  62%|██████▏   | 458/742 [02:03<01:15,  3.78it/s]\u001b[A\n",
            "Iteration:  62%|██████▏   | 459/742 [02:03<01:15,  3.75it/s]\u001b[A\n",
            "Iteration:  62%|██████▏   | 460/742 [02:04<01:16,  3.70it/s]\u001b[A\n",
            "Iteration:  62%|██████▏   | 461/742 [02:04<01:16,  3.65it/s]\u001b[A\n",
            "Iteration:  62%|██████▏   | 462/742 [02:04<01:14,  3.74it/s]\u001b[A\n",
            "Iteration:  62%|██████▏   | 463/742 [02:05<01:13,  3.77it/s]\u001b[A\n",
            "Iteration:  63%|██████▎   | 464/742 [02:05<01:15,  3.67it/s]\u001b[A\n",
            "Iteration:  63%|██████▎   | 465/742 [02:05<01:16,  3.63it/s]\u001b[A\n",
            "Iteration:  63%|██████▎   | 466/742 [02:05<01:14,  3.68it/s]\u001b[A\n",
            "Iteration:  63%|██████▎   | 467/742 [02:06<01:14,  3.68it/s]\u001b[A\n",
            "Iteration:  63%|██████▎   | 468/742 [02:06<01:13,  3.73it/s]\u001b[A\n",
            "Iteration:  63%|██████▎   | 469/742 [02:06<01:12,  3.74it/s]\u001b[A\n",
            "Iteration:  63%|██████▎   | 470/742 [02:06<01:12,  3.73it/s]\u001b[A\n",
            "Iteration:  63%|██████▎   | 471/742 [02:07<01:11,  3.81it/s]\u001b[A\n",
            "Iteration:  64%|██████▎   | 472/742 [02:07<01:12,  3.72it/s]\u001b[A\n",
            "Iteration:  64%|██████▎   | 473/742 [02:07<01:11,  3.74it/s]\u001b[A\n",
            "Iteration:  64%|██████▍   | 474/742 [02:07<01:11,  3.74it/s]\u001b[A\n",
            "Iteration:  64%|██████▍   | 475/742 [02:08<01:12,  3.71it/s]\u001b[A\n",
            "Iteration:  64%|██████▍   | 476/742 [02:08<01:11,  3.71it/s]\u001b[A\n",
            "Iteration:  64%|██████▍   | 477/742 [02:08<01:10,  3.74it/s]\u001b[A\n",
            "Iteration:  64%|██████▍   | 478/742 [02:09<01:10,  3.76it/s]\u001b[A\n",
            "Iteration:  65%|██████▍   | 479/742 [02:09<01:09,  3.77it/s]\u001b[A\n",
            "Iteration:  65%|██████▍   | 480/742 [02:09<01:08,  3.81it/s]\u001b[A\n",
            "Iteration:  65%|██████▍   | 481/742 [02:09<01:09,  3.74it/s]\u001b[A\n",
            "Iteration:  65%|██████▍   | 482/742 [02:10<01:09,  3.77it/s]\u001b[A\n",
            "Iteration:  65%|██████▌   | 483/742 [02:10<01:08,  3.76it/s]\u001b[A\n",
            "Iteration:  65%|██████▌   | 484/742 [02:10<01:08,  3.78it/s]\u001b[A\n",
            "Iteration:  65%|██████▌   | 485/742 [02:10<01:07,  3.81it/s]\u001b[A\n",
            "Iteration:  65%|██████▌   | 486/742 [02:11<01:06,  3.83it/s]\u001b[A\n",
            "Iteration:  66%|██████▌   | 487/742 [02:11<01:08,  3.72it/s]\u001b[A\n",
            "Iteration:  66%|██████▌   | 488/742 [02:11<01:09,  3.64it/s]\u001b[A\n",
            "Iteration:  66%|██████▌   | 489/742 [02:11<01:08,  3.70it/s]\u001b[A\n",
            "Iteration:  66%|██████▌   | 490/742 [02:12<01:07,  3.71it/s]\u001b[A\n",
            "Iteration:  66%|██████▌   | 491/742 [02:12<01:08,  3.69it/s]\u001b[A\n",
            "Iteration:  66%|██████▋   | 492/742 [02:12<01:08,  3.64it/s]\u001b[A\n",
            "Iteration:  66%|██████▋   | 493/742 [02:13<01:07,  3.70it/s]\u001b[A\n",
            "Iteration:  67%|██████▋   | 494/742 [02:13<01:10,  3.52it/s]\u001b[A\n",
            "Iteration:  67%|██████▋   | 495/742 [02:13<01:09,  3.57it/s]\u001b[A\n",
            "Iteration:  67%|██████▋   | 496/742 [02:13<01:07,  3.63it/s]\u001b[A\n",
            "Iteration:  67%|██████▋   | 497/742 [02:14<01:06,  3.66it/s]\u001b[A\n",
            "Iteration:  67%|██████▋   | 498/742 [02:14<01:07,  3.62it/s]\u001b[A\n",
            "Iteration:  67%|██████▋   | 499/742 [02:14<01:06,  3.67it/s]\u001b[A\n",
            "Iteration:  67%|██████▋   | 500/742 [02:15<01:06,  3.62it/s]\u001b[A\n",
            "Iteration:  68%|██████▊   | 501/742 [02:15<01:05,  3.69it/s]\u001b[A\n",
            "Iteration:  68%|██████▊   | 502/742 [02:15<01:06,  3.63it/s]\u001b[A\n",
            "Iteration:  68%|██████▊   | 503/742 [02:15<01:05,  3.66it/s]\u001b[A\n",
            "Iteration:  68%|██████▊   | 504/742 [02:16<01:03,  3.75it/s]\u001b[A\n",
            "Iteration:  68%|██████▊   | 505/742 [02:16<01:03,  3.76it/s]\u001b[A\n",
            "Iteration:  68%|██████▊   | 506/742 [02:16<01:04,  3.65it/s]\u001b[A\n",
            "Iteration:  68%|██████▊   | 507/742 [02:16<01:04,  3.63it/s]\u001b[A\n",
            "Iteration:  68%|██████▊   | 508/742 [02:17<01:03,  3.69it/s]\u001b[A\n",
            "Iteration:  69%|██████▊   | 509/742 [02:17<01:02,  3.74it/s]\u001b[A\n",
            "Iteration:  69%|██████▊   | 510/742 [02:17<01:03,  3.68it/s]\u001b[A\n",
            "Iteration:  69%|██████▉   | 511/742 [02:17<01:02,  3.70it/s]\u001b[A\n",
            "Iteration:  69%|██████▉   | 512/742 [02:18<01:02,  3.66it/s]\u001b[A\n",
            "Iteration:  69%|██████▉   | 513/742 [02:18<01:02,  3.66it/s]\u001b[A\n",
            "Iteration:  69%|██████▉   | 514/742 [02:18<01:01,  3.69it/s]\u001b[A\n",
            "Iteration:  69%|██████▉   | 515/742 [02:19<01:02,  3.65it/s]\u001b[A\n",
            "Iteration:  70%|██████▉   | 516/742 [02:19<01:02,  3.64it/s]\u001b[A\n",
            "Iteration:  70%|██████▉   | 517/742 [02:19<01:00,  3.69it/s]\u001b[A\n",
            "Iteration:  70%|██████▉   | 518/742 [02:19<00:59,  3.74it/s]\u001b[A\n",
            "Iteration:  70%|██████▉   | 519/742 [02:20<00:58,  3.81it/s]\u001b[A\n",
            "Iteration:  70%|███████   | 520/742 [02:20<00:57,  3.84it/s]\u001b[A\n",
            "Iteration:  70%|███████   | 521/742 [02:20<00:57,  3.81it/s]\u001b[A\n",
            "Iteration:  70%|███████   | 522/742 [02:20<00:58,  3.78it/s]\u001b[A\n",
            "Iteration:  70%|███████   | 523/742 [02:21<00:57,  3.78it/s]\u001b[A\n",
            "Iteration:  71%|███████   | 524/742 [02:21<00:57,  3.78it/s]\u001b[A\n",
            "Iteration:  71%|███████   | 525/742 [02:21<00:59,  3.63it/s]\u001b[A\n",
            "Iteration:  71%|███████   | 526/742 [02:22<00:58,  3.71it/s]\u001b[A\n",
            "Iteration:  71%|███████   | 527/742 [02:22<00:57,  3.74it/s]\u001b[A\n",
            "Iteration:  71%|███████   | 528/742 [02:22<00:57,  3.75it/s]\u001b[A\n",
            "Iteration:  71%|███████▏  | 529/742 [02:22<00:56,  3.78it/s]\u001b[A\n",
            "Iteration:  71%|███████▏  | 530/742 [02:23<00:55,  3.82it/s]\u001b[A\n",
            "Iteration:  72%|███████▏  | 531/742 [02:23<00:55,  3.79it/s]\u001b[A\n",
            "Iteration:  72%|███████▏  | 532/742 [02:23<00:54,  3.86it/s]\u001b[A\n",
            "Iteration:  72%|███████▏  | 533/742 [02:23<00:54,  3.85it/s]\u001b[A\n",
            "Iteration:  72%|███████▏  | 534/742 [02:24<00:54,  3.80it/s]\u001b[A\n",
            "Iteration:  72%|███████▏  | 535/742 [02:24<00:54,  3.80it/s]\u001b[A\n",
            "Iteration:  72%|███████▏  | 536/742 [02:24<00:53,  3.82it/s]\u001b[A\n",
            "Iteration:  72%|███████▏  | 537/742 [02:24<00:53,  3.86it/s]\u001b[A\n",
            "Iteration:  73%|███████▎  | 538/742 [02:25<00:52,  3.86it/s]\u001b[A\n",
            "Iteration:  73%|███████▎  | 539/742 [02:25<00:53,  3.79it/s]\u001b[A\n",
            "Iteration:  73%|███████▎  | 540/742 [02:25<00:54,  3.72it/s]\u001b[A\n",
            "Iteration:  73%|███████▎  | 541/742 [02:25<00:53,  3.77it/s]\u001b[A\n",
            "Iteration:  73%|███████▎  | 542/742 [02:26<00:53,  3.77it/s]\u001b[A\n",
            "Iteration:  73%|███████▎  | 543/742 [02:26<00:52,  3.79it/s]\u001b[A\n",
            "Iteration:  73%|███████▎  | 544/742 [02:26<00:52,  3.80it/s]\u001b[A\n",
            "Iteration:  73%|███████▎  | 545/742 [02:27<00:51,  3.80it/s]\u001b[A\n",
            "Iteration:  74%|███████▎  | 546/742 [02:27<00:51,  3.78it/s]\u001b[A\n",
            "Iteration:  74%|███████▎  | 547/742 [02:27<00:51,  3.80it/s]\u001b[A\n",
            "Iteration:  74%|███████▍  | 548/742 [02:27<00:50,  3.82it/s]\u001b[A\n",
            "Iteration:  74%|███████▍  | 549/742 [02:28<00:50,  3.80it/s]\u001b[A\n",
            "Iteration:  74%|███████▍  | 550/742 [02:28<00:51,  3.75it/s]\u001b[A\n",
            "Iteration:  74%|███████▍  | 551/742 [02:28<00:50,  3.78it/s]\u001b[A\n",
            "Iteration:  74%|███████▍  | 552/742 [02:28<00:49,  3.81it/s]\u001b[A\n",
            "Iteration:  75%|███████▍  | 553/742 [02:29<00:49,  3.80it/s]\u001b[A\n",
            "Iteration:  75%|███████▍  | 554/742 [02:29<00:49,  3.79it/s]\u001b[A\n",
            "Iteration:  75%|███████▍  | 555/742 [02:29<00:49,  3.78it/s]\u001b[A\n",
            "Iteration:  75%|███████▍  | 556/742 [02:29<00:49,  3.75it/s]\u001b[A\n",
            "Iteration:  75%|███████▌  | 557/742 [02:30<00:49,  3.76it/s]\u001b[A\n",
            "Iteration:  75%|███████▌  | 558/742 [02:30<00:49,  3.69it/s]\u001b[A\n",
            "Iteration:  75%|███████▌  | 559/742 [02:30<00:48,  3.75it/s]\u001b[A\n",
            "Iteration:  75%|███████▌  | 560/742 [02:30<00:48,  3.74it/s]\u001b[A\n",
            "Iteration:  76%|███████▌  | 561/742 [02:31<00:48,  3.70it/s]\u001b[A\n",
            "Iteration:  76%|███████▌  | 562/742 [02:31<00:48,  3.72it/s]\u001b[A\n",
            "Iteration:  76%|███████▌  | 563/742 [02:31<00:47,  3.75it/s]\u001b[A\n",
            "Iteration:  76%|███████▌  | 564/742 [02:32<00:47,  3.73it/s]\u001b[A\n",
            "Iteration:  76%|███████▌  | 565/742 [02:32<00:47,  3.73it/s]\u001b[A\n",
            "Iteration:  76%|███████▋  | 566/742 [02:32<00:51,  3.42it/s]\u001b[A\n",
            "Iteration:  76%|███████▋  | 567/742 [02:32<00:49,  3.56it/s]\u001b[A\n",
            "Iteration:  77%|███████▋  | 568/742 [02:33<00:47,  3.66it/s]\u001b[A\n",
            "Iteration:  77%|███████▋  | 569/742 [02:33<00:47,  3.64it/s]\u001b[A\n",
            "Iteration:  77%|███████▋  | 570/742 [02:33<00:46,  3.70it/s]\u001b[A\n",
            "Iteration:  77%|███████▋  | 571/742 [02:34<00:46,  3.71it/s]\u001b[A\n",
            "Iteration:  77%|███████▋  | 572/742 [02:34<00:46,  3.67it/s]\u001b[A\n",
            "Iteration:  77%|███████▋  | 573/742 [02:34<00:45,  3.69it/s]\u001b[A\n",
            "Iteration:  77%|███████▋  | 574/742 [02:34<00:45,  3.70it/s]\u001b[A\n",
            "Iteration:  77%|███████▋  | 575/742 [02:35<00:45,  3.71it/s]\u001b[A\n",
            "Iteration:  78%|███████▊  | 576/742 [02:35<00:45,  3.66it/s]\u001b[A\n",
            "Iteration:  78%|███████▊  | 577/742 [02:35<00:45,  3.64it/s]\u001b[A\n",
            "Iteration:  78%|███████▊  | 578/742 [02:35<00:45,  3.61it/s]\u001b[A\n",
            "Iteration:  78%|███████▊  | 579/742 [02:36<00:44,  3.70it/s]\u001b[A\n",
            "Iteration:  78%|███████▊  | 580/742 [02:36<00:43,  3.71it/s]\u001b[A\n",
            "Iteration:  78%|███████▊  | 581/742 [02:36<00:43,  3.66it/s]\u001b[A\n",
            "Iteration:  78%|███████▊  | 582/742 [02:37<00:43,  3.67it/s]\u001b[A\n",
            "Iteration:  79%|███████▊  | 583/742 [02:37<00:42,  3.71it/s]\u001b[A\n",
            "Iteration:  79%|███████▊  | 584/742 [02:37<00:42,  3.75it/s]\u001b[A\n",
            "Iteration:  79%|███████▉  | 585/742 [02:37<00:41,  3.74it/s]\u001b[A\n",
            "Iteration:  79%|███████▉  | 586/742 [02:38<00:42,  3.71it/s]\u001b[A\n",
            "Iteration:  79%|███████▉  | 587/742 [02:38<00:41,  3.72it/s]\u001b[A\n",
            "Iteration:  79%|███████▉  | 588/742 [02:38<00:41,  3.71it/s]\u001b[A\n",
            "Iteration:  79%|███████▉  | 589/742 [02:38<00:40,  3.77it/s]\u001b[A\n",
            "Iteration:  80%|███████▉  | 590/742 [02:39<00:40,  3.77it/s]\u001b[A\n",
            "Iteration:  80%|███████▉  | 591/742 [02:39<00:40,  3.74it/s]\u001b[A\n",
            "Iteration:  80%|███████▉  | 592/742 [02:39<00:40,  3.72it/s]\u001b[A\n",
            "Iteration:  80%|███████▉  | 593/742 [02:39<00:39,  3.75it/s]\u001b[A\n",
            "Iteration:  80%|████████  | 594/742 [02:40<00:39,  3.70it/s]\u001b[A\n",
            "Iteration:  80%|████████  | 595/742 [02:40<00:39,  3.75it/s]\u001b[A\n",
            "Iteration:  80%|████████  | 596/742 [02:40<00:38,  3.76it/s]\u001b[A\n",
            "Iteration:  80%|████████  | 597/742 [02:41<00:39,  3.65it/s]\u001b[A\n",
            "Iteration:  81%|████████  | 598/742 [02:41<00:38,  3.71it/s]\u001b[A\n",
            "Iteration:  81%|████████  | 599/742 [02:41<00:38,  3.73it/s]\u001b[A\n",
            "Iteration:  81%|████████  | 600/742 [02:41<00:38,  3.68it/s]\u001b[A\n",
            "Iteration:  81%|████████  | 601/742 [02:42<00:37,  3.74it/s]\u001b[A\n",
            "Iteration:  81%|████████  | 602/742 [02:42<00:37,  3.76it/s]\u001b[A\n",
            "Iteration:  81%|████████▏ | 603/742 [02:42<00:36,  3.82it/s]\u001b[A\n",
            "Iteration:  81%|████████▏ | 604/742 [02:42<00:35,  3.86it/s]\u001b[A\n",
            "Iteration:  82%|████████▏ | 605/742 [02:43<00:35,  3.83it/s]\u001b[A\n",
            "Iteration:  82%|████████▏ | 606/742 [02:43<00:35,  3.82it/s]\u001b[A\n",
            "Iteration:  82%|████████▏ | 607/742 [02:43<00:35,  3.82it/s]\u001b[A\n",
            "Iteration:  82%|████████▏ | 608/742 [02:43<00:35,  3.80it/s]\u001b[A\n",
            "Iteration:  82%|████████▏ | 609/742 [02:44<00:34,  3.83it/s]\u001b[A\n",
            "Iteration:  82%|████████▏ | 610/742 [02:44<00:34,  3.84it/s]\u001b[A\n",
            "Iteration:  82%|████████▏ | 611/742 [02:44<00:35,  3.73it/s]\u001b[A\n",
            "Iteration:  82%|████████▏ | 612/742 [02:44<00:34,  3.73it/s]\u001b[A\n",
            "Iteration:  83%|████████▎ | 613/742 [02:45<00:35,  3.66it/s]\u001b[A\n",
            "Iteration:  83%|████████▎ | 614/742 [02:45<00:34,  3.67it/s]\u001b[A\n",
            "Iteration:  83%|████████▎ | 615/742 [02:45<00:34,  3.70it/s]\u001b[A\n",
            "Iteration:  83%|████████▎ | 616/742 [02:46<00:34,  3.65it/s]\u001b[A\n",
            "Iteration:  83%|████████▎ | 617/742 [02:46<00:33,  3.70it/s]\u001b[A\n",
            "Iteration:  83%|████████▎ | 618/742 [02:46<00:32,  3.79it/s]\u001b[A\n",
            "Iteration:  83%|████████▎ | 619/742 [02:46<00:31,  3.86it/s]\u001b[A\n",
            "Iteration:  84%|████████▎ | 620/742 [02:47<00:31,  3.87it/s]\u001b[A\n",
            "Iteration:  84%|████████▎ | 621/742 [02:47<00:31,  3.85it/s]\u001b[A\n",
            "Iteration:  84%|████████▍ | 622/742 [02:47<00:31,  3.82it/s]\u001b[A\n",
            "Iteration:  84%|████████▍ | 623/742 [02:47<00:31,  3.82it/s]\u001b[A\n",
            "Iteration:  84%|████████▍ | 624/742 [02:48<00:31,  3.80it/s]\u001b[A\n",
            "Iteration:  84%|████████▍ | 625/742 [02:48<00:31,  3.66it/s]\u001b[A\n",
            "Iteration:  84%|████████▍ | 626/742 [02:48<00:31,  3.71it/s]\u001b[A\n",
            "Iteration:  85%|████████▍ | 627/742 [02:48<00:31,  3.66it/s]\u001b[A\n",
            "Iteration:  85%|████████▍ | 628/742 [02:49<00:30,  3.72it/s]\u001b[A\n",
            "Iteration:  85%|████████▍ | 629/742 [02:49<00:30,  3.75it/s]\u001b[A\n",
            "Iteration:  85%|████████▍ | 630/742 [02:49<00:29,  3.74it/s]\u001b[A\n",
            "Iteration:  85%|████████▌ | 631/742 [02:50<00:29,  3.77it/s]\u001b[A\n",
            "Iteration:  85%|████████▌ | 632/742 [02:50<00:28,  3.81it/s]\u001b[A\n",
            "Iteration:  85%|████████▌ | 633/742 [02:50<00:28,  3.81it/s]\u001b[A\n",
            "Iteration:  85%|████████▌ | 634/742 [02:50<00:28,  3.73it/s]\u001b[A\n",
            "Iteration:  86%|████████▌ | 635/742 [02:51<00:28,  3.77it/s]\u001b[A\n",
            "Iteration:  86%|████████▌ | 636/742 [02:51<00:29,  3.65it/s]\u001b[A\n",
            "Iteration:  86%|████████▌ | 637/742 [02:51<00:30,  3.46it/s]\u001b[A\n",
            "Iteration:  86%|████████▌ | 638/742 [02:52<00:29,  3.51it/s]\u001b[A\n",
            "Iteration:  86%|████████▌ | 639/742 [02:52<00:28,  3.58it/s]\u001b[A\n",
            "Iteration:  86%|████████▋ | 640/742 [02:52<00:27,  3.66it/s]\u001b[A\n",
            "Iteration:  86%|████████▋ | 641/742 [02:52<00:27,  3.69it/s]\u001b[A\n",
            "Iteration:  87%|████████▋ | 642/742 [02:53<00:27,  3.63it/s]\u001b[A\n",
            "Iteration:  87%|████████▋ | 643/742 [02:53<00:27,  3.59it/s]\u001b[A\n",
            "Iteration:  87%|████████▋ | 644/742 [02:53<00:26,  3.67it/s]\u001b[A\n",
            "Iteration:  87%|████████▋ | 645/742 [02:53<00:26,  3.64it/s]\u001b[A\n",
            "Iteration:  87%|████████▋ | 646/742 [02:54<00:25,  3.71it/s]\u001b[A\n",
            "Iteration:  87%|████████▋ | 647/742 [02:54<00:25,  3.70it/s]\u001b[A\n",
            "Iteration:  87%|████████▋ | 648/742 [02:54<00:25,  3.70it/s]\u001b[A\n",
            "Iteration:  87%|████████▋ | 649/742 [02:54<00:24,  3.72it/s]\u001b[A\n",
            "Iteration:  88%|████████▊ | 650/742 [02:55<00:24,  3.72it/s]\u001b[A\n",
            "Iteration:  88%|████████▊ | 651/742 [02:55<00:25,  3.59it/s]\u001b[A\n",
            "Iteration:  88%|████████▊ | 652/742 [02:55<00:24,  3.67it/s]\u001b[A\n",
            "Iteration:  88%|████████▊ | 653/742 [02:56<00:23,  3.72it/s]\u001b[A\n",
            "Iteration:  88%|████████▊ | 654/742 [02:56<00:23,  3.72it/s]\u001b[A\n",
            "Iteration:  88%|████████▊ | 655/742 [02:56<00:22,  3.79it/s]\u001b[A\n",
            "Iteration:  88%|████████▊ | 656/742 [02:56<00:23,  3.71it/s]\u001b[A\n",
            "Iteration:  89%|████████▊ | 657/742 [02:57<00:22,  3.74it/s]\u001b[A\n",
            "Iteration:  89%|████████▊ | 658/742 [02:57<00:22,  3.74it/s]\u001b[A\n",
            "Iteration:  89%|████████▉ | 659/742 [02:57<00:21,  3.77it/s]\u001b[A\n",
            "Iteration:  89%|████████▉ | 660/742 [02:57<00:21,  3.83it/s]\u001b[A\n",
            "Iteration:  89%|████████▉ | 661/742 [02:58<00:21,  3.83it/s]\u001b[A\n",
            "Iteration:  89%|████████▉ | 662/742 [02:58<00:20,  3.82it/s]\u001b[A\n",
            "Iteration:  89%|████████▉ | 663/742 [02:58<00:21,  3.69it/s]\u001b[A\n",
            "Iteration:  89%|████████▉ | 664/742 [02:58<00:20,  3.75it/s]\u001b[A\n",
            "Iteration:  90%|████████▉ | 665/742 [02:59<00:21,  3.65it/s]\u001b[A\n",
            "Iteration:  90%|████████▉ | 666/742 [02:59<00:20,  3.67it/s]\u001b[A\n",
            "Iteration:  90%|████████▉ | 667/742 [02:59<00:20,  3.71it/s]\u001b[A\n",
            "Iteration:  90%|█████████ | 668/742 [03:00<00:19,  3.79it/s]\u001b[A\n",
            "Iteration:  90%|█████████ | 669/742 [03:00<00:19,  3.74it/s]\u001b[A\n",
            "Iteration:  90%|█████████ | 670/742 [03:00<00:19,  3.74it/s]\u001b[A\n",
            "Iteration:  90%|█████████ | 671/742 [03:00<00:18,  3.80it/s]\u001b[A\n",
            "Iteration:  91%|█████████ | 672/742 [03:01<00:19,  3.64it/s]\u001b[A\n",
            "Iteration:  91%|█████████ | 673/742 [03:01<00:18,  3.69it/s]\u001b[A\n",
            "Iteration:  91%|█████████ | 674/742 [03:01<00:18,  3.73it/s]\u001b[A\n",
            "Iteration:  91%|█████████ | 675/742 [03:01<00:17,  3.73it/s]\u001b[A\n",
            "Iteration:  91%|█████████ | 676/742 [03:02<00:17,  3.74it/s]\u001b[A\n",
            "Iteration:  91%|█████████ | 677/742 [03:02<00:17,  3.74it/s]\u001b[A\n",
            "Iteration:  91%|█████████▏| 678/742 [03:02<00:17,  3.68it/s]\u001b[A\n",
            "Iteration:  92%|█████████▏| 679/742 [03:03<00:17,  3.63it/s]\u001b[A\n",
            "Iteration:  92%|█████████▏| 680/742 [03:03<00:16,  3.66it/s]\u001b[A\n",
            "Iteration:  92%|█████████▏| 681/742 [03:03<00:16,  3.62it/s]\u001b[A\n",
            "Iteration:  92%|█████████▏| 682/742 [03:03<00:16,  3.63it/s]\u001b[A\n",
            "Iteration:  92%|█████████▏| 683/742 [03:04<00:16,  3.68it/s]\u001b[A\n",
            "Iteration:  92%|█████████▏| 684/742 [03:04<00:15,  3.66it/s]\u001b[A\n",
            "Iteration:  92%|█████████▏| 685/742 [03:04<00:15,  3.63it/s]\u001b[A\n",
            "Iteration:  92%|█████████▏| 686/742 [03:04<00:15,  3.68it/s]\u001b[A\n",
            "Iteration:  93%|█████████▎| 687/742 [03:05<00:14,  3.68it/s]\u001b[A\n",
            "Iteration:  93%|█████████▎| 688/742 [03:05<00:14,  3.69it/s]\u001b[A\n",
            "Iteration:  93%|█████████▎| 689/742 [03:05<00:14,  3.71it/s]\u001b[A\n",
            "Iteration:  93%|█████████▎| 690/742 [03:06<00:13,  3.76it/s]\u001b[A\n",
            "Iteration:  93%|█████████▎| 691/742 [03:06<00:13,  3.72it/s]\u001b[A\n",
            "Iteration:  93%|█████████▎| 692/742 [03:06<00:13,  3.65it/s]\u001b[A\n",
            "Iteration:  93%|█████████▎| 693/742 [03:06<00:13,  3.71it/s]\u001b[A\n",
            "Iteration:  94%|█████████▎| 694/742 [03:07<00:12,  3.75it/s]\u001b[A\n",
            "Iteration:  94%|█████████▎| 695/742 [03:07<00:12,  3.78it/s]\u001b[A\n",
            "Iteration:  94%|█████████▍| 696/742 [03:07<00:12,  3.80it/s]\u001b[A\n",
            "Iteration:  94%|█████████▍| 697/742 [03:07<00:11,  3.75it/s]\u001b[A\n",
            "Iteration:  94%|█████████▍| 698/742 [03:08<00:11,  3.78it/s]\u001b[A\n",
            "Iteration:  94%|█████████▍| 699/742 [03:08<00:11,  3.66it/s]\u001b[A\n",
            "Iteration:  94%|█████████▍| 700/742 [03:08<00:11,  3.54it/s]\u001b[A\n",
            "Iteration:  94%|█████████▍| 701/742 [03:09<00:11,  3.60it/s]\u001b[A\n",
            "Iteration:  95%|█████████▍| 702/742 [03:09<00:11,  3.60it/s]\u001b[A\n",
            "Iteration:  95%|█████████▍| 703/742 [03:09<00:10,  3.70it/s]\u001b[A\n",
            "Iteration:  95%|█████████▍| 704/742 [03:09<00:10,  3.62it/s]\u001b[A\n",
            "Iteration:  95%|█████████▌| 705/742 [03:10<00:10,  3.69it/s]\u001b[A\n",
            "Iteration:  95%|█████████▌| 706/742 [03:10<00:09,  3.71it/s]\u001b[A\n",
            "Iteration:  95%|█████████▌| 707/742 [03:10<00:09,  3.74it/s]\u001b[A\n",
            "Iteration:  95%|█████████▌| 708/742 [03:10<00:09,  3.71it/s]\u001b[A\n",
            "Iteration:  96%|█████████▌| 709/742 [03:11<00:08,  3.76it/s]\u001b[A\n",
            "Iteration:  96%|█████████▌| 710/742 [03:11<00:08,  3.79it/s]\u001b[A\n",
            "Iteration:  96%|█████████▌| 711/742 [03:11<00:08,  3.78it/s]\u001b[A\n",
            "Iteration:  96%|█████████▌| 712/742 [03:11<00:08,  3.74it/s]\u001b[A\n",
            "Iteration:  96%|█████████▌| 713/742 [03:12<00:07,  3.75it/s]\u001b[A\n",
            "Iteration:  96%|█████████▌| 714/742 [03:12<00:07,  3.78it/s]\u001b[A\n",
            "Iteration:  96%|█████████▋| 715/742 [03:12<00:07,  3.80it/s]\u001b[A\n",
            "Iteration:  96%|█████████▋| 716/742 [03:12<00:06,  3.87it/s]\u001b[A\n",
            "Iteration:  97%|█████████▋| 717/742 [03:13<00:06,  3.83it/s]\u001b[A\n",
            "Iteration:  97%|█████████▋| 718/742 [03:13<00:06,  3.83it/s]\u001b[A\n",
            "Iteration:  97%|█████████▋| 719/742 [03:13<00:06,  3.79it/s]\u001b[A\n",
            "Iteration:  97%|█████████▋| 720/742 [03:14<00:05,  3.72it/s]\u001b[A\n",
            "Iteration:  97%|█████████▋| 721/742 [03:14<00:05,  3.69it/s]\u001b[A\n",
            "Iteration:  97%|█████████▋| 722/742 [03:14<00:05,  3.74it/s]\u001b[A\n",
            "Iteration:  97%|█████████▋| 723/742 [03:14<00:05,  3.66it/s]\u001b[A\n",
            "Iteration:  98%|█████████▊| 724/742 [03:15<00:04,  3.73it/s]\u001b[A\n",
            "Iteration:  98%|█████████▊| 725/742 [03:15<00:04,  3.77it/s]\u001b[A\n",
            "Iteration:  98%|█████████▊| 726/742 [03:15<00:04,  3.84it/s]\u001b[A\n",
            "Iteration:  98%|█████████▊| 727/742 [03:15<00:04,  3.75it/s]\u001b[A\n",
            "Iteration:  98%|█████████▊| 728/742 [03:16<00:03,  3.74it/s]\u001b[A\n",
            "Iteration:  98%|█████████▊| 729/742 [03:16<00:03,  3.77it/s]\u001b[A\n",
            "Iteration:  98%|█████████▊| 730/742 [03:16<00:03,  3.82it/s]\u001b[A\n",
            "Iteration:  99%|█████████▊| 731/742 [03:16<00:02,  3.86it/s]\u001b[A\n",
            "Iteration:  99%|█████████▊| 732/742 [03:17<00:02,  3.82it/s]\u001b[A\n",
            "Iteration:  99%|█████████▉| 733/742 [03:17<00:02,  3.79it/s]\u001b[A\n",
            "Iteration:  99%|█████████▉| 734/742 [03:17<00:02,  3.76it/s]\u001b[A\n",
            "Iteration:  99%|█████████▉| 735/742 [03:18<00:01,  3.69it/s]\u001b[A\n",
            "Iteration:  99%|█████████▉| 736/742 [03:18<00:01,  3.70it/s]\u001b[A\n",
            "Iteration:  99%|█████████▉| 737/742 [03:18<00:01,  3.74it/s]\u001b[A\n",
            "Iteration:  99%|█████████▉| 738/742 [03:18<00:01,  3.77it/s]\u001b[A\n",
            "Iteration: 100%|█████████▉| 739/742 [03:19<00:00,  3.71it/s]\u001b[A\n",
            "Iteration: 100%|█████████▉| 740/742 [03:19<00:00,  3.75it/s]\u001b[A\n",
            "Iteration: 100%|█████████▉| 741/742 [03:19<00:00,  3.79it/s]\u001b[A\n",
            "Iteration: 100%|██████████| 742/742 [03:19<00:00,  4.54it/s]\u001b[A\n",
            "Epoch:   0%|          | 0/1 [03:19<?, ?it/s]\n",
            "Convert Evaluating:   0%|          | 0/83 [00:00<?, ?it/s]\u001b[A\n",
            "Convert Evaluating:   2%|▏         | 2/83 [00:00<00:06, 13.09it/s]\u001b[A"
          ],
          "name": "stderr"
        },
        {
          "output_type": "stream",
          "text": [
            "2020-01-07 18:05:57 - Evaluation the model on  dataset after epoch 0:\n"
          ],
          "name": "stdout"
        },
        {
          "output_type": "stream",
          "text": [
            "\n",
            "Convert Evaluating:   5%|▍         | 4/83 [00:00<00:06, 12.98it/s]\u001b[A\n",
            "Convert Evaluating:   7%|▋         | 6/83 [00:00<00:05, 12.90it/s]\u001b[A\n",
            "Convert Evaluating:  10%|▉         | 8/83 [00:00<00:05, 12.73it/s]\u001b[A\n",
            "Convert Evaluating:  12%|█▏        | 10/83 [00:00<00:05, 12.86it/s]\u001b[A\n",
            "Convert Evaluating:  14%|█▍        | 12/83 [00:00<00:05, 12.75it/s]\u001b[A\n",
            "Convert Evaluating:  17%|█▋        | 14/83 [00:01<00:05, 12.65it/s]\u001b[A\n",
            "Convert Evaluating:  19%|█▉        | 16/83 [00:01<00:05, 12.83it/s]\u001b[A\n",
            "Convert Evaluating:  22%|██▏       | 18/83 [00:01<00:05, 12.86it/s]\u001b[A\n",
            "Convert Evaluating:  24%|██▍       | 20/83 [00:01<00:04, 12.87it/s]\u001b[A\n",
            "Convert Evaluating:  27%|██▋       | 22/83 [00:01<00:04, 12.85it/s]\u001b[A\n",
            "Convert Evaluating:  29%|██▉       | 24/83 [00:01<00:04, 12.90it/s]\u001b[A\n",
            "Convert Evaluating:  31%|███▏      | 26/83 [00:02<00:04, 12.77it/s]\u001b[A\n",
            "Convert Evaluating:  34%|███▎      | 28/83 [00:02<00:04, 12.66it/s]\u001b[A\n",
            "Convert Evaluating:  36%|███▌      | 30/83 [00:02<00:04, 12.70it/s]\u001b[A\n",
            "Convert Evaluating:  39%|███▊      | 32/83 [00:02<00:03, 12.77it/s]\u001b[A\n",
            "Convert Evaluating:  41%|████      | 34/83 [00:02<00:03, 12.60it/s]\u001b[A\n",
            "Convert Evaluating:  43%|████▎     | 36/83 [00:02<00:03, 12.73it/s]\u001b[A\n",
            "Convert Evaluating:  46%|████▌     | 38/83 [00:02<00:03, 12.82it/s]\u001b[A\n",
            "Convert Evaluating:  48%|████▊     | 40/83 [00:03<00:03, 12.90it/s]\u001b[A\n",
            "Convert Evaluating:  51%|█████     | 42/83 [00:03<00:03, 12.91it/s]\u001b[A\n",
            "Convert Evaluating:  53%|█████▎    | 44/83 [00:03<00:03, 12.83it/s]\u001b[A\n",
            "Convert Evaluating:  55%|█████▌    | 46/83 [00:03<00:02, 12.67it/s]\u001b[A\n",
            "Convert Evaluating:  58%|█████▊    | 48/83 [00:03<00:02, 12.74it/s]\u001b[A\n",
            "Convert Evaluating:  60%|██████    | 50/83 [00:03<00:02, 12.30it/s]\u001b[A\n",
            "Convert Evaluating:  63%|██████▎   | 52/83 [00:04<00:02, 12.33it/s]\u001b[A\n",
            "Convert Evaluating:  65%|██████▌   | 54/83 [00:04<00:02, 12.59it/s]\u001b[A\n",
            "Convert Evaluating:  67%|██████▋   | 56/83 [00:04<00:02, 12.52it/s]\u001b[A\n",
            "Convert Evaluating:  70%|██████▉   | 58/83 [00:04<00:01, 12.67it/s]\u001b[A\n",
            "Convert Evaluating:  72%|███████▏  | 60/83 [00:04<00:01, 12.55it/s]\u001b[A\n",
            "Convert Evaluating:  75%|███████▍  | 62/83 [00:04<00:01, 12.54it/s]\u001b[A\n",
            "Convert Evaluating:  77%|███████▋  | 64/83 [00:05<00:01, 12.56it/s]\u001b[A\n",
            "Convert Evaluating:  80%|███████▉  | 66/83 [00:05<00:01, 12.68it/s]\u001b[A\n",
            "Convert Evaluating:  82%|████████▏ | 68/83 [00:05<00:01, 12.38it/s]\u001b[A\n",
            "Convert Evaluating:  84%|████████▍ | 70/83 [00:05<00:01, 12.58it/s]\u001b[A\n",
            "Convert Evaluating:  87%|████████▋ | 72/83 [00:05<00:00, 12.78it/s]\u001b[A\n",
            "Convert Evaluating:  89%|████████▉ | 74/83 [00:05<00:00, 12.69it/s]\u001b[A\n",
            "Convert Evaluating:  92%|█████████▏| 76/83 [00:05<00:00, 12.59it/s]\u001b[A\n",
            "Convert Evaluating:  94%|█████████▍| 78/83 [00:06<00:00, 12.74it/s]\u001b[A\n",
            "Convert Evaluating:  96%|█████████▋| 80/83 [00:06<00:00, 12.19it/s]\u001b[A\n",
            "Convert Evaluating:  99%|█████████▉| 82/83 [00:06<00:00, 12.34it/s]\u001b[A\n",
            "Epoch:   0%|          | 0/1 [03:26<?, ?it/s]"
          ],
          "name": "stderr"
        },
        {
          "output_type": "stream",
          "text": [
            "2020-01-07 18:06:04 - Cosine-Similarity :\tPearson: -0.0252\tSpearman: 0.0365\n",
            "2020-01-07 18:06:04 - Manhattan-Distance:\tPearson: -0.0784\tSpearman: -0.0541\n",
            "2020-01-07 18:06:04 - Euclidean-Distance:\tPearson: -0.0803\tSpearman: -0.0563\n",
            "2020-01-07 18:06:04 - Dot-Product-Similarity:\tPearson: 0.3813\tSpearman: 0.3411\n",
            "2020-01-07 18:06:04 - Save model to output/training_nli_bert-base-uncased-2020-01-07_18-02-02\n",
            "2020-01-07 18:06:04 - Configuration saved in output/training_nli_bert-base-uncased-2020-01-07_18-02-02/0_BERT/config.json\n"
          ],
          "name": "stdout"
        },
        {
          "output_type": "stream",
          "text": [
            "Epoch: 100%|██████████| 1/1 [03:27<00:00, 207.33s/it]"
          ],
          "name": "stderr"
        },
        {
          "output_type": "stream",
          "text": [
            "2020-01-07 18:06:05 - Model weights saved in output/training_nli_bert-base-uncased-2020-01-07_18-02-02/0_BERT/pytorch_model.bin\n"
          ],
          "name": "stdout"
        },
        {
          "output_type": "stream",
          "text": [
            "\n"
          ],
          "name": "stderr"
        }
      ]
    },
    {
      "cell_type": "code",
      "metadata": {
        "id": "Sw5xgg3I_3Ku",
        "colab_type": "code",
        "outputId": "0cd9514c-7a34-48ea-a4ae-b79eef4ef426",
        "colab": {
          "base_uri": "https://localhost:8080/",
          "height": 836
        }
      },
      "source": [
        "##############################################################################\n",
        "#\n",
        "# Load the stored model and evaluate its performance on Hinglish dataset\n",
        "#\n",
        "##############################################################################\n",
        "\n",
        "model = SentenceTransformer(model_save_path)\n",
        "test_data = SentencesDataset(examples=hinglish_reader.get_examples(\"test.json\"), model=model)\n",
        "test_dataloader = DataLoader(test_data, shuffle=False, batch_size=batch_size)\n",
        "evaluator = EmbeddingSimilarityEvaluator(test_dataloader)\n",
        "\n",
        "model.evaluate(evaluator)"
      ],
      "execution_count": 0,
      "outputs": [
        {
          "output_type": "stream",
          "text": [
            "2020-01-07 18:06:05 - Load pretrained SentenceTransformer: output/training_nli_bert-base-uncased-2020-01-07_18-02-02\n",
            "2020-01-07 18:06:05 - Load SentenceTransformer from folder: output/training_nli_bert-base-uncased-2020-01-07_18-02-02\n",
            "2020-01-07 18:06:05 - loading configuration file output/training_nli_bert-base-uncased-2020-01-07_18-02-02/0_BERT/config.json\n",
            "2020-01-07 18:06:05 - Model config {\n",
            "  \"attention_probs_dropout_prob\": 0.1,\n",
            "  \"finetuning_task\": null,\n",
            "  \"hidden_act\": \"gelu\",\n",
            "  \"hidden_dropout_prob\": 0.1,\n",
            "  \"hidden_size\": 768,\n",
            "  \"initializer_range\": 0.02,\n",
            "  \"intermediate_size\": 3072,\n",
            "  \"is_decoder\": false,\n",
            "  \"layer_norm_eps\": 1e-12,\n",
            "  \"max_position_embeddings\": 512,\n",
            "  \"num_attention_heads\": 12,\n",
            "  \"num_hidden_layers\": 12,\n",
            "  \"num_labels\": 2,\n",
            "  \"output_attentions\": false,\n",
            "  \"output_hidden_states\": false,\n",
            "  \"output_past\": true,\n",
            "  \"pruned_heads\": {},\n",
            "  \"torchscript\": false,\n",
            "  \"type_vocab_size\": 2,\n",
            "  \"use_bfloat16\": false,\n",
            "  \"vocab_size\": 30522\n",
            "}\n",
            "\n",
            "2020-01-07 18:06:05 - loading weights file output/training_nli_bert-base-uncased-2020-01-07_18-02-02/0_BERT/pytorch_model.bin\n",
            "2020-01-07 18:06:06 - Model name 'output/training_nli_bert-base-uncased-2020-01-07_18-02-02/0_BERT' not found in model shortcut name list (bert-base-uncased, bert-large-uncased, bert-base-cased, bert-large-cased, bert-base-multilingual-uncased, bert-base-multilingual-cased, bert-base-chinese, bert-base-german-cased, bert-large-uncased-whole-word-masking, bert-large-cased-whole-word-masking, bert-large-uncased-whole-word-masking-finetuned-squad, bert-large-cased-whole-word-masking-finetuned-squad, bert-base-cased-finetuned-mrpc, bert-base-german-dbmdz-cased, bert-base-german-dbmdz-uncased). Assuming 'output/training_nli_bert-base-uncased-2020-01-07_18-02-02/0_BERT' is a path or url to a directory containing tokenizer files.\n",
            "2020-01-07 18:06:06 - loading file output/training_nli_bert-base-uncased-2020-01-07_18-02-02/0_BERT/vocab.txt\n",
            "2020-01-07 18:06:06 - loading file output/training_nli_bert-base-uncased-2020-01-07_18-02-02/0_BERT/added_tokens.json\n",
            "2020-01-07 18:06:06 - loading file output/training_nli_bert-base-uncased-2020-01-07_18-02-02/0_BERT/special_tokens_map.json\n",
            "2020-01-07 18:06:06 - loading file output/training_nli_bert-base-uncased-2020-01-07_18-02-02/0_BERT/tokenizer_config.json\n",
            "2020-01-07 18:06:06 - Use pytorch device: cuda\n"
          ],
          "name": "stdout"
        },
        {
          "output_type": "stream",
          "text": [
            "Convert dataset: 100%|██████████| 3295/3295 [00:03<00:00, 1042.32it/s]\n",
            "Convert Evaluating:   1%|          | 2/206 [00:00<00:17, 11.45it/s]"
          ],
          "name": "stderr"
        },
        {
          "output_type": "stream",
          "text": [
            "2020-01-07 18:06:15 - Num sentences: 3295\n",
            "2020-01-07 18:06:15 - Sentences 0 longer than max_seqence_length: 0\n",
            "2020-01-07 18:06:15 - Sentences 1 longer than max_seqence_length: 0\n",
            "2020-01-07 18:06:15 - Evaluation the model on  dataset:\n"
          ],
          "name": "stdout"
        },
        {
          "output_type": "stream",
          "text": [
            "Convert Evaluating: 100%|██████████| 206/206 [00:16<00:00, 12.99it/s]\n"
          ],
          "name": "stderr"
        },
        {
          "output_type": "stream",
          "text": [
            "2020-01-07 18:06:31 - Cosine-Similarity :\tPearson: -0.0221\tSpearman: 0.0428\n",
            "2020-01-07 18:06:31 - Manhattan-Distance:\tPearson: -0.0691\tSpearman: -0.0471\n",
            "2020-01-07 18:06:31 - Euclidean-Distance:\tPearson: -0.0711\tSpearman: -0.0489\n",
            "2020-01-07 18:06:31 - Dot-Product-Similarity:\tPearson: 0.3755\tSpearman: 0.3359\n"
          ],
          "name": "stdout"
        },
        {
          "output_type": "execute_result",
          "data": {
            "text/plain": [
              "0.3358669790344215"
            ]
          },
          "metadata": {
            "tags": []
          },
          "execution_count": 36
        }
      ]
    },
    {
      "cell_type": "code",
      "metadata": {
        "id": "ncVuxXTHM4DS",
        "colab_type": "code",
        "colab": {}
      },
      "source": [
        "!tar -zcvf model_files.tar.gz output/training_nli_bert-base-uncased-2020-01-07_18-02-02"
      ],
      "execution_count": 0,
      "outputs": []
    },
    {
      "cell_type": "code",
      "metadata": {
        "id": "dDsC-vjTJFaW",
        "colab_type": "code",
        "colab": {}
      },
      "source": [
        "from google.colab import files\n",
        "# files.download('train.json')\n",
        "# files.download('dev.json')\n",
        "files.download('model_files.tar.gz')"
      ],
      "execution_count": 0,
      "outputs": []
    },
    {
      "cell_type": "code",
      "metadata": {
        "id": "Fo3ErJfZOUOd",
        "colab_type": "code",
        "colab": {}
      },
      "source": [
        ""
      ],
      "execution_count": 0,
      "outputs": []
    }
  ]
}