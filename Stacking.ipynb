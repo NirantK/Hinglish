{
  "nbformat": 4,
  "nbformat_minor": 0,
  "metadata": {
    "colab": {
      "name": "Stacking.ipynb",
      "provenance": [],
      "mount_file_id": "1wBMRBhIhQqOFAz6La0MzW-Ilu-kcEA4q",
      "authorship_tag": "ABX9TyMzgNlEUmM1XtwzLFNHFXEG",
      "include_colab_link": true
    },
    "kernelspec": {
      "name": "python3",
      "display_name": "Python 3"
    }
  },
  "cells": [
    {
      "cell_type": "markdown",
      "metadata": {
        "id": "view-in-github",
        "colab_type": "text"
      },
      "source": [
        "<a href=\"https://colab.research.google.com/github/NirantK/Hinglish/blob/stack/Stacking.ipynb\" target=\"_parent\"><img src=\"https://colab.research.google.com/assets/colab-badge.svg\" alt=\"Open In Colab\"/></a>"
      ]
    },
    {
      "cell_type": "code",
      "metadata": {
        "id": "TMcdkUPQuMIn",
        "colab_type": "code",
        "colab": {}
      },
      "source": [
        "import pandas as pd\n",
        "from sklearn.linear_model import LogisticRegression\n",
        "from sklearn.metrics import  f1_score\n",
        "import numpy as np\n",
        "import matplotlib.pyplot as plt\n",
        "from sklearn import datasets\n",
        "\n",
        "from sklearn.model_selection import train_test_split\n",
        "from sklearn.linear_model import SGDClassifier, Perceptron\n",
        "from sklearn.linear_model import PassiveAggressiveClassifier\n",
        "from sklearn.linear_model import LogisticRegression\n",
        "from sklearn.ensemble import RandomForestClassifier\n",
        "from sklearn.datasets import make_classification\n",
        "from sklearn.multiclass import OutputCodeClassifier\n",
        "from sklearn.naive_bayes import MultinomialNB\n",
        "from sklearn.neighbors import KNeighborsClassifier"
      ],
      "execution_count": 0,
      "outputs": []
    },
    {
      "cell_type": "code",
      "metadata": {
        "id": "cMUqYZ1AuOV-",
        "colab_type": "code",
        "colab": {}
      },
      "source": [
        "df_BERT_64= pd.read_csv(\"/content/drive/My Drive/BERT_valid64.csv\")\n",
        "df_BERT_649= pd.read_csv(\"/content/drive/My Drive/BERT_valid64_9.csv\")\n",
        "df_BERT_65= pd.read_csv(\"/content/drive/My Drive/BERT_valid65.csv\")\n",
        "df_DistilBERT_64= pd.read_csv(\"/content/drive/My Drive/DistilBERT_valid64_1.csv\")\n",
        "df_DistilBERT_65= pd.read_csv(\"/content/drive/My Drive/DistilBERT_valid65.csv\")\n"
      ],
      "execution_count": 0,
      "outputs": []
    },
    {
      "cell_type": "code",
      "metadata": {
        "id": "Y8LziL-RKRDd",
        "colab_type": "code",
        "colab": {}
      },
      "source": [
        "l = pd.read_csv(\"test_labels_hinglish.txt\")"
      ],
      "execution_count": 0,
      "outputs": []
    },
    {
      "cell_type": "code",
      "metadata": {
        "id": "qR51POKcvIOq",
        "colab_type": "code",
        "colab": {}
      },
      "source": [
        "from sklearn import preprocessing\n",
        "le = preprocessing.LabelEncoder()\n",
        "le.fit(df_BERT_64[\"actual\"])\n",
        "y = le.transform(df_BERT_64[\"actual\"])\n"
      ],
      "execution_count": 0,
      "outputs": []
    },
    {
      "cell_type": "code",
      "metadata": {
        "id": "wHn07Co_vd_2",
        "colab_type": "code",
        "colab": {}
      },
      "source": [
        "df = pd.DataFrame()\n",
        "df[\"BERT_64_negative\"] = df_BERT_64[\"proba_negative\"]\n",
        "df[\"BERT_64_neutral\"] = df_BERT_64[\"proba_neutral\"]\n",
        "df[\"BERT_64_positive\"] = df_BERT_64[\"proba_positive\"]\n",
        "# df[\"BERT_64_sentiment\"] = le.transform(df_BERT_64[\"Sentiment\"])\n",
        "\n",
        "\n",
        "df[\"BERT_649_negative\"] = df_BERT_649[\"proba_negative\"]\n",
        "df[\"BERT_649_neutral\"] = df_BERT_649[\"proba_neutral\"]\n",
        "df[\"BERT_649_positive\"] = df_BERT_649[\"proba_positive\"]\n",
        "# df[\"BERT_649_sentiment\"] = le.transform(df_BERT_649[\"Sentiment\"])\n",
        "\n",
        "df[\"BERT_65_negative\"] = df_BERT_65[\"proba_negative\"]\n",
        "df[\"BERT_65_neutral\"] = df_BERT_65[\"proba_neutral\"]\n",
        "df[\"BERT_65_positive\"] = df_BERT_65[\"proba_positive\"]\n",
        "# df[\"BERT_65_sentiment\"] = le.transform(df_BERT_65[\"Sentiment\"])\n",
        "\n",
        "# df[\"DistilBERT_64_negative\"] = df_DistilBERT_64[\"proba_negative\"]\n",
        "# df[\"DistilBERT_64_neutral\"] = df_DistilBERT_64[\"proba_neutral\"]\n",
        "# df[\"DistilBERT_64_positive\"] = df_DistilBERT_64[\"proba_positive\"]\n",
        "# df[\"DistilBERT_64_sentiment\"] = le.transform(df_DistilBERT_64[\"Sentiment\"])\n",
        "\n",
        "df[\"DistilBERT_65_negative\"] = df_DistilBERT_65[\"proba_negative\"]\n",
        "df[\"DistilBERT_65_neutral\"] = df_DistilBERT_65[\"proba_neutral\"]\n",
        "df[\"DistilBERT_65_positive\"] = df_DistilBERT_65[\"proba_positive\"]\n",
        "# df[\"DistilBERT_64_sentiment\"] = le.transform(df_DistilBERT_64[\"Sentiment\"])\n"
      ],
      "execution_count": 0,
      "outputs": []
    },
    {
      "cell_type": "code",
      "metadata": {
        "id": "5XgnC5rtv6X-",
        "colab_type": "code",
        "colab": {}
      },
      "source": [
        "df"
      ],
      "execution_count": 0,
      "outputs": []
    },
    {
      "cell_type": "code",
      "metadata": {
        "id": "HQGASQKRuELe",
        "colab_type": "code",
        "colab": {}
      },
      "source": [
        "from sklearn.model_selection import train_test_split\n",
        "X_train, X_test, y_train, y_test = train_test_split(\n",
        "    df, y, test_size=0.33, random_state=42)\n",
        "X = df "
      ],
      "execution_count": 0,
      "outputs": []
    },
    {
      "cell_type": "code",
      "metadata": {
        "id": "DyzBIWDWy_rL",
        "colab_type": "code",
        "colab": {}
      },
      "source": [
        "# clas = [\n",
        "#         KNeighborsClassifier(n_neighbors=15),\n",
        "#         LogisticRegression(C=0.1, multi_class=\"auto\"), \n",
        "#         SGDClassifier(average=True, max_iter=1000), \n",
        "#         LogisticRegression(solver='sag', tol=1e-1, C=1.0, multi_class=\"auto\"),\n",
        "#         LogisticRegression(solver='newton-cg', tol=1e-1, C=1.0, multi_class=\"auto\"),\n",
        "#         LogisticRegression(solver='liblinear', penalty='l2', multi_class=\"auto\"),\n",
        "#         LogisticRegression(solver='liblinear', C=10, penalty='l2', multi_class=\"auto\"),\n",
        "#         LogisticRegression(solver='liblinear', penalty='l1', multi_class=\"auto\"),\n",
        "#         LogisticRegression(solver='saga', multi_class=\"auto\"),\n",
        "#         ]\n",
        "\n",
        "# for m in clas:\n",
        "#     m.fit(X_train, y_train)\n",
        "#     predicted = m.predict(X_test)\n",
        "\n",
        "#     f1 = f1_score(y_test, predicted, average=\"macro\") \n",
        "#     print(f\"F1: {f1}\\n\\n{str(m)}\\n\")"
      ],
      "execution_count": 0,
      "outputs": []
    },
    {
      "cell_type": "code",
      "metadata": {
        "id": "MlSem_-73-Lb",
        "colab_type": "code",
        "colab": {}
      },
      "source": [
        "m = LogisticRegression(C =10, solver='liblinear', penalty='l2', multi_class=\"auto\")\n",
        "m.fit(X_train, y_train)\n",
        "predicted = m.predict(X_test)\n",
        "f1 = f1_score(y_test, predicted, average=\"macro\") \n",
        "print(f\"F1: {f1}\\n\\n{str(m)}\\n\")"
      ],
      "execution_count": 0,
      "outputs": []
    },
    {
      "cell_type": "code",
      "metadata": {
        "id": "NLbxnRg5HmhS",
        "colab_type": "code",
        "colab": {}
      },
      "source": [
        "from sklearn.pipeline import Pipeline\n",
        "from sklearn.model_selection import GridSearchCV\n",
        "pipe = Pipeline([('classifier' , LogisticRegression())])\n",
        "\n",
        "# Create param grid.\n",
        "\n",
        "param_grid = [\n",
        "    {'classifier' : [LogisticRegression()],\n",
        "     'classifier__penalty' : ['l1', 'l2'],\n",
        "    'classifier__C' : np.logspace(-40, 40, 20),\n",
        "    'classifier__solver' : ['newton-cg', 'lbfgs', 'liblinear', 'sag', 'saga']},\n",
        "]\n",
        "\n",
        "# Create grid search object\n",
        "\n",
        "clf = GridSearchCV(pipe, param_grid = param_grid, cv = 3, verbose=True, n_jobs=-1)\n",
        "\n",
        "# Fit on data\n",
        "\n",
        "best_clf = clf.fit(X_train, y_train)\n",
        "predicted = best_clf.predict(X_test)\n",
        "f1 = f1_score(y_test, predicted, average=\"macro\") \n",
        "print(f\"F1: {f1}\\n\\n{str(best_clf)}\\n\")"
      ],
      "execution_count": 0,
      "outputs": []
    },
    {
      "cell_type": "code",
      "metadata": {
        "id": "DhZQsCKaYTQj",
        "colab_type": "code",
        "colab": {}
      },
      "source": [
        "m = LogisticRegression(C =20, solver='liblinear', penalty='l2', multi_class=\"auto\")\n",
        "m.fit(X, y)"
      ],
      "execution_count": 0,
      "outputs": []
    },
    {
      "cell_type": "code",
      "metadata": {
        "id": "QDL7HKP7YLsY",
        "colab_type": "code",
        "colab": {}
      },
      "source": [
        "df_BERT_64= pd.read_csv(\"/content/drive/My Drive/BERT_test64.csv\")\n",
        "df_BERT_649= pd.read_csv(\"/content/drive/My Drive/BERT_test64_9.csv\")\n",
        "df_BERT_65= pd.read_csv(\"/content/drive/My Drive/BERT_test65.csv\")\n",
        "df_DistilBERT_64= pd.read_csv(\"/content/drive/My Drive/DistilBERT_test64_1.csv\")\n",
        "df_DistilBERT_65= pd.read_csv(\"/content/drive/My Drive/DistilBERT_test65.csv\")"
      ],
      "execution_count": 0,
      "outputs": []
    },
    {
      "cell_type": "code",
      "metadata": {
        "id": "eWanAh0AYe7t",
        "colab_type": "code",
        "colab": {}
      },
      "source": [
        "df = pd.DataFrame()\n",
        "df[\"BERT_64_negative\"] = df_BERT_64[\"proba_negative\"]\n",
        "df[\"BERT_64_neutral\"] = df_BERT_64[\"proba_neutral\"]\n",
        "df[\"BERT_64_positive\"] = df_BERT_64[\"proba_positive\"]\n",
        "# df[\"BERT_64_sentiment\"] = le.transform(df_BERT_64[\"Sentiment\"])\n",
        "\n",
        "\n",
        "df[\"BERT_649_negative\"] = df_BERT_649[\"proba_negative\"]\n",
        "df[\"BERT_649_neutral\"] = df_BERT_649[\"proba_neutral\"]\n",
        "df[\"BERT_649_positive\"] = df_BERT_649[\"proba_positive\"]\n",
        "# df[\"BERT_649_sentiment\"] = le.transform(df_BERT_649[\"Sentiment\"])\n",
        "\n",
        "df[\"BERT_65_negative\"] = df_BERT_65[\"proba_negative\"]\n",
        "df[\"BERT_65_neutral\"] = df_BERT_65[\"proba_neutral\"]\n",
        "df[\"BERT_65_positive\"] = df_BERT_65[\"proba_positive\"]\n",
        "# df[\"BERT_65_sentiment\"] = le.transform(df_BERT_65[\"Sentiment\"])\n",
        "\n",
        "# df[\"DistilBERT_64_negative\"] = df_DistilBERT_64[\"proba_negative\"]\n",
        "# df[\"DistilBERT_64_neutral\"] = df_DistilBERT_64[\"proba_neutral\"]\n",
        "# df[\"DistilBERT_64_positive\"] = df_DistilBERT_64[\"proba_positive\"]\n",
        "# df[\"DistilBERT_64_sentiment\"] = le.transform(df_DistilBERT_64[\"Sentiment\"])\n",
        "\n",
        "df[\"DistilBERT_65_negative\"] = df_DistilBERT_65[\"proba_negative\"]\n",
        "df[\"DistilBERT_65_neutral\"] = df_DistilBERT_65[\"proba_neutral\"]\n",
        "df[\"DistilBERT_65_positive\"] = df_DistilBERT_65[\"proba_positive\"]\n",
        "# df[\"DistilBERT_64_sentiment\"] = le.transform(df_DistilBERT_64[\"Sentiment\"])\n"
      ],
      "execution_count": 0,
      "outputs": []
    },
    {
      "cell_type": "code",
      "metadata": {
        "id": "-61D11M6SXZU",
        "colab_type": "code",
        "colab": {}
      },
      "source": [
        "predicted = m.predict(df)"
      ],
      "execution_count": 0,
      "outputs": []
    },
    {
      "cell_type": "code",
      "metadata": {
        "id": "T8cQ72b-Ykdp",
        "colab_type": "code",
        "colab": {}
      },
      "source": [
        "import seaborn as sns\n",
        "sns.countplot(predicted)"
      ],
      "execution_count": 0,
      "outputs": []
    },
    {
      "cell_type": "code",
      "metadata": {
        "id": "1hfo82IuYl4k",
        "colab_type": "code",
        "colab": {}
      },
      "source": [
        "output = le.inverse_transform(predicted)\n",
        "output"
      ],
      "execution_count": 0,
      "outputs": []
    },
    {
      "cell_type": "code",
      "metadata": {
        "id": "jNjQOBV3Y5EG",
        "colab_type": "code",
        "colab": {}
      },
      "source": [
        "outputdf = df_BERT_64\n",
        "outputdf[\"output\"] = output"
      ],
      "execution_count": 0,
      "outputs": []
    },
    {
      "cell_type": "code",
      "metadata": {
        "id": "YmDKqTHTY8cZ",
        "colab_type": "code",
        "colab": {}
      },
      "source": [
        "# outputdf.to_csv(\"drive/My Drive/67.csv\")"
      ],
      "execution_count": 0,
      "outputs": []
    },
    {
      "cell_type": "code",
      "metadata": {
        "id": "ec6EnaliO1XZ",
        "colab_type": "code",
        "colab": {}
      },
      "source": [
        "from sklearn.metrics import accuracy_score, precision_recall_fscore_support\n",
        "import pandas as pd\n",
        "precision_recall_fscore_support(outputdf[\"Sentiment\"], l[\"Sentiment\"][:-1], average=\"macro\"), accuracy_score(outputdf[\"Sentiment\"], l[\"Sentiment\"][:-1])"
      ],
      "execution_count": 0,
      "outputs": []
    },
    {
      "cell_type": "code",
      "metadata": {
        "id": "eu_DzodLO4Tv",
        "colab_type": "code",
        "colab": {}
      },
      "source": [
        ""
      ],
      "execution_count": 0,
      "outputs": []
    }
  ]
}