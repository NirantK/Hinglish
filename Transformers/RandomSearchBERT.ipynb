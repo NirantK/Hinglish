{
  "nbformat": 4,
  "nbformat_minor": 0,
  "metadata": {
    "colab": {
      "name": "RandomSearchBERT.ipynb",
      "provenance": [],
      "collapsed_sections": [],
      "mount_file_id": "1GH4MKzg7C4qP9LbJ2M3o2B1fuaNDizN-",
      "authorship_tag": "ABX9TyPn0U8y9e9h2BesxrEDQYhF",
      "include_colab_link": true
    },
    "kernelspec": {
      "name": "python3",
      "display_name": "Python 3"
    },
    "accelerator": "GPU"
  },
  "cells": [
    {
      "cell_type": "markdown",
      "metadata": {
        "id": "view-in-github",
        "colab_type": "text"
      },
      "source": [
        "<a href=\"https://colab.research.google.com/github/NirantK/Hinglish/blob/mergeall/Transformers/RandomSearchBERT.ipynb\" target=\"_parent\"><img src=\"https://colab.research.google.com/assets/colab-badge.svg\" alt=\"Open In Colab\"/></a>"
      ]
    },
    {
      "cell_type": "code",
      "metadata": {
        "id": "_EynKxhPCLFC",
        "colab_type": "code",
        "colab": {
          "base_uri": "https://localhost:8080/",
          "height": 1000
        },
        "outputId": "f1c13e3c-64f6-4e24-f0f1-ed240c621778"
      },
      "source": [
        "!pip install transformers\n",
        "!git clone https://github.com/NirantK/Hinglish.git\n",
        "%cd Hinglish\n",
        "from hinglishutils import get_files_from_gdrive\n",
        "\n",
        "get_files_from_gdrive(\"https://drive.google.com/file/d/1-Ki6v1a1jF79qx22gM6JlX1NVD4txTdn/view?usp=sharing\", \n",
        "                      \"train_lm.txt\")\n",
        "\n",
        "get_files_from_gdrive(\"https://drive.google.com/file/d/1-MRU7w2_la36qopO8Ob4BoCynOAZc0sZ/view?usp=sharing\", \n",
        "                      \"dev_lm.txt\")\n",
        "\n",
        "get_files_from_gdrive(\"https://drive.google.com/file/d/1-NqiU-tL5hW59MFtUXh1exivRokZKfs7/view?usp=sharing\", \n",
        "                      \"test_lm.txt\")\n",
        "\n",
        "get_files_from_gdrive(\"https://drive.google.com/file/d/1k4N0JlVOP-crIcCtC6ZI5Va8X3s2-r_D/view?usp=sharing\", \n",
        "                      \"test_labels_hinglish.txt\")\n",
        "\n",
        "get_files_from_gdrive(\"https://drive.google.com/file/d/1-FykBMdD7erRhr9370thtySNm6QvnQAA/view?usp=sharing\", \n",
        "                      \"train.json\")\n",
        "\n",
        "get_files_from_gdrive(\"https://drive.google.com/file/d/1-F6o4lSub2D-_iCoNPvxxnCiPQ82VJjG/view?usp=sharing\", \n",
        "                      \"test.json\")\n",
        "\n",
        "get_files_from_gdrive(\"https://drive.google.com/file/d/1-Esp4UtIZwX44eI8qndngweKZ6p9GLKT/view?usp=sharing\", \n",
        "                      \"valid.json\")\n",
        "\n",
        "get_files_from_gdrive(\"https://drive.google.com/file/d/1-8Ml-lDyEE-UbbMw8tALTJ_kkwaetor-/view?usp=sharing\", \n",
        "                      \"final_test.json\")\n",
        "\n",
        "get_files_from_gdrive(\"https://drive.google.com/file/d/1-0bVrbhQ3nJhwmgIdhuL-ws4V9zuFpMF/view?usp=sharing\", \n",
        "                      \"hinglishBert.tar\")\n",
        "\n",
        "!tar xvf hinglishBert.tar"
      ],
      "execution_count": null,
      "outputs": [
        {
          "output_type": "stream",
          "text": [
            "Collecting transformers\n",
            "\u001b[?25l  Downloading https://files.pythonhosted.org/packages/27/3c/91ed8f5c4e7ef3227b4119200fc0ed4b4fd965b1f0172021c25701087825/transformers-3.0.2-py3-none-any.whl (769kB)\n",
            "\r\u001b[K     |▍                               | 10kB 20.6MB/s eta 0:00:01\r\u001b[K     |▉                               | 20kB 3.0MB/s eta 0:00:01\r\u001b[K     |█▎                              | 30kB 4.0MB/s eta 0:00:01\r\u001b[K     |█▊                              | 40kB 4.4MB/s eta 0:00:01\r\u001b[K     |██▏                             | 51kB 3.5MB/s eta 0:00:01\r\u001b[K     |██▋                             | 61kB 4.0MB/s eta 0:00:01\r\u001b[K     |███                             | 71kB 4.2MB/s eta 0:00:01\r\u001b[K     |███▍                            | 81kB 4.6MB/s eta 0:00:01\r\u001b[K     |███▉                            | 92kB 4.9MB/s eta 0:00:01\r\u001b[K     |████▎                           | 102kB 4.7MB/s eta 0:00:01\r\u001b[K     |████▊                           | 112kB 4.7MB/s eta 0:00:01\r\u001b[K     |█████▏                          | 122kB 4.7MB/s eta 0:00:01\r\u001b[K     |█████▌                          | 133kB 4.7MB/s eta 0:00:01\r\u001b[K     |██████                          | 143kB 4.7MB/s eta 0:00:01\r\u001b[K     |██████▍                         | 153kB 4.7MB/s eta 0:00:01\r\u001b[K     |██████▉                         | 163kB 4.7MB/s eta 0:00:01\r\u001b[K     |███████▎                        | 174kB 4.7MB/s eta 0:00:01\r\u001b[K     |███████▊                        | 184kB 4.7MB/s eta 0:00:01\r\u001b[K     |████████                        | 194kB 4.7MB/s eta 0:00:01\r\u001b[K     |████████▌                       | 204kB 4.7MB/s eta 0:00:01\r\u001b[K     |█████████                       | 215kB 4.7MB/s eta 0:00:01\r\u001b[K     |█████████▍                      | 225kB 4.7MB/s eta 0:00:01\r\u001b[K     |█████████▉                      | 235kB 4.7MB/s eta 0:00:01\r\u001b[K     |██████████▎                     | 245kB 4.7MB/s eta 0:00:01\r\u001b[K     |██████████▋                     | 256kB 4.7MB/s eta 0:00:01\r\u001b[K     |███████████                     | 266kB 4.7MB/s eta 0:00:01\r\u001b[K     |███████████▌                    | 276kB 4.7MB/s eta 0:00:01\r\u001b[K     |████████████                    | 286kB 4.7MB/s eta 0:00:01\r\u001b[K     |████████████▍                   | 296kB 4.7MB/s eta 0:00:01\r\u001b[K     |████████████▉                   | 307kB 4.7MB/s eta 0:00:01\r\u001b[K     |█████████████▏                  | 317kB 4.7MB/s eta 0:00:01\r\u001b[K     |█████████████▋                  | 327kB 4.7MB/s eta 0:00:01\r\u001b[K     |██████████████                  | 337kB 4.7MB/s eta 0:00:01\r\u001b[K     |██████████████▌                 | 348kB 4.7MB/s eta 0:00:01\r\u001b[K     |███████████████                 | 358kB 4.7MB/s eta 0:00:01\r\u001b[K     |███████████████▍                | 368kB 4.7MB/s eta 0:00:01\r\u001b[K     |███████████████▊                | 378kB 4.7MB/s eta 0:00:01\r\u001b[K     |████████████████▏               | 389kB 4.7MB/s eta 0:00:01\r\u001b[K     |████████████████▋               | 399kB 4.7MB/s eta 0:00:01\r\u001b[K     |█████████████████               | 409kB 4.7MB/s eta 0:00:01\r\u001b[K     |█████████████████▌              | 419kB 4.7MB/s eta 0:00:01\r\u001b[K     |██████████████████              | 430kB 4.7MB/s eta 0:00:01\r\u001b[K     |██████████████████▎             | 440kB 4.7MB/s eta 0:00:01\r\u001b[K     |██████████████████▊             | 450kB 4.7MB/s eta 0:00:01\r\u001b[K     |███████████████████▏            | 460kB 4.7MB/s eta 0:00:01\r\u001b[K     |███████████████████▋            | 471kB 4.7MB/s eta 0:00:01\r\u001b[K     |████████████████████            | 481kB 4.7MB/s eta 0:00:01\r\u001b[K     |████████████████████▌           | 491kB 4.7MB/s eta 0:00:01\r\u001b[K     |████████████████████▉           | 501kB 4.7MB/s eta 0:00:01\r\u001b[K     |█████████████████████▎          | 512kB 4.7MB/s eta 0:00:01\r\u001b[K     |█████████████████████▊          | 522kB 4.7MB/s eta 0:00:01\r\u001b[K     |██████████████████████▏         | 532kB 4.7MB/s eta 0:00:01\r\u001b[K     |██████████████████████▋         | 542kB 4.7MB/s eta 0:00:01\r\u001b[K     |███████████████████████         | 552kB 4.7MB/s eta 0:00:01\r\u001b[K     |███████████████████████▍        | 563kB 4.7MB/s eta 0:00:01\r\u001b[K     |███████████████████████▉        | 573kB 4.7MB/s eta 0:00:01\r\u001b[K     |████████████████████████▎       | 583kB 4.7MB/s eta 0:00:01\r\u001b[K     |████████████████████████▊       | 593kB 4.7MB/s eta 0:00:01\r\u001b[K     |█████████████████████████▏      | 604kB 4.7MB/s eta 0:00:01\r\u001b[K     |█████████████████████████▋      | 614kB 4.7MB/s eta 0:00:01\r\u001b[K     |██████████████████████████      | 624kB 4.7MB/s eta 0:00:01\r\u001b[K     |██████████████████████████▍     | 634kB 4.7MB/s eta 0:00:01\r\u001b[K     |██████████████████████████▉     | 645kB 4.7MB/s eta 0:00:01\r\u001b[K     |███████████████████████████▎    | 655kB 4.7MB/s eta 0:00:01\r\u001b[K     |███████████████████████████▊    | 665kB 4.7MB/s eta 0:00:01\r\u001b[K     |████████████████████████████▏   | 675kB 4.7MB/s eta 0:00:01\r\u001b[K     |████████████████████████████▌   | 686kB 4.7MB/s eta 0:00:01\r\u001b[K     |█████████████████████████████   | 696kB 4.7MB/s eta 0:00:01\r\u001b[K     |█████████████████████████████▍  | 706kB 4.7MB/s eta 0:00:01\r\u001b[K     |█████████████████████████████▉  | 716kB 4.7MB/s eta 0:00:01\r\u001b[K     |██████████████████████████████▎ | 727kB 4.7MB/s eta 0:00:01\r\u001b[K     |██████████████████████████████▊ | 737kB 4.7MB/s eta 0:00:01\r\u001b[K     |███████████████████████████████ | 747kB 4.7MB/s eta 0:00:01\r\u001b[K     |███████████████████████████████▌| 757kB 4.7MB/s eta 0:00:01\r\u001b[K     |████████████████████████████████| 768kB 4.7MB/s eta 0:00:01\r\u001b[K     |████████████████████████████████| 778kB 4.7MB/s \n",
            "\u001b[?25hRequirement already satisfied: requests in /usr/local/lib/python3.6/dist-packages (from transformers) (2.23.0)\n",
            "Requirement already satisfied: regex!=2019.12.17 in /usr/local/lib/python3.6/dist-packages (from transformers) (2019.12.20)\n",
            "Collecting sentencepiece!=0.1.92\n",
            "\u001b[?25l  Downloading https://files.pythonhosted.org/packages/d4/a4/d0a884c4300004a78cca907a6ff9a5e9fe4f090f5d95ab341c53d28cbc58/sentencepiece-0.1.91-cp36-cp36m-manylinux1_x86_64.whl (1.1MB)\n",
            "\u001b[K     |████████████████████████████████| 1.1MB 23.4MB/s \n",
            "\u001b[?25hCollecting tokenizers==0.8.1.rc1\n",
            "\u001b[?25l  Downloading https://files.pythonhosted.org/packages/40/d0/30d5f8d221a0ed981a186c8eb986ce1c94e3a6e87f994eae9f4aa5250217/tokenizers-0.8.1rc1-cp36-cp36m-manylinux1_x86_64.whl (3.0MB)\n",
            "\u001b[K     |████████████████████████████████| 3.0MB 33.8MB/s \n",
            "\u001b[?25hRequirement already satisfied: tqdm>=4.27 in /usr/local/lib/python3.6/dist-packages (from transformers) (4.41.1)\n",
            "Requirement already satisfied: numpy in /usr/local/lib/python3.6/dist-packages (from transformers) (1.18.5)\n",
            "Collecting sacremoses\n",
            "\u001b[?25l  Downloading https://files.pythonhosted.org/packages/7d/34/09d19aff26edcc8eb2a01bed8e98f13a1537005d31e95233fd48216eed10/sacremoses-0.0.43.tar.gz (883kB)\n",
            "\u001b[K     |████████████████████████████████| 890kB 52.5MB/s \n",
            "\u001b[?25hRequirement already satisfied: dataclasses; python_version < \"3.7\" in /usr/local/lib/python3.6/dist-packages (from transformers) (0.7)\n",
            "Requirement already satisfied: packaging in /usr/local/lib/python3.6/dist-packages (from transformers) (20.4)\n",
            "Requirement already satisfied: filelock in /usr/local/lib/python3.6/dist-packages (from transformers) (3.0.12)\n",
            "Requirement already satisfied: chardet<4,>=3.0.2 in /usr/local/lib/python3.6/dist-packages (from requests->transformers) (3.0.4)\n",
            "Requirement already satisfied: idna<3,>=2.5 in /usr/local/lib/python3.6/dist-packages (from requests->transformers) (2.10)\n",
            "Requirement already satisfied: urllib3!=1.25.0,!=1.25.1,<1.26,>=1.21.1 in /usr/local/lib/python3.6/dist-packages (from requests->transformers) (1.24.3)\n",
            "Requirement already satisfied: certifi>=2017.4.17 in /usr/local/lib/python3.6/dist-packages (from requests->transformers) (2020.6.20)\n",
            "Requirement already satisfied: six in /usr/local/lib/python3.6/dist-packages (from sacremoses->transformers) (1.15.0)\n",
            "Requirement already satisfied: click in /usr/local/lib/python3.6/dist-packages (from sacremoses->transformers) (7.1.2)\n",
            "Requirement already satisfied: joblib in /usr/local/lib/python3.6/dist-packages (from sacremoses->transformers) (0.16.0)\n",
            "Requirement already satisfied: pyparsing>=2.0.2 in /usr/local/lib/python3.6/dist-packages (from packaging->transformers) (2.4.7)\n",
            "Building wheels for collected packages: sacremoses\n",
            "  Building wheel for sacremoses (setup.py) ... \u001b[?25l\u001b[?25hdone\n",
            "  Created wheel for sacremoses: filename=sacremoses-0.0.43-cp36-none-any.whl size=893260 sha256=8b42159e1239ff2cb0891671d0cfc9fdff7770117ba06e380f38bcb91530028b\n",
            "  Stored in directory: /root/.cache/pip/wheels/29/3c/fd/7ce5c3f0666dab31a50123635e6fb5e19ceb42ce38d4e58f45\n",
            "Successfully built sacremoses\n",
            "Installing collected packages: sentencepiece, tokenizers, sacremoses, transformers\n",
            "Successfully installed sacremoses-0.0.43 sentencepiece-0.1.91 tokenizers-0.8.1rc1 transformers-3.0.2\n",
            "Cloning into 'Hinglish'...\n",
            "remote: Enumerating objects: 113, done.\u001b[K\n",
            "remote: Counting objects: 100% (113/113), done.\u001b[K\n",
            "remote: Compressing objects: 100% (95/95), done.\u001b[K\n",
            "remote: Total 413 (delta 56), reused 44 (delta 18), pack-reused 300\u001b[K\n",
            "Receiving objects: 100% (413/413), 44.23 MiB | 22.78 MiB/s, done.\n",
            "Resolving deltas: 100% (206/206), done.\n",
            "/content/Hinglish\n",
            "Branch 'all_berts' set up to track remote branch 'all_berts' from 'origin'.\n",
            "Switched to a new branch 'all_berts'\n"
          ],
          "name": "stdout"
        },
        {
          "output_type": "stream",
          "text": [
            "Downloading...\n",
            "From: https://drive.google.com/uc?id=1-Ki6v1a1jF79qx22gM6JlX1NVD4txTdn\n",
            "To: /content/Hinglish/train_lm.txt\n",
            "41.2MB [00:00, 90.8MB/s]\n",
            "Downloading...\n",
            "From: https://drive.google.com/uc?id=1-MRU7w2_la36qopO8Ob4BoCynOAZc0sZ\n",
            "To: /content/Hinglish/dev_lm.txt\n",
            "4.59MB [00:00, 238MB/s]\n",
            "Downloading...\n",
            "From: https://drive.google.com/uc?id=1-NqiU-tL5hW59MFtUXh1exivRokZKfs7\n",
            "To: /content/Hinglish/test_lm.txt\n",
            "5.09MB [00:00, 243MB/s]\n",
            "Downloading...\n",
            "From: https://drive.google.com/uc?id=1k4N0JlVOP-crIcCtC6ZI5Va8X3s2-r_D\n",
            "To: /content/Hinglish/test_labels_hinglish.txt\n",
            "100%|██████████| 46.2k/46.2k [00:00<00:00, 13.0MB/s]\n",
            "Downloading...\n",
            "From: https://drive.google.com/uc?id=1-FykBMdD7erRhr9370thtySNm6QvnQAA\n",
            "To: /content/Hinglish/train.json\n",
            "4.45MB [00:00, 104MB/s]\n",
            "Downloading...\n",
            "From: https://drive.google.com/uc?id=1-F6o4lSub2D-_iCoNPvxxnCiPQ82VJjG\n",
            "To: /content/Hinglish/test.json\n",
            "100%|██████████| 1.11M/1.11M [00:00<00:00, 83.9MB/s]\n",
            "Downloading...\n",
            "From: https://drive.google.com/uc?id=1-Esp4UtIZwX44eI8qndngweKZ6p9GLKT\n",
            "To: /content/Hinglish/valid.json\n",
            "100%|██████████| 985k/985k [00:00<00:00, 130MB/s]\n",
            "Downloading...\n",
            "From: https://drive.google.com/uc?id=1-8Ml-lDyEE-UbbMw8tALTJ_kkwaetor-\n",
            "To: /content/Hinglish/final_test.json\n",
            "100%|██████████| 989k/989k [00:00<00:00, 78.1MB/s]\n",
            "Downloading...\n",
            "From: https://drive.google.com/uc?id=1-0bVrbhQ3nJhwmgIdhuL-ws4V9zuFpMF\n",
            "To: /content/Hinglish/hinglishBert.tar\n",
            "712MB [00:05, 134MB/s]\n"
          ],
          "name": "stderr"
        },
        {
          "output_type": "stream",
          "text": [
            "model_save/\n",
            "model_save/tokenizer_config.json\n",
            "model_save/config.json\n",
            "model_save/special_tokens_map.json\n",
            "model_save/pytorch_model.bin\n",
            "model_save/vocab.txt\n"
          ],
          "name": "stdout"
        }
      ]
    },
    {
      "cell_type": "code",
      "metadata": {
        "id": "PsPFh7yqCO2H",
        "colab_type": "code",
        "colab": {}
      },
      "source": [
        "# %cd Hinglish\n",
        "from hinglishbertfinetuning import hinglishbert"
      ],
      "execution_count": null,
      "outputs": []
    },
    {
      "cell_type": "code",
      "metadata": {
        "id": "I9BuYouUIaOx",
        "colab_type": "code",
        "colab": {}
      },
      "source": [
        "hinglishbert(\n",
        "            batch_size=16,\n",
        "            attention_probs_dropout_prob=0.8,\n",
        "            hidden_dropout_prob=0.4,\n",
        "            learning_rate=3.02e-05,\n",
        "            adam_epsilon=9.35e-05,\n",
        "            input_name = \"BERT_lr_3e_05\")"
      ],
      "execution_count": null,
      "outputs": []
    },
    {
      "cell_type": "code",
      "metadata": {
        "id": "ckr3nIyftDKG",
        "colab_type": "code",
        "colab": {}
      },
      "source": [
        "# !tar cvf BERT_lr_3e_05.tar BERT_lr_3e_05/\n",
        "# !cp BERT_lr_3e_05.tar ../drive/My\\ Drive/HinglishNLP/Models/Class\n",
        "# !cp BERT_lr_3e_05-test-output-df.csv ../drive/My\\ Drive/HinglishNLP/PredOutput/\n",
        "# !cp BERT_lr_3e_05-test-full-output.csv ../drive/My\\ Drive/HinglishNLP/PredOutput/"
      ],
      "execution_count": null,
      "outputs": []
    },
    {
      "cell_type": "code",
      "metadata": {
        "id": "7AS7LdFk22CK",
        "colab_type": "code",
        "colab": {}
      },
      "source": [
        "# !rm -r BERT_lr_302e_05"
      ],
      "execution_count": null,
      "outputs": []
    },
    {
      "cell_type": "code",
      "metadata": {
        "id": "ed-aMsKrIk4m",
        "colab_type": "code",
        "colab": {}
      },
      "source": [
        "hinglishbert(\n",
        "            batch_size=16,\n",
        "            attention_probs_dropout_prob=0.8,\n",
        "            hidden_dropout_prob=0.4,\n",
        "            learning_rate=3.02e-05,\n",
        "            adam_epsilon=9.35e-05,\n",
        "            input_name = \"BERT_lr_302e_05\")"
      ],
      "execution_count": null,
      "outputs": []
    },
    {
      "cell_type": "code",
      "metadata": {
        "id": "uZVUfBzSunjE",
        "colab_type": "code",
        "colab": {}
      },
      "source": [
        "# !tar cvf BERT_lr_3e_04.tar BERT_lr_3e_04/\n",
        "# !cp BERT_lr_3e_04.tar ../drive/My\\ Drive/HinglishNLP/Models/Class\n",
        "# !cp BERT_lr_3e_04-test-output-df.csv ../drive/My\\ Drive/HinglishNLP/PredOutput/\n",
        "# !cp BERT_lr_3e_04-test-full-output.csv ../drive/My\\ Drive/HinglishNLP/PredOutput/\n",
        "# !cp BERT_lr_3e_04-final_test-output-df.csv ../drive/My\\ Drive/HinglishNLP/PredOutput/\n",
        "# !cp BERT_lr_3e_04-final_test-full-output.csv ../drive/My\\ Drive/HinglishNLP/PredOutput/\n",
        "# !rm -r BERT_lr_3e_04\n",
        "# !cp -r *.log ../drive/My\\ Drive/HinglishNLP/PredOutput/"
      ],
      "execution_count": null,
      "outputs": []
    },
    {
      "cell_type": "code",
      "metadata": {
        "id": "f3x016STlfdC",
        "colab_type": "code",
        "colab": {}
      },
      "source": [
        "hinglishbert(\n",
        "            batch_size=4,\n",
        "            attention_probs_dropout_prob=0.6,\n",
        "            hidden_dropout_prob=0.2,\n",
        "            learning_rate=5.13e-05,\n",
        "            adam_epsilon=9.72e-05,\n",
        "            input_name = \"BERT_lr_513e_05\")"
      ],
      "execution_count": null,
      "outputs": []
    },
    {
      "cell_type": "code",
      "metadata": {
        "id": "oqthyV_xusQi",
        "colab_type": "code",
        "colab": {}
      },
      "source": [
        "# !tar cvf BERT_lr_513e_05.tar BERT_lr_513e_05/\n",
        "# !cp BERT_lr_513e_05.tar ../drive/My\\ Drive/HinglishNLP/Models/Class\n",
        "# !cp BERT_lr_513e_05-test-output-df.csv ../drive/My\\ Drive/HinglishNLP/PredOutput/\n",
        "# !cp BERT_lr_513e_05-test-full-output.csv ../drive/My\\ Drive/HinglishNLP/PredOutput/\n",
        "# !rm -r BERT_lr_513e_05\n",
        "# !cp -r *.log ../drive/My\\ Drive/HinglishNLP/PredOutput/"
      ],
      "execution_count": null,
      "outputs": []
    },
    {
      "cell_type": "code",
      "metadata": {
        "id": "Iyt9pPy8sWgh",
        "colab_type": "code",
        "colab": {}
      },
      "source": [
        "hinglishbert(\n",
        "            batch_size=4,\n",
        "            attention_probs_dropout_prob=0.7,\n",
        "            hidden_dropout_prob=0.1,\n",
        "            learning_rate=5.01e-05,\n",
        "            adam_epsilon=4.79e-05,\n",
        "            input_name = \"BERT_lr_501e_05\")"
      ],
      "execution_count": null,
      "outputs": []
    },
    {
      "cell_type": "code",
      "metadata": {
        "id": "bDYjms7ZuxJa",
        "colab_type": "code",
        "colab": {}
      },
      "source": [
        "# !tar cvf BERT_lr_501e_05.tar BERT_lr_501e_05/\n",
        "# !cp BERT_lr_501e_05.tar ../drive/My\\ Drive/HinglishNLP/Models/Class\n",
        "# !cp BERT_lr_501e_05-test-output-df.csv ../drive/My\\ Drive/HinglishNLP/PredOutput/\n",
        "# !cp BERT_lr_501e_05-test-full-output.csv ../drive/My\\ Drive/HinglishNLP/PredOutput/\n",
        "# !rm -r BERT_lr_501e_05\n",
        "# !cp -r *.log ../drive/My\\ Drive/HinglishNLP/PredOutput/"
      ],
      "execution_count": null,
      "outputs": []
    },
    {
      "cell_type": "code",
      "metadata": {
        "id": "VKKk9T8qsXD1",
        "colab_type": "code",
        "colab": {}
      },
      "source": [
        "hinglishbert(\n",
        "            batch_size=16,\n",
        "            attention_probs_dropout_prob=0.4,\n",
        "            hidden_dropout_prob=0.6,\n",
        "            learning_rate=4.74e-05,\n",
        "            adam_epsilon=4.09e-05,\n",
        "            input_name = \"BERT_lr_4e_05\")"
      ],
      "execution_count": null,
      "outputs": []
    },
    {
      "cell_type": "code",
      "metadata": {
        "id": "OvZI4r9ou17z",
        "colab_type": "code",
        "colab": {}
      },
      "source": [
        "# !tar cvf BERT_lr_4e_05.tar BERT_lr_4e_05/\n",
        "# !cp BERT_lr_4e_05.tar ../drive/My\\ Drive/HinglishNLP/Models/Class\n",
        "# !cp BERT_lr_4e_05-test-output-df.csv ../drive/My\\ Drive/HinglishNLP/PredOutput/\n",
        "# !cp BERT_lr_4e_05-test-full-output.csv ../drive/My\\ Drive/HinglishNLP/PredOutput/\n",
        "# !rm -r BERT_lr_4e_05\n",
        "# !cp -r *.log ../drive/My\\ Drive/HinglishNLP/PredOutput/"
      ],
      "execution_count": null,
      "outputs": []
    },
    {
      "cell_type": "code",
      "metadata": {
        "id": "8CkxpQn6uHzk",
        "colab_type": "code",
        "colab": {}
      },
      "source": [
        "# !cp -r *.log ../drive/My\\ Drive/HinglishNLP/PredOutput/"
      ],
      "execution_count": null,
      "outputs": []
    },
    {
      "cell_type": "code",
      "metadata": {
        "id": "QGLGeSpMLqSb",
        "colab_type": "code",
        "colab": {}
      },
      "source": [
        "# !cp BERT_lr_4e_05-final_test-output-df.csv ../drive/My\\ Drive/HinglishNLP/PredOutput/\n",
        "# !cp BERT_lr_4e_05-final_test-full-output.csv ../drive/My\\ Drive/HinglishNLP/PredOutput/\n",
        "# !cp BERT_lr_501e_05-final_test-output-df.csv ../drive/My\\ Drive/HinglishNLP/PredOutput/\n",
        "# !cp BERT_lr_501e_05-final_test-full-output.csv ../drive/My\\ Drive/HinglishNLP/PredOutput/\n",
        "# !cp BERT_lr_513e_05-final_test-output-df.csv ../drive/My\\ Drive/HinglishNLP/PredOutput/\n",
        "# !cp BERT_lr_513e_05-final_test-full-output.csv ../drive/My\\ Drive/HinglishNLP/PredOutput/"
      ],
      "execution_count": null,
      "outputs": []
    },
    {
      "cell_type": "code",
      "metadata": {
        "id": "2ThTrobUb16r",
        "colab_type": "code",
        "colab": {}
      },
      "source": [
        ""
      ],
      "execution_count": null,
      "outputs": []
    }
  ]
}