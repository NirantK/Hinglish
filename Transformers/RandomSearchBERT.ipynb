{
 "cells": [
  {
   "cell_type": "markdown",
   "metadata": {},
   "source": [
    "<a href=\"https://colab.research.google.com/github/NirantK/Hinglish/blob/mergeall/Transformers/RandomSearchBERT.ipynb\" target=\"_parent\"><img src=\"https://colab.research.google.com/assets/colab-badge.svg\" alt=\"Open In Colab\"/></a>"
   ]
  },
  {
   "cell_type": "code",
   "execution_count": null,
   "metadata": {},
   "outputs": [],
   "source": [
    "!pip install transformers\n",
    "!git clone https://github.com/NirantK/Hinglish.git\n",
    "%cd Hinglish\n",
    "from hinglishutils import get_files_from_gdrive\n",
    "\n",
    "get_files_from_gdrive(\"https://drive.google.com/file/d/1-Ki6v1a1jF79qx22gM6JlX1NVD4txTdn/view?usp=sharing\", \n",
    "                      \"train_lm.txt\")\n",
    "\n",
    "get_files_from_gdrive(\"https://drive.google.com/file/d/1-MRU7w2_la36qopO8Ob4BoCynOAZc0sZ/view?usp=sharing\", \n",
    "                      \"dev_lm.txt\")\n",
    "\n",
    "get_files_from_gdrive(\"https://drive.google.com/file/d/1-NqiU-tL5hW59MFtUXh1exivRokZKfs7/view?usp=sharing\", \n",
    "                      \"test_lm.txt\")\n",
    "\n",
    "get_files_from_gdrive(\"https://drive.google.com/file/d/1k4N0JlVOP-crIcCtC6ZI5Va8X3s2-r_D/view?usp=sharing\", \n",
    "                      \"test_labels_hinglish.txt\")\n",
    "\n",
    "get_files_from_gdrive(\"https://drive.google.com/file/d/1-FykBMdD7erRhr9370thtySNm6QvnQAA/view?usp=sharing\", \n",
    "                      \"train.json\")\n",
    "\n",
    "get_files_from_gdrive(\"https://drive.google.com/file/d/1-F6o4lSub2D-_iCoNPvxxnCiPQ82VJjG/view?usp=sharing\", \n",
    "                      \"test.json\")\n",
    "\n",
    "get_files_from_gdrive(\"https://drive.google.com/file/d/1-Esp4UtIZwX44eI8qndngweKZ6p9GLKT/view?usp=sharing\", \n",
    "                      \"valid.json\")\n",
    "\n",
    "get_files_from_gdrive(\"https://drive.google.com/file/d/1-8Ml-lDyEE-UbbMw8tALTJ_kkwaetor-/view?usp=sharing\", \n",
    "                      \"final_test.json\")\n",
    "\n",
    "get_files_from_gdrive(\"https://drive.google.com/file/d/1-0bVrbhQ3nJhwmgIdhuL-ws4V9zuFpMF/view?usp=sharing\", \n",
    "                      \"hinglishBert.tar\")\n",
    "\n",
    "!tar xvf hinglishBert.tar"
   ]
  },
  {
   "cell_type": "code",
   "execution_count": null,
   "metadata": {},
   "outputs": [],
   "source": [
    "# %cd Hinglish\n",
    "from hinglishbertfinetuning import hinglishbert"
   ]
  },
  {
   "cell_type": "code",
   "execution_count": null,
   "metadata": {},
   "outputs": [],
   "source": [
    "hinglishbert(\n",
    "            batch_size=16,\n",
    "            attention_probs_dropout_prob=0.8,\n",
    "            hidden_dropout_prob=0.4,\n",
    "            learning_rate=3.02e-05,\n",
    "            adam_epsilon=9.35e-05,\n",
    "            input_name = \"BERT_lr_3e_05\")"
   ]
  },
  {
   "cell_type": "code",
   "execution_count": null,
   "metadata": {},
   "outputs": [],
   "source": [
    "# !tar cvf BERT_lr_3e_05.tar BERT_lr_3e_05/\n",
    "# !cp BERT_lr_3e_05.tar ../drive/My\\ Drive/HinglishNLP/Models/Class\n",
    "# !cp BERT_lr_3e_05-test-output-df.csv ../drive/My\\ Drive/HinglishNLP/PredOutput/\n",
    "# !cp BERT_lr_3e_05-test-full-output.csv ../drive/My\\ Drive/HinglishNLP/PredOutput/"
   ]
  },
  {
   "cell_type": "code",
   "execution_count": null,
   "metadata": {},
   "outputs": [],
   "source": [
    "# !rm -r BERT_lr_302e_05"
   ]
  },
  {
   "cell_type": "code",
   "execution_count": null,
   "metadata": {},
   "outputs": [],
   "source": [
    "hinglishbert(\n",
    "            batch_size=16,\n",
    "            attention_probs_dropout_prob=0.8,\n",
    "            hidden_dropout_prob=0.4,\n",
    "            learning_rate=3.02e-05,\n",
    "            adam_epsilon=9.35e-05,\n",
    "            input_name = \"BERT_lr_302e_05\")"
   ]
  },
  {
   "cell_type": "code",
   "execution_count": null,
   "metadata": {},
   "outputs": [],
   "source": [
    "# !tar cvf BERT_lr_3e_04.tar BERT_lr_3e_04/\n",
    "# !cp BERT_lr_3e_04.tar ../drive/My\\ Drive/HinglishNLP/Models/Class\n",
    "# !cp BERT_lr_3e_04-test-output-df.csv ../drive/My\\ Drive/HinglishNLP/PredOutput/\n",
    "# !cp BERT_lr_3e_04-test-full-output.csv ../drive/My\\ Drive/HinglishNLP/PredOutput/\n",
    "# !cp BERT_lr_3e_04-final_test-output-df.csv ../drive/My\\ Drive/HinglishNLP/PredOutput/\n",
    "# !cp BERT_lr_3e_04-final_test-full-output.csv ../drive/My\\ Drive/HinglishNLP/PredOutput/\n",
    "# !rm -r BERT_lr_3e_04\n",
    "# !cp -r *.log ../drive/My\\ Drive/HinglishNLP/PredOutput/"
   ]
  },
  {
   "cell_type": "code",
   "execution_count": null,
   "metadata": {},
   "outputs": [],
   "source": [
    "hinglishbert(\n",
    "            batch_size=4,\n",
    "            attention_probs_dropout_prob=0.6,\n",
    "            hidden_dropout_prob=0.2,\n",
    "            learning_rate=5.13e-05,\n",
    "            adam_epsilon=9.72e-05,\n",
    "            input_name = \"BERT_lr_513e_05\")"
   ]
  },
  {
   "cell_type": "code",
   "execution_count": null,
   "metadata": {},
   "outputs": [],
   "source": [
    "# !tar cvf BERT_lr_513e_05.tar BERT_lr_513e_05/\n",
    "# !cp BERT_lr_513e_05.tar ../drive/My\\ Drive/HinglishNLP/Models/Class\n",
    "# !cp BERT_lr_513e_05-test-output-df.csv ../drive/My\\ Drive/HinglishNLP/PredOutput/\n",
    "# !cp BERT_lr_513e_05-test-full-output.csv ../drive/My\\ Drive/HinglishNLP/PredOutput/\n",
    "# !rm -r BERT_lr_513e_05\n",
    "# !cp -r *.log ../drive/My\\ Drive/HinglishNLP/PredOutput/"
   ]
  },
  {
   "cell_type": "code",
   "execution_count": null,
   "metadata": {},
   "outputs": [],
   "source": [
    "hinglishbert(\n",
    "            batch_size=4,\n",
    "            attention_probs_dropout_prob=0.7,\n",
    "            hidden_dropout_prob=0.1,\n",
    "            learning_rate=5.01e-05,\n",
    "            adam_epsilon=4.79e-05,\n",
    "            input_name = \"BERT_lr_501e_05\")"
   ]
  },
  {
   "cell_type": "code",
   "execution_count": null,
   "metadata": {},
   "outputs": [],
   "source": [
    "# !tar cvf BERT_lr_501e_05.tar BERT_lr_501e_05/\n",
    "# !cp BERT_lr_501e_05.tar ../drive/My\\ Drive/HinglishNLP/Models/Class\n",
    "# !cp BERT_lr_501e_05-test-output-df.csv ../drive/My\\ Drive/HinglishNLP/PredOutput/\n",
    "# !cp BERT_lr_501e_05-test-full-output.csv ../drive/My\\ Drive/HinglishNLP/PredOutput/\n",
    "# !rm -r BERT_lr_501e_05\n",
    "# !cp -r *.log ../drive/My\\ Drive/HinglishNLP/PredOutput/"
   ]
  },
  {
   "cell_type": "code",
   "execution_count": null,
   "metadata": {},
   "outputs": [],
   "source": [
    "hinglishbert(\n",
    "            batch_size=16,\n",
    "            attention_probs_dropout_prob=0.4,\n",
    "            hidden_dropout_prob=0.6,\n",
    "            learning_rate=4.74e-05,\n",
    "            adam_epsilon=4.09e-05,\n",
    "            input_name = \"BERT_lr_4e_05\")"
   ]
  },
  {
   "cell_type": "code",
   "execution_count": null,
   "metadata": {},
   "outputs": [],
   "source": [
    "# !tar cvf BERT_lr_4e_05.tar BERT_lr_4e_05/\n",
    "# !cp BERT_lr_4e_05.tar ../drive/My\\ Drive/HinglishNLP/Models/Class\n",
    "# !cp BERT_lr_4e_05-test-output-df.csv ../drive/My\\ Drive/HinglishNLP/PredOutput/\n",
    "# !cp BERT_lr_4e_05-test-full-output.csv ../drive/My\\ Drive/HinglishNLP/PredOutput/\n",
    "# !rm -r BERT_lr_4e_05\n",
    "# !cp -r *.log ../drive/My\\ Drive/HinglishNLP/PredOutput/"
   ]
  },
  {
   "cell_type": "code",
   "execution_count": null,
   "metadata": {},
   "outputs": [],
   "source": [
    "# !cp -r *.log ../drive/My\\ Drive/HinglishNLP/PredOutput/"
   ]
  },
  {
   "cell_type": "code",
   "execution_count": null,
   "metadata": {},
   "outputs": [],
   "source": [
    "# !cp BERT_lr_4e_05-final_test-output-df.csv ../drive/My\\ Drive/HinglishNLP/PredOutput/\n",
    "# !cp BERT_lr_4e_05-final_test-full-output.csv ../drive/My\\ Drive/HinglishNLP/PredOutput/\n",
    "# !cp BERT_lr_501e_05-final_test-output-df.csv ../drive/My\\ Drive/HinglishNLP/PredOutput/\n",
    "# !cp BERT_lr_501e_05-final_test-full-output.csv ../drive/My\\ Drive/HinglishNLP/PredOutput/\n",
    "# !cp BERT_lr_513e_05-final_test-output-df.csv ../drive/My\\ Drive/HinglishNLP/PredOutput/\n",
    "# !cp BERT_lr_513e_05-final_test-full-output.csv ../drive/My\\ Drive/HinglishNLP/PredOutput/"
   ]
  },
  {
   "cell_type": "code",
   "execution_count": null,
   "metadata": {},
   "outputs": [],
   "source": [
    ""
   ]
  }
 ],
 "metadata": {
  "kernelspec": {
   "display_name": "Python 3",
   "name": "python3"
  }
 },
 "nbformat": 4,
 "nbformat_minor": 0
}
