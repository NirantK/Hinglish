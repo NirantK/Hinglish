{
  "nbformat": 4,
  "nbformat_minor": 0,
  "metadata": {
    "kernelspec": {
      "display_name": "Python 3",
      "language": "python",
      "name": "python3"
    },
    "colab": {
      "name": "Transformers.ipynb",
      "provenance": []
    }
  },
  "cells": [
    {
      "cell_type": "markdown",
      "metadata": {
        "id": "3h9LNCDTuWBD"
      },
      "source": [
        "# Combines all the results from all the experiments involving transformers"
      ]
    },
    {
      "cell_type": "markdown",
      "metadata": {
        "id": "J61s_v7ouWBF"
      },
      "source": [
        "## Download all the files"
      ]
    },
    {
      "cell_type": "code",
      "metadata": {
        "id": "4a4AGtiCuWBH"
      },
      "source": [
        "!pip install transformers\n",
        "!pip install fastcore\n",
        "!git clone https://github.com/NirantK/Hinglish.git"
      ],
      "execution_count": null,
      "outputs": []
    },
    {
      "cell_type": "code",
      "metadata": {
        "id": "6WFKLR2AwZau"
      },
      "source": [
        "%cd Hinglish\n",
        "# !git checkout orign/wandb\n",
        "wandb.login()"
      ],
      "execution_count": null,
      "outputs": []
    },
    {
      "cell_type": "code",
      "metadata": {
        "id": "7IXyEoknwgZq"
      },
      "source": [
        "# Optional: log both gradients and parameters\n",
        "%env WANDB_WATCH=all\n",
        "%env WANDB_PROJECT=\"hinglish\""
      ],
      "execution_count": null,
      "outputs": []
    },
    {
      "cell_type": "code",
      "metadata": {
        "id": "q_0TozPvwfre"
      },
      "source": [
        "from hinglishutils import get_files_from_gdrive"
      ],
      "execution_count": null,
      "outputs": []
    },
    {
      "cell_type": "code",
      "metadata": {
        "id": "ZEXMpq5KuWBO"
      },
      "source": [
        "get_files_from_gdrive(\"https://drive.google.com/file/d/1-Ki6v1a1jF79qx22gM6JlX1NVD4txTdn/view?usp=sharing\", \n",
        "                      \"train_lm.txt\")\n",
        "\n",
        "get_files_from_gdrive(\"https://drive.google.com/file/d/1-MRU7w2_la36qopO8Ob4BoCynOAZc0sZ/view?usp=sharing\", \n",
        "                      \"dev_lm.txt\")\n",
        "\n",
        "get_files_from_gdrive(\"https://drive.google.com/file/d/1-NqiU-tL5hW59MFtUXh1exivRokZKfs7/view?usp=sharing\", \n",
        "                      \"test_lm.txt\")"
      ],
      "execution_count": null,
      "outputs": []
    },
    {
      "cell_type": "code",
      "metadata": {
        "id": "ZzSM9vMEuWBS"
      },
      "source": [
        "get_files_from_gdrive(\"https://drive.google.com/file/d/1k4N0JlVOP-crIcCtC6ZI5Va8X3s2-r_D/view?usp=sharing\", \n",
        "                      \"test_labels_hinglish.txt\")"
      ],
      "execution_count": null,
      "outputs": []
    },
    {
      "cell_type": "code",
      "metadata": {
        "id": "-VPEKb36uWBX"
      },
      "source": [
        "get_files_from_gdrive(\"https://drive.google.com/file/d/1-FykBMdD7erRhr9370thtySNm6QvnQAA/view?usp=sharing\", \n",
        "                      \"train.json\")\n",
        "\n",
        "get_files_from_gdrive(\"https://drive.google.com/file/d/1-F6o4lSub2D-_iCoNPvxxnCiPQ82VJjG/view?usp=sharing\", \n",
        "                      \"test.json\")\n",
        "\n",
        "get_files_from_gdrive(\"https://drive.google.com/file/d/1-Esp4UtIZwX44eI8qndngweKZ6p9GLKT/view?usp=sharing\", \n",
        "                      \"valid.json\")\n",
        "\n",
        "get_files_from_gdrive(\"https://drive.google.com/file/d/17wFvtj9tfp4QI6FrErAyqL9H1s5-lZkR/view?usp=sharing\", \n",
        "                      \"final_test.json\")"
      ],
      "execution_count": null,
      "outputs": []
    },
    {
      "cell_type": "code",
      "metadata": {
        "id": "_ntmK5AxuWBa"
      },
      "source": [
        "get_files_from_gdrive(\"https://drive.google.com/file/d/1-0bVrbhQ3nJhwmgIdhuL-ws4V9zuFpMF/view?usp=sharing\", \n",
        "                      \"hinglishBert.tar\")"
      ],
      "execution_count": null,
      "outputs": []
    },
    {
      "cell_type": "code",
      "metadata": {
        "id": "U-1gp1izuWBd"
      },
      "source": [
        "get_files_from_gdrive(\"https://drive.google.com/file/d/1I1JXDg8ZzuuzXMN1X986oCeOjSxqZj7C/view?usp=sharing\", \n",
        "                      \"hinglishDistilBert.tar\")"
      ],
      "execution_count": null,
      "outputs": []
    },
    {
      "cell_type": "code",
      "metadata": {
        "id": "Gw0sMj2euWBf"
      },
      "source": [
        "get_files_from_gdrive(\"https://drive.google.com/file/d/1TTJzXi0dWYHVCrZM8vWoZzKWPfIF0ErB/view?usp=sharing\", \n",
        "                      \"hinglishRoberta.tar\")"
      ],
      "execution_count": null,
      "outputs": []
    },
    {
      "cell_type": "markdown",
      "metadata": {
        "id": "zZKzabiEuWBh"
      },
      "source": [
        "# Language Modelling \n",
        "The run_language_modeling.py is taken from [huggingface/transformers/examples/language-modeling](https://github.com/huggingface/transformers/tree/master/examples/language-modeling) \n",
        "\n",
        "- output_dir - directory to save your model files\n",
        "- model_type - Type of transfomer model bert/distilbert/roberta\n",
        "- model_name_or_path - name of the model. Model names can be found [here(official and community-uploaded)](https://huggingface.co/models) and [here(official)](https://huggingface.co/transformers/pretrained_models.html)\n",
        "- do_train\n",
        "- do_eval\n",
        "- train_data_file - path to train data text file\n",
        "- eval_data_file - path to eval data text file\n",
        "- mlm - This is used for BERT-based transforers. This stands for masked LMs  \n",
        "- num_train_epochs - Number of training epochs\n",
        "- save_total_limit - This saves the latest n checkpoints where n is the integer you provide to this parameter. We used 2 here because of size constrains on colab\n",
        "- overwrite_output_dir - overwrites the output folder that already exists/ "
      ]
    },
    {
      "cell_type": "code",
      "metadata": {
        "id": "Tgx-FJbNuWBh"
      },
      "source": [
        "!python run_language_modeling.py --output_dir=bert --model_type=bert --model_name_or_path=bert-base-multilingual-cased --do_train --train_data_file=train_lm_data.txt --do_eval --eval_data_file=dev_lm_data.txt --mlm  --num_train_epochs 3 --save_total_limit 2 --overwrite_output_dir"
      ],
      "execution_count": null,
      "outputs": []
    },
    {
      "cell_type": "code",
      "metadata": {
        "id": "jMnob3xNuWBj"
      },
      "source": [
        "!python run_language_modeling.py --output_dir=distilbert --model_type=distilbert --model_name_or_path=distilbert-base-cased --do_train --train_data_file=train_lm_data.txt --do_eval --eval_data_file=dev_lm_data.txt --mlm  --num_train_epochs 3 --save_total_limit 2 --overwrite_output_dir"
      ],
      "execution_count": null,
      "outputs": []
    },
    {
      "cell_type": "code",
      "metadata": {
        "id": "Jw4lqW9YuWBl"
      },
      "source": [
        "!python run_language_modeling.py --output_dir=roberta --model_type=roberta --model_name_or_path=roberta-base --do_train --train_data_file=train_lm_data.txt --do_eval --eval_data_file=dev_lm_data.txt --mlm  --num_train_epochs 3 --save_total_limit 2 --overwrite_output_dir"
      ],
      "execution_count": null,
      "outputs": []
    },
    {
      "cell_type": "markdown",
      "metadata": {
        "id": "d59tYrnyuWBm"
      },
      "source": [
        "# HinglishBERT"
      ]
    },
    {
      "cell_type": "code",
      "metadata": {
        "id": "bxyMUkBSuWBn"
      },
      "source": [
        "from datetime import datetime"
      ],
      "execution_count": null,
      "outputs": []
    },
    {
      "cell_type": "code",
      "metadata": {
        "id": "9vGtEne1uWBp"
      },
      "source": [
        "from hinglish import HinglishTrainer"
      ],
      "execution_count": null,
      "outputs": []
    },
    {
      "cell_type": "code",
      "metadata": {
        "id": "7zgIZou9uWBr"
      },
      "source": [
        "hinglishbert = HinglishTrainer(\n",
        "    \"bert\",\n",
        "    batch_size=16,\n",
        "    attention_probs_dropout_prob=0.4,\n",
        "    hidden_dropout_prob=0.3,\n",
        "    learning_rate=5e-07,\n",
        "    adam_epsilon=1e-08\n",
        ")\n",
        "hinglishbert.train()\n",
        "hinglishbert.evaluate()"
      ],
      "execution_count": null,
      "outputs": []
    },
    {
      "cell_type": "markdown",
      "metadata": {
        "id": "jKcNA0OeuWBs"
      },
      "source": [
        "# HinglishDistilBERT"
      ]
    },
    {
      "cell_type": "code",
      "metadata": {
        "id": "wwR7VW8RuWBt"
      },
      "source": [
        "hinglishbert = HinglishTrainer(\n",
        "    \"distilbert\",\n",
        "    batch_size=16,\n",
        "    attention_probs_dropout_prob=0.6,\n",
        "    hidden_dropout_prob=0.6,\n",
        "    learning_rate=3e-05,\n",
        "    adam_epsilon=1e-08,\n",
        "    lm_model_dir=\"distilBert6\"\n",
        ")\n",
        "hinglishbert.train()\n",
        "hinglishbert.evaluate()"
      ],
      "execution_count": null,
      "outputs": []
    },
    {
      "cell_type": "markdown",
      "metadata": {
        "id": "ChDX3lEzuWBu"
      },
      "source": [
        "# HinglishRoBERTa"
      ]
    },
    {
      "cell_type": "code",
      "metadata": {
        "id": "5HlTkk0QuWBv"
      },
      "source": [
        "hinglishbert = HinglishTrainer(\n",
        "    \"roberta\",\n",
        "    batch_size=16,\n",
        "    attention_probs_dropout_prob=0.1,\n",
        "    hidden_dropout_prob=0.1,\n",
        "    learning_rate=4e-05,\n",
        "    adam_epsilon=5e-08,\n",
        ")\n",
        "hinglishbert.train()\n",
        "hinglishbert.evaluate()"
      ],
      "execution_count": null,
      "outputs": []
    },
    {
      "cell_type": "markdown",
      "metadata": {
        "id": "ECxeAdEWuWBw"
      },
      "source": [
        "# Ensemble Configs"
      ]
    },
    {
      "cell_type": "code",
      "metadata": {
        "id": "8WboNsL2uWBw"
      },
      "source": [
        "hinglishbert = HinglishTrainer(\n",
        "    \"distilbert\",\n",
        "    batch_size=16,\n",
        "    attention_probs_dropout_prob=0.8,\n",
        "    hidden_dropout_prob=0.4,\n",
        "    learning_rate=3.02e-05,\n",
        "    adam_epsilon=9.35e-05,\n",
        "    lm_model_dir=\"distilBert6\"\n",
        ")\n",
        "hinglishbert.train()\n",
        "hinglishbert.evaluate()"
      ],
      "execution_count": null,
      "outputs": []
    },
    {
      "cell_type": "code",
      "metadata": {
        "id": "pdfHKZo9uWBx"
      },
      "source": [
        "hinglishbert = HinglishTrainer(\n",
        "    \"distilbert\",\n",
        "    batch_size=4,\n",
        "    attention_probs_dropout_prob=0.6,\n",
        "    hidden_dropout_prob=0.2,\n",
        "    learning_rate=5.13e-05,\n",
        "    adam_epsilon=9.72e-05,\n",
        "    lm_model_dir=\"distilBert6\"\n",
        ")\n",
        "hinglishbert.train()\n",
        "hinglishbert.evaluate()"
      ],
      "execution_count": null,
      "outputs": []
    },
    {
      "cell_type": "code",
      "metadata": {
        "id": "SuweXbRmuWBz"
      },
      "source": [
        "hinglishbert = HinglishTrainer(\n",
        "    \"distilbert\",\n",
        "    batch_size=16,\n",
        "    attention_probs_dropout_prob=0.4,\n",
        "    hidden_dropout_prob=0.6,\n",
        "    learning_rate=4.74e-05,\n",
        "    adam_epsilon=4.09e-05,\n",
        "    lm_model_dir=\"distilBert6\"\n",
        ")\n",
        "hinglishbert.train()\n",
        "hinglishbert.evaluate()"
      ],
      "execution_count": null,
      "outputs": []
    },
    {
      "cell_type": "code",
      "metadata": {
        "id": "KploUFENuWB0"
      },
      "source": [
        "hinglishbert = HinglishTrainer(\n",
        "    \"bert\",\n",
        "    batch_size=4,\n",
        "    attention_probs_dropout_prob=0.6,\n",
        "    hidden_dropout_prob=0.2,\n",
        "    learning_rate=5.13e-05,\n",
        "    adam_epsilon=9.72e-05,\n",
        "    lm_model_dir=\"distilBert6\"\n",
        ")\n",
        "hinglishbert.train()\n",
        "hinglishbert.evaluate()"
      ],
      "execution_count": null,
      "outputs": []
    },
    {
      "cell_type": "code",
      "metadata": {
        "id": "rE2tgL7-uWB2"
      },
      "source": [
        "hinglishbert = HinglishTrainer(\n",
        "    \"bert\",\n",
        "    batch_size=4,\n",
        "    attention_probs_dropout_prob=0.7,\n",
        "    hidden_dropout_prob=0.1,\n",
        "    learning_rate=5.01e-05,\n",
        "    adam_epsilon=4.79e-05,\n",
        "    lm_model_dir=\"distilBert6\"\n",
        ")\n",
        "hinglishbert.train()\n",
        "hinglishbert.evaluate()"
      ],
      "execution_count": null,
      "outputs": []
    }
  ]
}