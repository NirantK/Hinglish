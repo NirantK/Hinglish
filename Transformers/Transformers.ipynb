{
  "nbformat": 4,
  "nbformat_minor": 0,
  "metadata": {
    "accelerator": "GPU",
    "colab": {
      "name": "Transformers.ipynb",
      "provenance": [],
      "machine_shape": "hm"
    },
    "kernelspec": {
      "display_name": "Python 3",
      "language": "python",
      "name": "python3"
    },
    "language_info": {
      "codemirror_mode": {
        "name": "ipython",
        "version": 3
      },
      "file_extension": ".py",
      "mimetype": "text/x-python",
      "name": "python",
      "nbconvert_exporter": "python",
      "pygments_lexer": "ipython3",
      "version": "3.8.5"
    }
  },
  "cells": [
    {
      "cell_type": "markdown",
      "metadata": {
        "colab_type": "text",
        "id": "c6Iaf17ImcIa"
      },
      "source": [
        "# Combines all the results from all the experiments involving transformers"
      ]
    },
    {
      "cell_type": "markdown",
      "metadata": {
        "colab_type": "text",
        "id": "0SwckafjmcId"
      },
      "source": [
        "## Download all the files"
      ]
    },
    {
      "cell_type": "code",
      "metadata": {
        "colab_type": "code",
        "id": "cVZfrbM1mcIe",
        "colab": {}
      },
      "source": [
        "!pip install transformers\n",
        "!git clone https://github.com/NirantK/Hinglish.git\n",
        "%cd Hinglish\n",
        "from hinglishutils import get_files_from_gdrive\n",
        "\n",
        "get_files_from_gdrive(\"https://drive.google.com/file/d/1-Ki6v1a1jF79qx22gM6JlX1NVD4txTdn/view?usp=sharing\", \n",
        "                      \"train_lm.txt\")\n",
        "\n",
        "get_files_from_gdrive(\"https://drive.google.com/file/d/1-MRU7w2_la36qopO8Ob4BoCynOAZc0sZ/view?usp=sharing\", \n",
        "                      \"dev_lm.txt\")\n",
        "\n",
        "get_files_from_gdrive(\"https://drive.google.com/file/d/1-NqiU-tL5hW59MFtUXh1exivRokZKfs7/view?usp=sharing\", \n",
        "                      \"test_lm.txt\")\n",
        "\n",
        "get_files_from_gdrive(\"https://drive.google.com/file/d/1k4N0JlVOP-crIcCtC6ZI5Va8X3s2-r_D/view?usp=sharing\", \n",
        "                      \"test_labels_hinglish.txt\")\n",
        "\n",
        "get_files_from_gdrive(\"https://drive.google.com/file/d/1-FykBMdD7erRhr9370thtySNm6QvnQAA/view?usp=sharing\", \n",
        "                      \"train.json\")\n",
        "\n",
        "get_files_from_gdrive(\"https://drive.google.com/file/d/1-F6o4lSub2D-_iCoNPvxxnCiPQ82VJjG/view?usp=sharing\", \n",
        "                      \"test.json\")\n",
        "\n",
        "get_files_from_gdrive(\"https://drive.google.com/file/d/1-Esp4UtIZwX44eI8qndngweKZ6p9GLKT/view?usp=sharing\", \n",
        "                      \"valid.json\")\n",
        "\n",
        "get_files_from_gdrive(\"https://drive.google.com/file/d/1-8Ml-lDyEE-UbbMw8tALTJ_kkwaetor-/view?usp=sharing\", \n",
        "                      \"final_test.json\")\n",
        "\n",
        "get_files_from_gdrive(\"https://drive.google.com/file/d/1-0bVrbhQ3nJhwmgIdhuL-ws4V9zuFpMF/view?usp=sharing\", \n",
        "                      \"hinglishBert.tar\")\n",
        "\n",
        "get_files_from_gdrive(\"https://drive.google.com/file/d/1I1JXDg8ZzuuzXMN1X986oCeOjSxqZj7C/view?usp=sharing\", \n",
        "                      \"hinglishDistilBert.tar\")\n",
        "\n",
        "get_files_from_gdrive(\"https://drive.google.com/file/d/1TTJzXi0dWYHVCrZM8vWoZzKWPfIF0ErB/view?usp=sharing\", \n",
        "                      \"hinglishRoberta.tar\")\n",
        "\n",
        "!tar xvf hinglishBert.tar\n",
        "!tar xvf hinglishDistilBert.tar\n",
        "!tar xvf hinglishRoberta.tar"
      ],
      "execution_count": null,
      "outputs": []
    },
    {
      "cell_type": "code",
      "metadata": {
        "colab_type": "code",
        "id": "mMj-UiJOmcIl",
        "colab": {}
      },
      "source": [
        "!python run_language_modeling.py --output_dir=bert --model_type=bert --model_name_or_path=bert-base-multilingual-cased --do_train --train_data_file=train_lm_data.txt --do_eval --eval_data_file=dev_lm_data.txt --mlm  --num_train_epochs 3 --save_total_limit 2 --overwrite_output_dir\n",
        "!python run_language_modeling.py --output_dir=distilbert --model_type=distilbert --model_name_or_path=distilbert-base-cased --do_train --train_data_file=train_lm_data.txt --do_eval --eval_data_file=dev_lm_data.txt --mlm  --num_train_epochs 3 --save_total_limit 2 --overwrite_output_dir\n",
        "!python run_language_modeling.py --output_dir=roberta --model_type=roberta --model_name_or_path=roberta-base --do_train --train_data_file=train_lm_data.txt --do_eval --eval_data_file=dev_lm_data.txt --mlm  --num_train_epochs 3 --save_total_limit 2 --overwrite_output_dir"
      ],
      "execution_count": null,
      "outputs": []
    },
    {
      "cell_type": "markdown",
      "metadata": {
        "colab_type": "text",
        "id": "UmYCR2D6mcIq"
      },
      "source": [
        "# HinglishBERT"
      ]
    },
    {
      "cell_type": "code",
      "metadata": {
        "colab_type": "code",
        "id": "o-sKjUQ4mcIr",
        "colab": {}
      },
      "source": [
        "from datetime import datetime"
      ],
      "execution_count": null,
      "outputs": []
    },
    {
      "cell_type": "code",
      "metadata": {
        "colab_type": "code",
        "id": "qGn4vzN9mcIu",
        "colab": {}
      },
      "source": [
        "from hinglish import HinglishTrainer"
      ],
      "execution_count": null,
      "outputs": []
    },
    {
      "cell_type": "code",
      "metadata": {
        "colab_type": "code",
        "id": "v6sgo2kqmcIx",
        "colab": {}
      },
      "source": [
        "hinglishbert = HinglishTrainer(\n",
        "    \"bert\",\n",
        "    batch_size=16,\n",
        "    attention_probs_dropout_prob=0.4,\n",
        "    hidden_dropout_prob=0.3,\n",
        "    learning_rate=5e-07,\n",
        "    adam_epsilon=1e-08\n",
        ")\n",
        "hinglishbert.train()\n",
        "hinglishbert.evaluate()"
      ],
      "execution_count": null,
      "outputs": []
    },
    {
      "cell_type": "markdown",
      "metadata": {
        "colab_type": "text",
        "id": "MJYkXoqzmcIz"
      },
      "source": [
        "# HinglishDistilBERT"
      ]
    },
    {
      "cell_type": "code",
      "metadata": {
        "id": "B4bGwT5kWvvy",
        "colab_type": "code",
        "colab": {}
      },
      "source": [
        "hinglishbert = HinglishTrainer(\n",
        "    \"distilbert\",\n",
        "    batch_size=16,\n",
        "    attention_probs_dropout_prob=0.6,\n",
        "    hidden_dropout_prob=0.6,\n",
        "    learning_rate=3e-05,\n",
        "    adam_epsilon=1e-08,\n",
        ")\n",
        "hinglishbert.train()\n",
        "hinglishbert.evaluate()"
      ],
      "execution_count": null,
      "outputs": []
    },
    {
      "cell_type": "markdown",
      "metadata": {
        "colab_type": "text",
        "id": "W6lbRp2OmcI3"
      },
      "source": [
        "# HinglishRoBERTa"
      ]
    },
    {
      "cell_type": "code",
      "metadata": {
        "id": "jlSjrEV0W5Hg",
        "colab_type": "code",
        "colab": {}
      },
      "source": [
        "hinglishbert = HinglishTrainer(\n",
        "    \"roberta\",\n",
        "    batch_size=16,\n",
        "    attention_probs_dropout_prob=0.1,\n",
        "    hidden_dropout_prob=0.1,\n",
        "    learning_rate=4e-05,\n",
        "    adam_epsilon=5e-08,\n",
        ")\n",
        "hinglishbert.train()\n",
        "hinglishbert.evaluate()"
      ],
      "execution_count": null,
      "outputs": []
    },
    {
      "cell_type": "markdown",
      "metadata": {
        "colab_type": "text",
        "id": "DfF8rlWBuaQq"
      },
      "source": [
        "# Ensemble Configs"
      ]
    },
    {
      "cell_type": "code",
      "metadata": {
        "colab_type": "code",
        "id": "iJ7OyY91ucHx",
        "colab": {}
      },
      "source": [
        "hinglishbert = HinglishTrainer(\n",
        "    \"distilbert\",\n",
        "    batch_size=16,\n",
        "    attention_probs_dropout_prob=0.8,\n",
        "    hidden_dropout_prob=0.4,\n",
        "    learning_rate=3.02e-05,\n",
        "    adam_epsilon=9.35e-05,\n",
        "    model_name=\"DB1\",\n",
        ")\n",
        "hinglishbert.train()\n",
        "hinglishbert.evaluate()"
      ],
      "execution_count": null,
      "outputs": []
    },
    {
      "cell_type": "code",
      "metadata": {
        "colab_type": "code",
        "id": "tZo2DZz4uq0l",
        "colab": {}
      },
      "source": [
        "hinglishbert = HinglishTrainer(\n",
        "    \"distilbert\",\n",
        "    batch_size=4,\n",
        "    attention_probs_dropout_prob=0.6,\n",
        "    hidden_dropout_prob=0.2,\n",
        "    learning_rate=5.13e-05,\n",
        "    adam_epsilon=9.72e-05\n",
        ")\n",
        "hinglishbert.train()\n",
        "hinglishbert.evaluate()"
      ],
      "execution_count": null,
      "outputs": []
    },
    {
      "cell_type": "code",
      "metadata": {
        "colab_type": "code",
        "id": "63mGCMFau1MG",
        "colab": {}
      },
      "source": [
        "hinglishbert = HinglishTrainer(\n",
        "    \"distilbert\",\n",
        "    batch_size=16,\n",
        "    attention_probs_dropout_prob=0.4,\n",
        "    hidden_dropout_prob=0.6,\n",
        "    learning_rate=4.74e-05,\n",
        "    adam_epsilon=4.09e-05\n",
        ")\n",
        "hinglishbert.train()\n",
        "hinglishbert.evaluate()"
      ],
      "execution_count": null,
      "outputs": []
    },
    {
      "cell_type": "code",
      "metadata": {
        "colab_type": "code",
        "id": "9rtCWPVevF9X",
        "colab": {}
      },
      "source": [
        "hinglishbert = HinglishTrainer(\n",
        "    \"bert\",\n",
        "    batch_size=4,\n",
        "    attention_probs_dropout_prob=0.6,\n",
        "    hidden_dropout_prob=0.2,\n",
        "    learning_rate=5.13e-05,\n",
        "    adam_epsilon=9.72e-05\n",
        ")\n",
        "hinglishbert.train()\n",
        "hinglishbert.evaluate()"
      ],
      "execution_count": null,
      "outputs": []
    },
    {
      "cell_type": "code",
      "metadata": {
        "colab_type": "code",
        "id": "11PEs6pPvGtI",
        "colab": {}
      },
      "source": [
        "hinglishbert = HinglishTrainer(\n",
        "    \"bert\",\n",
        "    batch_size=4,\n",
        "    attention_probs_dropout_prob=0.7,\n",
        "    hidden_dropout_prob=0.1,\n",
        "    learning_rate=5.01e-05,\n",
        "    adam_epsilon=4.79e-05\n",
        ")\n",
        "hinglishbert.train()\n",
        "hinglishbert.evaluate()"
      ],
      "execution_count": null,
      "outputs": []
    }
  ]
}