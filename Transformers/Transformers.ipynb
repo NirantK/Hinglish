{
 "cells": [
  {
   "cell_type": "markdown",
   "metadata": {},
   "source": [
    "# Combines all the results from all the experiments involving transformers"
   ]
  },
  {
   "cell_type": "markdown",
   "metadata": {},
   "source": [
    "## Download all the files"
   ]
  },
  {
   "cell_type": "code",
   "execution_count": null,
   "metadata": {},
   "outputs": [],
   "source": [
    "!pip install transformers\n",
    "!git clone https://github.com/NirantK/Hinglish.git\n",
    "%cd Hinglish\n",
    "from hinglishutils import get_files_from_gdrive\n",
    "\n",
    "get_files_from_gdrive(\"https://drive.google.com/file/d/1-Ki6v1a1jF79qx22gM6JlX1NVD4txTdn/view?usp=sharing\", \n",
    "                      \"train_lm.txt\")\n",
    "\n",
    "get_files_from_gdrive(\"https://drive.google.com/file/d/1-MRU7w2_la36qopO8Ob4BoCynOAZc0sZ/view?usp=sharing\", \n",
    "                      \"dev_lm.txt\")\n",
    "\n",
    "get_files_from_gdrive(\"https://drive.google.com/file/d/1-NqiU-tL5hW59MFtUXh1exivRokZKfs7/view?usp=sharing\", \n",
    "                      \"test_lm.txt\")\n",
    "\n",
    "get_files_from_gdrive(\"https://drive.google.com/file/d/1k4N0JlVOP-crIcCtC6ZI5Va8X3s2-r_D/view?usp=sharing\", \n",
    "                      \"test_labels_hinglish.txt\")\n",
    "\n",
    "get_files_from_gdrive(\"https://drive.google.com/file/d/1-FykBMdD7erRhr9370thtySNm6QvnQAA/view?usp=sharing\", \n",
    "                      \"train.json\")\n",
    "\n",
    "get_files_from_gdrive(\"https://drive.google.com/file/d/1-F6o4lSub2D-_iCoNPvxxnCiPQ82VJjG/view?usp=sharing\", \n",
    "                      \"test.json\")\n",
    "\n",
    "get_files_from_gdrive(\"https://drive.google.com/file/d/1-Esp4UtIZwX44eI8qndngweKZ6p9GLKT/view?usp=sharing\", \n",
    "                      \"valid.json\")\n",
    "\n",
    "get_files_from_gdrive(\"https://drive.google.com/file/d/1-8Ml-lDyEE-UbbMw8tALTJ_kkwaetor-/view?usp=sharing\", \n",
    "                      \"final_test.json\")\n",
    "\n",
    "get_files_from_gdrive(\"https://drive.google.com/file/d/1-0bVrbhQ3nJhwmgIdhuL-ws4V9zuFpMF/view?usp=sharing\", \n",
    "                      \"hinglishBert.tar\")\n",
    "\n",
    "!tar xvf hinglishBert.tar"
   ]
  },
  {
   "cell_type": "code",
   "execution_count": null,
   "metadata": {},
   "outputs": [],
   "source": [
    "!python run_language_modeling.py --output_dir=bert --model_type=bert --model_name_or_path=bert-base-multilingual-cased --do_train --train_data_file=train_lm_data.txt --do_eval --eval_data_file=dev_lm_data.txt --mlm  --num_train_epochs 3 --save_total_limit 2 --overwrite_output_dir\n",
    "!python run_language_modeling.py --output_dir=distilbert --model_type=distilbert --model_name_or_path=distilbert-base-cased --do_train --train_data_file=train_lm_data.txt --do_eval --eval_data_file=dev_lm_data.txt --mlm  --num_train_epochs 3 --save_total_limit 2 --overwrite_output_dir\n",
    "!python run_language_modeling.py --output_dir=roberta --model_type=roberta --model_name_or_path=roberta-base --do_train --train_data_file=train_lm_data.txt --do_eval --eval_data_file=dev_lm_data.txt --mlm  --num_train_epochs 3 --save_total_limit 2 --overwrite_output_dir"
   ]
  },
  {
   "cell_type": "markdown",
   "metadata": {},
   "source": [
    "# HinglishBERT"
   ]
  },
  {
   "cell_type": "code",
   "execution_count": null,
   "metadata": {},
   "outputs": [],
   "source": [
    "from hinglishbertfinetuning import hinglishbert"
   ]
  },
  {
   "cell_type": "code",
   "execution_count": null,
   "metadata": {},
   "outputs": [],
   "source": [
    "hinglishbert(\n",
    "            batch_size=16,\n",
    "            attention_probs_dropout_prob=0.8,\n",
    "            hidden_dropout_prob=0.4,\n",
    "            learning_rate=3.02e-05,\n",
    "            adam_epsilon=9.35e-05,\n",
    "            input_name = \"BERT_lr_3e_05\")"
   ]
  },
  {
   "cell_type": "markdown",
   "metadata": {},
   "source": [
    "# HinglishDistilBERT"
   ]
  },
  {
   "cell_type": "code",
   "execution_count": null,
   "metadata": {},
   "outputs": [],
   "source": [
    "from hinglishdistilbertfinetuning import hinglishDistilBert"
   ]
  },
  {
   "cell_type": "code",
   "execution_count": null,
   "metadata": {},
   "outputs": [],
   "source": [
    "hinglishDistilBert(\n",
    "            batch_size=16,\n",
    "            attention_probs_dropout_prob=0.8,\n",
    "            hidden_dropout_prob=0.4,\n",
    "            learning_rate=3.02e-05,\n",
    "            adam_epsilon=9.35e-05,\n",
    "            input_name = \"BERT_lr_3e_05\")"
   ]
  },
  {
   "cell_type": "markdown",
   "metadata": {},
   "source": [
    "# HinglishRoBERTa"
   ]
  },
  {
   "cell_type": "code",
   "execution_count": null,
   "metadata": {},
   "outputs": [],
   "source": [
    "from hinglishdistilroberta import hinglishRoberta"
   ]
  },
  {
   "cell_type": "code",
   "execution_count": null,
   "metadata": {},
   "outputs": [],
   "source": [
    "hinglishRoberta(\n",
    "            batch_size=8,\n",
    "            attention_probs_dropout_prob=0.4,\n",
    "            hidden_dropout_prob=0.3,\n",
    "            learning_rate=5e-07,\n",
    "            adam_epsilon=1e-08,\n",
    "            input_name = \"RoBERTa_lr_5e_07\")"
   ]
  }
 ],
 "metadata": {
  "kernelspec": {
   "display_name": "Python 3",
   "language": "python",
   "name": "python3"
  },
  "language_info": {
   "codemirror_mode": {
    "name": "ipython",
    "version": 3
   },
   "file_extension": ".py",
   "mimetype": "text/x-python",
   "name": "python",
   "nbconvert_exporter": "python",
   "pygments_lexer": "ipython3",
   "version": "3.8.5"
  }
 },
 "nbformat": 4,
 "nbformat_minor": 4
}
