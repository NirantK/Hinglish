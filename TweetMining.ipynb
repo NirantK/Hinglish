{
 "cells": [
  {
   "cell_type": "code",
   "execution_count": 1,
   "metadata": {},
   "outputs": [],
   "source": [
    "from pathlib import Path\n",
    "from typing import List\n",
    "\n",
    "import pandas as pd\n",
    "from tqdm import tqdm_notebook as tqdm\n",
    "\n",
    "Path.ls = lambda x: list(x.iterdir())\n",
    "\n",
    "%load_ext autoreload\n",
    "%autoreload 2"
   ]
  },
  {
   "cell_type": "code",
   "execution_count": 2,
   "metadata": {},
   "outputs": [
    {
     "data": {
      "text/plain": [
       "[WindowsPath('C:/Users/nirantk/Downloads/Hinglish/outputs/1-kmwmgVUW-yR7Fe7t_rY5WEDTUTeIq0h.jsonl'),\n",
       " WindowsPath('C:/Users/nirantk/Downloads/Hinglish/outputs/1-SwH3yjGyaFJeZnTquyeN0unL5hZ1c0H.jsonl'),\n",
       " WindowsPath('C:/Users/nirantk/Downloads/Hinglish/outputs/1-UA1yOSGzawiW-wlcWhv4-XGfLQEf_56.jsonl'),\n",
       " WindowsPath('C:/Users/nirantk/Downloads/Hinglish/outputs/10jgUAYl9fHAbSq94ImV9JtM1Ebuatf9n.jsonl'),\n",
       " WindowsPath('C:/Users/nirantk/Downloads/Hinglish/outputs/111FoxYrfhYZHdbqt6sn1FGKuyapB5uTE.jsonl'),\n",
       " WindowsPath('C:/Users/nirantk/Downloads/Hinglish/outputs/12Kw8ZaclZpV8jR7o8iaobjAw9xlRwLif.jsonl'),\n",
       " WindowsPath('C:/Users/nirantk/Downloads/Hinglish/outputs/14U2pJ8RW8S6VqAfwWDrRUoxo7pmDhJDl.jsonl'),\n",
       " WindowsPath('C:/Users/nirantk/Downloads/Hinglish/outputs/15IG4qiLoQ_0_76P1d3ZaN3e8ngKnOtPt.jsonl'),\n",
       " WindowsPath('C:/Users/nirantk/Downloads/Hinglish/outputs/17ro-MPD8pSBiVZ3ML92z5d6Ch2VB-yuq.jsonl'),\n",
       " WindowsPath('C:/Users/nirantk/Downloads/Hinglish/outputs/17tLM2MUHA1J0UqYqUygXaB0vbOum1Mcy.jsonl'),\n",
       " WindowsPath('C:/Users/nirantk/Downloads/Hinglish/outputs/18COaJCOxCNrRPNQNukAF94xEs4_dzDob.jsonl'),\n",
       " WindowsPath('C:/Users/nirantk/Downloads/Hinglish/outputs/19LoFdOaNipRyf0mvh6MRoZd7O7DrLrgz.jsonl'),\n",
       " WindowsPath('C:/Users/nirantk/Downloads/Hinglish/outputs/1A96B6zE5Db60mXxpGu4T_oAhHYygCIQy.jsonl'),\n",
       " WindowsPath('C:/Users/nirantk/Downloads/Hinglish/outputs/1ABPLIfBc6S3hJlNQnEfrgl3MAmuaxLSI.jsonl'),\n",
       " WindowsPath('C:/Users/nirantk/Downloads/Hinglish/outputs/1bFtnzS4gT4Bp9V_1ikM8uyN387OUM_EL.jsonl'),\n",
       " WindowsPath('C:/Users/nirantk/Downloads/Hinglish/outputs/1C6QOZJS9UMBJeRFgJekZLGKFwKtg2eMa.jsonl'),\n",
       " WindowsPath('C:/Users/nirantk/Downloads/Hinglish/outputs/1cCBUXwaxw3QDCAm-1JCVRqDp2G_azEWq.jsonl'),\n",
       " WindowsPath('C:/Users/nirantk/Downloads/Hinglish/outputs/1Cng8p6_06-au0XnEc3uh34gRtnOnOY06.jsonl'),\n",
       " WindowsPath('C:/Users/nirantk/Downloads/Hinglish/outputs/1D3zmh5vnfnm04lnjVaayTiI0PRf4xAFo.jsonl'),\n",
       " WindowsPath('C:/Users/nirantk/Downloads/Hinglish/outputs/1DG83uYdX7hMjJMAxAlYV4HyFQSmdcPaz.jsonl'),\n",
       " WindowsPath('C:/Users/nirantk/Downloads/Hinglish/outputs/1D_P4mk32YjvI_OswEFuvxhFWc9zSDDJT.jsonl'),\n",
       " WindowsPath('C:/Users/nirantk/Downloads/Hinglish/outputs/1EFaDjQxeMjaUIZiWfvKOZbNj52KborOf.jsonl'),\n",
       " WindowsPath('C:/Users/nirantk/Downloads/Hinglish/outputs/1fJe-DgYF3loo2KMgepHu-3cSJvJyezlR.jsonl'),\n",
       " WindowsPath('C:/Users/nirantk/Downloads/Hinglish/outputs/1fygRK3L2q-yt_EqT0oIhMQwENOYjQJXh.jsonl'),\n",
       " WindowsPath('C:/Users/nirantk/Downloads/Hinglish/outputs/1g-6XRRAPj_DUS3QSInD2dnH5H_UYAkoI.jsonl'),\n",
       " WindowsPath('C:/Users/nirantk/Downloads/Hinglish/outputs/1HIJBM01O2E45p2uV3MvJIOgaK_pqJwvk.jsonl'),\n",
       " WindowsPath('C:/Users/nirantk/Downloads/Hinglish/outputs/1hMlx-_WiJsI5M34bPwrfQ_NaGSWQ2cTH.jsonl'),\n",
       " WindowsPath('C:/Users/nirantk/Downloads/Hinglish/outputs/1hOXcYdOKrbiN35-RY4lS7dvsoroBfhPL.jsonl'),\n",
       " WindowsPath('C:/Users/nirantk/Downloads/Hinglish/outputs/1hYkS8B6QHr6go-PkN2UzyZG1fzq-HBJ5.jsonl'),\n",
       " WindowsPath('C:/Users/nirantk/Downloads/Hinglish/outputs/1H_LqeENEq2ZKS0wpVVBnumzgSlL8u9NG.jsonl'),\n",
       " WindowsPath('C:/Users/nirantk/Downloads/Hinglish/outputs/1IPVxURVrYuxSXWQTuVvO8cq4Zf17Ex3Q.jsonl'),\n",
       " WindowsPath('C:/Users/nirantk/Downloads/Hinglish/outputs/1joBwZJbNqFIOKF_cJWgDNNmX0M-2gr1t.jsonl'),\n",
       " WindowsPath('C:/Users/nirantk/Downloads/Hinglish/outputs/1jTJPM_fF4ORI7-lIesGRHzf15t4JFVt_.jsonl'),\n",
       " WindowsPath('C:/Users/nirantk/Downloads/Hinglish/outputs/1kbvwPZKvnx88jSkmXLSAmfYNIfIoU82f.jsonl'),\n",
       " WindowsPath('C:/Users/nirantk/Downloads/Hinglish/outputs/1KzvZd0Pmtk6Y1yOmZ9dybmxPeihhGIiI.jsonl'),\n",
       " WindowsPath('C:/Users/nirantk/Downloads/Hinglish/outputs/1oNJnHQIalQEShTf3ZQQP61xv-x0Q03hZ.jsonl'),\n",
       " WindowsPath('C:/Users/nirantk/Downloads/Hinglish/outputs/1pFxnsKdLwAlV-5sqkhyyoPb-ttyqXpMH.jsonl'),\n",
       " WindowsPath('C:/Users/nirantk/Downloads/Hinglish/outputs/1PPCMkIncFr7mdUaIVEkjPEY9wb-SyI0j.jsonl'),\n",
       " WindowsPath('C:/Users/nirantk/Downloads/Hinglish/outputs/1Q66jHZqQhsZlxzEVw_-L3eeoMQkcDHA8.jsonl'),\n",
       " WindowsPath('C:/Users/nirantk/Downloads/Hinglish/outputs/1RgNSyao9ICW549Fl-EYPDBr8wNWWz9EG.jsonl'),\n",
       " WindowsPath('C:/Users/nirantk/Downloads/Hinglish/outputs/1SRCj1Lw-_1cAz7hVSy-AcBScNF6ibzp-.jsonl'),\n",
       " WindowsPath('C:/Users/nirantk/Downloads/Hinglish/outputs/1TFCurXhTi3Sd1F20C3xjp9B4gDdbjfPV.jsonl'),\n",
       " WindowsPath('C:/Users/nirantk/Downloads/Hinglish/outputs/1ugoxazApCeWGCpHqAGezXFGCTdVg72kC.jsonl'),\n",
       " WindowsPath('C:/Users/nirantk/Downloads/Hinglish/outputs/1uIS9FMA1_Sy3kODuo1jgUi3jhRRdKCZ-.jsonl'),\n",
       " WindowsPath('C:/Users/nirantk/Downloads/Hinglish/outputs/1wJMDDc5ncRbwAdcD9mrO3aPB4ujpdwqp.jsonl'),\n",
       " WindowsPath('C:/Users/nirantk/Downloads/Hinglish/outputs/1X0cmkScgwStDZO4hrB8EaTHeWO5LtlyW.jsonl'),\n",
       " WindowsPath('C:/Users/nirantk/Downloads/Hinglish/outputs/1X8U1dBciiDq-32QjhR7QBXUTC01yHI3w.jsonl'),\n",
       " WindowsPath('C:/Users/nirantk/Downloads/Hinglish/outputs/1YFA1IStzr3S16PWfYE2VtpkhoQ5WqAlP.jsonl'),\n",
       " WindowsPath('C:/Users/nirantk/Downloads/Hinglish/outputs/1zep7vCnJj4YkH6mCoXkS7jTIwXF-UwYD.jsonl'),\n",
       " WindowsPath('C:/Users/nirantk/Downloads/Hinglish/outputs/1zWpshdUUUOzxX80IdhiCmKX5zfjtwem9.jsonl')]"
      ]
     },
     "execution_count": 2,
     "metadata": {},
     "output_type": "execute_result"
    }
   ],
   "source": [
    "dir_path = Path(\"outputs\").resolve()\n",
    "dir_path.ls()"
   ]
  },
  {
   "cell_type": "code",
   "execution_count": 3,
   "metadata": {},
   "outputs": [
    {
     "data": {
      "text/plain": [
       "50"
      ]
     },
     "execution_count": 3,
     "metadata": {},
     "output_type": "execute_result"
    }
   ],
   "source": [
    "len(dir_path.ls())"
   ]
  },
  {
   "cell_type": "code",
   "execution_count": 4,
   "metadata": {},
   "outputs": [],
   "source": [
    "def extract_text(dir_path: Path):\n",
    "    text_tweet = []\n",
    "    for fp in tqdm(dir_path.ls()):\n",
    "        with fp.open(\"r\", encoding=\"utf-8\") as f:\n",
    "            content = f.readlines()\n",
    "            for tweet_line in content:\n",
    "                tweet = json.loads(tweet_line)\n",
    "                text_tweet.append(tweet[\"text\"])\n",
    "    return text_tweet"
   ]
  },
  {
   "cell_type": "code",
   "execution_count": 6,
   "metadata": {},
   "outputs": [
    {
     "data": {
      "application/vnd.jupyter.widget-view+json": {
       "model_id": "8819089c8fe4447aad697c94cb997fe9",
       "version_major": 2,
       "version_minor": 0
      },
      "text/plain": [
       "HBox(children=(IntProgress(value=0, max=50), HTML(value='')))"
      ]
     },
     "metadata": {},
     "output_type": "display_data"
    },
    {
     "name": "stdout",
     "output_type": "stream",
     "text": [
      "\n"
     ]
    }
   ],
   "source": [
    "text_from_tweets = extract_text(dir_path)"
   ]
  },
  {
   "cell_type": "code",
   "execution_count": null,
   "metadata": {},
   "outputs": [],
   "source": [
    "len(text_from_tweets)"
   ]
  },
  {
   "cell_type": "code",
   "execution_count": null,
   "metadata": {},
   "outputs": [],
   "source": [
    "long_tweets = [x for x in text_from_tweets if len(x.split())> 1]"
   ]
  },
  {
   "cell_type": "code",
   "execution_count": null,
   "metadata": {},
   "outputs": [],
   "source": [
    "len(long_tweets)"
   ]
  },
  {
   "cell_type": "code",
   "execution_count": null,
   "metadata": {},
   "outputs": [],
   "source": [
    "with open(\"data/interim/hinglish_unsup_less_confidence.json\", \"w\", encoding=\"utf-8\") as fp:\n",
    "    json.dump(long_tweets, fp, indent=2)"
   ]
  }
 ],
 "metadata": {
  "kernelspec": {
   "display_name": "Python 3",
   "language": "python",
   "name": "python3"
  },
  "language_info": {
   "codemirror_mode": {
    "name": "ipython",
    "version": 3
   },
   "file_extension": ".py",
   "mimetype": "text/x-python",
   "name": "python",
   "nbconvert_exporter": "python",
   "pygments_lexer": "ipython3",
   "version": "3.7.4"
  }
 },
 "nbformat": 4,
 "nbformat_minor": 2
}
