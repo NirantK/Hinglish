{
 "cells": [
  {
   "cell_type": "code",
   "execution_count": null,
   "metadata": {},
   "outputs": [],
   "source": [
    "# %pip install sentencepiece"
   ]
  },
  {
   "cell_type": "code",
   "execution_count": null,
   "metadata": {},
   "outputs": [],
   "source": [
    "import sentencepiece as spm\n",
    "import pandas as pd\n",
    "import sys\n",
    "sys.path.insert(0, \"../\")\n",
    "from hinglishutils import get_files_from_gdrive\n",
    "from pathlib import Path\n",
    "datapath = Path(\"../data\")\n",
    "data_raw = datapath/\"raw\"\n",
    "data_interim = datapath/\"interim\"\n",
    "data_processed = datapath/\"processed\"\n",
    "cleanlab_datapath = datapath/\"cleanlab\""
   ]
  },
  {
   "cell_type": "code",
   "execution_count": null,
   "metadata": {},
   "outputs": [],
   "source": [
    "from utils import clean\n",
    "\n",
    "clean(pd.read_json(data_interim/\"hinglish_unsup_high_confidence.json\"), 0)"
   ]
  },
  {
   "cell_type": "code",
   "execution_count": null,
   "metadata": {},
   "outputs": [],
   "source": [
    "data_paths = [\n",
    "    data_interim/\"hinglish_unsup_high_confidence.json\",\n",
    "    data_interim/\"hinglish_unsup_less_confidence.json\",\n",
    "]\n",
    "\n",
    "\n",
    "text = []\n",
    "for path in data_paths:\n",
    "    df = pd.read_json(Path(path))\n",
    "    df = clean(df, 0)\n",
    "    text = text + list(df['clean_text'])\n",
    "text = text+list(clean(pd.read_json(\"data/interim/train-large.json\"),'text')['clean_text'])\n",
    "\n",
    "with open('data/interim/all_hinglish_data.txt', 'w') as f:\n",
    "    for item in text:\n",
    "        if item:\n",
    "            f.write(f\"{item}\\n\")"
   ]
  },
  {
   "cell_type": "code",
   "execution_count": null,
   "metadata": {},
   "outputs": [],
   "source": [
    "spm.SentencePieceTrainer.Train('--input=../data/interim/all_hinglish_data.txt --model_prefix=../data/interim/hinglish_sp --vocab_size=8000 --character_coverage=1.0 --model_type=bpe')"
   ]
  },
  {
   "cell_type": "code",
   "execution_count": null,
   "metadata": {},
   "outputs": [],
   "source": []
  }
 ],
 "metadata": {
  "kernelspec": {
   "display_name": "Python 3",
   "language": "python",
   "name": "python3"
  }
 },
 "nbformat": 4,
 "nbformat_minor": 4
}
