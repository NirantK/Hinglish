{
  "nbformat": 4,
  "nbformat_minor": 0,
  "metadata": {
    "colab": {
      "name": "WeightedMajorityFinal.ipynb",
      "provenance": [],
      "collapsed_sections": [],
      "mount_file_id": "1PXYflw53UYkPqsILYeMId1R5H5j0HWbF",
      "authorship_tag": "ABX9TyNqqumDyFO02OucAihroEOk",
      "include_colab_link": true
    },
    "kernelspec": {
      "name": "python3",
      "display_name": "Python 3"
    }
  },
  "cells": [
    {
      "cell_type": "markdown",
      "metadata": {
        "id": "view-in-github",
        "colab_type": "text"
      },
      "source": [
        "<a href=\"https://colab.research.google.com/github/NirantK/Hinglish/blob/stack/WeightedMajorityFinal.ipynb\" target=\"_parent\"><img src=\"https://colab.research.google.com/assets/colab-badge.svg\" alt=\"Open In Colab\"/></a>"
      ]
    },
    {
      "cell_type": "code",
      "metadata": {
        "id": "bVQ6W9c2pjXb",
        "colab_type": "code",
        "colab": {}
      },
      "source": [
        "import pandas as pd\n",
        "import numpy as np\n",
        "l = pd.read_csv(\"test_labels_hinglish.txt\")\n",
        "df_BERT_64= pd.read_csv(\"/content/drive/My Drive/BERT_valid64.csv\")\n",
        "df_BERT_649= pd.read_csv(\"/content/drive/My Drive/BERT_valid64_9.csv\")\n",
        "df_BERT_65= pd.read_csv(\"/content/drive/My Drive/BERT_valid65.csv\")\n",
        "df_DistilBERT_64= pd.read_csv(\"/content/drive/My Drive/DistilBERT_valid64_1.csv\")\n",
        "df_DistilBERT_65= pd.read_csv(\"/content/drive/My Drive/DistilBERT_valid65.csv\")\n"
      ],
      "execution_count": 0,
      "outputs": []
    },
    {
      "cell_type": "code",
      "metadata": {
        "id": "SX4e9Iu3q6_3",
        "colab_type": "code",
        "colab": {}
      },
      "source": [
        "from sklearn import preprocessing\n",
        "le = preprocessing.LabelEncoder()\n",
        "le.fit(df_BERT_64[\"actual\"])\n",
        "clfs = [df_BERT_64,df_BERT_649,df_BERT_65,df_DistilBERT_64,df_DistilBERT_65]\n",
        "for df in clfs:\n",
        "    df['y'] = le.transform(df[\"Sentiment\"])\n"
      ],
      "execution_count": 0,
      "outputs": []
    },
    {
      "cell_type": "code",
      "metadata": {
        "id": "KxmWjhWFp3Ri",
        "colab_type": "code",
        "colab": {}
      },
      "source": [
        "classes_ = np.asarray([clf[\"y\"] for clf in clfs])\n",
        "maj = np.asarray([np.argmax(np.bincount(classes_[:,c])) for c in range(classes_.shape[1])])"
      ],
      "execution_count": 0,
      "outputs": []
    },
    {
      "cell_type": "code",
      "metadata": {
        "id": "SYieA6LSrSKl",
        "colab_type": "code",
        "colab": {}
      },
      "source": [
        "from sklearn.metrics import accuracy_score, precision_recall_fscore_support\n",
        "\n",
        "print(precision_recall_fscore_support(maj, le.transform(df_BERT_64[\"actual\"]), average=\"macro\"))\n",
        "print(accuracy_score(maj, le.transform(df_BERT_64[\"actual\"])))"
      ],
      "execution_count": 0,
      "outputs": []
    },
    {
      "cell_type": "code",
      "metadata": {
        "id": "0n6i4A-ypv_5",
        "colab_type": "code",
        "colab": {}
      },
      "source": [
        "df_BERT_64= pd.read_csv(\"/content/drive/My Drive/BERT_test64.csv\")\n",
        "df_BERT_649= pd.read_csv(\"/content/drive/My Drive/BERT_test64_9.csv\")\n",
        "df_BERT_65= pd.read_csv(\"/content/drive/My Drive/BERT_test65.csv\")\n",
        "df_DistilBERT_64= pd.read_csv(\"/content/drive/My Drive/DistilBERT_test64_1.csv\")\n",
        "df_DistilBERT_65= pd.read_csv(\"/content/drive/My Drive/DistilBERT_test65.csv\")"
      ],
      "execution_count": 0,
      "outputs": []
    },
    {
      "cell_type": "code",
      "metadata": {
        "id": "0VB4RycnsF47",
        "colab_type": "code",
        "colab": {}
      },
      "source": [
        "clfs = [df_BERT_64,df_BERT_649,df_BERT_65,df_DistilBERT_64,df_DistilBERT_65]\n",
        "for df in clfs:\n",
        "    df['y'] = le.transform(df[\"Sentiment\"])"
      ],
      "execution_count": 0,
      "outputs": []
    },
    {
      "cell_type": "code",
      "metadata": {
        "id": "gsxISKhGp0no",
        "colab_type": "code",
        "colab": {}
      },
      "source": [
        "classes_ = np.asarray([clf[\"y\"] for clf in clfs])\n",
        "maj = np.asarray([np.argmax(np.bincount(classes_[:,c])) for c in range(classes_.shape[1])])"
      ],
      "execution_count": 0,
      "outputs": []
    },
    {
      "cell_type": "code",
      "metadata": {
        "id": "Yov7f3EbryQo",
        "colab_type": "code",
        "colab": {}
      },
      "source": [
        "print(precision_recall_fscore_support(maj, le.transform(l[\"Sentiment\"][:-1]), average=\"macro\"))\n",
        "print(accuracy_score(maj, le.transform(l[\"Sentiment\"][:-1])))"
      ],
      "execution_count": 0,
      "outputs": []
    },
    {
      "cell_type": "code",
      "metadata": {
        "id": "QK4cjCD4r76P",
        "colab_type": "code",
        "colab": {}
      },
      "source": [
        ""
      ],
      "execution_count": 0,
      "outputs": []
    }
  ]
}