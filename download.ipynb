{
 "cells": [
  {
   "cell_type": "code",
   "execution_count": 11,
   "metadata": {},
   "outputs": [],
   "source": [
    "# export\n",
    "import gdown\n",
    "\n",
    "\n",
    "def get_files_from_gdrive(url: str, fname: str) -> None:\n",
    "    file_id = url.split(\"/\")[5]\n",
    "    url = f\"https://drive.google.com/uc?id={file_id}\"\n",
    "    gdown.download(url, fname, quiet=False)"
   ]
  },
  {
   "cell_type": "code",
   "execution_count": 12,
   "metadata": {},
   "outputs": [
    {
     "name": "stderr",
     "output_type": "stream",
     "text": [
      "Downloading...\n",
      "From: https://drive.google.com/uc?id=1T_AvUYwc8Fld_8VoUj9s9S1ZbmpkAsVI\n",
      "To: /Users/nirant/Downloads/Hinglish/trial.txt\n",
      "100%|██████████| 454k/454k [00:00<00:00, 3.18MB/s]\n",
      "Downloading...\n",
      "From: https://drive.google.com/uc?id=1fzhNn_baYWE6Ltxf1VKlkYzCUwUlHVXx\n",
      "To: /Users/nirant/Downloads/Hinglish/train.txt\n",
      "3.72MB [00:00, 4.84MB/s]\n"
     ]
    }
   ],
   "source": [
    "get_files_from_gdrive(\"https://drive.google.com/file/d/1T_AvUYwc8Fld_8VoUj9s9S1ZbmpkAsVI/view?usp=sharing\", \"trial.txt\")\n",
    "get_files_from_gdrive(\"https://drive.google.com/file/d/1fzhNn_baYWE6Ltxf1VKlkYzCUwUlHVXx/view?usp=sharing\", \"train.txt\")"
   ]
  }
 ],
 "metadata": {
  "kernelspec": {
   "display_name": "Python 3",
   "language": "python",
   "name": "python3"
  },
  "language_info": {
   "codemirror_mode": {
    "name": "ipython",
    "version": 3
   },
   "file_extension": ".py",
   "mimetype": "text/x-python",
   "name": "python",
   "nbconvert_exporter": "python",
   "pygments_lexer": "ipython3",
   "version": "3.7.4"
  }
 },
 "nbformat": 4,
 "nbformat_minor": 2
}
