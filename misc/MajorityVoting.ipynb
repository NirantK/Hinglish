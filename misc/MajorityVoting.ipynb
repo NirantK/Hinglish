{
 "cells": [
  {
   "cell_type": "markdown",
   "metadata": {},
   "source": [
    "<a href=\"https://colab.research.google.com/github/NirantK/Hinglish/blob/mergeall/misc/MajorityVoting.ipynb\" target=\"_parent\"><img src=\"https://colab.research.google.com/assets/colab-badge.svg\" alt=\"Open In Colab\"/></a>"
   ]
  },
  {
   "cell_type": "code",
   "execution_count": null,
   "metadata": {},
   "outputs": [],
   "source": [
    "import pandas as pd\n",
    "import numpy as np\n",
    "l = pd.read_csv(\"test_labels_hinglish.txt\")\n",
    "ref= pd.read_csv(\"/content/drive/My Drive/BERT_valid64.csv\")\n",
    "DistilBert1 = pd.read_csv(\"/content/drive/My Drive/HinglishNLP/PredOutput/DistilBERT_lr_302e_05-test-full-output.csv\")\n",
    "DistilBert2 = pd.read_csv(\"/content/drive/My Drive/HinglishNLP/PredOutput/DistilBERT_lr_513e_05-test-full-output.csv\")\n",
    "DistilBert3 = pd.read_csv(\"/content/drive/My Drive/HinglishNLP/PredOutput/DistilBERT_lr_4e_05-test-full-output.csv\")\n",
    "Bert1 = pd.read_csv(\"/content/drive/My Drive/HinglishNLP/PredOutput/BERT_lr_513e_05-test-full-output.csv\")\n",
    "Bert2 = pd.read_csv(\"/content/drive/My Drive/HinglishNLP/PredOutput/BERT_lr_501e_05-test-full-output.csv\")"
   ]
  },
  {
   "cell_type": "code",
   "execution_count": null,
   "metadata": {},
   "outputs": [],
   "source": [
    "from sklearn import preprocessing\n",
    "le = preprocessing.LabelEncoder()\n",
    "le.fit(ref[\"actual\"])\n",
    "clfs = [DistilBert1,DistilBert2, DistilBert3, Bert1, Bert2]\n",
    "for df in clfs:\n",
    "    df['y'] = le.transform(df[\"Sentiment\"])\n"
   ]
  },
  {
   "cell_type": "code",
   "execution_count": null,
   "metadata": {},
   "outputs": [],
   "source": [
    "classes_ = np.asarray([clf[\"y\"] for clf in clfs])\n",
    "maj = np.asarray([np.argmax(np.bincount(classes_[:,c])) for c in range(classes_.shape[1])])"
   ]
  },
  {
   "cell_type": "code",
   "execution_count": null,
   "metadata": {},
   "outputs": [],
   "source": [
    "from sklearn.metrics import accuracy_score, precision_recall_fscore_support\n",
    "\n",
    "print(precision_recall_fscore_support(maj, le.transform(ref[\"actual\"]), average=\"macro\"))\n",
    "print(accuracy_score(maj, le.transform(ref[\"actual\"])))"
   ]
  },
  {
   "cell_type": "code",
   "execution_count": null,
   "metadata": {},
   "outputs": [],
   "source": [
    "DistilBert1_final = pd.read_csv(\"/content/drive/My Drive/HinglishNLP/PredOutput/DistilBERT_lr_302e_05-final_test-full-output.csv\")\n",
    "DistilBert2_final = pd.read_csv(\"/content/drive/My Drive/HinglishNLP/PredOutput/DistilBERT_lr_513e_05-final_test-full-output.csv\")\n",
    "DistilBert3_final = pd.read_csv(\"/content/drive/My Drive/HinglishNLP/PredOutput/DistilBERT_lr_4e_05-final_test-full-output.csv\")\n",
    "Bert1_final = pd.read_csv(\"/content/drive/My Drive/HinglishNLP/PredOutput/BERT_lr_513e_05-final_test-full-output.csv\")\n",
    "Bert2_final = pd.read_csv(\"/content/drive/My Drive/HinglishNLP/PredOutput/BERT_lr_501e_05-final_test-full-output.csv\")\")"
   ]
  },
  {
   "cell_type": "code",
   "execution_count": null,
   "metadata": {},
   "outputs": [],
   "source": [
    "clfs = [DistilBert1_final, DistilBert2_final, DistilBert3_final, Bert1_final, Bert2_final]\n",
    "for df in clfs:\n",
    "    df['y'] = le.transform(df[\"Sentiment\"])"
   ]
  },
  {
   "cell_type": "code",
   "execution_count": null,
   "metadata": {},
   "outputs": [],
   "source": [
    "classes_ = np.asarray([clf[\"y\"] for clf in clfs])\n",
    "maj = np.asarray([np.argmax(np.bincount(classes_[:,c])) for c in range(classes_.shape[1])])"
   ]
  },
  {
   "cell_type": "code",
   "execution_count": null,
   "metadata": {},
   "outputs": [],
   "source": [
    "print(precision_recall_fscore_support(maj, le.transform(l[\"Sentiment\"][:-1]), average=\"macro\"))\n",
    "print(accuracy_score(maj, le.transform(l[\"Sentiment\"][:-1])))"
   ]
  },
  {
   "cell_type": "code",
   "execution_count": null,
   "metadata": {},
   "outputs": [],
   "source": [
    ""
   ]
  }
 ],
 "metadata": {
  "kernelspec": {
   "display_name": "Python 3",
   "name": "python3"
  }
 },
 "nbformat": 4,
 "nbformat_minor": 0
}
