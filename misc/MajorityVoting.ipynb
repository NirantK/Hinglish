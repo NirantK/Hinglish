{
  "nbformat": 4,
  "nbformat_minor": 0,
  "metadata": {
    "colab": {
      "name": "MajorityVoting.ipynb",
      "provenance": [],
      "collapsed_sections": [],
      "mount_file_id": "1n9weELeE6T33f9vPFVy3cAC91kiW6d-f",
      "authorship_tag": "ABX9TyMF8y19D6l5C77XEXu2++Kv",
      "include_colab_link": true
    },
    "kernelspec": {
      "name": "python3",
      "display_name": "Python 3"
    }
  },
  "cells": [
    {
      "cell_type": "markdown",
      "metadata": {
        "id": "view-in-github",
        "colab_type": "text"
      },
      "source": [
        "<a href=\"https://colab.research.google.com/github/NirantK/Hinglish/blob/mergeall/misc/MajorityVoting.ipynb\" target=\"_parent\"><img src=\"https://colab.research.google.com/assets/colab-badge.svg\" alt=\"Open In Colab\"/></a>"
      ]
    },
    {
      "cell_type": "code",
      "metadata": {
        "id": "bVQ6W9c2pjXb",
        "colab_type": "code",
        "colab": {}
      },
      "source": [
        "import pandas as pd\n",
        "import numpy as np\n",
        "l = pd.read_csv(\"test_labels_hinglish.txt\")\n",
        "ref= pd.read_csv(\"/content/drive/My Drive/BERT_valid64.csv\")\n",
        "DistilBert1 = pd.read_csv(\"/content/drive/My Drive/HinglishNLP/PredOutput/DistilBERT_lr_302e_05-test-full-output.csv\")\n",
        "DistilBert2 = pd.read_csv(\"/content/drive/My Drive/HinglishNLP/PredOutput/DistilBERT_lr_513e_05-test-full-output.csv\")\n",
        "DistilBert3 = pd.read_csv(\"/content/drive/My Drive/HinglishNLP/PredOutput/DistilBERT_lr_4e_05-test-full-output.csv\")\n",
        "Bert1 = pd.read_csv(\"/content/drive/My Drive/HinglishNLP/PredOutput/BERT_lr_513e_05-test-full-output.csv\")\n",
        "Bert2 = pd.read_csv(\"/content/drive/My Drive/HinglishNLP/PredOutput/BERT_lr_501e_05-test-full-output.csv\")"
      ],
      "execution_count": null,
      "outputs": []
    },
    {
      "cell_type": "code",
      "metadata": {
        "id": "SX4e9Iu3q6_3",
        "colab_type": "code",
        "colab": {}
      },
      "source": [
        "from sklearn import preprocessing\n",
        "le = preprocessing.LabelEncoder()\n",
        "le.fit(ref[\"actual\"])\n",
        "clfs = [DistilBert1,DistilBert2, DistilBert3, Bert1, Bert2]\n",
        "for df in clfs:\n",
        "    df['y'] = le.transform(df[\"Sentiment\"])\n"
      ],
      "execution_count": null,
      "outputs": []
    },
    {
      "cell_type": "code",
      "metadata": {
        "id": "KxmWjhWFp3Ri",
        "colab_type": "code",
        "colab": {}
      },
      "source": [
        "classes_ = np.asarray([clf[\"y\"] for clf in clfs])\n",
        "maj = np.asarray([np.argmax(np.bincount(classes_[:,c])) for c in range(classes_.shape[1])])"
      ],
      "execution_count": null,
      "outputs": []
    },
    {
      "cell_type": "code",
      "metadata": {
        "id": "SYieA6LSrSKl",
        "colab_type": "code",
        "colab": {
          "base_uri": "https://localhost:8080/",
          "height": 51
        },
        "outputId": "5cc39bec-1caf-4a5b-8fd3-2ff5ab9fc64b"
      },
      "source": [
        "from sklearn.metrics import accuracy_score, precision_recall_fscore_support\n",
        "\n",
        "print(precision_recall_fscore_support(maj, le.transform(ref[\"actual\"]), average=\"macro\"))\n",
        "print(accuracy_score(maj, le.transform(ref[\"actual\"])))"
      ],
      "execution_count": null,
      "outputs": [
        {
          "output_type": "stream",
          "text": [
            "(0.6538055862391803, 0.6468791034770015, 0.647792003429256, None)\n",
            "0.6458823529411765\n"
          ],
          "name": "stdout"
        }
      ]
    },
    {
      "cell_type": "code",
      "metadata": {
        "id": "0n6i4A-ypv_5",
        "colab_type": "code",
        "colab": {}
      },
      "source": [
        "DistilBert1_final = pd.read_csv(\"/content/drive/My Drive/HinglishNLP/PredOutput/DistilBERT_lr_302e_05-final_test-full-output.csv\")\n",
        "DistilBert2_final = pd.read_csv(\"/content/drive/My Drive/HinglishNLP/PredOutput/DistilBERT_lr_513e_05-final_test-full-output.csv\")\n",
        "DistilBert3_final = pd.read_csv(\"/content/drive/My Drive/HinglishNLP/PredOutput/DistilBERT_lr_4e_05-final_test-full-output.csv\")\n",
        "Bert1_final = pd.read_csv(\"/content/drive/My Drive/HinglishNLP/PredOutput/BERT_lr_513e_05-final_test-full-output.csv\")\n",
        "Bert2_final = pd.read_csv(\"/content/drive/My Drive/HinglishNLP/PredOutput/BERT_lr_501e_05-final_test-full-output.csv\")\")"
      ],
      "execution_count": null,
      "outputs": []
    },
    {
      "cell_type": "code",
      "metadata": {
        "id": "0VB4RycnsF47",
        "colab_type": "code",
        "colab": {}
      },
      "source": [
        "clfs = [DistilBert1_final, DistilBert2_final, DistilBert3_final, Bert1_final, Bert2_final]\n",
        "for df in clfs:\n",
        "    df['y'] = le.transform(df[\"Sentiment\"])"
      ],
      "execution_count": null,
      "outputs": []
    },
    {
      "cell_type": "code",
      "metadata": {
        "id": "gsxISKhGp0no",
        "colab_type": "code",
        "colab": {}
      },
      "source": [
        "classes_ = np.asarray([clf[\"y\"] for clf in clfs])\n",
        "maj = np.asarray([np.argmax(np.bincount(classes_[:,c])) for c in range(classes_.shape[1])])"
      ],
      "execution_count": null,
      "outputs": []
    },
    {
      "cell_type": "code",
      "metadata": {
        "id": "Yov7f3EbryQo",
        "colab_type": "code",
        "colab": {
          "base_uri": "https://localhost:8080/",
          "height": 51
        },
        "outputId": "e2d42011-33a7-407e-9016-3746cc5f9938"
      },
      "source": [
        "print(precision_recall_fscore_support(maj, le.transform(l[\"Sentiment\"][:-1]), average=\"macro\"))\n",
        "print(accuracy_score(maj, le.transform(l[\"Sentiment\"][:-1])))"
      ],
      "execution_count": null,
      "outputs": [
        {
          "output_type": "stream",
          "text": [
            "(0.7098077999123605, 0.7071301529157158, 0.7076057816087483, None)\n",
            "0.7042347449149716\n"
          ],
          "name": "stdout"
        }
      ]
    },
    {
      "cell_type": "code",
      "metadata": {
        "id": "QK4cjCD4r76P",
        "colab_type": "code",
        "colab": {}
      },
      "source": [
        ""
      ],
      "execution_count": null,
      "outputs": []
    }
  ]
}