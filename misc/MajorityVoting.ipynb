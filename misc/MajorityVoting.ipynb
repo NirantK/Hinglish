{
  "nbformat": 4,
  "nbformat_minor": 0,
  "metadata": {
    "kernelspec": {
      "display_name": "Python 3",
      "language": "python",
      "name": "python3"
    },
    "colab": {
      "name": "MajorityVoting.ipynb",
      "provenance": [],
      "toc_visible": true
    }
  },
  "cells": [
    {
      "cell_type": "markdown",
      "metadata": {
        "id": "smTUyiSaj0y_"
      },
      "source": [
        "<a href=\"https://colab.research.google.com/github/NirantK/Hinglish/blob/mergeall/misc/MajorityVoting.ipynb\" target=\"_parent\"><img src=\"https://colab.research.google.com/assets/colab-badge.svg\" alt=\"Open In Colab\"/></a>"
      ]
    },
    {
      "cell_type": "code",
      "metadata": {
        "id": "OxDyR6qskI0h",
        "outputId": "b37584a4-282a-4840-8082-75c6928fb813",
        "colab": {
          "base_uri": "https://localhost:8080/",
          "height": 34
        }
      },
      "source": [
        "from google.colab import drive\n",
        "drive.mount('/content/drive')"
      ],
      "execution_count": 1,
      "outputs": [
        {
          "output_type": "stream",
          "text": [
            "Mounted at /content/drive\n"
          ],
          "name": "stdout"
        }
      ]
    },
    {
      "cell_type": "code",
      "metadata": {
        "id": "o3pIk_wLj0zA"
      },
      "source": [
        "from pathlib import Path\n",
        "import pandas as pd\n",
        "import numpy as np\n",
        "from sklearn import preprocessing\n",
        "from sklearn.metrics import accuracy_score, precision_recall_fscore_support"
      ],
      "execution_count": 2,
      "outputs": []
    },
    {
      "cell_type": "code",
      "metadata": {
        "id": "vNQU2tQ3j0zH"
      },
      "source": [
        "pred_output_path = Path(\"/content/drive/My Drive/HinglishNLP/repro/predoutput\")"
      ],
      "execution_count": 3,
      "outputs": []
    },
    {
      "cell_type": "code",
      "metadata": {
        "id": "FY1rk7CJj0zM"
      },
      "source": [
        "l = pd.read_csv(\"test_labels_hinglish.txt\")\n",
        "ref =pd.read_json(\"/content/drive/My Drive/HinglishNLP/CleanClassFiles/test.json\")\n",
        "\n",
        "DistilBert1 = pd.read_csv(pred_output_path / \"D1-test-full-output.csv\")\n",
        "DistilBert2 = pd.read_csv(pred_output_path / \"D2-test-full-output.csv\")\n",
        "DistilBert3 = pd.read_csv(pred_output_path / \"D3-test-full-output.csv\")\n",
        "Bert1 = pd.read_csv(pred_output_path / \"B1-test-full-output.csv\")\n",
        "Bert2 = pd.read_csv(pred_output_path / \"B2-test-full-output.csv\")"
      ],
      "execution_count": 10,
      "outputs": []
    },
    {
      "cell_type": "code",
      "metadata": {
        "id": "_c8Yf_jfj0zP"
      },
      "source": [
        "le = preprocessing.LabelEncoder()\n",
        "le.fit(ref[\"sentiment\"])\n",
        "clfs = [DistilBert1, DistilBert2, DistilBert3, Bert1, Bert2]\n",
        "for df in clfs:\n",
        "    df[\"sentiment\"] = le.transform(df[\"Sentiment\"])"
      ],
      "execution_count": 11,
      "outputs": []
    },
    {
      "cell_type": "markdown",
      "metadata": {
        "id": "FJeC4XAYj0zR"
      },
      "source": [
        "# Majority Voting | the _how_?\n",
        "Modified version of code from [this blog](https://sebastianraschka.com/Articles/2014_ensemble_classifier.html) about Majority Voting.\n",
        "\n",
        "- `np.bincount(classes_[:,0])` -> returns bin-count for each prediction class for a given output. So if out of five classifiers one said positive[0] and one said neutral[1] and three said negative[2] the output would look like array([1, 1, 3])\n",
        "- `np.argmax` -> get the pred which has the max bin-count."
      ]
    },
    {
      "cell_type": "code",
      "metadata": {
        "id": "MnW4NNbQj0zS"
      },
      "source": [
        "classes_ = np.asarray([clf[\"sentiment\"] for clf in clfs])\n",
        "maj = np.asarray(\n",
        "    [np.argmax(np.bincount(classes_[:, c])) for c in range(classes_.shape[1])]\n",
        ")"
      ],
      "execution_count": 13,
      "outputs": []
    },
    {
      "cell_type": "code",
      "metadata": {
        "id": "5kLHjxfej0zU",
        "outputId": "157d2b74-0ac2-425e-a2f6-b22d5406dc89",
        "colab": {
          "base_uri": "https://localhost:8080/",
          "height": 51
        }
      },
      "source": [
        "print(\n",
        "    precision_recall_fscore_support(maj, le.transform(ref[\"sentiment\"]), average=\"macro\")\n",
        ")\n",
        "print(accuracy_score(maj, le.transform(ref[\"sentiment\"])))"
      ],
      "execution_count": 14,
      "outputs": [
        {
          "output_type": "stream",
          "text": [
            "(0.6554429018179779, 0.6498445054537784, 0.65123896882507, None)\n",
            "0.6485294117647059\n"
          ],
          "name": "stdout"
        }
      ]
    },
    {
      "cell_type": "code",
      "metadata": {
        "id": "_vv5szqTj0zX"
      },
      "source": [
        "DistilBert1_final = pd.read_csv(pred_output_path / \"D1-final_test-full-output.csv\")\n",
        "DistilBert2_final = pd.read_csv(pred_output_path / \"D2-final_test-full-output.csv\")\n",
        "DistilBert3_final = pd.read_csv(pred_output_path / \"D3-final_test-full-output.csv\")\n",
        "Bert1_final = pd.read_csv(pred_output_path / \"B1-final_test-full-output.csv\")\n",
        "Bert2_final = pd.read_csv(pred_output_path / \"B2-final_test-full-output.csv\")"
      ],
      "execution_count": 15,
      "outputs": []
    },
    {
      "cell_type": "code",
      "metadata": {
        "id": "CaXajw0Zj0zZ"
      },
      "source": [
        "clfs = [\n",
        "    DistilBert1_final,\n",
        "    DistilBert2_final,\n",
        "    DistilBert3_final,\n",
        "    Bert1_final,\n",
        "    Bert2_final,\n",
        "]\n",
        "for df in clfs:\n",
        "    df[\"sentiment\"] = le.transform(df[\"Sentiment\"])"
      ],
      "execution_count": 16,
      "outputs": []
    },
    {
      "cell_type": "code",
      "metadata": {
        "id": "e-2pqx2bj0zb"
      },
      "source": [
        "classes_ = np.asarray([clf[\"sentiment\"] for clf in clfs])\n",
        "maj = np.asarray(\n",
        "    [np.argmax(np.bincount(classes_[:, c])) for c in range(classes_.shape[1])]\n",
        ")"
      ],
      "execution_count": 17,
      "outputs": []
    },
    {
      "cell_type": "code",
      "metadata": {
        "id": "cFrFXn4rj0zc",
        "outputId": "cef9e405-d46e-4083-e76f-25a4c62dbe50",
        "colab": {
          "base_uri": "https://localhost:8080/",
          "height": 51
        }
      },
      "source": [
        "print(\n",
        "    precision_recall_fscore_support(\n",
        "        maj, le.transform(l[\"Sentiment\"]), average=\"macro\"\n",
        "    )\n",
        ")\n",
        "print(accuracy_score(maj, le.transform(l[\"Sentiment\"])))"
      ],
      "execution_count": 20,
      "outputs": [
        {
          "output_type": "stream",
          "text": [
            "(0.7186767676767677, 0.7185389058633742, 0.7182050140460893, None)\n",
            "0.7146666666666667\n"
          ],
          "name": "stdout"
        }
      ]
    },
    {
      "cell_type": "code",
      "metadata": {
        "id": "UG5OwOLAj0ze"
      },
      "source": [
        ""
      ],
      "execution_count": null,
      "outputs": []
    }
  ]
}