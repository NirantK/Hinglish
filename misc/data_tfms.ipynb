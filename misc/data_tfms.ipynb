{
 "cells": [
  {
   "cell_type": "code",
   "execution_count": 1,
   "metadata": {},
   "outputs": [],
   "source": [
    "from typing import List\n",
    "\n",
    "import pandas as pd\n",
    "\n",
    "%load_ext autoreload\n",
    "%autoreload 2"
   ]
  },
  {
   "cell_type": "code",
   "execution_count": 2,
   "metadata": {},
   "outputs": [],
   "source": [
    "# export\n",
    "def parse_file(fname: str) -> List[str]:\n",
    "    with open(fname, \"r\") as f:\n",
    "        contents = f.readlines()\n",
    "\n",
    "    lines = []\n",
    "    line = \"\"\n",
    "    for c in contents:\n",
    "        line += c\n",
    "        if c == \"\\n\":\n",
    "            line_dict = parse_string(line)\n",
    "            lines.append(line_dict)\n",
    "            line = \"\"\n",
    "\n",
    "    return pd.DataFrame(lines)"
   ]
  },
  {
   "cell_type": "code",
   "execution_count": 4,
   "metadata": {},
   "outputs": [],
   "source": [
    "# export\n",
    "def parse_string(line: str):\n",
    "    line_values = line.split(\"\\n\")\n",
    "    meta, uid, sentiment = line_values[0].split(\"\\t\")\n",
    "    words = []\n",
    "    for line_content in line_values[1:]:\n",
    "        words.append(line_content.split(\"\\t\")[0])\n",
    "    words = \" \".join(words)\n",
    "\n",
    "    line_dict = {\"uid\": uid, \"sentiment\": sentiment, \"text\": words}\n",
    "    return line_dict"
   ]
  },
  {
   "cell_type": "code",
   "execution_count": null,
   "metadata": {},
   "outputs": [],
   "source": [
    "from pathlib import Path\n",
    "datapath = Path(\"../data\")\n",
    "data_raw = datapath/\"raw\"\n",
    "data_interim = datapath/\"interim\"\n",
    "data_processed = datapath/\"processed\"\n",
    "cleanlab_datapath = datapath/\"cleanlab\""
   ]
  },
  {
   "cell_type": "markdown",
   "metadata": {},
   "source": [
    "# Valid Data"
   ]
  },
  {
   "cell_type": "code",
   "execution_count": 5,
   "metadata": {
    "scrolled": true
   },
   "outputs": [
    {
     "data": {
      "text/plain": [
       "3000"
      ]
     },
     "execution_count": 5,
     "metadata": {},
     "output_type": "execute_result"
    }
   ],
   "source": [
    "valid_df = parse_file(data_raw/\"dev_3k_split_conll.txt\")\n",
    "len(valid_df)"
   ]
  },
  {
   "cell_type": "code",
   "execution_count": 6,
   "metadata": {
    "scrolled": true
   },
   "outputs": [
    {
     "data": {
      "text/html": [
       "<div>\n",
       "<style scoped>\n",
       "    .dataframe tbody tr th:only-of-type {\n",
       "        vertical-align: middle;\n",
       "    }\n",
       "\n",
       "    .dataframe tbody tr th {\n",
       "        vertical-align: top;\n",
       "    }\n",
       "\n",
       "    .dataframe thead th {\n",
       "        text-align: right;\n",
       "    }\n",
       "</style>\n",
       "<table border=\"1\" class=\"dataframe\">\n",
       "  <thead>\n",
       "    <tr style=\"text-align: right;\">\n",
       "      <th></th>\n",
       "      <th>uid</th>\n",
       "      <th>sentiment</th>\n",
       "      <th>text</th>\n",
       "    </tr>\n",
       "  </thead>\n",
       "  <tbody>\n",
       "    <tr>\n",
       "      <th>0</th>\n",
       "      <td>30258</td>\n",
       "      <td>positive</td>\n",
       "      <td>@ prahladspatel modi mantrimandal may samil ho...</td>\n",
       "    </tr>\n",
       "    <tr>\n",
       "      <th>1</th>\n",
       "      <td>16648</td>\n",
       "      <td>negative</td>\n",
       "      <td>@ bkunalraj @ TajinderBagga @ NikhilJakhar14 @...</td>\n",
       "    </tr>\n",
       "    <tr>\n",
       "      <th>2</th>\n",
       "      <td>28511</td>\n",
       "      <td>negative</td>\n",
       "      <td>@ waglenikhil U saw caste and religion in them...</td>\n",
       "    </tr>\n",
       "    <tr>\n",
       "      <th>3</th>\n",
       "      <td>10466</td>\n",
       "      <td>neutral</td>\n",
       "      <td>@ DelhiPolice sir local police station pe comp...</td>\n",
       "    </tr>\n",
       "    <tr>\n",
       "      <th>4</th>\n",
       "      <td>19266</td>\n",
       "      <td>positive</td>\n",
       "      <td>Ve Maahi song from # Kesari is current favouri...</td>\n",
       "    </tr>\n",
       "  </tbody>\n",
       "</table>\n",
       "</div>"
      ],
      "text/plain": [
       "     uid sentiment                                               text\n",
       "0  30258  positive  @ prahladspatel modi mantrimandal may samil ho...\n",
       "1  16648  negative  @ bkunalraj @ TajinderBagga @ NikhilJakhar14 @...\n",
       "2  28511  negative  @ waglenikhil U saw caste and religion in them...\n",
       "3  10466   neutral  @ DelhiPolice sir local police station pe comp...\n",
       "4  19266  positive  Ve Maahi song from # Kesari is current favouri..."
      ]
     },
     "execution_count": 6,
     "metadata": {},
     "output_type": "execute_result"
    }
   ],
   "source": [
    "valid_df.head()"
   ]
  },
  {
   "cell_type": "code",
   "execution_count": 8,
   "metadata": {},
   "outputs": [],
   "source": [
    "valid_df.to_json(data_interim/\"valid.json\", orient=\"records\")"
   ]
  },
  {
   "cell_type": "code",
   "execution_count": 9,
   "metadata": {
    "scrolled": true
   },
   "outputs": [
    {
     "data": {
      "text/html": [
       "<div>\n",
       "<style scoped>\n",
       "    .dataframe tbody tr th:only-of-type {\n",
       "        vertical-align: middle;\n",
       "    }\n",
       "\n",
       "    .dataframe tbody tr th {\n",
       "        vertical-align: top;\n",
       "    }\n",
       "\n",
       "    .dataframe thead th {\n",
       "        text-align: right;\n",
       "    }\n",
       "</style>\n",
       "<table border=\"1\" class=\"dataframe\">\n",
       "  <thead>\n",
       "    <tr style=\"text-align: right;\">\n",
       "      <th></th>\n",
       "      <th>uid</th>\n",
       "      <th>sentiment</th>\n",
       "      <th>text</th>\n",
       "    </tr>\n",
       "  </thead>\n",
       "  <tbody>\n",
       "    <tr>\n",
       "      <th>count</th>\n",
       "      <td>3000</td>\n",
       "      <td>3000</td>\n",
       "      <td>3000</td>\n",
       "    </tr>\n",
       "    <tr>\n",
       "      <th>unique</th>\n",
       "      <td>3000</td>\n",
       "      <td>3</td>\n",
       "      <td>3000</td>\n",
       "    </tr>\n",
       "    <tr>\n",
       "      <th>top</th>\n",
       "      <td>22131</td>\n",
       "      <td>neutral</td>\n",
       "      <td>@ RanveerOfficial @ XiaomiIndia @ RedmiIndia D...</td>\n",
       "    </tr>\n",
       "    <tr>\n",
       "      <th>freq</th>\n",
       "      <td>1</td>\n",
       "      <td>1128</td>\n",
       "      <td>1</td>\n",
       "    </tr>\n",
       "  </tbody>\n",
       "</table>\n",
       "</div>"
      ],
      "text/plain": [
       "          uid sentiment                                               text\n",
       "count    3000      3000                                               3000\n",
       "unique   3000         3                                               3000\n",
       "top     22131   neutral  @ RanveerOfficial @ XiaomiIndia @ RedmiIndia D...\n",
       "freq        1      1128                                                  1"
      ]
     },
     "execution_count": 9,
     "metadata": {},
     "output_type": "execute_result"
    }
   ],
   "source": [
    "valid_df.describe()"
   ]
  },
  {
   "cell_type": "markdown",
   "metadata": {},
   "source": [
    "# Trial Data"
   ]
  },
  {
   "cell_type": "code",
   "execution_count": 10,
   "metadata": {},
   "outputs": [
    {
     "data": {
      "text/plain": [
       "1869"
      ]
     },
     "execution_count": 10,
     "metadata": {},
     "output_type": "execute_result"
    }
   ],
   "source": [
    "trial_df = parse_file(data_raw/\"trial.txt\"); len(trial_df)"
   ]
  },
  {
   "cell_type": "code",
   "execution_count": 11,
   "metadata": {},
   "outputs": [
    {
     "data": {
      "text/html": [
       "<div>\n",
       "<style scoped>\n",
       "    .dataframe tbody tr th:only-of-type {\n",
       "        vertical-align: middle;\n",
       "    }\n",
       "\n",
       "    .dataframe tbody tr th {\n",
       "        vertical-align: top;\n",
       "    }\n",
       "\n",
       "    .dataframe thead th {\n",
       "        text-align: right;\n",
       "    }\n",
       "</style>\n",
       "<table border=\"1\" class=\"dataframe\">\n",
       "  <thead>\n",
       "    <tr style=\"text-align: right;\">\n",
       "      <th></th>\n",
       "      <th>uid</th>\n",
       "      <th>sentiment</th>\n",
       "      <th>text</th>\n",
       "    </tr>\n",
       "  </thead>\n",
       "  <tbody>\n",
       "    <tr>\n",
       "      <th>0</th>\n",
       "      <td>8</td>\n",
       "      <td>neutral</td>\n",
       "      <td>RT @ UAAPconfessions Love looks good on Maddie...</td>\n",
       "    </tr>\n",
       "    <tr>\n",
       "      <th>1</th>\n",
       "      <td>12</td>\n",
       "      <td>neutral</td>\n",
       "      <td>Ye Ye ..... ye ??????? We gonna start another ...</td>\n",
       "    </tr>\n",
       "    <tr>\n",
       "      <th>2</th>\n",
       "      <td>14</td>\n",
       "      <td>neutral</td>\n",
       "      <td>@ zWffFY9JGklElA1 @ Min _ Of _ Lyching @ thaku...</td>\n",
       "    </tr>\n",
       "    <tr>\n",
       "      <th>3</th>\n",
       "      <td>23</td>\n",
       "      <td>negative</td>\n",
       "      <td>~ Caring . ~ Bohot Jyada Caring . ~ Courier wa...</td>\n",
       "    </tr>\n",
       "    <tr>\n",
       "      <th>4</th>\n",
       "      <td>24</td>\n",
       "      <td>positive</td>\n",
       "      <td>@ AliHZaidiPTI @ SarfarazA _ 54 What nonesense...</td>\n",
       "    </tr>\n",
       "  </tbody>\n",
       "</table>\n",
       "</div>"
      ],
      "text/plain": [
       "  uid sentiment                                               text\n",
       "0   8   neutral  RT @ UAAPconfessions Love looks good on Maddie...\n",
       "1  12   neutral  Ye Ye ..... ye ??????? We gonna start another ...\n",
       "2  14   neutral  @ zWffFY9JGklElA1 @ Min _ Of _ Lyching @ thaku...\n",
       "3  23  negative  ~ Caring . ~ Bohot Jyada Caring . ~ Courier wa...\n",
       "4  24  positive  @ AliHZaidiPTI @ SarfarazA _ 54 What nonesense..."
      ]
     },
     "execution_count": 11,
     "metadata": {},
     "output_type": "execute_result"
    }
   ],
   "source": [
    "trial_df.head()"
   ]
  },
  {
   "cell_type": "code",
   "execution_count": 12,
   "metadata": {},
   "outputs": [],
   "source": [
    "trial_df.to_json(data_raw/\"trial.json\", orient=\"records\")"
   ]
  },
  {
   "cell_type": "markdown",
   "metadata": {},
   "source": [
    "## Train\n",
    "### Previous was Trial Text"
   ]
  },
  {
   "cell_type": "code",
   "execution_count": 13,
   "metadata": {},
   "outputs": [
    {
     "data": {
      "text/plain": [
       "15131"
      ]
     },
     "execution_count": 13,
     "metadata": {},
     "output_type": "execute_result"
    }
   ],
   "source": [
    "train_df = parse_file(data_raw/\"train.txt\"); len(train_df)"
   ]
  },
  {
   "cell_type": "code",
   "execution_count": 14,
   "metadata": {},
   "outputs": [
    {
     "data": {
      "text/html": [
       "<div>\n",
       "<style scoped>\n",
       "    .dataframe tbody tr th:only-of-type {\n",
       "        vertical-align: middle;\n",
       "    }\n",
       "\n",
       "    .dataframe tbody tr th {\n",
       "        vertical-align: top;\n",
       "    }\n",
       "\n",
       "    .dataframe thead th {\n",
       "        text-align: right;\n",
       "    }\n",
       "</style>\n",
       "<table border=\"1\" class=\"dataframe\">\n",
       "  <thead>\n",
       "    <tr style=\"text-align: right;\">\n",
       "      <th></th>\n",
       "      <th>uid</th>\n",
       "      <th>sentiment</th>\n",
       "      <th>text</th>\n",
       "    </tr>\n",
       "  </thead>\n",
       "  <tbody>\n",
       "    <tr>\n",
       "      <th>0</th>\n",
       "      <td>3</td>\n",
       "      <td>negative</td>\n",
       "      <td>@ AdilNisarButt pakistan ka ghra tauq he Pakis...</td>\n",
       "    </tr>\n",
       "    <tr>\n",
       "      <th>1</th>\n",
       "      <td>41</td>\n",
       "      <td>negative</td>\n",
       "      <td>Madarchod mulle ye mathura me Nahi dikha tha j...</td>\n",
       "    </tr>\n",
       "    <tr>\n",
       "      <th>2</th>\n",
       "      <td>48</td>\n",
       "      <td>positive</td>\n",
       "      <td>@ narendramodi Manya Pradhan Mantri mahoday Sh...</td>\n",
       "    </tr>\n",
       "    <tr>\n",
       "      <th>3</th>\n",
       "      <td>64</td>\n",
       "      <td>positive</td>\n",
       "      <td>@ Atheist _ Krishna Jcb full trend me chal rah...</td>\n",
       "    </tr>\n",
       "    <tr>\n",
       "      <th>4</th>\n",
       "      <td>66</td>\n",
       "      <td>positive</td>\n",
       "      <td>@ AbhisharSharma _ @ RavishKumarBlog Loksabha ...</td>\n",
       "    </tr>\n",
       "  </tbody>\n",
       "</table>\n",
       "</div>"
      ],
      "text/plain": [
       "  uid sentiment                                               text\n",
       "0   3  negative  @ AdilNisarButt pakistan ka ghra tauq he Pakis...\n",
       "1  41  negative  Madarchod mulle ye mathura me Nahi dikha tha j...\n",
       "2  48  positive  @ narendramodi Manya Pradhan Mantri mahoday Sh...\n",
       "3  64  positive  @ Atheist _ Krishna Jcb full trend me chal rah...\n",
       "4  66  positive  @ AbhisharSharma _ @ RavishKumarBlog Loksabha ..."
      ]
     },
     "execution_count": 14,
     "metadata": {},
     "output_type": "execute_result"
    }
   ],
   "source": [
    "train_df.head()"
   ]
  },
  {
   "cell_type": "code",
   "execution_count": 15,
   "metadata": {},
   "outputs": [
    {
     "data": {
      "text/html": [
       "<div>\n",
       "<style scoped>\n",
       "    .dataframe tbody tr th:only-of-type {\n",
       "        vertical-align: middle;\n",
       "    }\n",
       "\n",
       "    .dataframe tbody tr th {\n",
       "        vertical-align: top;\n",
       "    }\n",
       "\n",
       "    .dataframe thead th {\n",
       "        text-align: right;\n",
       "    }\n",
       "</style>\n",
       "<table border=\"1\" class=\"dataframe\">\n",
       "  <thead>\n",
       "    <tr style=\"text-align: right;\">\n",
       "      <th></th>\n",
       "      <th>uid</th>\n",
       "      <th>sentiment</th>\n",
       "      <th>text</th>\n",
       "    </tr>\n",
       "  </thead>\n",
       "  <tbody>\n",
       "    <tr>\n",
       "      <th>count</th>\n",
       "      <td>15131</td>\n",
       "      <td>15131</td>\n",
       "      <td>15131</td>\n",
       "    </tr>\n",
       "    <tr>\n",
       "      <th>unique</th>\n",
       "      <td>15131</td>\n",
       "      <td>3</td>\n",
       "      <td>15131</td>\n",
       "    </tr>\n",
       "    <tr>\n",
       "      <th>top</th>\n",
       "      <td>17251</td>\n",
       "      <td>neutral</td>\n",
       "      <td>@ AshrafFem Kisi ki bhi hatya hona bahut galat...</td>\n",
       "    </tr>\n",
       "    <tr>\n",
       "      <th>freq</th>\n",
       "      <td>1</td>\n",
       "      <td>5638</td>\n",
       "      <td>1</td>\n",
       "    </tr>\n",
       "  </tbody>\n",
       "</table>\n",
       "</div>"
      ],
      "text/plain": [
       "          uid sentiment                                               text\n",
       "count   15131     15131                                              15131\n",
       "unique  15131         3                                              15131\n",
       "top     17251   neutral  @ AshrafFem Kisi ki bhi hatya hona bahut galat...\n",
       "freq        1      5638                                                  1"
      ]
     },
     "execution_count": 15,
     "metadata": {},
     "output_type": "execute_result"
    }
   ],
   "source": [
    "train_df.describe()"
   ]
  },
  {
   "cell_type": "code",
   "execution_count": 16,
   "metadata": {},
   "outputs": [],
   "source": [
    "train_df.to_json(data_raw/\"train.json\", orient=\"records\")"
   ]
  },
  {
   "cell_type": "markdown",
   "metadata": {},
   "source": [
    "# Create Train Large"
   ]
  },
  {
   "cell_type": "code",
   "execution_count": 17,
   "metadata": {},
   "outputs": [],
   "source": [
    "import pandas as pd"
   ]
  },
  {
   "cell_type": "code",
   "execution_count": 20,
   "metadata": {},
   "outputs": [
    {
     "data": {
      "text/plain": [
       "(   uid sentiment                                               text\n",
       " 0    8   neutral  RT @ UAAPconfessions Love looks good on Maddie...\n",
       " 1   12   neutral  Ye Ye ..... ye ??????? We gonna start another ...\n",
       " 2   14   neutral  @ zWffFY9JGklElA1 @ Min _ Of _ Lyching @ thaku...\n",
       " 3   23  negative  ~ Caring . ~ Bohot Jyada Caring . ~ Courier wa...\n",
       " 4   24  positive  @ AliHZaidiPTI @ SarfarazA _ 54 What nonesense...,\n",
       "    uid sentiment                                               text\n",
       " 0    3  negative  @ AdilNisarButt pakistan ka ghra tauq he Pakis...\n",
       " 1   41  negative  Madarchod mulle ye mathura me Nahi dikha tha j...\n",
       " 2   48  positive  @ narendramodi Manya Pradhan Mantri mahoday Sh...\n",
       " 3   64  positive  @ Atheist _ Krishna Jcb full trend me chal rah...\n",
       " 4   66  positive  @ AbhisharSharma _ @ RavishKumarBlog Loksabha ...)"
      ]
     },
     "execution_count": 20,
     "metadata": {},
     "output_type": "execute_result"
    }
   ],
   "source": [
    "trial = pd.read_json(data_raw/\"trial.json\")\n",
    "train = pd.read_json(data_raw/\"train.json\")\n",
    "trial.head(), train.head()"
   ]
  },
  {
   "cell_type": "code",
   "execution_count": 21,
   "metadata": {},
   "outputs": [
    {
     "data": {
      "text/plain": [
       "17000"
      ]
     },
     "execution_count": 21,
     "metadata": {},
     "output_type": "execute_result"
    }
   ],
   "source": [
    "df = pd.concat([trial, train])\n",
    "len(df)"
   ]
  },
  {
   "cell_type": "code",
   "execution_count": 22,
   "metadata": {},
   "outputs": [],
   "source": [
    "df.to_json(data_interim/\"train-large.json\", orient=\"records\")"
   ]
  },
  {
   "cell_type": "markdown",
   "metadata": {},
   "source": [
    "# Test Data"
   ]
  },
  {
   "cell_type": "code",
   "execution_count": 23,
   "metadata": {},
   "outputs": [],
   "source": [
    "# export\n",
    "def parse_file_test(fname: str) -> List[str]:\n",
    "    with open(fname, \"r\") as f:\n",
    "        contents = f.readlines()\n",
    "\n",
    "    lines = []\n",
    "    line = \"\"\n",
    "    for c in contents:\n",
    "        line += c\n",
    "        if c == \"\\n\":\n",
    "            line_dict = parse_string_test(line)\n",
    "            lines.append(line_dict)\n",
    "            line = \"\"\n",
    "\n",
    "    return pd.DataFrame(lines)"
   ]
  },
  {
   "cell_type": "code",
   "execution_count": 24,
   "metadata": {},
   "outputs": [],
   "source": [
    "# export\n",
    "def parse_string_test(line: str):\n",
    "    line_values = line.split(\"\\n\")\n",
    "    meta, uid = line_values[0].split(\"\\t\")\n",
    "    words = []\n",
    "    for line_content in line_values[1:]:\n",
    "        words.append(line_content.split(\"\\t\")[0])\n",
    "    words = \" \".join(words)\n",
    "\n",
    "    line_dict = {\"uid\": uid, \"text\": words}\n",
    "    return line_dict"
   ]
  },
  {
   "cell_type": "code",
   "execution_count": 25,
   "metadata": {},
   "outputs": [
    {
     "data": {
      "text/plain": [
       "2999"
      ]
     },
     "execution_count": 25,
     "metadata": {},
     "output_type": "execute_result"
    }
   ],
   "source": [
    "test_df = parse_file_test(data_raw/\"test.txt\")\n",
    "len(test_df)"
   ]
  },
  {
   "cell_type": "code",
   "execution_count": 26,
   "metadata": {},
   "outputs": [
    {
     "data": {
      "text/html": [
       "<div>\n",
       "<style scoped>\n",
       "    .dataframe tbody tr th:only-of-type {\n",
       "        vertical-align: middle;\n",
       "    }\n",
       "\n",
       "    .dataframe tbody tr th {\n",
       "        vertical-align: top;\n",
       "    }\n",
       "\n",
       "    .dataframe thead th {\n",
       "        text-align: right;\n",
       "    }\n",
       "</style>\n",
       "<table border=\"1\" class=\"dataframe\">\n",
       "  <thead>\n",
       "    <tr style=\"text-align: right;\">\n",
       "      <th></th>\n",
       "      <th>uid</th>\n",
       "      <th>text</th>\n",
       "    </tr>\n",
       "  </thead>\n",
       "  <tbody>\n",
       "    <tr>\n",
       "      <th>0</th>\n",
       "      <td>20803</td>\n",
       "      <td>@ 454dkhan @ Heisunberg _ Agr kse ko itni impo...</td>\n",
       "    </tr>\n",
       "    <tr>\n",
       "      <th>1</th>\n",
       "      <td>20187</td>\n",
       "      <td>logon ko alloo pyaz tomator me toh allah pak k...</td>\n",
       "    </tr>\n",
       "    <tr>\n",
       "      <th>2</th>\n",
       "      <td>20953</td>\n",
       "      <td>@ LambaAlka Wafadaar bane rahane ka nayab tari...</td>\n",
       "    </tr>\n",
       "    <tr>\n",
       "      <th>3</th>\n",
       "      <td>13777</td>\n",
       "      <td>@ varnishant @ narendramodi Chup bhosdike . He...</td>\n",
       "    </tr>\n",
       "    <tr>\n",
       "      <th>4</th>\n",
       "      <td>20990</td>\n",
       "      <td>RT @ HardeepSPuri à¨¦à¨¾à¨¤à¨¾ à¨¸à©‹ à¨¸à¨¾à¨...</td>\n",
       "    </tr>\n",
       "  </tbody>\n",
       "</table>\n",
       "</div>"
      ],
      "text/plain": [
       "     uid                                               text\n",
       "0  20803  @ 454dkhan @ Heisunberg _ Agr kse ko itni impo...\n",
       "1  20187  logon ko alloo pyaz tomator me toh allah pak k...\n",
       "2  20953  @ LambaAlka Wafadaar bane rahane ka nayab tari...\n",
       "3  13777  @ varnishant @ narendramodi Chup bhosdike . He...\n",
       "4  20990  RT @ HardeepSPuri à¨¦à¨¾à¨¤à¨¾ à¨¸à©‹ à¨¸à¨¾à¨..."
      ]
     },
     "execution_count": 26,
     "metadata": {},
     "output_type": "execute_result"
    }
   ],
   "source": [
    "test_df.head()"
   ]
  },
  {
   "cell_type": "code",
   "execution_count": 27,
   "metadata": {},
   "outputs": [],
   "source": [
    "test_df.to_json(data_interim/\"final_test.json\", orient=\"records\")"
   ]
  }
 ],
 "metadata": {
  "kernelspec": {
   "display_name": "Python 3",
   "language": "python",
   "name": "python3"
  },
  "language_info": {
   "codemirror_mode": {
    "name": "ipython",
    "version": 3
   },
   "file_extension": ".py",
   "mimetype": "text/x-python",
   "name": "python",
   "nbconvert_exporter": "python",
   "pygments_lexer": "ipython3",
   "version": "3.7.3"
  }
 },
 "nbformat": 4,
 "nbformat_minor": 2
}
