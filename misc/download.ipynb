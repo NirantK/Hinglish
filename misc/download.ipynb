{
 "cells": [
  {
   "cell_type": "code",
   "execution_count": 1,
   "metadata": {},
   "outputs": [],
   "source": [
    "from utils import get_files_from_gdrive"
   ]
  },
  {
   "cell_type": "code",
   "execution_count": null,
   "metadata": {},
   "outputs": [],
   "source": [
    "from pathlib import Path\n",
    "datapath = Path(\"../data\")\n",
    "data_raw = datapath/\"raw\"\n",
    "data_interim = datapath/\"interim\"\n",
    "data_processed = datapath/\"processed\"\n",
    "cleanlab_datapath = datapath/\"cleanlab\""
   ]
  },
  {
   "cell_type": "code",
   "execution_count": 2,
   "metadata": {},
   "outputs": [
    {
     "name": "stderr",
     "output_type": "stream",
     "text": [
      "Downloading...\n",
      "From: https://drive.google.com/uc?id=1T_AvUYwc8Fld_8VoUj9s9S1ZbmpkAsVI\n",
      "To: /Users/meghanabhange/Documents/repos/Hinglish/data/raw/trial.txt\n",
      "100%|██████████| 454k/454k [00:00<00:00, 1.43MB/s]\n",
      "Downloading...\n",
      "From: https://drive.google.com/uc?id=1fzhNn_baYWE6Ltxf1VKlkYzCUwUlHVXx\n",
      "To: /Users/meghanabhange/Documents/repos/Hinglish/data/raw/train.txt\n",
      "3.72MB [00:02, 1.66MB/s]\n"
     ]
    }
   ],
   "source": [
    "get_files_from_gdrive(\n",
    "    \"https://drive.google.com/file/d/1T_AvUYwc8Fld_8VoUj9s9S1ZbmpkAsVI/view?usp=sharing\",\n",
    "    data_raw/\"trial.txt\",\n",
    ")\n",
    "get_files_from_gdrive(\n",
    "    \"https://drive.google.com/file/d/1fzhNn_baYWE6Ltxf1VKlkYzCUwUlHVXx/view?usp=sharing\",\n",
    "    data_raw/\"train.txt\",\n",
    ")"
   ]
  },
  {
   "cell_type": "code",
   "execution_count": 3,
   "metadata": {},
   "outputs": [
    {
     "name": "stderr",
     "output_type": "stream",
     "text": [
      "Downloading...\n",
      "From: https://drive.google.com/uc?id=1WTOjLs-R6HhWT8skEeit4jcsEgjxeOeE\n",
      "To: /Users/meghanabhange/Documents/repos/Hinglish/data/raw/test.txt\n",
      "100%|██████████| 810k/810k [00:00<00:00, 900kB/s]\n"
     ]
    }
   ],
   "source": [
    "get_files_from_gdrive(\n",
    "    \"https://drive.google.com/file/d/1WTOjLs-R6HhWT8skEeit4jcsEgjxeOeE/view?usp=sharing\",\n",
    "    data_raw/\"test.txt\",\n",
    ")"
   ]
  }
 ],
 "metadata": {
  "kernelspec": {
   "display_name": "Python 3",
   "language": "python",
   "name": "python3"
  },
  "language_info": {
   "codemirror_mode": {
    "name": "ipython",
    "version": 3
   },
   "file_extension": ".py",
   "mimetype": "text/x-python",
   "name": "python",
   "nbconvert_exporter": "python",
   "pygments_lexer": "ipython3",
   "version": "3.7.3"
  }
 },
 "nbformat": 4,
 "nbformat_minor": 2
}
