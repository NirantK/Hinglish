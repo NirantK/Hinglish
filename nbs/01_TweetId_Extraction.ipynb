{
 "cells": [
  {
   "cell_type": "code",
   "execution_count": null,
   "id": "terminal-grenada",
   "metadata": {},
   "outputs": [],
   "source": [
    "%load_ext autoreload\n",
    "%autoreload 2"
   ]
  },
  {
   "cell_type": "code",
   "execution_count": null,
   "id": "improved-toronto",
   "metadata": {},
   "outputs": [],
   "source": [
    "import json\n",
    "from pathlib import Path\n",
    "\n",
    "Path.ls = lambda x: list(x.iterdir())"
   ]
  },
  {
   "cell_type": "code",
   "execution_count": null,
   "id": "ecological-giant",
   "metadata": {},
   "outputs": [],
   "source": [
    "data_path = Path(\"outputs\").resolve()\n",
    "filenames = [file for file in data_path.ls() if file.suffix == \".jsonl\"]"
   ]
  },
  {
   "cell_type": "code",
   "execution_count": null,
   "id": "tutorial-dream",
   "metadata": {},
   "outputs": [],
   "source": [
    "tweet_ids, text = [], []\n",
    "for file in filenames:\n",
    "    with file.open(\"r\") as f:\n",
    "        lines = f.readlines()\n",
    "        ids = [json.loads(line)[\"id\"] for line in lines]\n",
    "        tweet_ids.extend(ids)"
   ]
  },
  {
   "cell_type": "code",
   "execution_count": null,
   "id": "assumed-toyota",
   "metadata": {},
   "outputs": [],
   "source": [
    "with Path(\"tweet_ids.json\").open(\"w+\") as f:\n",
    "    json.dump(tweet_ids, f, indent=2)"
   ]
  }
 ],
 "metadata": {
  "kernelspec": {
   "display_name": "Python 3",
   "language": "python",
   "name": "python3"
  }
 },
 "nbformat": 4,
 "nbformat_minor": 5
}
