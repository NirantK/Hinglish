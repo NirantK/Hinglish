{
 "cells": [
  {
   "cell_type": "code",
   "execution_count": null,
   "id": "terminal-grenada",
   "metadata": {},
   "outputs": [],
   "source": [
    "%load_ext autoreload\n",
    "%autoreload 2"
   ]
  },
  {
   "cell_type": "code",
   "execution_count": null,
   "id": "improved-toronto",
   "metadata": {},
   "outputs": [],
   "source": [
    "import json\n",
    "from pathlib import Path\n",
    "import string\n",
    "import re\n",
    "from collections import Counter\n",
    "\n",
    "Path.ls = lambda x: list(x.iterdir())"
   ]
  },
  {
   "cell_type": "code",
   "execution_count": null,
   "id": "ecological-giant",
   "metadata": {},
   "outputs": [],
   "source": [
    "data_path = Path(\"outputs\").resolve()\n",
    "filenames = [file for file in data_path.ls() if file.suffix == \".jsonl\"]"
   ]
  },
  {
   "cell_type": "code",
   "execution_count": null,
   "id": "silent-natural",
   "metadata": {},
   "outputs": [],
   "source": [
    "def clean(txt: str):\n",
    "    txt = re.sub(r\"RT\\s@\\w+:\", \"\", txt)  # Removes RTS\n",
    "    txt = re.sub(r\"@\", \" \", txt)  # Replaces @ with mention\n",
    "    txt = re.sub(r\"#\", \" \", txt)  # Replaces # with hastag\n",
    "    txt = re.sub(r\"http\\S+\", \"\", txt)  # Removes URL\n",
    "    txt = re.sub(r\"// .*$\", \":\", txt)\n",
    "    return re.sub(r\"\\W+\", \" \", txt)\n",
    "\n",
    "\n",
    "clean(\"asdasd!!! #{75}\")"
   ]
  },
  {
   "cell_type": "code",
   "execution_count": null,
   "id": "distributed-mediterranean",
   "metadata": {},
   "outputs": [],
   "source": [
    "def tokenizer(txt: str):\n",
    "    return txt.split()"
   ]
  },
  {
   "cell_type": "code",
   "execution_count": null,
   "id": "tutorial-dream",
   "metadata": {},
   "outputs": [],
   "source": [
    "tweet_ids, text = [], []\n",
    "for file in filenames:\n",
    "    with file.open(\"r\") as f:\n",
    "        lines = f.readlines()\n",
    "        texts = [json.loads(line)[\"text\"] for line in lines]\n",
    "        texts = [list(set(tokenizer(clean(txt)))) for txt in texts]\n",
    "        text.extend(texts)"
   ]
  },
  {
   "cell_type": "code",
   "execution_count": 68,
   "id": "electrical-advertising",
   "metadata": {},
   "outputs": [
    {
     "name": "stdout",
     "output_type": "stream",
     "text": [
      "['RT @SayyedMubashsh1: Ye 85 Saal Ki Umer K admi hain jo akeley Puncture lagateg hain,, in se Theek se chala bhi nai jata lekin mehnat Kr K K…', '@mahima123123 utpat nai lagni ke yo bela yestai ho !!!', '@xxxyunis_ SAMA NAA', 'peepee poopoo', '@AvaGG AvaJaiJai 👌🏾', '@Vinod_asst @Priyank11533659 @bbsharma64 @PMOIndia Harijan bhi to yahi bol rahe h apne aapko barhaman bolna aur bad… https://t.co/oipgtkqx5j', '@fesantossofc_ Na punheta', '@anisanios beli tapi kena tiyom tiyom kit ah hahaha', 'RT @MrSinha_: @imMAK02 Is logic ke hisab se Muslim first bolne par pitai jayaj hai?', 'RT @Soni30799036: mujhe chhod kar jo tum jaaoge bada pachtaoge bada pachtaoge 😜😃😆🤔😀😎🚦🏍 https://t.co/Mpr6Rkihbr', 'RT @GoTirupati: Sri Venkateswara Swamy Bangaru Kavacham. https://t.co/YDLHJPkX8t', 'RT @Azhartu: Masverinnah dhalha dhakkain vote hoadhain verikamah ai Sarukaaruge naagaabil kan fulu fuluga fenigen midhany Masverikamaa gulh…', '@TrimiziiiSyeda Nakal k liya bi hakal chayiya tasveer to sai tarah edit kiya karan', 'RT @samstaydipped: Chief Keef, Lil Durk, Lil Reese and Fredo Santana in 2012 https://t.co/jadPmQOHUE', 'Karajo antah apo² se...', '@itLi_pitLi Aisa lag Raha tha.. kyuki har ladki k piche koi n koi rhta h 😁', 'RT @Memoona___: Ankhen Thak Nichor Ker Pee Gye __\\nUfff Terey Gham Kitnay Pyasay Thay!!😔❤️', 'RT @Simtaangaran: Kelvi Patha Vishiyatha Dhan Da Kutty Kadhai ah Solamudiyum..! \\n\\nAamaigala..!😂💦💦 Antha Kutty Kadhai Kuda Solla Vakku Ilath…', '@SanjeevParashar @_garrywalia Jb zameer mr jaye to phir insan insan nhi rhta\\nYa yu keh lijiye\\nK\\nDoulat or ikhtiyara… https://t.co/HZvJCrLSeA', 'Bhaiya Ji nekdil insan hai madad jarur karenge @yadavakhilesh']\n"
     ]
    }
   ],
   "source": [
    "unsup_data = [\n",
    "    Path(\"data/interim/hinglish_unsup_high_confidence.json\"),\n",
    "#     Path(\"data/interim/hinglish_unsup_less_confidence.json\"),\n",
    "]\n",
    "for file in unsup_data:\n",
    "    with file.open(\"r\") as f:\n",
    "        f_data = f.read()\n",
    "        data_lst = json.loads(f_data)\n",
    "        print(data_lst[:20])"
   ]
  },
  {
   "cell_type": "code",
   "execution_count": null,
   "id": "inappropriate-bacon",
   "metadata": {},
   "outputs": [],
   "source": [
    "text = [item for sublist in text for item in sublist]"
   ]
  },
  {
   "cell_type": "code",
   "execution_count": null,
   "id": "regulation-equality",
   "metadata": {},
   "outputs": [],
   "source": [
    "vocabulary_cnt = Counter(text)"
   ]
  },
  {
   "cell_type": "code",
   "execution_count": null,
   "id": "killing-merit",
   "metadata": {},
   "outputs": [],
   "source": [
    "vocabulary_cnt.most_common(20)"
   ]
  }
 ],
 "metadata": {
  "kernelspec": {
   "display_name": "Python 3",
   "language": "python",
   "name": "python3"
  },
  "language_info": {
   "codemirror_mode": {
    "name": "ipython",
    "version": 3
   },
   "file_extension": ".py",
   "mimetype": "text/x-python",
   "name": "python",
   "nbconvert_exporter": "python",
   "pygments_lexer": "ipython3",
   "version": "3.6.12"
  }
 },
 "nbformat": 4,
 "nbformat_minor": 5
}
