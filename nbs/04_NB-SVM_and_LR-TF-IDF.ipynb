{
 "cells": [
  {
   "cell_type": "code",
   "execution_count": null,
   "metadata": {},
   "outputs": [],
   "source": [
    "import json\n",
    "import pandas as pd\n",
    "import numpy as np\n",
    "import re"
   ]
  },
  {
   "cell_type": "code",
   "execution_count": null,
   "metadata": {},
   "outputs": [],
   "source": [
    "# from utils import TextCleaner, CleanTwitter\n",
    "import string\n",
    "import warnings\n",
    "\n",
    "from scipy import sparse\n",
    "from sklearn import metrics\n",
    "from sklearn.base import BaseEstimator, ClassifierMixin\n",
    "from sklearn.feature_extraction.text import TfidfVectorizer\n",
    "from sklearn.linear_model import LogisticRegression\n",
    "from sklearn.metrics import accuracy_score, confusion_matrix, f1_score\n",
    "from sklearn.model_selection import cross_val_score, train_test_split\n",
    "from sklearn.preprocessing import LabelEncoder\n",
    "from sklearn.utils.validation import check_is_fitted, check_X_y\n",
    "\n",
    "import sys\n",
    "sys.path.insert(0, \"../\")\n",
    "\n",
    "from hinglishutils import print_confusion_matrix\n",
    "\n",
    "warnings.filterwarnings(\"ignore\")"
   ]
  },
  {
   "cell_type": "code",
   "execution_count": null,
   "metadata": {},
   "outputs": [],
   "source": [
    "from pathlib import Path\n",
    "datapath = Path(\"../data\")\n",
    "data_raw = datapath/\"raw\"\n",
    "data_interim = datapath/\"interim\"\n",
    "data_processed = datapath/\"processed\"\n",
    "cleanlab_datapath = datapath/\"cleanlab\""
   ]
  },
  {
   "cell_type": "code",
   "execution_count": null,
   "metadata": {},
   "outputs": [],
   "source": [
    "# from sklearn.model_selection import train_test_split\n",
    "# df = pd.read_json(\"data/processed/train-large.json\")\n",
    "# train, test = train_test_split(df, test_size=0.2)\n",
    "\n",
    "# train.to_json(\"data/processed/train.json\")\n",
    "# test.to_json(\"data/processed/test.json\")"
   ]
  },
  {
   "cell_type": "code",
   "execution_count": null,
   "metadata": {},
   "outputs": [],
   "source": [
    "train = pd.read_json(\"data/processed/train.json\")\n",
    "train.head()"
   ]
  },
  {
   "cell_type": "code",
   "execution_count": null,
   "metadata": {},
   "outputs": [],
   "source": [
    "num_classes = len(set(list(train[\"sentiment\"])))\n",
    "num_classes"
   ]
  },
  {
   "cell_type": "code",
   "execution_count": null,
   "metadata": {},
   "outputs": [],
   "source": [
    "def cleaner(train):\n",
    "    train[\"clean_text\"] = train[\"text\"]\n",
    "    train[\"clean_text\"] = (\n",
    "        (train[\"clean_text\"])\n",
    "        .apply(lambda text: re.sub(r\"RT\\s@\\s\\w+\", \"\", text))\n",
    "        .apply(lambda text: re.sub(r\"@\", \"mention\", text))\n",
    "        .apply(lambda text: re.sub(r\"#\", \"hashtag\", text))\n",
    "        .apply(lambda text: re.sub(r\"http\\S+\", \"\", text))\n",
    "    )\n",
    "\n",
    "    le = LabelEncoder()\n",
    "    train[\"target\"] = le.fit_transform(train[\"sentiment\"])\n",
    "    print(f\"Classes : {le.classes_}\")\n",
    "    X_train, X_test, y_train, y_test = train_test_split(\n",
    "        train[\"clean_text\"].values,\n",
    "        train[\"target\"].values,\n",
    "        test_size=0.10,\n",
    "        random_state=0,\n",
    "    )\n",
    "\n",
    "    vect = TfidfVectorizer(\n",
    "        strip_accents=\"unicode\",\n",
    "        ngram_range=(1, 2),\n",
    "        max_df=0.75,\n",
    "        min_df=3,\n",
    "        sublinear_tf=True,\n",
    "    )\n",
    "\n",
    "    tfidf_train = vect.fit_transform(X_train)\n",
    "    tfidf_test = vect.transform(X_test)\n",
    "\n",
    "    return X_train, X_test, y_train, y_test, tfidf_train, tfidf_test, le.classes_"
   ]
  },
  {
   "cell_type": "code",
   "execution_count": null,
   "metadata": {},
   "outputs": [],
   "source": [
    "%time X_train, X_test, y_train, y_test, tfidf_train, tfidf_test, label_classes = cleaner(train)"
   ]
  },
  {
   "cell_type": "markdown",
   "metadata": {},
   "source": [
    "# Naive Bayes"
   ]
  },
  {
   "cell_type": "code",
   "execution_count": null,
   "metadata": {},
   "outputs": [],
   "source": [
    "class NbSvmClassifier(BaseEstimator, ClassifierMixin):\n",
    "    def __init__(self, C=1.0, dual=False, n_jobs=1):\n",
    "        self.C = C\n",
    "        self.dual = dual\n",
    "        self.n_jobs = n_jobs\n",
    "\n",
    "    def predict(self, x):\n",
    "        # Verify that model has been fit\n",
    "        check_is_fitted(self, [\"_r\", \"_clf\"])\n",
    "        return self._clf.predict(x.multiply(self._r))\n",
    "\n",
    "    def predict_proba(self, x):\n",
    "        # Verify that model has been fit\n",
    "        check_is_fitted(self, [\"_r\", \"_clf\"])\n",
    "        return self._clf.predict_proba(x.multiply(self._r))\n",
    "\n",
    "    def fit(self, x, y):\n",
    "        # Check that X and y have correct shape\n",
    "        x, y = check_X_y(x, y, accept_sparse=True)\n",
    "\n",
    "        def pr(x, y_i, y):\n",
    "            p = x[y == y_i].sum(0)\n",
    "            return (p + 1) / ((y == y_i).sum() + 1)\n",
    "\n",
    "        self._r = sparse.csr_matrix(np.log(pr(x, 1, y) / pr(x, 0, y)))\n",
    "        x_nb = x.multiply(self._r)\n",
    "        self._clf = LogisticRegression(\n",
    "            C=self.C, dual=self.dual, n_jobs=self.n_jobs\n",
    "        ).fit(x_nb, y)\n",
    "        return self"
   ]
  },
  {
   "cell_type": "code",
   "execution_count": null,
   "metadata": {},
   "outputs": [],
   "source": [
    "NBSVM = NbSvmClassifier(C=4, dual=False, n_jobs=-1)"
   ]
  },
  {
   "cell_type": "code",
   "execution_count": null,
   "metadata": {},
   "outputs": [],
   "source": [
    "def evaluate(model, tfidf_train, tfidf_test, y_train, y_test, s=None, with_noisy_labels= False):\n",
    "\n",
    "    scores = cross_val_score(\n",
    "        model, tfidf_train, y_train, cv=5, scoring=\"f1_macro\"\n",
    "    )\n",
    "    print(f\"Cross Validation Scores {scores}\")\n",
    "    \n",
    "    if with_noisy_labels : \n",
    "        _ = model.fit(tfidf_train, s)\n",
    "    else:\n",
    "        _ = model.fit(tfidf_train, y_train)\n",
    "    pred = model.predict(tfidf_test)\n",
    "    print(\"Valid accuracy:\", round(accuracy_score(pred, y_test), 5))\n",
    "    print(\"Valid f1_score:\", round(f1_score(pred, y_test, average=\"macro\"), 5))\n",
    "    cm = confusion_matrix(pred, y_test)\n",
    "    print_confusion_matrix(cm, class_names=label_classes)"
   ]
  },
  {
   "cell_type": "code",
   "execution_count": null,
   "metadata": {},
   "outputs": [],
   "source": [
    "evaluate(NBSVM, tfidf_train, tfidf_test, y_train, y_test)"
   ]
  },
  {
   "cell_type": "markdown",
   "metadata": {},
   "source": [
    "# Logistic Regression with TF-IDF"
   ]
  },
  {
   "cell_type": "code",
   "execution_count": null,
   "metadata": {},
   "outputs": [],
   "source": [
    "LR = LogisticRegression(C=4, dual=False, solver=\"lbfgs\", max_iter=1000)"
   ]
  },
  {
   "cell_type": "code",
   "execution_count": null,
   "metadata": {},
   "outputs": [],
   "source": [
    "evaluate(LR, tfidf_train, tfidf_test, y_train, y_test)"
   ]
  },
  {
   "cell_type": "markdown",
   "metadata": {},
   "source": [
    "# With Cleanlab?"
   ]
  },
  {
   "cell_type": "code",
   "execution_count": null,
   "metadata": {},
   "outputs": [],
   "source": [
    "from cleanlab.classification import LearningWithNoisyLabels\n",
    "from cleanlab.noise_generation import generate_noise_matrix_from_trace\n",
    "from cleanlab.noise_generation import generate_noisy_labels\n",
    "from cleanlab.util import value_counts\n",
    "from cleanlab.latent_algebra import compute_inv_noise_matrix\n",
    "import cleanlab"
   ]
  },
  {
   "cell_type": "code",
   "execution_count": null,
   "metadata": {},
   "outputs": [],
   "source": [
    "# Set the sparsity of the noise matrix.\n",
    "FRAC_ZERO_NOISE_RATES = 0.5\n",
    "# A proxy for the fraction of labels that are correct.\n",
    "avg_trace = 0.95  # ~5% wrong labels. Increasing makes the problem easier.\n",
    "\n",
    "p_y = value_counts(y_train)  # probability of y estimates\n",
    "noise_matrix = generate_noise_matrix_from_trace(\n",
    "    K=num_classes,\n",
    "    trace=num_classes * avg_trace,\n",
    "    py=p_y,\n",
    "    frac_zero_noise_rates=FRAC_ZERO_NOISE_RATES,\n",
    ")\n",
    "\n",
    "# Create noisy labels\n",
    "s = generate_noisy_labels(y_train, noise_matrix)"
   ]
  },
  {
   "cell_type": "markdown",
   "metadata": {},
   "source": [
    "## NB-SVM Regular Train Labels "
   ]
  },
  {
   "cell_type": "code",
   "execution_count": null,
   "metadata": {},
   "outputs": [],
   "source": [
    "print(\"NB-SVM Regular Train Labels confident learning (noise matrix given),\", end=\" \")\n",
    "NBSVM_Confident = NbSvmClassifier(C=4, dual=False, n_jobs=-1)\n",
    "rp = LearningWithNoisyLabels(clf=NBSVM_Confident)\n",
    "evaluate(rp, tfidf_train, tfidf_test, y_train, y_test)"
   ]
  },
  {
   "cell_type": "markdown",
   "metadata": {},
   "source": [
    "## LR Regular Train Labels "
   ]
  },
  {
   "cell_type": "code",
   "execution_count": null,
   "metadata": {},
   "outputs": [],
   "source": [
    "print(\"LR Regular Train Labels confident learning (noise matrix given),\", end=\" \")\n",
    "LR = LogisticRegression(C=4, dual=False, solver=\"lbfgs\", max_iter=1000)\n",
    "rp = LearningWithNoisyLabels(clf=LR)\n",
    "evaluate(rp, tfidf_train, tfidf_test, y_train, y_test)"
   ]
  },
  {
   "cell_type": "markdown",
   "metadata": {},
   "source": [
    "## NB-SVM Noisy Train Labels "
   ]
  },
  {
   "cell_type": "code",
   "execution_count": null,
   "metadata": {},
   "outputs": [],
   "source": [
    "print(\"NB-SVM Noisy Train Labels confident learning (noise matrix given),\", end=\" \")\n",
    "NBSVM_Confident = NbSvmClassifier(C=4, dual=False, n_jobs=-1)\n",
    "rp = LearningWithNoisyLabels(clf=NBSVM_Confident)\n",
    "evaluate(rp, tfidf_train, tfidf_test, y_train, y_test, s = s, with_noisy_labels=True)"
   ]
  },
  {
   "cell_type": "markdown",
   "metadata": {},
   "source": [
    "## LR Noisy Train Labels "
   ]
  },
  {
   "cell_type": "code",
   "execution_count": null,
   "metadata": {},
   "outputs": [],
   "source": [
    "print(\"LR Noisy Train Labels confident learning (noise matrix given),\", end=\" \")\n",
    "LR = LogisticRegression(C=4, dual=False, solver=\"lbfgs\", max_iter=1000)\n",
    "rp = LearningWithNoisyLabels(clf=LR)\n",
    "evaluate(rp, tfidf_train, tfidf_test, y_train, y_test, s=s, with_noisy_labels=True)"
   ]
  },
  {
   "cell_type": "code",
   "execution_count": null,
   "metadata": {},
   "outputs": [],
   "source": []
  }
 ],
 "metadata": {
  "kernelspec": {
   "display_name": "Python 3",
   "language": "python",
   "name": "python3"
  }
 },
 "nbformat": 4,
 "nbformat_minor": 2
}
