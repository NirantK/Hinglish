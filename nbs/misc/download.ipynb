{
 "cells": [
  {
   "cell_type": "code",
   "execution_count": null,
   "metadata": {},
   "outputs": [],
   "source": [
    "from utils import get_files_from_gdrive"
   ]
  },
  {
   "cell_type": "code",
   "execution_count": null,
   "metadata": {},
   "outputs": [],
   "source": [
    "from pathlib import Path\n",
    "datapath = Path(\"../data\")\n",
    "data_raw = datapath/\"raw\"\n",
    "data_interim = datapath/\"interim\"\n",
    "data_processed = datapath/\"processed\"\n",
    "cleanlab_datapath = datapath/\"cleanlab\""
   ]
  },
  {
   "cell_type": "code",
   "execution_count": null,
   "metadata": {},
   "outputs": [],
   "source": [
    "get_files_from_gdrive(\n",
    "    \"https://drive.google.com/file/d/1T_AvUYwc8Fld_8VoUj9s9S1ZbmpkAsVI/view?usp=sharing\",\n",
    "    data_raw/\"trial.txt\",\n",
    ")\n",
    "get_files_from_gdrive(\n",
    "    \"https://drive.google.com/file/d/1fzhNn_baYWE6Ltxf1VKlkYzCUwUlHVXx/view?usp=sharing\",\n",
    "    data_raw/\"train.txt\",\n",
    ")"
   ]
  },
  {
   "cell_type": "code",
   "execution_count": null,
   "metadata": {},
   "outputs": [],
   "source": [
    "get_files_from_gdrive(\n",
    "    \"https://drive.google.com/file/d/1WTOjLs-R6HhWT8skEeit4jcsEgjxeOeE/view?usp=sharing\",\n",
    "    data_raw/\"test.txt\",\n",
    ")"
   ]
  }
 ],
 "metadata": {
  "kernelspec": {
   "display_name": "Python 3",
   "language": "python",
   "name": "python3"
  }
 },
 "nbformat": 4,
 "nbformat_minor": 2
}
